{
 "cells": [
  {
   "cell_type": "markdown",
   "metadata": {},
   "source": [
    "# Анализ поведения пользователей и результатов A/A/B-эксперимента в мобильном приложении по продаже продуктов питания"
   ]
  },
  {
   "cell_type": "markdown",
   "metadata": {},
   "source": [
    "<div class=\"alert alert-success\">\n",
    "  <b> ✔️Комментарий ревьюера ✔️</b>\n",
    "\n",
    "Привет, Артемий! Меня зовут Михаил, я буду проверять твой проект. Предлагаю общаться на 'ты' :)\n",
    "Однако, если это неудобно - сообщи, и мы перейдем на 'Вы'. Моя главная цель —  поделиться с тобой своим опытом и помочь тебе стать крутым специалистом, а не только указать на совершенные тобой ошибки.\n",
    "\n",
    "Видно, что к проекту приложен большой труд. Все ключевые этапы в работе выполнены, статистическое исследование проведено качественно. Так что в целом справиться с задачей тебе удалось.\n",
    "\n",
    "Есть несколько аспектов, которые **требуют** твоего **внимания**. Комментарии по ним помечены красным цветом и символами ❌. После их доработки проект будет принят, осталось совсем немного :) \n",
    "    \n",
    "\n",
    "Давай работать над проектом в диалоге: если **ты что-то меняешь** в проекте по моим рекомендациям — **пиши об этом**. Мне будет легче отследить изменения, если ты будешь использовать синюю форму, которую я прикреплю ниже. Пожалуйста, **не перемещай, не изменяй и не удаляй мои комментарии**. Всё это поможет выполнить повторную проверку твоего проекта оперативнее. \n",
    "\n",
    "\n",
    "\n",
    "Жду проект на повторное ревью. Успехов в изучении!\n",
    "\n",
    "\n",
    "\n",
    "</div>\n",
    "<div class=\"alert alert-block alert-danger\"> <b>❌ Комментарий ревьюера ❌</b> \n",
    "    Так я выделяю моменты, которые требуют особого внимания. Нужно будет учесть их и внести корректировки в свою работу. </div>\n",
    "<div class=\"alert alert-block alert-warning\"> <b>⚠️ Комментарий ревьюера ⚠️</b> \n",
    "    Желтым я отмечу рекомендации, которые, могут быть полезными при твоей работе. Они носят рекомендационный характер, но будет классно, если ты будешь учитывать их при работе.</div>\n",
    "<div class=\"alert alert-block alert-success\"> <b>✔️ Комментарий ревьюера ✔️</b>\n",
    "    Так я выделяю удачные и элегантные решения, на которые можно опираться в будущих проектах.</div>\n",
    "<div class=\"alert alert-block alert-info\">\n",
    "    \n",
    "А в таком блоке ты можешь оставить комментарии для меня \n",
    "    \n",
    "</div>"
   ]
  },
  {
   "cell_type": "markdown",
   "metadata": {},
   "source": [
    "Цель данного исследования — изучить поведение пользователей мобильного приложения, специализирующегося на продаже продуктов питания, с акцентом на анализ воронки продаж и результатов A/A/B-эксперимента. Понимание того, как пользователи взаимодействуют с приложением и доходят до покупки, критически важно для оптимизации конверсии и повышения общей эффективности бизнес-процессов.\n",
    "\n",
    "В первой части исследования мы познакомимся с предложенными данными, в которых каждая запись в логе — это действие пользователя или событие. Данные из датасета logs_exp.csv имеют следующую структуру:\n",
    "\n",
    "- EventName — название события;\n",
    "- DeviceIDHash — уникальный идентификатор пользователя;\n",
    "- EventTimestamp — время события;\n",
    "- ExpId — номер эксперимента: 246 и 247 — контрольные группы, а 248 — экспериментальная.\n",
    "\n",
    "Вторая часть посвящена предобработке данных и подготовке их к дальнейшему анализу.\n",
    "\n",
    "В третьей части мы подробнее взглянем на события, записанные в логи, и опишем их количественные и качественные характеристики. Будет проведён исследовательский анализ данных.\n",
    "\n",
    "В четвёртой части исследования перейдём непосредственно к рассмотрению воронки продаж, что позволит выявить, на каких этапах пользователи «застревают» и сколько из них успешно завершают покупку. Этот анализ поможет определить ключевые точки отказа и области для улучшения пользовательского опыта.\n",
    "\n",
    "Пятая часть исследования посвящена оценке результатов A/A/B-эксперимента, проведённого для анализа влияния изменений в интерфейсе приложения на поведение пользователей. В частности, было протестировано изменение шрифтов, что вызвало опасения у менеджеров по поводу возможного негативного восприятия со стороны пользователей. В эксперименте участвовали три группы пользователей: две контрольные, использующие старые шрифты, и одна экспериментальная — с новыми шрифтами. Сравнение данных между этими группами позволяет оценить, как изменения интерфейса влияют на ключевые метрики, и выбрать наилучший вариант шрифта для улучшения пользовательского опыта.\n",
    "\n",
    "Таким образом, данное исследование предоставляет всесторонний анализ поведения пользователей и оценку влияния дизайнерских изменений на их взаимодействие с приложением, что поможет принять обоснованные решения по дальнейшему развитию продукта."
   ]
  },
  {
   "cell_type": "markdown",
   "metadata": {},
   "source": [
    "<div class=\"alert alert-success\">\n",
    "\n",
    "**✔️ Комментарий ревьюера ✔️**\n",
    "   \n",
    "   Хорошее введение в проект - пригодится в будущем, когда соберешь большое портфолио и откроешь проект вновь👍\n",
    "\n",
    "</div>\n"
   ]
  },
  {
   "cell_type": "markdown",
   "metadata": {},
   "source": [
    "Перед началом исселовадния импортируем библиотеки и создадим функции, которые будем использовать в проекте"
   ]
  },
  {
   "cell_type": "code",
   "execution_count": 1,
   "metadata": {},
   "outputs": [],
   "source": [
    "import pandas as pd\n",
    "import scipy.stats as stats\n",
    "import datetime as dt\n",
    "import numpy as np\n",
    "import matplotlib.pyplot as plt\n",
    "import seaborn as sns\n",
    "import math as mth\n",
    "import plotly.express as px"
   ]
  },
  {
   "cell_type": "code",
   "execution_count": 2,
   "metadata": {},
   "outputs": [],
   "source": [
    "def primary_analysis(df):\n",
    "\n",
    "    print(\"Информация о датафрейме:\")\n",
    "    print(df.info())\n",
    "    \n",
    "    print(\"\\nПервые 5 строк датафрейма:\")\n",
    "    print(df.head())\n",
    "    \n",
    "    print(\"\\nОписание численных столбцов:\")\n",
    "    print(df.describe())\n",
    "    \n",
    "    print(\"\\nКоличество явных дубликатов в датасете:\")\n",
    "    print(df.duplicated().sum())\n",
    "    \n",
    "    print(\"\\nЧастота распределений для категориальных столбцов:\")\n",
    "    for column in df.select_dtypes(include=['object', 'category']).columns:\n",
    "        print(f\"\\nСтолбец '{column}':\")\n",
    "        print(df[column].value_counts())"
   ]
  },
  {
   "cell_type": "code",
   "execution_count": 3,
   "metadata": {},
   "outputs": [],
   "source": [
    "def z_test_proportions(successes, trials, alpha=0.05):\n",
    "    # Конверсии для каждой группы\n",
    "    p1 = successes[0] / trials[0]\n",
    "    p2 = successes[1] / trials[1]\n",
    "    \n",
    "    # Комбинированная конверсия\n",
    "    p_combined = (successes[0] + successes[1]) / (trials[0] + trials[1])\n",
    "    \n",
    "    # Разница пропорций\n",
    "    difference = p1 - p2\n",
    "    \n",
    "    # Стандартное отклонение для разницы долей\n",
    "    z_value = difference / mth.sqrt(p_combined * (1 - p_combined) * (1/trials[0] + 1/trials[1]))\n",
    "    \n",
    "    # Стандартное нормальное распределение\n",
    "    distr = stats.norm(0, 1)\n",
    "    \n",
    "    # Вычисление p-значения\n",
    "    p_value = (1 - distr.cdf(abs(z_value))) * 2  # двустороннее p-value\n",
    "    \n",
    "    display('p-значение:', p_value)\n",
    "    \n",
    "    # Проверка гипотезы\n",
    "    if p_value < alpha:\n",
    "        display('Отвергаем нулевую гипотезу: между долями есть значимая разница')\n",
    "    else:\n",
    "        display('Не получилось отвергнуть нулевую гипотезу, нет оснований считать доли разными')"
   ]
  },
  {
   "cell_type": "markdown",
   "metadata": {},
   "source": [
    "## Знакомство с данными "
   ]
  },
  {
   "cell_type": "markdown",
   "metadata": {},
   "source": [
    "Загрузим датасет и изучим общую информацию"
   ]
  },
  {
   "cell_type": "code",
   "execution_count": 4,
   "metadata": {},
   "outputs": [
    {
     "name": "stdout",
     "output_type": "stream",
     "text": [
      "Информация о датафрейме:\n",
      "<class 'pandas.core.frame.DataFrame'>\n",
      "RangeIndex: 244126 entries, 0 to 244125\n",
      "Data columns (total 4 columns):\n",
      " #   Column          Non-Null Count   Dtype \n",
      "---  ------          --------------   ----- \n",
      " 0   EventName       244126 non-null  object\n",
      " 1   DeviceIDHash    244126 non-null  int64 \n",
      " 2   EventTimestamp  244126 non-null  int64 \n",
      " 3   ExpId           244126 non-null  int64 \n",
      "dtypes: int64(3), object(1)\n",
      "memory usage: 7.5+ MB\n",
      "None\n",
      "\n",
      "Первые 5 строк датафрейма:\n",
      "                 EventName         DeviceIDHash  EventTimestamp  ExpId\n",
      "0         MainScreenAppear  4575588528974610257      1564029816    246\n",
      "1         MainScreenAppear  7416695313311560658      1564053102    246\n",
      "2  PaymentScreenSuccessful  3518123091307005509      1564054127    248\n",
      "3         CartScreenAppear  3518123091307005509      1564054127    248\n",
      "4  PaymentScreenSuccessful  6217807653094995999      1564055322    248\n",
      "\n",
      "Описание численных столбцов:\n",
      "       DeviceIDHash  EventTimestamp          ExpId\n",
      "count  2.441260e+05    2.441260e+05  244126.000000\n",
      "mean   4.627568e+18    1.564914e+09     247.022296\n",
      "std    2.642425e+18    1.771343e+05       0.824434\n",
      "min    6.888747e+15    1.564030e+09     246.000000\n",
      "25%    2.372212e+18    1.564757e+09     246.000000\n",
      "50%    4.623192e+18    1.564919e+09     247.000000\n",
      "75%    6.932517e+18    1.565075e+09     248.000000\n",
      "max    9.222603e+18    1.565213e+09     248.000000\n",
      "\n",
      "Количество явных дубликатов в датасете:\n",
      "413\n",
      "\n",
      "Частота распределений для категориальных столбцов:\n",
      "\n",
      "Столбец 'EventName':\n",
      "MainScreenAppear           119205\n",
      "OffersScreenAppear          46825\n",
      "CartScreenAppear            42731\n",
      "PaymentScreenSuccessful     34313\n",
      "Tutorial                     1052\n",
      "Name: EventName, dtype: int64\n"
     ]
    }
   ],
   "source": [
    "df = pd.read_csv('/datasets/logs_exp.csv', sep='\\t')\n",
    "primary_analysis(df)"
   ]
  },
  {
   "cell_type": "markdown",
   "metadata": {},
   "source": [
    "В предоставленном датафрейме содержится 244126 записей, каждая из которых представляет событие, зарегистрированное в мобильном приложении. Данные включают четыре столбца, формат названия которых мы немного подкорректируем в следующей главе: \n",
    "\n",
    "- EventName (тип данных: object): Название события, которое произошло в приложении. Например, события могут быть связаны с появлением главного экрана, экрана предложений, корзины или успешной оплатой. Наиболее частое событие — MainScreenAppear (появление главного экрана).\n",
    "\n",
    "- DeviceIDHash (тип данных: int64): Уникальный идентификатор устройства пользователя. Он используется для отслеживания активности каждого пользователя.\n",
    "\n",
    "- EventTimestamp (тип данных: int64): Временная метка события, представляющая время его регистрации. Указан направльный тип данных - исправим его на datetime64 в следующей главе.\n",
    "\n",
    "- ExpId (тип данных: int64): Номер эксперимента, к которому относится событие. В данных есть три эксперимента: 246, 247 (контрольные группы) и 248 (экспериментальная группа).\n",
    "\n",
    "Среди данных отсутствуют пропущенные значения, однако обнаружено 413 явных дубликатов, на которые мы взглянем позже. \n",
    "\n",
    "Наиболее частое событие — MainScreenAppear, которое встречается 119205 раз. Затем идет OffersScreenAppear с 46825 раз. После CartScreenAppear с 42731 раз и PaymentScreenSuccessful с 34313 раз. Менее частое событие - Tutorial, которое встречается  всего 1052 раза. \n",
    "\n",
    "Займемся преобработкой данных - обработаем дубликаты, изменим названия столбцов и тип данных, а также для более удобной работы добавим столбец только с датой."
   ]
  },
  {
   "cell_type": "markdown",
   "metadata": {},
   "source": [
    "<div class=\"alert alert-success\">\n",
    "\n",
    "**✔️ Комментарий ревьюера ✔️**\n",
    "   \n",
    "   Хорошо. Приступим к предобработке\n",
    "\n",
    "</div>\n"
   ]
  },
  {
   "cell_type": "markdown",
   "metadata": {},
   "source": [
    "## Предобработка данных"
   ]
  },
  {
   "cell_type": "markdown",
   "metadata": {},
   "source": [
    "Начнем с названия столбцов и поменяем буквы с их названия с прописных на строчные:"
   ]
  },
  {
   "cell_type": "code",
   "execution_count": 5,
   "metadata": {},
   "outputs": [
    {
     "data": {
      "text/plain": [
       "Index(['eventname', 'deviceidhash', 'eventtimestamp', 'expid'], dtype='object')"
      ]
     },
     "metadata": {},
     "output_type": "display_data"
    }
   ],
   "source": [
    "df.columns = [x.lower() for x in df.columns]\n",
    "display(df.columns)"
   ]
  },
  {
   "cell_type": "markdown",
   "metadata": {},
   "source": [
    "Преобразуем тип данных eventtimestamp в более подходящий для него datetime64. "
   ]
  },
  {
   "cell_type": "code",
   "execution_count": 6,
   "metadata": {},
   "outputs": [
    {
     "name": "stdout",
     "output_type": "stream",
     "text": [
      "<class 'pandas.core.frame.DataFrame'>\n",
      "RangeIndex: 244126 entries, 0 to 244125\n",
      "Data columns (total 4 columns):\n",
      " #   Column          Non-Null Count   Dtype         \n",
      "---  ------          --------------   -----         \n",
      " 0   eventname       244126 non-null  object        \n",
      " 1   deviceidhash    244126 non-null  int64         \n",
      " 2   eventtimestamp  244126 non-null  datetime64[ns]\n",
      " 3   expid           244126 non-null  int64         \n",
      "dtypes: datetime64[ns](1), int64(2), object(1)\n",
      "memory usage: 7.5+ MB\n"
     ]
    }
   ],
   "source": [
    "df['eventtimestamp'] = pd.to_datetime(df['eventtimestamp'], unit='s')\n",
    "df.info()"
   ]
  },
  {
   "cell_type": "markdown",
   "metadata": {},
   "source": [
    "Поработаем с дубликатами - попробуем взглянуть, что из себя представляют эти дубликаты."
   ]
  },
  {
   "cell_type": "code",
   "execution_count": 7,
   "metadata": {},
   "outputs": [
    {
     "data": {
      "text/html": [
       "<div>\n",
       "<style scoped>\n",
       "    .dataframe tbody tr th:only-of-type {\n",
       "        vertical-align: middle;\n",
       "    }\n",
       "\n",
       "    .dataframe tbody tr th {\n",
       "        vertical-align: top;\n",
       "    }\n",
       "\n",
       "    .dataframe thead th {\n",
       "        text-align: right;\n",
       "    }\n",
       "</style>\n",
       "<table border=\"1\" class=\"dataframe\">\n",
       "  <thead>\n",
       "    <tr style=\"text-align: right;\">\n",
       "      <th></th>\n",
       "      <th>eventname</th>\n",
       "      <th>deviceidhash</th>\n",
       "      <th>eventtimestamp</th>\n",
       "      <th>expid</th>\n",
       "    </tr>\n",
       "  </thead>\n",
       "  <tbody>\n",
       "    <tr>\n",
       "      <th>452</th>\n",
       "      <td>MainScreenAppear</td>\n",
       "      <td>5613408041324010552</td>\n",
       "      <td>2019-07-30 08:19:44</td>\n",
       "      <td>248</td>\n",
       "    </tr>\n",
       "    <tr>\n",
       "      <th>453</th>\n",
       "      <td>MainScreenAppear</td>\n",
       "      <td>5613408041324010552</td>\n",
       "      <td>2019-07-30 08:19:44</td>\n",
       "      <td>248</td>\n",
       "    </tr>\n",
       "    <tr>\n",
       "      <th>2348</th>\n",
       "      <td>CartScreenAppear</td>\n",
       "      <td>1694940645335807244</td>\n",
       "      <td>2019-07-31 21:51:39</td>\n",
       "      <td>248</td>\n",
       "    </tr>\n",
       "    <tr>\n",
       "      <th>2350</th>\n",
       "      <td>CartScreenAppear</td>\n",
       "      <td>1694940645335807244</td>\n",
       "      <td>2019-07-31 21:51:39</td>\n",
       "      <td>248</td>\n",
       "    </tr>\n",
       "    <tr>\n",
       "      <th>3572</th>\n",
       "      <td>MainScreenAppear</td>\n",
       "      <td>434103746454591587</td>\n",
       "      <td>2019-08-01 02:59:37</td>\n",
       "      <td>248</td>\n",
       "    </tr>\n",
       "    <tr>\n",
       "      <th>3573</th>\n",
       "      <td>MainScreenAppear</td>\n",
       "      <td>434103746454591587</td>\n",
       "      <td>2019-08-01 02:59:37</td>\n",
       "      <td>248</td>\n",
       "    </tr>\n",
       "    <tr>\n",
       "      <th>4075</th>\n",
       "      <td>MainScreenAppear</td>\n",
       "      <td>3761373764179762633</td>\n",
       "      <td>2019-08-01 03:47:46</td>\n",
       "      <td>247</td>\n",
       "    </tr>\n",
       "    <tr>\n",
       "      <th>4076</th>\n",
       "      <td>MainScreenAppear</td>\n",
       "      <td>3761373764179762633</td>\n",
       "      <td>2019-08-01 03:47:46</td>\n",
       "      <td>247</td>\n",
       "    </tr>\n",
       "    <tr>\n",
       "      <th>4801</th>\n",
       "      <td>MainScreenAppear</td>\n",
       "      <td>2835328739789306622</td>\n",
       "      <td>2019-08-01 04:44:01</td>\n",
       "      <td>248</td>\n",
       "    </tr>\n",
       "    <tr>\n",
       "      <th>4803</th>\n",
       "      <td>MainScreenAppear</td>\n",
       "      <td>2835328739789306622</td>\n",
       "      <td>2019-08-01 04:44:01</td>\n",
       "      <td>248</td>\n",
       "    </tr>\n",
       "    <tr>\n",
       "      <th>5639</th>\n",
       "      <td>CartScreenAppear</td>\n",
       "      <td>4248762472840564256</td>\n",
       "      <td>2019-08-01 05:36:04</td>\n",
       "      <td>248</td>\n",
       "    </tr>\n",
       "    <tr>\n",
       "      <th>5641</th>\n",
       "      <td>CartScreenAppear</td>\n",
       "      <td>4248762472840564256</td>\n",
       "      <td>2019-08-01 05:36:04</td>\n",
       "      <td>248</td>\n",
       "    </tr>\n",
       "    <tr>\n",
       "      <th>5874</th>\n",
       "      <td>PaymentScreenSuccessful</td>\n",
       "      <td>6427012997733591237</td>\n",
       "      <td>2019-08-01 05:47:32</td>\n",
       "      <td>248</td>\n",
       "    </tr>\n",
       "    <tr>\n",
       "      <th>5875</th>\n",
       "      <td>PaymentScreenSuccessful</td>\n",
       "      <td>6427012997733591237</td>\n",
       "      <td>2019-08-01 05:47:32</td>\n",
       "      <td>248</td>\n",
       "    </tr>\n",
       "    <tr>\n",
       "      <th>7248</th>\n",
       "      <td>OffersScreenAppear</td>\n",
       "      <td>7224691986599895551</td>\n",
       "      <td>2019-08-01 06:44:06</td>\n",
       "      <td>246</td>\n",
       "    </tr>\n",
       "    <tr>\n",
       "      <th>7249</th>\n",
       "      <td>OffersScreenAppear</td>\n",
       "      <td>7224691986599895551</td>\n",
       "      <td>2019-08-01 06:44:06</td>\n",
       "      <td>246</td>\n",
       "    </tr>\n",
       "    <tr>\n",
       "      <th>8064</th>\n",
       "      <td>CartScreenAppear</td>\n",
       "      <td>8189122927585332969</td>\n",
       "      <td>2019-08-01 07:18:49</td>\n",
       "      <td>248</td>\n",
       "    </tr>\n",
       "    <tr>\n",
       "      <th>8065</th>\n",
       "      <td>CartScreenAppear</td>\n",
       "      <td>8189122927585332969</td>\n",
       "      <td>2019-08-01 07:18:49</td>\n",
       "      <td>248</td>\n",
       "    </tr>\n",
       "    <tr>\n",
       "      <th>9178</th>\n",
       "      <td>MainScreenAppear</td>\n",
       "      <td>2230705996155527339</td>\n",
       "      <td>2019-08-01 07:54:47</td>\n",
       "      <td>246</td>\n",
       "    </tr>\n",
       "    <tr>\n",
       "      <th>9179</th>\n",
       "      <td>MainScreenAppear</td>\n",
       "      <td>2230705996155527339</td>\n",
       "      <td>2019-08-01 07:54:47</td>\n",
       "      <td>246</td>\n",
       "    </tr>\n",
       "    <tr>\n",
       "      <th>9310</th>\n",
       "      <td>MainScreenAppear</td>\n",
       "      <td>5496043151846125970</td>\n",
       "      <td>2019-08-01 07:58:03</td>\n",
       "      <td>248</td>\n",
       "    </tr>\n",
       "    <tr>\n",
       "      <th>9311</th>\n",
       "      <td>MainScreenAppear</td>\n",
       "      <td>5496043151846125970</td>\n",
       "      <td>2019-08-01 07:58:03</td>\n",
       "      <td>248</td>\n",
       "    </tr>\n",
       "    <tr>\n",
       "      <th>9988</th>\n",
       "      <td>PaymentScreenSuccessful</td>\n",
       "      <td>7035352794299231933</td>\n",
       "      <td>2019-08-01 08:20:27</td>\n",
       "      <td>248</td>\n",
       "    </tr>\n",
       "    <tr>\n",
       "      <th>9990</th>\n",
       "      <td>PaymentScreenSuccessful</td>\n",
       "      <td>7035352794299231933</td>\n",
       "      <td>2019-08-01 08:20:27</td>\n",
       "      <td>248</td>\n",
       "    </tr>\n",
       "    <tr>\n",
       "      <th>12452</th>\n",
       "      <td>PaymentScreenSuccessful</td>\n",
       "      <td>5152160705477623487</td>\n",
       "      <td>2019-08-01 09:35:39</td>\n",
       "      <td>247</td>\n",
       "    </tr>\n",
       "    <tr>\n",
       "      <th>12454</th>\n",
       "      <td>PaymentScreenSuccessful</td>\n",
       "      <td>5152160705477623487</td>\n",
       "      <td>2019-08-01 09:35:39</td>\n",
       "      <td>247</td>\n",
       "    </tr>\n",
       "    <tr>\n",
       "      <th>13054</th>\n",
       "      <td>PaymentScreenSuccessful</td>\n",
       "      <td>6258460144399027762</td>\n",
       "      <td>2019-08-01 09:53:44</td>\n",
       "      <td>247</td>\n",
       "    </tr>\n",
       "    <tr>\n",
       "      <th>13055</th>\n",
       "      <td>PaymentScreenSuccessful</td>\n",
       "      <td>6258460144399027762</td>\n",
       "      <td>2019-08-01 09:53:44</td>\n",
       "      <td>247</td>\n",
       "    </tr>\n",
       "    <tr>\n",
       "      <th>14332</th>\n",
       "      <td>CartScreenAppear</td>\n",
       "      <td>1807104407388801321</td>\n",
       "      <td>2019-08-01 10:30:27</td>\n",
       "      <td>248</td>\n",
       "    </tr>\n",
       "    <tr>\n",
       "      <th>14333</th>\n",
       "      <td>CartScreenAppear</td>\n",
       "      <td>1807104407388801321</td>\n",
       "      <td>2019-08-01 10:30:27</td>\n",
       "      <td>248</td>\n",
       "    </tr>\n",
       "    <tr>\n",
       "      <th>15302</th>\n",
       "      <td>PaymentScreenSuccessful</td>\n",
       "      <td>8125832085431322921</td>\n",
       "      <td>2019-08-01 11:01:10</td>\n",
       "      <td>246</td>\n",
       "    </tr>\n",
       "    <tr>\n",
       "      <th>15304</th>\n",
       "      <td>PaymentScreenSuccessful</td>\n",
       "      <td>8125832085431322921</td>\n",
       "      <td>2019-08-01 11:01:10</td>\n",
       "      <td>246</td>\n",
       "    </tr>\n",
       "    <tr>\n",
       "      <th>15745</th>\n",
       "      <td>PaymentScreenSuccessful</td>\n",
       "      <td>2877433916175408776</td>\n",
       "      <td>2019-08-01 11:13:21</td>\n",
       "      <td>247</td>\n",
       "    </tr>\n",
       "    <tr>\n",
       "      <th>15746</th>\n",
       "      <td>PaymentScreenSuccessful</td>\n",
       "      <td>2877433916175408776</td>\n",
       "      <td>2019-08-01 11:13:21</td>\n",
       "      <td>247</td>\n",
       "    </tr>\n",
       "    <tr>\n",
       "      <th>15750</th>\n",
       "      <td>PaymentScreenSuccessful</td>\n",
       "      <td>3528217211962170139</td>\n",
       "      <td>2019-08-01 11:13:23</td>\n",
       "      <td>247</td>\n",
       "    </tr>\n",
       "    <tr>\n",
       "      <th>15751</th>\n",
       "      <td>PaymentScreenSuccessful</td>\n",
       "      <td>3528217211962170139</td>\n",
       "      <td>2019-08-01 11:13:23</td>\n",
       "      <td>247</td>\n",
       "    </tr>\n",
       "    <tr>\n",
       "      <th>15752</th>\n",
       "      <td>PaymentScreenSuccessful</td>\n",
       "      <td>3528217211962170139</td>\n",
       "      <td>2019-08-01 11:13:23</td>\n",
       "      <td>247</td>\n",
       "    </tr>\n",
       "    <tr>\n",
       "      <th>15753</th>\n",
       "      <td>PaymentScreenSuccessful</td>\n",
       "      <td>3528217211962170139</td>\n",
       "      <td>2019-08-01 11:13:23</td>\n",
       "      <td>247</td>\n",
       "    </tr>\n",
       "    <tr>\n",
       "      <th>17036</th>\n",
       "      <td>CartScreenAppear</td>\n",
       "      <td>197027893265565660</td>\n",
       "      <td>2019-08-01 11:40:14</td>\n",
       "      <td>246</td>\n",
       "    </tr>\n",
       "    <tr>\n",
       "      <th>17037</th>\n",
       "      <td>CartScreenAppear</td>\n",
       "      <td>197027893265565660</td>\n",
       "      <td>2019-08-01 11:40:14</td>\n",
       "      <td>246</td>\n",
       "    </tr>\n",
       "    <tr>\n",
       "      <th>17762</th>\n",
       "      <td>MainScreenAppear</td>\n",
       "      <td>677967665205174414</td>\n",
       "      <td>2019-08-01 11:59:10</td>\n",
       "      <td>246</td>\n",
       "    </tr>\n",
       "    <tr>\n",
       "      <th>17763</th>\n",
       "      <td>MainScreenAppear</td>\n",
       "      <td>677967665205174414</td>\n",
       "      <td>2019-08-01 11:59:10</td>\n",
       "      <td>246</td>\n",
       "    </tr>\n",
       "    <tr>\n",
       "      <th>17893</th>\n",
       "      <td>PaymentScreenSuccessful</td>\n",
       "      <td>7738058666231999878</td>\n",
       "      <td>2019-08-01 12:03:03</td>\n",
       "      <td>246</td>\n",
       "    </tr>\n",
       "    <tr>\n",
       "      <th>17895</th>\n",
       "      <td>PaymentScreenSuccessful</td>\n",
       "      <td>7738058666231999878</td>\n",
       "      <td>2019-08-01 12:03:03</td>\n",
       "      <td>246</td>\n",
       "    </tr>\n",
       "    <tr>\n",
       "      <th>17896</th>\n",
       "      <td>PaymentScreenSuccessful</td>\n",
       "      <td>7738058666231999878</td>\n",
       "      <td>2019-08-01 12:03:03</td>\n",
       "      <td>246</td>\n",
       "    </tr>\n",
       "    <tr>\n",
       "      <th>19631</th>\n",
       "      <td>PaymentScreenSuccessful</td>\n",
       "      <td>1568403033187645799</td>\n",
       "      <td>2019-08-01 12:42:03</td>\n",
       "      <td>248</td>\n",
       "    </tr>\n",
       "    <tr>\n",
       "      <th>19633</th>\n",
       "      <td>PaymentScreenSuccessful</td>\n",
       "      <td>1568403033187645799</td>\n",
       "      <td>2019-08-01 12:42:03</td>\n",
       "      <td>248</td>\n",
       "    </tr>\n",
       "    <tr>\n",
       "      <th>20999</th>\n",
       "      <td>PaymentScreenSuccessful</td>\n",
       "      <td>4980045449118619005</td>\n",
       "      <td>2019-08-01 13:20:38</td>\n",
       "      <td>247</td>\n",
       "    </tr>\n",
       "    <tr>\n",
       "      <th>21001</th>\n",
       "      <td>PaymentScreenSuccessful</td>\n",
       "      <td>4980045449118619005</td>\n",
       "      <td>2019-08-01 13:20:38</td>\n",
       "      <td>247</td>\n",
       "    </tr>\n",
       "    <tr>\n",
       "      <th>21002</th>\n",
       "      <td>PaymentScreenSuccessful</td>\n",
       "      <td>4980045449118619005</td>\n",
       "      <td>2019-08-01 13:20:39</td>\n",
       "      <td>247</td>\n",
       "    </tr>\n",
       "  </tbody>\n",
       "</table>\n",
       "</div>"
      ],
      "text/plain": [
       "                     eventname         deviceidhash      eventtimestamp  expid\n",
       "452           MainScreenAppear  5613408041324010552 2019-07-30 08:19:44    248\n",
       "453           MainScreenAppear  5613408041324010552 2019-07-30 08:19:44    248\n",
       "2348          CartScreenAppear  1694940645335807244 2019-07-31 21:51:39    248\n",
       "2350          CartScreenAppear  1694940645335807244 2019-07-31 21:51:39    248\n",
       "3572          MainScreenAppear   434103746454591587 2019-08-01 02:59:37    248\n",
       "3573          MainScreenAppear   434103746454591587 2019-08-01 02:59:37    248\n",
       "4075          MainScreenAppear  3761373764179762633 2019-08-01 03:47:46    247\n",
       "4076          MainScreenAppear  3761373764179762633 2019-08-01 03:47:46    247\n",
       "4801          MainScreenAppear  2835328739789306622 2019-08-01 04:44:01    248\n",
       "4803          MainScreenAppear  2835328739789306622 2019-08-01 04:44:01    248\n",
       "5639          CartScreenAppear  4248762472840564256 2019-08-01 05:36:04    248\n",
       "5641          CartScreenAppear  4248762472840564256 2019-08-01 05:36:04    248\n",
       "5874   PaymentScreenSuccessful  6427012997733591237 2019-08-01 05:47:32    248\n",
       "5875   PaymentScreenSuccessful  6427012997733591237 2019-08-01 05:47:32    248\n",
       "7248        OffersScreenAppear  7224691986599895551 2019-08-01 06:44:06    246\n",
       "7249        OffersScreenAppear  7224691986599895551 2019-08-01 06:44:06    246\n",
       "8064          CartScreenAppear  8189122927585332969 2019-08-01 07:18:49    248\n",
       "8065          CartScreenAppear  8189122927585332969 2019-08-01 07:18:49    248\n",
       "9178          MainScreenAppear  2230705996155527339 2019-08-01 07:54:47    246\n",
       "9179          MainScreenAppear  2230705996155527339 2019-08-01 07:54:47    246\n",
       "9310          MainScreenAppear  5496043151846125970 2019-08-01 07:58:03    248\n",
       "9311          MainScreenAppear  5496043151846125970 2019-08-01 07:58:03    248\n",
       "9988   PaymentScreenSuccessful  7035352794299231933 2019-08-01 08:20:27    248\n",
       "9990   PaymentScreenSuccessful  7035352794299231933 2019-08-01 08:20:27    248\n",
       "12452  PaymentScreenSuccessful  5152160705477623487 2019-08-01 09:35:39    247\n",
       "12454  PaymentScreenSuccessful  5152160705477623487 2019-08-01 09:35:39    247\n",
       "13054  PaymentScreenSuccessful  6258460144399027762 2019-08-01 09:53:44    247\n",
       "13055  PaymentScreenSuccessful  6258460144399027762 2019-08-01 09:53:44    247\n",
       "14332         CartScreenAppear  1807104407388801321 2019-08-01 10:30:27    248\n",
       "14333         CartScreenAppear  1807104407388801321 2019-08-01 10:30:27    248\n",
       "15302  PaymentScreenSuccessful  8125832085431322921 2019-08-01 11:01:10    246\n",
       "15304  PaymentScreenSuccessful  8125832085431322921 2019-08-01 11:01:10    246\n",
       "15745  PaymentScreenSuccessful  2877433916175408776 2019-08-01 11:13:21    247\n",
       "15746  PaymentScreenSuccessful  2877433916175408776 2019-08-01 11:13:21    247\n",
       "15750  PaymentScreenSuccessful  3528217211962170139 2019-08-01 11:13:23    247\n",
       "15751  PaymentScreenSuccessful  3528217211962170139 2019-08-01 11:13:23    247\n",
       "15752  PaymentScreenSuccessful  3528217211962170139 2019-08-01 11:13:23    247\n",
       "15753  PaymentScreenSuccessful  3528217211962170139 2019-08-01 11:13:23    247\n",
       "17036         CartScreenAppear   197027893265565660 2019-08-01 11:40:14    246\n",
       "17037         CartScreenAppear   197027893265565660 2019-08-01 11:40:14    246\n",
       "17762         MainScreenAppear   677967665205174414 2019-08-01 11:59:10    246\n",
       "17763         MainScreenAppear   677967665205174414 2019-08-01 11:59:10    246\n",
       "17893  PaymentScreenSuccessful  7738058666231999878 2019-08-01 12:03:03    246\n",
       "17895  PaymentScreenSuccessful  7738058666231999878 2019-08-01 12:03:03    246\n",
       "17896  PaymentScreenSuccessful  7738058666231999878 2019-08-01 12:03:03    246\n",
       "19631  PaymentScreenSuccessful  1568403033187645799 2019-08-01 12:42:03    248\n",
       "19633  PaymentScreenSuccessful  1568403033187645799 2019-08-01 12:42:03    248\n",
       "20999  PaymentScreenSuccessful  4980045449118619005 2019-08-01 13:20:38    247\n",
       "21001  PaymentScreenSuccessful  4980045449118619005 2019-08-01 13:20:38    247\n",
       "21002  PaymentScreenSuccessful  4980045449118619005 2019-08-01 13:20:39    247"
      ]
     },
     "execution_count": 7,
     "metadata": {},
     "output_type": "execute_result"
    }
   ],
   "source": [
    "all_duplicates = df[df.duplicated(keep=False)]\n",
    "all_duplicates.head(50)"
   ]
  },
  {
   "cell_type": "markdown",
   "metadata": {},
   "source": [
    "Судя по анализу первых 50 строк, мы можем констатировать, что некоторые сессии содержат дубликаты. Это может сильно повлиять на анализ воронки и A/A/B-тестирование. Поэтому мы удалим дубликаты, оставив только последние вхождения повторяющихся строк, и дополнительно сбросим индексацию измененного датафрейма."
   ]
  },
  {
   "cell_type": "code",
   "execution_count": 8,
   "metadata": {},
   "outputs": [],
   "source": [
    "df = df.drop_duplicates(keep='last').reset_index()"
   ]
  },
  {
   "cell_type": "code",
   "execution_count": 9,
   "metadata": {},
   "outputs": [
    {
     "data": {
      "text/plain": [
       "0"
      ]
     },
     "execution_count": 9,
     "metadata": {},
     "output_type": "execute_result"
    }
   ],
   "source": [
    "df.duplicated().sum()"
   ]
  },
  {
   "cell_type": "markdown",
   "metadata": {},
   "source": [
    "В рамках предобработки данных сделаем последнее действие - добавим отдельный столбец с датой."
   ]
  },
  {
   "cell_type": "code",
   "execution_count": 10,
   "metadata": {},
   "outputs": [
    {
     "data": {
      "text/html": [
       "<div>\n",
       "<style scoped>\n",
       "    .dataframe tbody tr th:only-of-type {\n",
       "        vertical-align: middle;\n",
       "    }\n",
       "\n",
       "    .dataframe tbody tr th {\n",
       "        vertical-align: top;\n",
       "    }\n",
       "\n",
       "    .dataframe thead th {\n",
       "        text-align: right;\n",
       "    }\n",
       "</style>\n",
       "<table border=\"1\" class=\"dataframe\">\n",
       "  <thead>\n",
       "    <tr style=\"text-align: right;\">\n",
       "      <th></th>\n",
       "      <th>index</th>\n",
       "      <th>eventname</th>\n",
       "      <th>deviceidhash</th>\n",
       "      <th>eventtimestamp</th>\n",
       "      <th>expid</th>\n",
       "      <th>eventdate</th>\n",
       "    </tr>\n",
       "  </thead>\n",
       "  <tbody>\n",
       "    <tr>\n",
       "      <th>0</th>\n",
       "      <td>0</td>\n",
       "      <td>MainScreenAppear</td>\n",
       "      <td>4575588528974610257</td>\n",
       "      <td>2019-07-25 04:43:36</td>\n",
       "      <td>246</td>\n",
       "      <td>2019-07-25</td>\n",
       "    </tr>\n",
       "    <tr>\n",
       "      <th>1</th>\n",
       "      <td>1</td>\n",
       "      <td>MainScreenAppear</td>\n",
       "      <td>7416695313311560658</td>\n",
       "      <td>2019-07-25 11:11:42</td>\n",
       "      <td>246</td>\n",
       "      <td>2019-07-25</td>\n",
       "    </tr>\n",
       "    <tr>\n",
       "      <th>2</th>\n",
       "      <td>2</td>\n",
       "      <td>PaymentScreenSuccessful</td>\n",
       "      <td>3518123091307005509</td>\n",
       "      <td>2019-07-25 11:28:47</td>\n",
       "      <td>248</td>\n",
       "      <td>2019-07-25</td>\n",
       "    </tr>\n",
       "    <tr>\n",
       "      <th>3</th>\n",
       "      <td>3</td>\n",
       "      <td>CartScreenAppear</td>\n",
       "      <td>3518123091307005509</td>\n",
       "      <td>2019-07-25 11:28:47</td>\n",
       "      <td>248</td>\n",
       "      <td>2019-07-25</td>\n",
       "    </tr>\n",
       "    <tr>\n",
       "      <th>4</th>\n",
       "      <td>4</td>\n",
       "      <td>PaymentScreenSuccessful</td>\n",
       "      <td>6217807653094995999</td>\n",
       "      <td>2019-07-25 11:48:42</td>\n",
       "      <td>248</td>\n",
       "      <td>2019-07-25</td>\n",
       "    </tr>\n",
       "  </tbody>\n",
       "</table>\n",
       "</div>"
      ],
      "text/plain": [
       "   index                eventname         deviceidhash      eventtimestamp  \\\n",
       "0      0         MainScreenAppear  4575588528974610257 2019-07-25 04:43:36   \n",
       "1      1         MainScreenAppear  7416695313311560658 2019-07-25 11:11:42   \n",
       "2      2  PaymentScreenSuccessful  3518123091307005509 2019-07-25 11:28:47   \n",
       "3      3         CartScreenAppear  3518123091307005509 2019-07-25 11:28:47   \n",
       "4      4  PaymentScreenSuccessful  6217807653094995999 2019-07-25 11:48:42   \n",
       "\n",
       "   expid   eventdate  \n",
       "0    246  2019-07-25  \n",
       "1    246  2019-07-25  \n",
       "2    248  2019-07-25  \n",
       "3    248  2019-07-25  \n",
       "4    248  2019-07-25  "
      ]
     },
     "execution_count": 10,
     "metadata": {},
     "output_type": "execute_result"
    }
   ],
   "source": [
    "df['eventdate'] = df['eventtimestamp'].dt.date\n",
    "df.head()"
   ]
  },
  {
   "cell_type": "markdown",
   "metadata": {},
   "source": [
    "<div class=\"alert alert-success\">\n",
    "\n",
    "**✔️ Комментарий ревьюера ✔️**\n",
    "   \n",
    "   Очень хорошо, что не забываешь проверять данные на наличие пропусков и дубликатов.  Молодец, что приводишь даты к нужному формату - предобработка проведена отлично.\n",
    "\n",
    "</div>"
   ]
  },
  {
   "cell_type": "markdown",
   "metadata": {},
   "source": [
    "## Исследовательский анализ данных"
   ]
  },
  {
   "cell_type": "markdown",
   "metadata": {},
   "source": [
    "В рамках исследовательского анализа данных отвестим на несколько вопросов:\n",
    "- Сколько всего событий в логе? \n",
    "- Сколько всего пользователей в логе?\n",
    "- Сколько в среднем событий приходится на пользователя?\n",
    "- Данными за какой период мы располагаем? "
   ]
  },
  {
   "cell_type": "code",
   "execution_count": 11,
   "metadata": {},
   "outputs": [
    {
     "data": {
      "text/plain": [
       "'Общее количесвто событий в логе: 243713'"
      ]
     },
     "metadata": {},
     "output_type": "display_data"
    },
    {
     "data": {
      "text/plain": [
       "'Общее количество пользователей в логе: 7551'"
      ]
     },
     "metadata": {},
     "output_type": "display_data"
    },
    {
     "data": {
      "text/plain": [
       "'В среднем на пользователя приходится 32.28 события.'"
      ]
     },
     "metadata": {},
     "output_type": "display_data"
    },
    {
     "data": {
      "text/plain": [
       "'Данные были собраны в период от 2019-07-25 вплоть до 2019-08-07'"
      ]
     },
     "metadata": {},
     "output_type": "display_data"
    }
   ],
   "source": [
    "total_events = df.shape[0]\n",
    "display(f'Общее количесвто событий в логе: {total_events}')\n",
    "deviceidhash_count = df['deviceidhash'].nunique()\n",
    "display(f'Общее количество пользователей в логе: {deviceidhash_count}')\n",
    "average_events_per_user = total_events/deviceidhash_count\n",
    "display(f'В среднем на пользователя приходится {average_events_per_user:.2f} события.')\n",
    "min_date = df['eventdate'].min()\n",
    "max_date = df['eventdate'].max()\n",
    "display(f'Данные были собраны в период от {min_date} вплоть до {max_date}')"
   ]
  },
  {
   "cell_type": "markdown",
   "metadata": {},
   "source": [
    "Теперь изучим, как меняется количество данных: построим столбчатую диаграмму, которая отобразит количество событий в зависимости от времени в разрезе групп. Взглянем одинаково ли полные данные у нас за весь период исследованного времени. "
   ]
  },
  {
   "cell_type": "code",
   "execution_count": 12,
   "metadata": {},
   "outputs": [
    {
     "data": {
      "image/png": "[encoded data removed]",
      "text/plain": [
       "<Figure size 720x432 with 1 Axes>"
      ]
     },
     "metadata": {
      "needs_background": "light"
     },
     "output_type": "display_data"
    }
   ],
   "source": [
    "events_per_date = df.pivot_table(index='eventdate', columns='expid', values='index', aggfunc='count', fill_value=0)\n",
    "events_per_date.plot(kind='bar', figsize=(10, 6))\n",
    "plt.xlabel('Группа')\n",
    "plt.ylabel('Количество событий')\n",
    "plt.title('Распределение событий по группам')\n",
    "plt.show()"
   ]
  },
  {
   "cell_type": "markdown",
   "metadata": {},
   "source": [
    "На основании анализа количества событий можно сделать вывод, что данные, которыми мы располагаем, охватывают период с 1 по 7 августа 2019 года включительно. Следовательно, необходимо удалить информацию за июль и оставить только данные за первую неделю августа для дальнейшего анализа в следующих главах исследования. После удаления данных следует провести проверку объема удаленной информации и убедиться в наличии пользователей во всех трех экспериментальных группах. В завершение рекомендуется построить столбчатую диаграмму для визуализации полученных данных."
   ]
  },
  {
   "cell_type": "code",
   "execution_count": 13,
   "metadata": {},
   "outputs": [
    {
     "data": {
      "text/plain": [
       "<bound method DataFrame.info of          index           eventname         deviceidhash      eventtimestamp  \\\n",
       "2826      2828            Tutorial  3737462046622621720 2019-08-01 00:07:28   \n",
       "2827      2829    MainScreenAppear  3737462046622621720 2019-08-01 00:08:00   \n",
       "2828      2830    MainScreenAppear  3737462046622621720 2019-08-01 00:08:55   \n",
       "2829      2831  OffersScreenAppear  3737462046622621720 2019-08-01 00:08:58   \n",
       "2830      2832    MainScreenAppear  1433840883824088890 2019-08-01 00:08:59   \n",
       "...        ...                 ...                  ...                 ...   \n",
       "243708  244121    MainScreenAppear  4599628364049201812 2019-08-07 21:12:25   \n",
       "243709  244122    MainScreenAppear  5849806612437486590 2019-08-07 21:13:59   \n",
       "243710  244123    MainScreenAppear  5746969938801999050 2019-08-07 21:14:43   \n",
       "243711  244124    MainScreenAppear  5746969938801999050 2019-08-07 21:14:58   \n",
       "243712  244125  OffersScreenAppear  5746969938801999050 2019-08-07 21:15:17   \n",
       "\n",
       "        expid   eventdate  \n",
       "2826      246  2019-08-01  \n",
       "2827      246  2019-08-01  \n",
       "2828      246  2019-08-01  \n",
       "2829      246  2019-08-01  \n",
       "2830      247  2019-08-01  \n",
       "...       ...         ...  \n",
       "243708    247  2019-08-07  \n",
       "243709    246  2019-08-07  \n",
       "243710    246  2019-08-07  \n",
       "243711    246  2019-08-07  \n",
       "243712    246  2019-08-07  \n",
       "\n",
       "[240887 rows x 6 columns]>"
      ]
     },
     "execution_count": 13,
     "metadata": {},
     "output_type": "execute_result"
    }
   ],
   "source": [
    "df = df[(df['eventdate'] >= pd.Timestamp('2019-08-01')) & (df['eventdate'] <= pd.Timestamp('2019-08-07'))]\n",
    "df.info"
   ]
  },
  {
   "cell_type": "markdown",
   "metadata": {},
   "source": [
    "Посчитаем, сколько мы потеряли данныx после проведенных манипуляций"
   ]
  },
  {
   "cell_type": "code",
   "execution_count": 65,
   "metadata": {},
   "outputs": [],
   "source": [
    "df_raw = pd.read_csv('/datasets/logs_exp.csv', sep='\\t') # снова введем изначальный датасет"
   ]
  },
  {
   "cell_type": "code",
   "execution_count": 70,
   "metadata": {},
   "outputs": [
    {
     "data": {
      "text/plain": [
       "'Абсолютный показатель потери пользователей составляет: 17'"
      ]
     },
     "metadata": {},
     "output_type": "display_data"
    },
    {
     "data": {
      "text/plain": [
       "'Относительный показатель потери пользователей составляет: 0.23%'"
      ]
     },
     "metadata": {},
     "output_type": "display_data"
    }
   ],
   "source": [
    "loss_deviceidhash_absolute = df_raw['DeviceIDHash'].nunique() - df['deviceidhash'].nunique()\n",
    "\n",
    "# Вычисление относительного показателя\n",
    "loss_deviceidhash_relative = 100 - (df['deviceidhash'].nunique() / df_raw['DeviceIDHash'].nunique() * 100)\n",
    "loss_deviceidhash_relative = round(loss_deviceidhash_relative, 2)\n",
    "\n",
    "# Преобразование в строку и добавление символа '%'\n",
    "loss_deviceidhash_relative = str(loss_deviceidhash_relative) + '%'\n",
    "\n",
    "display(f'Абсолютный показатель потери пользователей составляет: {loss_deviceidhash_absolute}')\n",
    "display(f'Относительный показатель потери пользователей составляет: {loss_deviceidhash_relative}')"
   ]
  },
  {
   "cell_type": "code",
   "execution_count": 72,
   "metadata": {},
   "outputs": [
    {
     "data": {
      "text/plain": [
       "'Абсолютный показатель потери событий составляет: 3239'"
      ]
     },
     "metadata": {},
     "output_type": "display_data"
    },
    {
     "data": {
      "text/plain": [
       "'Относительный показатель потери событий составляет: 1.33%'"
      ]
     },
     "metadata": {},
     "output_type": "display_data"
    }
   ],
   "source": [
    "loss_eventname_absolute = df_raw['EventName'].count() - df['eventname'].count()\n",
    "loss_eventname_relative = (100 - (df['eventname'].count() / df_raw['EventName'].count()) * 100).round(2).astype(str) + '%'\n",
    "display(f'Абсолютный показатель потери событий составляет: {loss_eventname_absolute}')\n",
    "display(f'Относительный показатель потери событий составляет: {loss_eventname_relative}')"
   ]
  },
  {
   "cell_type": "markdown",
   "metadata": {},
   "source": [
    "<div class=\"alert alert-danger\">\n",
    "\n",
    "**❌ Комментарий ревьюера v2❌**\n",
    "   В расчетах ошибка - у нас 'Общее количесвто событий в логе: 243713'\n",
    "'Общее количество пользователей в логе: 7551' А здесь вывод что мы потеряли одинаковые числа по событиям и пользователям\n",
    "<div class=\"alert alert-success\">\n",
    "\n",
    "**✔️ Комментарий ревьюера v3✔️**\n",
    "   \n",
    "   Теперь все верно👍\n",
    "\n",
    "</div>\n",
    "   \n",
    "\n",
    "</div>\n"
   ]
  },
  {
   "cell_type": "markdown",
   "metadata": {},
   "source": [
    "Совершив эту манипуляцию, мы потеряли всего около одного процента соь. Еще раз взглянем на столбчатые графики и убедимся, что обладаем всеми нужными данными. "
   ]
  },
  {
   "cell_type": "markdown",
   "metadata": {},
   "source": [
    "<div class=\"alert alert-danger\">\n",
    "\n",
    "**❌ Комментарий ревьюера ❌**\n",
    "   \n",
    "   Расчет потерь необходимо выполнить с помощью кода и представить потери в абсолютных и относительных показателях отдельно по событиям и отдельно по пользователям\n",
    "\n",
    "</div>\n"
   ]
  },
  {
   "cell_type": "markdown",
   "metadata": {},
   "source": [
    "<div class=\"alert alert-block alert-info\">\n",
    "    \n",
    "Исправил \n",
    "    \n",
    "</div>"
   ]
  },
  {
   "cell_type": "code",
   "execution_count": 17,
   "metadata": {},
   "outputs": [
    {
     "data": {
      "image/png": "[encoded data removed]",
      "text/plain": [
       "<Figure size 720x432 with 1 Axes>"
      ]
     },
     "metadata": {
      "needs_background": "light"
     },
     "output_type": "display_data"
    }
   ],
   "source": [
    "events_per_date = df.pivot_table(index='eventdate', columns='expid', values='index', aggfunc='count', fill_value=0)\n",
    "events_per_date.plot(kind='bar', figsize=(10, 6))\n",
    "plt.xlabel('Группа')\n",
    "plt.ylabel('Количество событий')\n",
    "plt.title('Распределение событий по группам')\n",
    "plt.show()"
   ]
  },
  {
   "cell_type": "markdown",
   "metadata": {},
   "source": [
    "<div class=\"alert alert-success\">\n",
    "\n",
    "**✔️ Комментарий ревьюера ✔️**\n",
    "   \n",
    "   Хорошо👍 Мы убедились, что пользователи сохранены по каждой из трех групп после фильтрации - приступим к изучению воронки\n",
    "\n",
    "</div>\n"
   ]
  },
  {
   "cell_type": "markdown",
   "metadata": {},
   "source": [
    "## Анализ воронки продаж"
   ]
  },
  {
   "cell_type": "markdown",
   "metadata": {},
   "source": [
    "Данные обработанны и готовы к анализу, поэтому перейдем к анализу воронки продаж. Для начал посмотрим, какие события есть в логах, как часто они встречаются. Отсортируем события по частоте."
   ]
  },
  {
   "cell_type": "code",
   "execution_count": 18,
   "metadata": {},
   "outputs": [
    {
     "data": {
      "text/plain": [
       "MainScreenAppear           117328\n",
       "OffersScreenAppear          46333\n",
       "CartScreenAppear            42303\n",
       "PaymentScreenSuccessful     33918\n",
       "Tutorial                     1005\n",
       "Name: eventname, dtype: int64"
      ]
     },
     "execution_count": 18,
     "metadata": {},
     "output_type": "execute_result"
    }
   ],
   "source": [
    "df['eventname'].value_counts()"
   ]
  },
  {
   "cell_type": "markdown",
   "metadata": {},
   "source": [
    "В данных мы можем наблюдать следующие события: \n",
    "1. MainScreenAppear. Это событие указывает на то, что пользователь увидел главный экран приложения. Количество таких событий составляет 117,328.\n",
    "2. OffersScreenAppear.Это событие фиксирует, когда пользователь видит экран с предложениями (например, скидки или специальные предложения). Количество таких событий равно 46,333.\n",
    "3. CartScreenAppear. Это событие происходит, когда пользователь открывает экран корзины, где отображаются добавленные в корзину товары. Количество таких событий составляет 42,303.\n",
    "4. PaymentScreenSuccessful. Это событие фиксирует успешное отображение экрана оплаты, когда пользователь завершил процесс покупки и переходит к экрану подтверждения. Количество таких событий равно 33,918.\n",
    "5. Tutorial. Это событие указывает на просмотр обучающих материалов или прохождение интерактивного учебного руководства. Количество таких событий составляет 1,005."
   ]
  },
  {
   "cell_type": "markdown",
   "metadata": {},
   "source": [
    "Посчитаем, сколько пользователей совершали каждое из этих событий. Отсортируем события по числу пользователей. Посчитаем долю пользователей, которые хоть раз совершали событие."
   ]
  },
  {
   "cell_type": "code",
   "execution_count": 19,
   "metadata": {},
   "outputs": [
    {
     "data": {
      "text/plain": [
       "'Количество пользователей по событиям, отсортированное по убыванию:'"
      ]
     },
     "metadata": {},
     "output_type": "display_data"
    },
    {
     "data": {
      "text/html": [
       "<div>\n",
       "<style scoped>\n",
       "    .dataframe tbody tr th:only-of-type {\n",
       "        vertical-align: middle;\n",
       "    }\n",
       "\n",
       "    .dataframe tbody tr th {\n",
       "        vertical-align: top;\n",
       "    }\n",
       "\n",
       "    .dataframe thead th {\n",
       "        text-align: right;\n",
       "    }\n",
       "</style>\n",
       "<table border=\"1\" class=\"dataframe\">\n",
       "  <thead>\n",
       "    <tr style=\"text-align: right;\">\n",
       "      <th></th>\n",
       "      <th>eventname</th>\n",
       "      <th>unique_deviceidhash_count</th>\n",
       "    </tr>\n",
       "  </thead>\n",
       "  <tbody>\n",
       "    <tr>\n",
       "      <th>0</th>\n",
       "      <td>MainScreenAppear</td>\n",
       "      <td>7419</td>\n",
       "    </tr>\n",
       "    <tr>\n",
       "      <th>1</th>\n",
       "      <td>OffersScreenAppear</td>\n",
       "      <td>4593</td>\n",
       "    </tr>\n",
       "    <tr>\n",
       "      <th>2</th>\n",
       "      <td>CartScreenAppear</td>\n",
       "      <td>3734</td>\n",
       "    </tr>\n",
       "    <tr>\n",
       "      <th>3</th>\n",
       "      <td>PaymentScreenSuccessful</td>\n",
       "      <td>3539</td>\n",
       "    </tr>\n",
       "    <tr>\n",
       "      <th>4</th>\n",
       "      <td>Tutorial</td>\n",
       "      <td>840</td>\n",
       "    </tr>\n",
       "  </tbody>\n",
       "</table>\n",
       "</div>"
      ],
      "text/plain": [
       "                 eventname  unique_deviceidhash_count\n",
       "0         MainScreenAppear                       7419\n",
       "1       OffersScreenAppear                       4593\n",
       "2         CartScreenAppear                       3734\n",
       "3  PaymentScreenSuccessful                       3539\n",
       "4                 Tutorial                        840"
      ]
     },
     "execution_count": 19,
     "metadata": {},
     "output_type": "execute_result"
    }
   ],
   "source": [
    "user_counts = df.groupby('eventname')['deviceidhash'].nunique().sort_values(ascending=False).reset_index()\n",
    "user_counts.columns = ['eventname', 'unique_deviceidhash_count']\n",
    "display(\"Количество пользователей по событиям, отсортированное по убыванию:\")\n",
    "user_counts"
   ]
  },
  {
   "cell_type": "code",
   "execution_count": 20,
   "metadata": {},
   "outputs": [
    {
     "data": {
      "text/plain": [
       "'Доля пользователей, совершавших каждое событие, в процентах:'"
      ]
     },
     "metadata": {},
     "output_type": "display_data"
    },
    {
     "data": {
      "text/html": [
       "<div>\n",
       "<style scoped>\n",
       "    .dataframe tbody tr th:only-of-type {\n",
       "        vertical-align: middle;\n",
       "    }\n",
       "\n",
       "    .dataframe tbody tr th {\n",
       "        vertical-align: top;\n",
       "    }\n",
       "\n",
       "    .dataframe thead th {\n",
       "        text-align: right;\n",
       "    }\n",
       "</style>\n",
       "<table border=\"1\" class=\"dataframe\">\n",
       "  <thead>\n",
       "    <tr style=\"text-align: right;\">\n",
       "      <th></th>\n",
       "      <th>eventname</th>\n",
       "      <th>unique_deviceidhash_count</th>\n",
       "      <th>user_proportions</th>\n",
       "    </tr>\n",
       "  </thead>\n",
       "  <tbody>\n",
       "    <tr>\n",
       "      <th>0</th>\n",
       "      <td>MainScreenAppear</td>\n",
       "      <td>7419</td>\n",
       "      <td>98.473586</td>\n",
       "    </tr>\n",
       "    <tr>\n",
       "      <th>1</th>\n",
       "      <td>OffersScreenAppear</td>\n",
       "      <td>4593</td>\n",
       "      <td>60.963632</td>\n",
       "    </tr>\n",
       "    <tr>\n",
       "      <th>2</th>\n",
       "      <td>CartScreenAppear</td>\n",
       "      <td>3734</td>\n",
       "      <td>49.561986</td>\n",
       "    </tr>\n",
       "    <tr>\n",
       "      <th>3</th>\n",
       "      <td>PaymentScreenSuccessful</td>\n",
       "      <td>3539</td>\n",
       "      <td>46.973719</td>\n",
       "    </tr>\n",
       "    <tr>\n",
       "      <th>4</th>\n",
       "      <td>Tutorial</td>\n",
       "      <td>840</td>\n",
       "      <td>11.149456</td>\n",
       "    </tr>\n",
       "  </tbody>\n",
       "</table>\n",
       "</div>"
      ],
      "text/plain": [
       "                 eventname  unique_deviceidhash_count  user_proportions\n",
       "0         MainScreenAppear                       7419         98.473586\n",
       "1       OffersScreenAppear                       4593         60.963632\n",
       "2         CartScreenAppear                       3734         49.561986\n",
       "3  PaymentScreenSuccessful                       3539         46.973719\n",
       "4                 Tutorial                        840         11.149456"
      ]
     },
     "execution_count": 20,
     "metadata": {},
     "output_type": "execute_result"
    }
   ],
   "source": [
    "total_users = df['deviceidhash'].nunique()\n",
    "user_counts['user_proportions'] = (user_counts['unique_deviceidhash_count'] / total_users) * 100\n",
    "display(\"Доля пользователей, совершавших каждое событие, в процентах:\")\n",
    "user_counts"
   ]
  },
  {
   "cell_type": "markdown",
   "metadata": {},
   "source": [
    "Предположим, что первым событием в пользовательском пути является MainScreenAppear, поскольку это первое, что пользователь видит после открытия приложения. Последним событием перед тем, как пользователь совершает покупку, является PaymentScreenSuccessful. Логично предположить, что перед совершением покупки пользователь должен был находиться в корзине, таким образом, событие CartScreenAppear будет предшествовать PaymentScreenSuccessful.\n",
    "\n",
    "Оставшиеся события, OffersScreenAppear и Tutorial, могут быть расположены на промежуточных этапах пользовательского пути, поскольку пользователь может взаимодействовать с разными разделами приложения. Однако, для целей анализа воронки продаж событие Tutorial можно не учитывать, так как оно не является ключевым этапом в процессе покупки.\n",
    "\n",
    "Исходя из вышеизложенного, воронка продаж выстраивается следующим образом (сверху вниз):\n",
    "\n",
    "1. MainScreenAppear\n",
    "2. OffersScreenAppear\n",
    "3. CartScreenAppear\n",
    "4. PaymentScreenSuccessful"
   ]
  },
  {
   "cell_type": "markdown",
   "metadata": {},
   "source": [
    "Посичтаем долю пользователей проходящих на следующий шаг воронки или конверсию в шаг и обычную конверсию, а после опишем результаты:"
   ]
  },
  {
   "cell_type": "markdown",
   "metadata": {},
   "source": [
    "<div class=\"alert alert-danger\">\n",
    "\n",
    "**❌ Комментарий ревьюера ❌**\n",
    "   \n",
    "   Не рекомендую прописывать числа для расчетов самостоятельно c клавиатуры ([7419, 4593, 3734, 3539])- легко допустить ошибку, и расчеты будут не верны. Если же мы получим число непосредственно из данных с помощью кода - такой проблемы не будет \n",
    "   \n",
    "\n",
    "</div>\n"
   ]
  },
  {
   "cell_type": "markdown",
   "metadata": {},
   "source": [
    "<div class=\"alert alert-block alert-info\">\n",
    "    \n",
    "Исправил \n",
    "    \n",
    "</div>"
   ]
  },
  {
   "cell_type": "markdown",
   "metadata": {},
   "source": [
    "<div class=\"alert alert-success\">\n",
    "\n",
    "**✔️ Комментарий ревьюера v2✔️**\n",
    "   \n",
    "   Хорошо👍\n",
    "\n",
    "</div>\n"
   ]
  },
  {
   "cell_type": "code",
   "execution_count": 21,
   "metadata": {},
   "outputs": [
    {
     "data": {
      "text/html": [
       "<div>\n",
       "<style scoped>\n",
       "    .dataframe tbody tr th:only-of-type {\n",
       "        vertical-align: middle;\n",
       "    }\n",
       "\n",
       "    .dataframe tbody tr th {\n",
       "        vertical-align: top;\n",
       "    }\n",
       "\n",
       "    .dataframe thead th {\n",
       "        text-align: right;\n",
       "    }\n",
       "</style>\n",
       "<table border=\"1\" class=\"dataframe\">\n",
       "  <thead>\n",
       "    <tr style=\"text-align: right;\">\n",
       "      <th></th>\n",
       "      <th>eventname</th>\n",
       "      <th>unique_deviceidhash_count</th>\n",
       "      <th>user_proportions</th>\n",
       "      <th>conversion</th>\n",
       "    </tr>\n",
       "  </thead>\n",
       "  <tbody>\n",
       "    <tr>\n",
       "      <th>0</th>\n",
       "      <td>MainScreenAppear</td>\n",
       "      <td>7419</td>\n",
       "      <td>98.473586</td>\n",
       "      <td>100.0%</td>\n",
       "    </tr>\n",
       "    <tr>\n",
       "      <th>1</th>\n",
       "      <td>OffersScreenAppear</td>\n",
       "      <td>4593</td>\n",
       "      <td>60.963632</td>\n",
       "      <td>61.91%</td>\n",
       "    </tr>\n",
       "    <tr>\n",
       "      <th>2</th>\n",
       "      <td>CartScreenAppear</td>\n",
       "      <td>3734</td>\n",
       "      <td>49.561986</td>\n",
       "      <td>50.33%</td>\n",
       "    </tr>\n",
       "    <tr>\n",
       "      <th>3</th>\n",
       "      <td>PaymentScreenSuccessful</td>\n",
       "      <td>3539</td>\n",
       "      <td>46.973719</td>\n",
       "      <td>47.7%</td>\n",
       "    </tr>\n",
       "    <tr>\n",
       "      <th>4</th>\n",
       "      <td>Tutorial</td>\n",
       "      <td>840</td>\n",
       "      <td>11.149456</td>\n",
       "      <td>11.32%</td>\n",
       "    </tr>\n",
       "  </tbody>\n",
       "</table>\n",
       "</div>"
      ],
      "text/plain": [
       "                 eventname  unique_deviceidhash_count  user_proportions  \\\n",
       "0         MainScreenAppear                       7419         98.473586   \n",
       "1       OffersScreenAppear                       4593         60.963632   \n",
       "2         CartScreenAppear                       3734         49.561986   \n",
       "3  PaymentScreenSuccessful                       3539         46.973719   \n",
       "4                 Tutorial                        840         11.149456   \n",
       "\n",
       "  conversion  \n",
       "0     100.0%  \n",
       "1     61.91%  \n",
       "2     50.33%  \n",
       "3      47.7%  \n",
       "4     11.32%  "
      ]
     },
     "execution_count": 21,
     "metadata": {},
     "output_type": "execute_result"
    }
   ],
   "source": [
    "user_counts['conversion'] = (user_counts['unique_deviceidhash_count'] / user_counts['unique_deviceidhash_count'][0]) * 100\n",
    "user_counts['conversion'] = user_counts['conversion'].round(2).astype(str) + '%'\n",
    "user_counts"
   ]
  },
  {
   "cell_type": "code",
   "execution_count": 22,
   "metadata": {},
   "outputs": [
    {
     "data": {
      "text/html": [
       "<div>\n",
       "<style scoped>\n",
       "    .dataframe tbody tr th:only-of-type {\n",
       "        vertical-align: middle;\n",
       "    }\n",
       "\n",
       "    .dataframe tbody tr th {\n",
       "        vertical-align: top;\n",
       "    }\n",
       "\n",
       "    .dataframe thead th {\n",
       "        text-align: right;\n",
       "    }\n",
       "</style>\n",
       "<table border=\"1\" class=\"dataframe\">\n",
       "  <thead>\n",
       "    <tr style=\"text-align: right;\">\n",
       "      <th></th>\n",
       "      <th>eventname</th>\n",
       "      <th>unique_deviceidhash_count</th>\n",
       "      <th>user_proportions</th>\n",
       "      <th>conversion</th>\n",
       "      <th>conversion_per_step</th>\n",
       "    </tr>\n",
       "  </thead>\n",
       "  <tbody>\n",
       "    <tr>\n",
       "      <th>0</th>\n",
       "      <td>MainScreenAppear</td>\n",
       "      <td>7419</td>\n",
       "      <td>98.473586</td>\n",
       "      <td>100.0%</td>\n",
       "      <td>100.0%</td>\n",
       "    </tr>\n",
       "    <tr>\n",
       "      <th>1</th>\n",
       "      <td>OffersScreenAppear</td>\n",
       "      <td>4593</td>\n",
       "      <td>60.963632</td>\n",
       "      <td>61.91%</td>\n",
       "      <td>61.91%</td>\n",
       "    </tr>\n",
       "    <tr>\n",
       "      <th>2</th>\n",
       "      <td>CartScreenAppear</td>\n",
       "      <td>3734</td>\n",
       "      <td>49.561986</td>\n",
       "      <td>50.33%</td>\n",
       "      <td>81.3%</td>\n",
       "    </tr>\n",
       "    <tr>\n",
       "      <th>3</th>\n",
       "      <td>PaymentScreenSuccessful</td>\n",
       "      <td>3539</td>\n",
       "      <td>46.973719</td>\n",
       "      <td>47.7%</td>\n",
       "      <td>94.78%</td>\n",
       "    </tr>\n",
       "    <tr>\n",
       "      <th>4</th>\n",
       "      <td>Tutorial</td>\n",
       "      <td>840</td>\n",
       "      <td>11.149456</td>\n",
       "      <td>11.32%</td>\n",
       "      <td>23.74%</td>\n",
       "    </tr>\n",
       "  </tbody>\n",
       "</table>\n",
       "</div>"
      ],
      "text/plain": [
       "                 eventname  unique_deviceidhash_count  user_proportions  \\\n",
       "0         MainScreenAppear                       7419         98.473586   \n",
       "1       OffersScreenAppear                       4593         60.963632   \n",
       "2         CartScreenAppear                       3734         49.561986   \n",
       "3  PaymentScreenSuccessful                       3539         46.973719   \n",
       "4                 Tutorial                        840         11.149456   \n",
       "\n",
       "  conversion conversion_per_step  \n",
       "0     100.0%              100.0%  \n",
       "1     61.91%              61.91%  \n",
       "2     50.33%               81.3%  \n",
       "3      47.7%              94.78%  \n",
       "4     11.32%              23.74%  "
      ]
     },
     "execution_count": 22,
     "metadata": {},
     "output_type": "execute_result"
    }
   ],
   "source": [
    "conversion_step = [100]  # Первое значение конверсии в шаг для \"MainScreenAppear\" = 100%\n",
    "for i in range(1, len(user_counts)):\n",
    "    conversion = (user_counts['unique_deviceidhash_count'][i] / user_counts['unique_deviceidhash_count'][i - 1]) * 100\n",
    "    conversion_step.append(conversion)\n",
    "user_counts['conversion_per_step'] = conversion_step\n",
    "user_counts['conversion_per_step'] = user_counts['conversion_per_step'].round(2).astype(str) + '%'\n",
    "user_counts"
   ]
  },
  {
   "cell_type": "code",
   "execution_count": 64,
   "metadata": {},
   "outputs": [
    {
     "data": {
      "application/vnd.plotly.v1+json": {
       "config": {
        "plotlyServerURL": "https://plot.ly"
       },
       "data": [
        {
         "hovertemplate": "number=%{x}<br>stage=%{y}<extra></extra>",
         "legendgroup": "",
         "marker": {
          "color": "#636efa"
         },
         "name": "",
         "orientation": "h",
         "showlegend": false,
         "type": "funnel",
         "x": [
          7419,
          4593,
          3734,
          3539
         ],
         "xaxis": "x",
         "y": [
          "MainScreenAppear",
          "OffersScreenAppear",
          "CartScreenAppear",
          "PaymentScreenSuccessful"
         ],
         "yaxis": "y"
        }
       ],
       "layout": {
        "legend": {
         "tracegroupgap": 0
        },
        "margin": {
         "t": 60
        },
        "template": {
         "data": {
          "bar": [
           {
            "error_x": {
             "color": "#2a3f5f"
            },
            "error_y": {
             "color": "#2a3f5f"
            },
            "marker": {
             "line": {
              "color": "#E5ECF6",
              "width": 0.5
             },
             "pattern": {
              "fillmode": "overlay",
              "size": 10,
              "solidity": 0.2
             }
            },
            "type": "bar"
           }
          ],
          "barpolar": [
           {
            "marker": {
             "line": {
              "color": "#E5ECF6",
              "width": 0.5
             },
             "pattern": {
              "fillmode": "overlay",
              "size": 10,
              "solidity": 0.2
             }
            },
            "type": "barpolar"
           }
          ],
          "carpet": [
           {
            "aaxis": {
             "endlinecolor": "#2a3f5f",
             "gridcolor": "white",
             "linecolor": "white",
             "minorgridcolor": "white",
             "startlinecolor": "#2a3f5f"
            },
            "baxis": {
             "endlinecolor": "#2a3f5f",
             "gridcolor": "white",
             "linecolor": "white",
             "minorgridcolor": "white",
             "startlinecolor": "#2a3f5f"
            },
            "type": "carpet"
           }
          ],
          "choropleth": [
           {
            "colorbar": {
             "outlinewidth": 0,
             "ticks": ""
            },
            "type": "choropleth"
           }
          ],
          "contour": [
           {
            "colorbar": {
             "outlinewidth": 0,
             "ticks": ""
            },
            "colorscale": [
             [
              0,
              "#0d0887"
             ],
             [
              0.1111111111111111,
              "#46039f"
             ],
             [
              0.2222222222222222,
              "#7201a8"
             ],
             [
              0.3333333333333333,
              "#9c179e"
             ],
             [
              0.4444444444444444,
              "#bd3786"
             ],
             [
              0.5555555555555556,
              "#d8576b"
             ],
             [
              0.6666666666666666,
              "#ed7953"
             ],
             [
              0.7777777777777778,
              "#fb9f3a"
             ],
             [
              0.8888888888888888,
              "#fdca26"
             ],
             [
              1,
              "#f0f921"
             ]
            ],
            "type": "contour"
           }
          ],
          "contourcarpet": [
           {
            "colorbar": {
             "outlinewidth": 0,
             "ticks": ""
            },
            "type": "contourcarpet"
           }
          ],
          "heatmap": [
           {
            "colorbar": {
             "outlinewidth": 0,
             "ticks": ""
            },
            "colorscale": [
             [
              0,
              "#0d0887"
             ],
             [
              0.1111111111111111,
              "#46039f"
             ],
             [
              0.2222222222222222,
              "#7201a8"
             ],
             [
              0.3333333333333333,
              "#9c179e"
             ],
             [
              0.4444444444444444,
              "#bd3786"
             ],
             [
              0.5555555555555556,
              "#d8576b"
             ],
             [
              0.6666666666666666,
              "#ed7953"
             ],
             [
              0.7777777777777778,
              "#fb9f3a"
             ],
             [
              0.8888888888888888,
              "#fdca26"
             ],
             [
              1,
              "#f0f921"
             ]
            ],
            "type": "heatmap"
           }
          ],
          "heatmapgl": [
           {
            "colorbar": {
             "outlinewidth": 0,
             "ticks": ""
            },
            "colorscale": [
             [
              0,
              "#0d0887"
             ],
             [
              0.1111111111111111,
              "#46039f"
             ],
             [
              0.2222222222222222,
              "#7201a8"
             ],
             [
              0.3333333333333333,
              "#9c179e"
             ],
             [
              0.4444444444444444,
              "#bd3786"
             ],
             [
              0.5555555555555556,
              "#d8576b"
             ],
             [
              0.6666666666666666,
              "#ed7953"
             ],
             [
              0.7777777777777778,
              "#fb9f3a"
             ],
             [
              0.8888888888888888,
              "#fdca26"
             ],
             [
              1,
              "#f0f921"
             ]
            ],
            "type": "heatmapgl"
           }
          ],
          "histogram": [
           {
            "marker": {
             "pattern": {
              "fillmode": "overlay",
              "size": 10,
              "solidity": 0.2
             }
            },
            "type": "histogram"
           }
          ],
          "histogram2d": [
           {
            "colorbar": {
             "outlinewidth": 0,
             "ticks": ""
            },
            "colorscale": [
             [
              0,
              "#0d0887"
             ],
             [
              0.1111111111111111,
              "#46039f"
             ],
             [
              0.2222222222222222,
              "#7201a8"
             ],
             [
              0.3333333333333333,
              "#9c179e"
             ],
             [
              0.4444444444444444,
              "#bd3786"
             ],
             [
              0.5555555555555556,
              "#d8576b"
             ],
             [
              0.6666666666666666,
              "#ed7953"
             ],
             [
              0.7777777777777778,
              "#fb9f3a"
             ],
             [
              0.8888888888888888,
              "#fdca26"
             ],
             [
              1,
              "#f0f921"
             ]
            ],
            "type": "histogram2d"
           }
          ],
          "histogram2dcontour": [
           {
            "colorbar": {
             "outlinewidth": 0,
             "ticks": ""
            },
            "colorscale": [
             [
              0,
              "#0d0887"
             ],
             [
              0.1111111111111111,
              "#46039f"
             ],
             [
              0.2222222222222222,
              "#7201a8"
             ],
             [
              0.3333333333333333,
              "#9c179e"
             ],
             [
              0.4444444444444444,
              "#bd3786"
             ],
             [
              0.5555555555555556,
              "#d8576b"
             ],
             [
              0.6666666666666666,
              "#ed7953"
             ],
             [
              0.7777777777777778,
              "#fb9f3a"
             ],
             [
              0.8888888888888888,
              "#fdca26"
             ],
             [
              1,
              "#f0f921"
             ]
            ],
            "type": "histogram2dcontour"
           }
          ],
          "mesh3d": [
           {
            "colorbar": {
             "outlinewidth": 0,
             "ticks": ""
            },
            "type": "mesh3d"
           }
          ],
          "parcoords": [
           {
            "line": {
             "colorbar": {
              "outlinewidth": 0,
              "ticks": ""
             }
            },
            "type": "parcoords"
           }
          ],
          "pie": [
           {
            "automargin": true,
            "type": "pie"
           }
          ],
          "scatter": [
           {
            "marker": {
             "colorbar": {
              "outlinewidth": 0,
              "ticks": ""
             }
            },
            "type": "scatter"
           }
          ],
          "scatter3d": [
           {
            "line": {
             "colorbar": {
              "outlinewidth": 0,
              "ticks": ""
             }
            },
            "marker": {
             "colorbar": {
              "outlinewidth": 0,
              "ticks": ""
             }
            },
            "type": "scatter3d"
           }
          ],
          "scattercarpet": [
           {
            "marker": {
             "colorbar": {
              "outlinewidth": 0,
              "ticks": ""
             }
            },
            "type": "scattercarpet"
           }
          ],
          "scattergeo": [
           {
            "marker": {
             "colorbar": {
              "outlinewidth": 0,
              "ticks": ""
             }
            },
            "type": "scattergeo"
           }
          ],
          "scattergl": [
           {
            "marker": {
             "colorbar": {
              "outlinewidth": 0,
              "ticks": ""
             }
            },
            "type": "scattergl"
           }
          ],
          "scattermapbox": [
           {
            "marker": {
             "colorbar": {
              "outlinewidth": 0,
              "ticks": ""
             }
            },
            "type": "scattermapbox"
           }
          ],
          "scatterpolar": [
           {
            "marker": {
             "colorbar": {
              "outlinewidth": 0,
              "ticks": ""
             }
            },
            "type": "scatterpolar"
           }
          ],
          "scatterpolargl": [
           {
            "marker": {
             "colorbar": {
              "outlinewidth": 0,
              "ticks": ""
             }
            },
            "type": "scatterpolargl"
           }
          ],
          "scatterternary": [
           {
            "marker": {
             "colorbar": {
              "outlinewidth": 0,
              "ticks": ""
             }
            },
            "type": "scatterternary"
           }
          ],
          "surface": [
           {
            "colorbar": {
             "outlinewidth": 0,
             "ticks": ""
            },
            "colorscale": [
             [
              0,
              "#0d0887"
             ],
             [
              0.1111111111111111,
              "#46039f"
             ],
             [
              0.2222222222222222,
              "#7201a8"
             ],
             [
              0.3333333333333333,
              "#9c179e"
             ],
             [
              0.4444444444444444,
              "#bd3786"
             ],
             [
              0.5555555555555556,
              "#d8576b"
             ],
             [
              0.6666666666666666,
              "#ed7953"
             ],
             [
              0.7777777777777778,
              "#fb9f3a"
             ],
             [
              0.8888888888888888,
              "#fdca26"
             ],
             [
              1,
              "#f0f921"
             ]
            ],
            "type": "surface"
           }
          ],
          "table": [
           {
            "cells": {
             "fill": {
              "color": "#EBF0F8"
             },
             "line": {
              "color": "white"
             }
            },
            "header": {
             "fill": {
              "color": "#C8D4E3"
             },
             "line": {
              "color": "white"
             }
            },
            "type": "table"
           }
          ]
         },
         "layout": {
          "annotationdefaults": {
           "arrowcolor": "#2a3f5f",
           "arrowhead": 0,
           "arrowwidth": 1
          },
          "autotypenumbers": "strict",
          "coloraxis": {
           "colorbar": {
            "outlinewidth": 0,
            "ticks": ""
           }
          },
          "colorscale": {
           "diverging": [
            [
             0,
             "#8e0152"
            ],
            [
             0.1,
             "#c51b7d"
            ],
            [
             0.2,
             "#de77ae"
            ],
            [
             0.3,
             "#f1b6da"
            ],
            [
             0.4,
             "#fde0ef"
            ],
            [
             0.5,
             "#f7f7f7"
            ],
            [
             0.6,
             "#e6f5d0"
            ],
            [
             0.7,
             "#b8e186"
            ],
            [
             0.8,
             "#7fbc41"
            ],
            [
             0.9,
             "#4d9221"
            ],
            [
             1,
             "#276419"
            ]
           ],
           "sequential": [
            [
             0,
             "#0d0887"
            ],
            [
             0.1111111111111111,
             "#46039f"
            ],
            [
             0.2222222222222222,
             "#7201a8"
            ],
            [
             0.3333333333333333,
             "#9c179e"
            ],
            [
             0.4444444444444444,
             "#bd3786"
            ],
            [
             0.5555555555555556,
             "#d8576b"
            ],
            [
             0.6666666666666666,
             "#ed7953"
            ],
            [
             0.7777777777777778,
             "#fb9f3a"
            ],
            [
             0.8888888888888888,
             "#fdca26"
            ],
            [
             1,
             "#f0f921"
            ]
           ],
           "sequentialminus": [
            [
             0,
             "#0d0887"
            ],
            [
             0.1111111111111111,
             "#46039f"
            ],
            [
             0.2222222222222222,
             "#7201a8"
            ],
            [
             0.3333333333333333,
             "#9c179e"
            ],
            [
             0.4444444444444444,
             "#bd3786"
            ],
            [
             0.5555555555555556,
             "#d8576b"
            ],
            [
             0.6666666666666666,
             "#ed7953"
            ],
            [
             0.7777777777777778,
             "#fb9f3a"
            ],
            [
             0.8888888888888888,
             "#fdca26"
            ],
            [
             1,
             "#f0f921"
            ]
           ]
          },
          "colorway": [
           "#636efa",
           "#EF553B",
           "#00cc96",
           "#ab63fa",
           "#FFA15A",
           "#19d3f3",
           "#FF6692",
           "#B6E880",
           "#FF97FF",
           "#FECB52"
          ],
          "font": {
           "color": "#2a3f5f"
          },
          "geo": {
           "bgcolor": "white",
           "lakecolor": "white",
           "landcolor": "#E5ECF6",
           "showlakes": true,
           "showland": true,
           "subunitcolor": "white"
          },
          "hoverlabel": {
           "align": "left"
          },
          "hovermode": "closest",
          "mapbox": {
           "style": "light"
          },
          "paper_bgcolor": "white",
          "plot_bgcolor": "#E5ECF6",
          "polar": {
           "angularaxis": {
            "gridcolor": "white",
            "linecolor": "white",
            "ticks": ""
           },
           "bgcolor": "#E5ECF6",
           "radialaxis": {
            "gridcolor": "white",
            "linecolor": "white",
            "ticks": ""
           }
          },
          "scene": {
           "xaxis": {
            "backgroundcolor": "#E5ECF6",
            "gridcolor": "white",
            "gridwidth": 2,
            "linecolor": "white",
            "showbackground": true,
            "ticks": "",
            "zerolinecolor": "white"
           },
           "yaxis": {
            "backgroundcolor": "#E5ECF6",
            "gridcolor": "white",
            "gridwidth": 2,
            "linecolor": "white",
            "showbackground": true,
            "ticks": "",
            "zerolinecolor": "white"
           },
           "zaxis": {
            "backgroundcolor": "#E5ECF6",
            "gridcolor": "white",
            "gridwidth": 2,
            "linecolor": "white",
            "showbackground": true,
            "ticks": "",
            "zerolinecolor": "white"
           }
          },
          "shapedefaults": {
           "line": {
            "color": "#2a3f5f"
           }
          },
          "ternary": {
           "aaxis": {
            "gridcolor": "white",
            "linecolor": "white",
            "ticks": ""
           },
           "baxis": {
            "gridcolor": "white",
            "linecolor": "white",
            "ticks": ""
           },
           "bgcolor": "#E5ECF6",
           "caxis": {
            "gridcolor": "white",
            "linecolor": "white",
            "ticks": ""
           }
          },
          "title": {
           "x": 0.05
          },
          "xaxis": {
           "automargin": true,
           "gridcolor": "white",
           "linecolor": "white",
           "ticks": "",
           "title": {
            "standoff": 15
           },
           "zerolinecolor": "white",
           "zerolinewidth": 2
          },
          "yaxis": {
           "automargin": true,
           "gridcolor": "white",
           "linecolor": "white",
           "ticks": "",
           "title": {
            "standoff": 15
           },
           "zerolinecolor": "white",
           "zerolinewidth": 2
          }
         }
        },
        "title": {
         "text": "Воронка"
        },
        "xaxis": {
         "anchor": "y",
         "domain": [
          0,
          1
         ],
         "title": {
          "text": "number"
         }
        },
        "yaxis": {
         "anchor": "x",
         "domain": [
          0,
          1
         ],
         "title": {
          "text": "stage"
         }
        }
       }
      },
      "text/html": [
       "<div>                            <div id=\"c8e79c3e-d6a6-4f90-ae00-6b3c25d27561\" class=\"plotly-graph-div\" style=\"height:525px; width:100%;\"></div>            <script type=\"text/javascript\">                require([\"plotly\"], function(Plotly) {                    window.PLOTLYENV=window.PLOTLYENV || {};                                    if (document.getElementById(\"c8e79c3e-d6a6-4f90-ae00-6b3c25d27561\")) {                    Plotly.newPlot(                        \"c8e79c3e-d6a6-4f90-ae00-6b3c25d27561\",                        [{\"hovertemplate\":\"number=%{x}<br>stage=%{y}<extra></extra>\",\"legendgroup\":\"\",\"marker\":{\"color\":\"#636efa\"},\"name\":\"\",\"orientation\":\"h\",\"showlegend\":false,\"x\":[7419,4593,3734,3539],\"xaxis\":\"x\",\"y\":[\"MainScreenAppear\",\"OffersScreenAppear\",\"CartScreenAppear\",\"PaymentScreenSuccessful\"],\"yaxis\":\"y\",\"type\":\"funnel\"}],                        {\"template\":{\"data\":{\"bar\":[{\"error_x\":{\"color\":\"#2a3f5f\"},\"error_y\":{\"color\":\"#2a3f5f\"},\"marker\":{\"line\":{\"color\":\"#E5ECF6\",\"width\":0.5},\"pattern\":{\"fillmode\":\"overlay\",\"size\":10,\"solidity\":0.2}},\"type\":\"bar\"}],\"barpolar\":[{\"marker\":{\"line\":{\"color\":\"#E5ECF6\",\"width\":0.5},\"pattern\":{\"fillmode\":\"overlay\",\"size\":10,\"solidity\":0.2}},\"type\":\"barpolar\"}],\"carpet\":[{\"aaxis\":{\"endlinecolor\":\"#2a3f5f\",\"gridcolor\":\"white\",\"linecolor\":\"white\",\"minorgridcolor\":\"white\",\"startlinecolor\":\"#2a3f5f\"},\"baxis\":{\"endlinecolor\":\"#2a3f5f\",\"gridcolor\":\"white\",\"linecolor\":\"white\",\"minorgridcolor\":\"white\",\"startlinecolor\":\"#2a3f5f\"},\"type\":\"carpet\"}],\"choropleth\":[{\"colorbar\":{\"outlinewidth\":0,\"ticks\":\"\"},\"type\":\"choropleth\"}],\"contour\":[{\"colorbar\":{\"outlinewidth\":0,\"ticks\":\"\"},\"colorscale\":[[0.0,\"#0d0887\"],[0.1111111111111111,\"#46039f\"],[0.2222222222222222,\"#7201a8\"],[0.3333333333333333,\"#9c179e\"],[0.4444444444444444,\"#bd3786\"],[0.5555555555555556,\"#d8576b\"],[0.6666666666666666,\"#ed7953\"],[0.7777777777777778,\"#fb9f3a\"],[0.8888888888888888,\"#fdca26\"],[1.0,\"#f0f921\"]],\"type\":\"contour\"}],\"contourcarpet\":[{\"colorbar\":{\"outlinewidth\":0,\"ticks\":\"\"},\"type\":\"contourcarpet\"}],\"heatmap\":[{\"colorbar\":{\"outlinewidth\":0,\"ticks\":\"\"},\"colorscale\":[[0.0,\"#0d0887\"],[0.1111111111111111,\"#46039f\"],[0.2222222222222222,\"#7201a8\"],[0.3333333333333333,\"#9c179e\"],[0.4444444444444444,\"#bd3786\"],[0.5555555555555556,\"#d8576b\"],[0.6666666666666666,\"#ed7953\"],[0.7777777777777778,\"#fb9f3a\"],[0.8888888888888888,\"#fdca26\"],[1.0,\"#f0f921\"]],\"type\":\"heatmap\"}],\"heatmapgl\":[{\"colorbar\":{\"outlinewidth\":0,\"ticks\":\"\"},\"colorscale\":[[0.0,\"#0d0887\"],[0.1111111111111111,\"#46039f\"],[0.2222222222222222,\"#7201a8\"],[0.3333333333333333,\"#9c179e\"],[0.4444444444444444,\"#bd3786\"],[0.5555555555555556,\"#d8576b\"],[0.6666666666666666,\"#ed7953\"],[0.7777777777777778,\"#fb9f3a\"],[0.8888888888888888,\"#fdca26\"],[1.0,\"#f0f921\"]],\"type\":\"heatmapgl\"}],\"histogram\":[{\"marker\":{\"pattern\":{\"fillmode\":\"overlay\",\"size\":10,\"solidity\":0.2}},\"type\":\"histogram\"}],\"histogram2d\":[{\"colorbar\":{\"outlinewidth\":0,\"ticks\":\"\"},\"colorscale\":[[0.0,\"#0d0887\"],[0.1111111111111111,\"#46039f\"],[0.2222222222222222,\"#7201a8\"],[0.3333333333333333,\"#9c179e\"],[0.4444444444444444,\"#bd3786\"],[0.5555555555555556,\"#d8576b\"],[0.6666666666666666,\"#ed7953\"],[0.7777777777777778,\"#fb9f3a\"],[0.8888888888888888,\"#fdca26\"],[1.0,\"#f0f921\"]],\"type\":\"histogram2d\"}],\"histogram2dcontour\":[{\"colorbar\":{\"outlinewidth\":0,\"ticks\":\"\"},\"colorscale\":[[0.0,\"#0d0887\"],[0.1111111111111111,\"#46039f\"],[0.2222222222222222,\"#7201a8\"],[0.3333333333333333,\"#9c179e\"],[0.4444444444444444,\"#bd3786\"],[0.5555555555555556,\"#d8576b\"],[0.6666666666666666,\"#ed7953\"],[0.7777777777777778,\"#fb9f3a\"],[0.8888888888888888,\"#fdca26\"],[1.0,\"#f0f921\"]],\"type\":\"histogram2dcontour\"}],\"mesh3d\":[{\"colorbar\":{\"outlinewidth\":0,\"ticks\":\"\"},\"type\":\"mesh3d\"}],\"parcoords\":[{\"line\":{\"colorbar\":{\"outlinewidth\":0,\"ticks\":\"\"}},\"type\":\"parcoords\"}],\"pie\":[{\"automargin\":true,\"type\":\"pie\"}],\"scatter\":[{\"marker\":{\"colorbar\":{\"outlinewidth\":0,\"ticks\":\"\"}},\"type\":\"scatter\"}],\"scatter3d\":[{\"line\":{\"colorbar\":{\"outlinewidth\":0,\"ticks\":\"\"}},\"marker\":{\"colorbar\":{\"outlinewidth\":0,\"ticks\":\"\"}},\"type\":\"scatter3d\"}],\"scattercarpet\":[{\"marker\":{\"colorbar\":{\"outlinewidth\":0,\"ticks\":\"\"}},\"type\":\"scattercarpet\"}],\"scattergeo\":[{\"marker\":{\"colorbar\":{\"outlinewidth\":0,\"ticks\":\"\"}},\"type\":\"scattergeo\"}],\"scattergl\":[{\"marker\":{\"colorbar\":{\"outlinewidth\":0,\"ticks\":\"\"}},\"type\":\"scattergl\"}],\"scattermapbox\":[{\"marker\":{\"colorbar\":{\"outlinewidth\":0,\"ticks\":\"\"}},\"type\":\"scattermapbox\"}],\"scatterpolar\":[{\"marker\":{\"colorbar\":{\"outlinewidth\":0,\"ticks\":\"\"}},\"type\":\"scatterpolar\"}],\"scatterpolargl\":[{\"marker\":{\"colorbar\":{\"outlinewidth\":0,\"ticks\":\"\"}},\"type\":\"scatterpolargl\"}],\"scatterternary\":[{\"marker\":{\"colorbar\":{\"outlinewidth\":0,\"ticks\":\"\"}},\"type\":\"scatterternary\"}],\"surface\":[{\"colorbar\":{\"outlinewidth\":0,\"ticks\":\"\"},\"colorscale\":[[0.0,\"#0d0887\"],[0.1111111111111111,\"#46039f\"],[0.2222222222222222,\"#7201a8\"],[0.3333333333333333,\"#9c179e\"],[0.4444444444444444,\"#bd3786\"],[0.5555555555555556,\"#d8576b\"],[0.6666666666666666,\"#ed7953\"],[0.7777777777777778,\"#fb9f3a\"],[0.8888888888888888,\"#fdca26\"],[1.0,\"#f0f921\"]],\"type\":\"surface\"}],\"table\":[{\"cells\":{\"fill\":{\"color\":\"#EBF0F8\"},\"line\":{\"color\":\"white\"}},\"header\":{\"fill\":{\"color\":\"#C8D4E3\"},\"line\":{\"color\":\"white\"}},\"type\":\"table\"}]},\"layout\":{\"annotationdefaults\":{\"arrowcolor\":\"#2a3f5f\",\"arrowhead\":0,\"arrowwidth\":1},\"autotypenumbers\":\"strict\",\"coloraxis\":{\"colorbar\":{\"outlinewidth\":0,\"ticks\":\"\"}},\"colorscale\":{\"diverging\":[[0,\"#8e0152\"],[0.1,\"#c51b7d\"],[0.2,\"#de77ae\"],[0.3,\"#f1b6da\"],[0.4,\"#fde0ef\"],[0.5,\"#f7f7f7\"],[0.6,\"#e6f5d0\"],[0.7,\"#b8e186\"],[0.8,\"#7fbc41\"],[0.9,\"#4d9221\"],[1,\"#276419\"]],\"sequential\":[[0.0,\"#0d0887\"],[0.1111111111111111,\"#46039f\"],[0.2222222222222222,\"#7201a8\"],[0.3333333333333333,\"#9c179e\"],[0.4444444444444444,\"#bd3786\"],[0.5555555555555556,\"#d8576b\"],[0.6666666666666666,\"#ed7953\"],[0.7777777777777778,\"#fb9f3a\"],[0.8888888888888888,\"#fdca26\"],[1.0,\"#f0f921\"]],\"sequentialminus\":[[0.0,\"#0d0887\"],[0.1111111111111111,\"#46039f\"],[0.2222222222222222,\"#7201a8\"],[0.3333333333333333,\"#9c179e\"],[0.4444444444444444,\"#bd3786\"],[0.5555555555555556,\"#d8576b\"],[0.6666666666666666,\"#ed7953\"],[0.7777777777777778,\"#fb9f3a\"],[0.8888888888888888,\"#fdca26\"],[1.0,\"#f0f921\"]]},\"colorway\":[\"#636efa\",\"#EF553B\",\"#00cc96\",\"#ab63fa\",\"#FFA15A\",\"#19d3f3\",\"#FF6692\",\"#B6E880\",\"#FF97FF\",\"#FECB52\"],\"font\":{\"color\":\"#2a3f5f\"},\"geo\":{\"bgcolor\":\"white\",\"lakecolor\":\"white\",\"landcolor\":\"#E5ECF6\",\"showlakes\":true,\"showland\":true,\"subunitcolor\":\"white\"},\"hoverlabel\":{\"align\":\"left\"},\"hovermode\":\"closest\",\"mapbox\":{\"style\":\"light\"},\"paper_bgcolor\":\"white\",\"plot_bgcolor\":\"#E5ECF6\",\"polar\":{\"angularaxis\":{\"gridcolor\":\"white\",\"linecolor\":\"white\",\"ticks\":\"\"},\"bgcolor\":\"#E5ECF6\",\"radialaxis\":{\"gridcolor\":\"white\",\"linecolor\":\"white\",\"ticks\":\"\"}},\"scene\":{\"xaxis\":{\"backgroundcolor\":\"#E5ECF6\",\"gridcolor\":\"white\",\"gridwidth\":2,\"linecolor\":\"white\",\"showbackground\":true,\"ticks\":\"\",\"zerolinecolor\":\"white\"},\"yaxis\":{\"backgroundcolor\":\"#E5ECF6\",\"gridcolor\":\"white\",\"gridwidth\":2,\"linecolor\":\"white\",\"showbackground\":true,\"ticks\":\"\",\"zerolinecolor\":\"white\"},\"zaxis\":{\"backgroundcolor\":\"#E5ECF6\",\"gridcolor\":\"white\",\"gridwidth\":2,\"linecolor\":\"white\",\"showbackground\":true,\"ticks\":\"\",\"zerolinecolor\":\"white\"}},\"shapedefaults\":{\"line\":{\"color\":\"#2a3f5f\"}},\"ternary\":{\"aaxis\":{\"gridcolor\":\"white\",\"linecolor\":\"white\",\"ticks\":\"\"},\"baxis\":{\"gridcolor\":\"white\",\"linecolor\":\"white\",\"ticks\":\"\"},\"bgcolor\":\"#E5ECF6\",\"caxis\":{\"gridcolor\":\"white\",\"linecolor\":\"white\",\"ticks\":\"\"}},\"title\":{\"x\":0.05},\"xaxis\":{\"automargin\":true,\"gridcolor\":\"white\",\"linecolor\":\"white\",\"ticks\":\"\",\"title\":{\"standoff\":15},\"zerolinecolor\":\"white\",\"zerolinewidth\":2},\"yaxis\":{\"automargin\":true,\"gridcolor\":\"white\",\"linecolor\":\"white\",\"ticks\":\"\",\"title\":{\"standoff\":15},\"zerolinecolor\":\"white\",\"zerolinewidth\":2}}},\"xaxis\":{\"anchor\":\"y\",\"domain\":[0.0,1.0],\"title\":{\"text\":\"number\"}},\"yaxis\":{\"anchor\":\"x\",\"domain\":[0.0,1.0],\"title\":{\"text\":\"stage\"}},\"legend\":{\"tracegroupgap\":0},\"margin\":{\"t\":60},\"title\":{\"text\":\"\\u0412\\u043e\\u0440\\u043e\\u043d\\u043a\\u0430\"}},                        {\"responsive\": true}                    ).then(function(){\n",
       "                            \n",
       "var gd = document.getElementById('c8e79c3e-d6a6-4f90-ae00-6b3c25d27561');\n",
       "var x = new MutationObserver(function (mutations, observer) {{\n",
       "        var display = window.getComputedStyle(gd).display;\n",
       "        if (!display || display === 'none') {{\n",
       "            console.log([gd, 'removed!']);\n",
       "            Plotly.purge(gd);\n",
       "            observer.disconnect();\n",
       "        }}\n",
       "}});\n",
       "\n",
       "// Listen for the removal of the full notebook cells\n",
       "var notebookContainer = gd.closest('#notebook-container');\n",
       "if (notebookContainer) {{\n",
       "    x.observe(notebookContainer, {childList: true});\n",
       "}}\n",
       "\n",
       "// Listen for the clearing of the current output cell\n",
       "var outputEl = gd.closest('.output');\n",
       "if (outputEl) {{\n",
       "    x.observe(outputEl, {childList: true});\n",
       "}}\n",
       "\n",
       "                        })                };                });            </script>        </div>"
      ]
     },
     "metadata": {},
     "output_type": "display_data"
    }
   ],
   "source": [
    "data = dict(\n",
    "    number=[user_counts.loc[0, 'unique_deviceidhash_count'], user_counts.loc[1, 'unique_deviceidhash_count'], user_counts.loc[2, 'unique_deviceidhash_count'], user_counts.loc[3, 'unique_deviceidhash_count']],\n",
    "    stage=[user_counts.loc[0, 'eventname'], user_counts.loc[1, 'eventname'], user_counts.loc[2, 'eventname'], user_counts.loc[3, 'eventname']])\n",
    "fig = px.funnel(data, x='number', y='stage')\n",
    "fig.update_layout(title='Воронка', title_x = 0.5)\n",
    "fig.update_layout(title='Воронка', title_x = 0.5)\n",
    "fig.show()"
   ]
  },
  {
   "cell_type": "markdown",
   "metadata": {},
   "source": [
    "<div class=\"alert alert-warning\">\n",
    "\n",
    "**⚠️ Комментарий ревьюера v2⚠️**\n",
    "   \n",
    "   Заголовок можно добавить с помощью `fig.update_layout(title='Воронка', title_x = 0.5)`\n",
    "\n",
    "</div>\n",
    "\n",
    "\n"
   ]
  },
  {
   "cell_type": "code",
   "execution_count": 24,
   "metadata": {},
   "outputs": [
    {
     "data": {
      "application/vnd.plotly.v1+json": {
       "config": {
        "plotlyServerURL": "https://plot.ly"
       },
       "data": [
        {
         "hovertemplate": "number=%{x}<br>stage=%{y}<extra></extra>",
         "legendgroup": "",
         "marker": {
          "color": "#636efa"
         },
         "name": "",
         "orientation": "h",
         "showlegend": false,
         "type": "funnel",
         "x": [
          7419,
          4593,
          3734,
          3539
         ],
         "xaxis": "x",
         "y": [
          "MainScreenAppear",
          "OffersScreenAppear",
          "CartScreenAppear",
          "PaymentScreenSuccessful"
         ],
         "yaxis": "y"
        }
       ],
       "layout": {
        "legend": {
         "tracegroupgap": 0
        },
        "margin": {
         "t": 60
        },
        "template": {
         "data": {
          "bar": [
           {
            "error_x": {
             "color": "#2a3f5f"
            },
            "error_y": {
             "color": "#2a3f5f"
            },
            "marker": {
             "line": {
              "color": "#E5ECF6",
              "width": 0.5
             },
             "pattern": {
              "fillmode": "overlay",
              "size": 10,
              "solidity": 0.2
             }
            },
            "type": "bar"
           }
          ],
          "barpolar": [
           {
            "marker": {
             "line": {
              "color": "#E5ECF6",
              "width": 0.5
             },
             "pattern": {
              "fillmode": "overlay",
              "size": 10,
              "solidity": 0.2
             }
            },
            "type": "barpolar"
           }
          ],
          "carpet": [
           {
            "aaxis": {
             "endlinecolor": "#2a3f5f",
             "gridcolor": "white",
             "linecolor": "white",
             "minorgridcolor": "white",
             "startlinecolor": "#2a3f5f"
            },
            "baxis": {
             "endlinecolor": "#2a3f5f",
             "gridcolor": "white",
             "linecolor": "white",
             "minorgridcolor": "white",
             "startlinecolor": "#2a3f5f"
            },
            "type": "carpet"
           }
          ],
          "choropleth": [
           {
            "colorbar": {
             "outlinewidth": 0,
             "ticks": ""
            },
            "type": "choropleth"
           }
          ],
          "contour": [
           {
            "colorbar": {
             "outlinewidth": 0,
             "ticks": ""
            },
            "colorscale": [
             [
              0,
              "#0d0887"
             ],
             [
              0.1111111111111111,
              "#46039f"
             ],
             [
              0.2222222222222222,
              "#7201a8"
             ],
             [
              0.3333333333333333,
              "#9c179e"
             ],
             [
              0.4444444444444444,
              "#bd3786"
             ],
             [
              0.5555555555555556,
              "#d8576b"
             ],
             [
              0.6666666666666666,
              "#ed7953"
             ],
             [
              0.7777777777777778,
              "#fb9f3a"
             ],
             [
              0.8888888888888888,
              "#fdca26"
             ],
             [
              1,
              "#f0f921"
             ]
            ],
            "type": "contour"
           }
          ],
          "contourcarpet": [
           {
            "colorbar": {
             "outlinewidth": 0,
             "ticks": ""
            },
            "type": "contourcarpet"
           }
          ],
          "heatmap": [
           {
            "colorbar": {
             "outlinewidth": 0,
             "ticks": ""
            },
            "colorscale": [
             [
              0,
              "#0d0887"
             ],
             [
              0.1111111111111111,
              "#46039f"
             ],
             [
              0.2222222222222222,
              "#7201a8"
             ],
             [
              0.3333333333333333,
              "#9c179e"
             ],
             [
              0.4444444444444444,
              "#bd3786"
             ],
             [
              0.5555555555555556,
              "#d8576b"
             ],
             [
              0.6666666666666666,
              "#ed7953"
             ],
             [
              0.7777777777777778,
              "#fb9f3a"
             ],
             [
              0.8888888888888888,
              "#fdca26"
             ],
             [
              1,
              "#f0f921"
             ]
            ],
            "type": "heatmap"
           }
          ],
          "heatmapgl": [
           {
            "colorbar": {
             "outlinewidth": 0,
             "ticks": ""
            },
            "colorscale": [
             [
              0,
              "#0d0887"
             ],
             [
              0.1111111111111111,
              "#46039f"
             ],
             [
              0.2222222222222222,
              "#7201a8"
             ],
             [
              0.3333333333333333,
              "#9c179e"
             ],
             [
              0.4444444444444444,
              "#bd3786"
             ],
             [
              0.5555555555555556,
              "#d8576b"
             ],
             [
              0.6666666666666666,
              "#ed7953"
             ],
             [
              0.7777777777777778,
              "#fb9f3a"
             ],
             [
              0.8888888888888888,
              "#fdca26"
             ],
             [
              1,
              "#f0f921"
             ]
            ],
            "type": "heatmapgl"
           }
          ],
          "histogram": [
           {
            "marker": {
             "pattern": {
              "fillmode": "overlay",
              "size": 10,
              "solidity": 0.2
             }
            },
            "type": "histogram"
           }
          ],
          "histogram2d": [
           {
            "colorbar": {
             "outlinewidth": 0,
             "ticks": ""
            },
            "colorscale": [
             [
              0,
              "#0d0887"
             ],
             [
              0.1111111111111111,
              "#46039f"
             ],
             [
              0.2222222222222222,
              "#7201a8"
             ],
             [
              0.3333333333333333,
              "#9c179e"
             ],
             [
              0.4444444444444444,
              "#bd3786"
             ],
             [
              0.5555555555555556,
              "#d8576b"
             ],
             [
              0.6666666666666666,
              "#ed7953"
             ],
             [
              0.7777777777777778,
              "#fb9f3a"
             ],
             [
              0.8888888888888888,
              "#fdca26"
             ],
             [
              1,
              "#f0f921"
             ]
            ],
            "type": "histogram2d"
           }
          ],
          "histogram2dcontour": [
           {
            "colorbar": {
             "outlinewidth": 0,
             "ticks": ""
            },
            "colorscale": [
             [
              0,
              "#0d0887"
             ],
             [
              0.1111111111111111,
              "#46039f"
             ],
             [
              0.2222222222222222,
              "#7201a8"
             ],
             [
              0.3333333333333333,
              "#9c179e"
             ],
             [
              0.4444444444444444,
              "#bd3786"
             ],
             [
              0.5555555555555556,
              "#d8576b"
             ],
             [
              0.6666666666666666,
              "#ed7953"
             ],
             [
              0.7777777777777778,
              "#fb9f3a"
             ],
             [
              0.8888888888888888,
              "#fdca26"
             ],
             [
              1,
              "#f0f921"
             ]
            ],
            "type": "histogram2dcontour"
           }
          ],
          "mesh3d": [
           {
            "colorbar": {
             "outlinewidth": 0,
             "ticks": ""
            },
            "type": "mesh3d"
           }
          ],
          "parcoords": [
           {
            "line": {
             "colorbar": {
              "outlinewidth": 0,
              "ticks": ""
             }
            },
            "type": "parcoords"
           }
          ],
          "pie": [
           {
            "automargin": true,
            "type": "pie"
           }
          ],
          "scatter": [
           {
            "marker": {
             "colorbar": {
              "outlinewidth": 0,
              "ticks": ""
             }
            },
            "type": "scatter"
           }
          ],
          "scatter3d": [
           {
            "line": {
             "colorbar": {
              "outlinewidth": 0,
              "ticks": ""
             }
            },
            "marker": {
             "colorbar": {
              "outlinewidth": 0,
              "ticks": ""
             }
            },
            "type": "scatter3d"
           }
          ],
          "scattercarpet": [
           {
            "marker": {
             "colorbar": {
              "outlinewidth": 0,
              "ticks": ""
             }
            },
            "type": "scattercarpet"
           }
          ],
          "scattergeo": [
           {
            "marker": {
             "colorbar": {
              "outlinewidth": 0,
              "ticks": ""
             }
            },
            "type": "scattergeo"
           }
          ],
          "scattergl": [
           {
            "marker": {
             "colorbar": {
              "outlinewidth": 0,
              "ticks": ""
             }
            },
            "type": "scattergl"
           }
          ],
          "scattermapbox": [
           {
            "marker": {
             "colorbar": {
              "outlinewidth": 0,
              "ticks": ""
             }
            },
            "type": "scattermapbox"
           }
          ],
          "scatterpolar": [
           {
            "marker": {
             "colorbar": {
              "outlinewidth": 0,
              "ticks": ""
             }
            },
            "type": "scatterpolar"
           }
          ],
          "scatterpolargl": [
           {
            "marker": {
             "colorbar": {
              "outlinewidth": 0,
              "ticks": ""
             }
            },
            "type": "scatterpolargl"
           }
          ],
          "scatterternary": [
           {
            "marker": {
             "colorbar": {
              "outlinewidth": 0,
              "ticks": ""
             }
            },
            "type": "scatterternary"
           }
          ],
          "surface": [
           {
            "colorbar": {
             "outlinewidth": 0,
             "ticks": ""
            },
            "colorscale": [
             [
              0,
              "#0d0887"
             ],
             [
              0.1111111111111111,
              "#46039f"
             ],
             [
              0.2222222222222222,
              "#7201a8"
             ],
             [
              0.3333333333333333,
              "#9c179e"
             ],
             [
              0.4444444444444444,
              "#bd3786"
             ],
             [
              0.5555555555555556,
              "#d8576b"
             ],
             [
              0.6666666666666666,
              "#ed7953"
             ],
             [
              0.7777777777777778,
              "#fb9f3a"
             ],
             [
              0.8888888888888888,
              "#fdca26"
             ],
             [
              1,
              "#f0f921"
             ]
            ],
            "type": "surface"
           }
          ],
          "table": [
           {
            "cells": {
             "fill": {
              "color": "#EBF0F8"
             },
             "line": {
              "color": "white"
             }
            },
            "header": {
             "fill": {
              "color": "#C8D4E3"
             },
             "line": {
              "color": "white"
             }
            },
            "type": "table"
           }
          ]
         },
         "layout": {
          "annotationdefaults": {
           "arrowcolor": "#2a3f5f",
           "arrowhead": 0,
           "arrowwidth": 1
          },
          "autotypenumbers": "strict",
          "coloraxis": {
           "colorbar": {
            "outlinewidth": 0,
            "ticks": ""
           }
          },
          "colorscale": {
           "diverging": [
            [
             0,
             "#8e0152"
            ],
            [
             0.1,
             "#c51b7d"
            ],
            [
             0.2,
             "#de77ae"
            ],
            [
             0.3,
             "#f1b6da"
            ],
            [
             0.4,
             "#fde0ef"
            ],
            [
             0.5,
             "#f7f7f7"
            ],
            [
             0.6,
             "#e6f5d0"
            ],
            [
             0.7,
             "#b8e186"
            ],
            [
             0.8,
             "#7fbc41"
            ],
            [
             0.9,
             "#4d9221"
            ],
            [
             1,
             "#276419"
            ]
           ],
           "sequential": [
            [
             0,
             "#0d0887"
            ],
            [
             0.1111111111111111,
             "#46039f"
            ],
            [
             0.2222222222222222,
             "#7201a8"
            ],
            [
             0.3333333333333333,
             "#9c179e"
            ],
            [
             0.4444444444444444,
             "#bd3786"
            ],
            [
             0.5555555555555556,
             "#d8576b"
            ],
            [
             0.6666666666666666,
             "#ed7953"
            ],
            [
             0.7777777777777778,
             "#fb9f3a"
            ],
            [
             0.8888888888888888,
             "#fdca26"
            ],
            [
             1,
             "#f0f921"
            ]
           ],
           "sequentialminus": [
            [
             0,
             "#0d0887"
            ],
            [
             0.1111111111111111,
             "#46039f"
            ],
            [
             0.2222222222222222,
             "#7201a8"
            ],
            [
             0.3333333333333333,
             "#9c179e"
            ],
            [
             0.4444444444444444,
             "#bd3786"
            ],
            [
             0.5555555555555556,
             "#d8576b"
            ],
            [
             0.6666666666666666,
             "#ed7953"
            ],
            [
             0.7777777777777778,
             "#fb9f3a"
            ],
            [
             0.8888888888888888,
             "#fdca26"
            ],
            [
             1,
             "#f0f921"
            ]
           ]
          },
          "colorway": [
           "#636efa",
           "#EF553B",
           "#00cc96",
           "#ab63fa",
           "#FFA15A",
           "#19d3f3",
           "#FF6692",
           "#B6E880",
           "#FF97FF",
           "#FECB52"
          ],
          "font": {
           "color": "#2a3f5f"
          },
          "geo": {
           "bgcolor": "white",
           "lakecolor": "white",
           "landcolor": "#E5ECF6",
           "showlakes": true,
           "showland": true,
           "subunitcolor": "white"
          },
          "hoverlabel": {
           "align": "left"
          },
          "hovermode": "closest",
          "mapbox": {
           "style": "light"
          },
          "paper_bgcolor": "white",
          "plot_bgcolor": "#E5ECF6",
          "polar": {
           "angularaxis": {
            "gridcolor": "white",
            "linecolor": "white",
            "ticks": ""
           },
           "bgcolor": "#E5ECF6",
           "radialaxis": {
            "gridcolor": "white",
            "linecolor": "white",
            "ticks": ""
           }
          },
          "scene": {
           "xaxis": {
            "backgroundcolor": "#E5ECF6",
            "gridcolor": "white",
            "gridwidth": 2,
            "linecolor": "white",
            "showbackground": true,
            "ticks": "",
            "zerolinecolor": "white"
           },
           "yaxis": {
            "backgroundcolor": "#E5ECF6",
            "gridcolor": "white",
            "gridwidth": 2,
            "linecolor": "white",
            "showbackground": true,
            "ticks": "",
            "zerolinecolor": "white"
           },
           "zaxis": {
            "backgroundcolor": "#E5ECF6",
            "gridcolor": "white",
            "gridwidth": 2,
            "linecolor": "white",
            "showbackground": true,
            "ticks": "",
            "zerolinecolor": "white"
           }
          },
          "shapedefaults": {
           "line": {
            "color": "#2a3f5f"
           }
          },
          "ternary": {
           "aaxis": {
            "gridcolor": "white",
            "linecolor": "white",
            "ticks": ""
           },
           "baxis": {
            "gridcolor": "white",
            "linecolor": "white",
            "ticks": ""
           },
           "bgcolor": "#E5ECF6",
           "caxis": {
            "gridcolor": "white",
            "linecolor": "white",
            "ticks": ""
           }
          },
          "title": {
           "x": 0.05
          },
          "xaxis": {
           "automargin": true,
           "gridcolor": "white",
           "linecolor": "white",
           "ticks": "",
           "title": {
            "standoff": 15
           },
           "zerolinecolor": "white",
           "zerolinewidth": 2
          },
          "yaxis": {
           "automargin": true,
           "gridcolor": "white",
           "linecolor": "white",
           "ticks": "",
           "title": {
            "standoff": 15
           },
           "zerolinecolor": "white",
           "zerolinewidth": 2
          }
         }
        },
        "title": {
         "text": "Воронка",
         "x": 0.5
        },
        "xaxis": {
         "anchor": "y",
         "domain": [
          0,
          1
         ],
         "title": {
          "text": "number"
         }
        },
        "yaxis": {
         "anchor": "x",
         "domain": [
          0,
          1
         ],
         "title": {
          "text": "stage"
         }
        }
       }
      },
      "text/html": [
       "<div>                            <div id=\"7b3e6e37-93a0-44a8-a36a-3b1d51268f35\" class=\"plotly-graph-div\" style=\"height:525px; width:100%;\"></div>            <script type=\"text/javascript\">                require([\"plotly\"], function(Plotly) {                    window.PLOTLYENV=window.PLOTLYENV || {};                                    if (document.getElementById(\"7b3e6e37-93a0-44a8-a36a-3b1d51268f35\")) {                    Plotly.newPlot(                        \"7b3e6e37-93a0-44a8-a36a-3b1d51268f35\",                        [{\"hovertemplate\":\"number=%{x}<br>stage=%{y}<extra></extra>\",\"legendgroup\":\"\",\"marker\":{\"color\":\"#636efa\"},\"name\":\"\",\"orientation\":\"h\",\"showlegend\":false,\"x\":[7419,4593,3734,3539],\"xaxis\":\"x\",\"y\":[\"MainScreenAppear\",\"OffersScreenAppear\",\"CartScreenAppear\",\"PaymentScreenSuccessful\"],\"yaxis\":\"y\",\"type\":\"funnel\"}],                        {\"template\":{\"data\":{\"bar\":[{\"error_x\":{\"color\":\"#2a3f5f\"},\"error_y\":{\"color\":\"#2a3f5f\"},\"marker\":{\"line\":{\"color\":\"#E5ECF6\",\"width\":0.5},\"pattern\":{\"fillmode\":\"overlay\",\"size\":10,\"solidity\":0.2}},\"type\":\"bar\"}],\"barpolar\":[{\"marker\":{\"line\":{\"color\":\"#E5ECF6\",\"width\":0.5},\"pattern\":{\"fillmode\":\"overlay\",\"size\":10,\"solidity\":0.2}},\"type\":\"barpolar\"}],\"carpet\":[{\"aaxis\":{\"endlinecolor\":\"#2a3f5f\",\"gridcolor\":\"white\",\"linecolor\":\"white\",\"minorgridcolor\":\"white\",\"startlinecolor\":\"#2a3f5f\"},\"baxis\":{\"endlinecolor\":\"#2a3f5f\",\"gridcolor\":\"white\",\"linecolor\":\"white\",\"minorgridcolor\":\"white\",\"startlinecolor\":\"#2a3f5f\"},\"type\":\"carpet\"}],\"choropleth\":[{\"colorbar\":{\"outlinewidth\":0,\"ticks\":\"\"},\"type\":\"choropleth\"}],\"contour\":[{\"colorbar\":{\"outlinewidth\":0,\"ticks\":\"\"},\"colorscale\":[[0.0,\"#0d0887\"],[0.1111111111111111,\"#46039f\"],[0.2222222222222222,\"#7201a8\"],[0.3333333333333333,\"#9c179e\"],[0.4444444444444444,\"#bd3786\"],[0.5555555555555556,\"#d8576b\"],[0.6666666666666666,\"#ed7953\"],[0.7777777777777778,\"#fb9f3a\"],[0.8888888888888888,\"#fdca26\"],[1.0,\"#f0f921\"]],\"type\":\"contour\"}],\"contourcarpet\":[{\"colorbar\":{\"outlinewidth\":0,\"ticks\":\"\"},\"type\":\"contourcarpet\"}],\"heatmap\":[{\"colorbar\":{\"outlinewidth\":0,\"ticks\":\"\"},\"colorscale\":[[0.0,\"#0d0887\"],[0.1111111111111111,\"#46039f\"],[0.2222222222222222,\"#7201a8\"],[0.3333333333333333,\"#9c179e\"],[0.4444444444444444,\"#bd3786\"],[0.5555555555555556,\"#d8576b\"],[0.6666666666666666,\"#ed7953\"],[0.7777777777777778,\"#fb9f3a\"],[0.8888888888888888,\"#fdca26\"],[1.0,\"#f0f921\"]],\"type\":\"heatmap\"}],\"heatmapgl\":[{\"colorbar\":{\"outlinewidth\":0,\"ticks\":\"\"},\"colorscale\":[[0.0,\"#0d0887\"],[0.1111111111111111,\"#46039f\"],[0.2222222222222222,\"#7201a8\"],[0.3333333333333333,\"#9c179e\"],[0.4444444444444444,\"#bd3786\"],[0.5555555555555556,\"#d8576b\"],[0.6666666666666666,\"#ed7953\"],[0.7777777777777778,\"#fb9f3a\"],[0.8888888888888888,\"#fdca26\"],[1.0,\"#f0f921\"]],\"type\":\"heatmapgl\"}],\"histogram\":[{\"marker\":{\"pattern\":{\"fillmode\":\"overlay\",\"size\":10,\"solidity\":0.2}},\"type\":\"histogram\"}],\"histogram2d\":[{\"colorbar\":{\"outlinewidth\":0,\"ticks\":\"\"},\"colorscale\":[[0.0,\"#0d0887\"],[0.1111111111111111,\"#46039f\"],[0.2222222222222222,\"#7201a8\"],[0.3333333333333333,\"#9c179e\"],[0.4444444444444444,\"#bd3786\"],[0.5555555555555556,\"#d8576b\"],[0.6666666666666666,\"#ed7953\"],[0.7777777777777778,\"#fb9f3a\"],[0.8888888888888888,\"#fdca26\"],[1.0,\"#f0f921\"]],\"type\":\"histogram2d\"}],\"histogram2dcontour\":[{\"colorbar\":{\"outlinewidth\":0,\"ticks\":\"\"},\"colorscale\":[[0.0,\"#0d0887\"],[0.1111111111111111,\"#46039f\"],[0.2222222222222222,\"#7201a8\"],[0.3333333333333333,\"#9c179e\"],[0.4444444444444444,\"#bd3786\"],[0.5555555555555556,\"#d8576b\"],[0.6666666666666666,\"#ed7953\"],[0.7777777777777778,\"#fb9f3a\"],[0.8888888888888888,\"#fdca26\"],[1.0,\"#f0f921\"]],\"type\":\"histogram2dcontour\"}],\"mesh3d\":[{\"colorbar\":{\"outlinewidth\":0,\"ticks\":\"\"},\"type\":\"mesh3d\"}],\"parcoords\":[{\"line\":{\"colorbar\":{\"outlinewidth\":0,\"ticks\":\"\"}},\"type\":\"parcoords\"}],\"pie\":[{\"automargin\":true,\"type\":\"pie\"}],\"scatter\":[{\"marker\":{\"colorbar\":{\"outlinewidth\":0,\"ticks\":\"\"}},\"type\":\"scatter\"}],\"scatter3d\":[{\"line\":{\"colorbar\":{\"outlinewidth\":0,\"ticks\":\"\"}},\"marker\":{\"colorbar\":{\"outlinewidth\":0,\"ticks\":\"\"}},\"type\":\"scatter3d\"}],\"scattercarpet\":[{\"marker\":{\"colorbar\":{\"outlinewidth\":0,\"ticks\":\"\"}},\"type\":\"scattercarpet\"}],\"scattergeo\":[{\"marker\":{\"colorbar\":{\"outlinewidth\":0,\"ticks\":\"\"}},\"type\":\"scattergeo\"}],\"scattergl\":[{\"marker\":{\"colorbar\":{\"outlinewidth\":0,\"ticks\":\"\"}},\"type\":\"scattergl\"}],\"scattermapbox\":[{\"marker\":{\"colorbar\":{\"outlinewidth\":0,\"ticks\":\"\"}},\"type\":\"scattermapbox\"}],\"scatterpolar\":[{\"marker\":{\"colorbar\":{\"outlinewidth\":0,\"ticks\":\"\"}},\"type\":\"scatterpolar\"}],\"scatterpolargl\":[{\"marker\":{\"colorbar\":{\"outlinewidth\":0,\"ticks\":\"\"}},\"type\":\"scatterpolargl\"}],\"scatterternary\":[{\"marker\":{\"colorbar\":{\"outlinewidth\":0,\"ticks\":\"\"}},\"type\":\"scatterternary\"}],\"surface\":[{\"colorbar\":{\"outlinewidth\":0,\"ticks\":\"\"},\"colorscale\":[[0.0,\"#0d0887\"],[0.1111111111111111,\"#46039f\"],[0.2222222222222222,\"#7201a8\"],[0.3333333333333333,\"#9c179e\"],[0.4444444444444444,\"#bd3786\"],[0.5555555555555556,\"#d8576b\"],[0.6666666666666666,\"#ed7953\"],[0.7777777777777778,\"#fb9f3a\"],[0.8888888888888888,\"#fdca26\"],[1.0,\"#f0f921\"]],\"type\":\"surface\"}],\"table\":[{\"cells\":{\"fill\":{\"color\":\"#EBF0F8\"},\"line\":{\"color\":\"white\"}},\"header\":{\"fill\":{\"color\":\"#C8D4E3\"},\"line\":{\"color\":\"white\"}},\"type\":\"table\"}]},\"layout\":{\"annotationdefaults\":{\"arrowcolor\":\"#2a3f5f\",\"arrowhead\":0,\"arrowwidth\":1},\"autotypenumbers\":\"strict\",\"coloraxis\":{\"colorbar\":{\"outlinewidth\":0,\"ticks\":\"\"}},\"colorscale\":{\"diverging\":[[0,\"#8e0152\"],[0.1,\"#c51b7d\"],[0.2,\"#de77ae\"],[0.3,\"#f1b6da\"],[0.4,\"#fde0ef\"],[0.5,\"#f7f7f7\"],[0.6,\"#e6f5d0\"],[0.7,\"#b8e186\"],[0.8,\"#7fbc41\"],[0.9,\"#4d9221\"],[1,\"#276419\"]],\"sequential\":[[0.0,\"#0d0887\"],[0.1111111111111111,\"#46039f\"],[0.2222222222222222,\"#7201a8\"],[0.3333333333333333,\"#9c179e\"],[0.4444444444444444,\"#bd3786\"],[0.5555555555555556,\"#d8576b\"],[0.6666666666666666,\"#ed7953\"],[0.7777777777777778,\"#fb9f3a\"],[0.8888888888888888,\"#fdca26\"],[1.0,\"#f0f921\"]],\"sequentialminus\":[[0.0,\"#0d0887\"],[0.1111111111111111,\"#46039f\"],[0.2222222222222222,\"#7201a8\"],[0.3333333333333333,\"#9c179e\"],[0.4444444444444444,\"#bd3786\"],[0.5555555555555556,\"#d8576b\"],[0.6666666666666666,\"#ed7953\"],[0.7777777777777778,\"#fb9f3a\"],[0.8888888888888888,\"#fdca26\"],[1.0,\"#f0f921\"]]},\"colorway\":[\"#636efa\",\"#EF553B\",\"#00cc96\",\"#ab63fa\",\"#FFA15A\",\"#19d3f3\",\"#FF6692\",\"#B6E880\",\"#FF97FF\",\"#FECB52\"],\"font\":{\"color\":\"#2a3f5f\"},\"geo\":{\"bgcolor\":\"white\",\"lakecolor\":\"white\",\"landcolor\":\"#E5ECF6\",\"showlakes\":true,\"showland\":true,\"subunitcolor\":\"white\"},\"hoverlabel\":{\"align\":\"left\"},\"hovermode\":\"closest\",\"mapbox\":{\"style\":\"light\"},\"paper_bgcolor\":\"white\",\"plot_bgcolor\":\"#E5ECF6\",\"polar\":{\"angularaxis\":{\"gridcolor\":\"white\",\"linecolor\":\"white\",\"ticks\":\"\"},\"bgcolor\":\"#E5ECF6\",\"radialaxis\":{\"gridcolor\":\"white\",\"linecolor\":\"white\",\"ticks\":\"\"}},\"scene\":{\"xaxis\":{\"backgroundcolor\":\"#E5ECF6\",\"gridcolor\":\"white\",\"gridwidth\":2,\"linecolor\":\"white\",\"showbackground\":true,\"ticks\":\"\",\"zerolinecolor\":\"white\"},\"yaxis\":{\"backgroundcolor\":\"#E5ECF6\",\"gridcolor\":\"white\",\"gridwidth\":2,\"linecolor\":\"white\",\"showbackground\":true,\"ticks\":\"\",\"zerolinecolor\":\"white\"},\"zaxis\":{\"backgroundcolor\":\"#E5ECF6\",\"gridcolor\":\"white\",\"gridwidth\":2,\"linecolor\":\"white\",\"showbackground\":true,\"ticks\":\"\",\"zerolinecolor\":\"white\"}},\"shapedefaults\":{\"line\":{\"color\":\"#2a3f5f\"}},\"ternary\":{\"aaxis\":{\"gridcolor\":\"white\",\"linecolor\":\"white\",\"ticks\":\"\"},\"baxis\":{\"gridcolor\":\"white\",\"linecolor\":\"white\",\"ticks\":\"\"},\"bgcolor\":\"#E5ECF6\",\"caxis\":{\"gridcolor\":\"white\",\"linecolor\":\"white\",\"ticks\":\"\"}},\"title\":{\"x\":0.05},\"xaxis\":{\"automargin\":true,\"gridcolor\":\"white\",\"linecolor\":\"white\",\"ticks\":\"\",\"title\":{\"standoff\":15},\"zerolinecolor\":\"white\",\"zerolinewidth\":2},\"yaxis\":{\"automargin\":true,\"gridcolor\":\"white\",\"linecolor\":\"white\",\"ticks\":\"\",\"title\":{\"standoff\":15},\"zerolinecolor\":\"white\",\"zerolinewidth\":2}}},\"xaxis\":{\"anchor\":\"y\",\"domain\":[0.0,1.0],\"title\":{\"text\":\"number\"}},\"yaxis\":{\"anchor\":\"x\",\"domain\":[0.0,1.0],\"title\":{\"text\":\"stage\"}},\"legend\":{\"tracegroupgap\":0},\"margin\":{\"t\":60},\"title\":{\"text\":\"\\u0412\\u043e\\u0440\\u043e\\u043d\\u043a\\u0430\",\"x\":0.5}},                        {\"responsive\": true}                    ).then(function(){\n",
       "                            \n",
       "var gd = document.getElementById('7b3e6e37-93a0-44a8-a36a-3b1d51268f35');\n",
       "var x = new MutationObserver(function (mutations, observer) {{\n",
       "        var display = window.getComputedStyle(gd).display;\n",
       "        if (!display || display === 'none') {{\n",
       "            console.log([gd, 'removed!']);\n",
       "            Plotly.purge(gd);\n",
       "            observer.disconnect();\n",
       "        }}\n",
       "}});\n",
       "\n",
       "// Listen for the removal of the full notebook cells\n",
       "var notebookContainer = gd.closest('#notebook-container');\n",
       "if (notebookContainer) {{\n",
       "    x.observe(notebookContainer, {childList: true});\n",
       "}}\n",
       "\n",
       "// Listen for the clearing of the current output cell\n",
       "var outputEl = gd.closest('.output');\n",
       "if (outputEl) {{\n",
       "    x.observe(outputEl, {childList: true});\n",
       "}}\n",
       "\n",
       "                        })                };                });            </script>        </div>"
      ]
     },
     "metadata": {},
     "output_type": "display_data"
    }
   ],
   "source": [
    "# Код ревьюера\n",
    "data = dict(\n",
    "    number=[user_counts.loc[0, 'unique_deviceidhash_count'], user_counts.loc[1, 'unique_deviceidhash_count'], user_counts.loc[2, 'unique_deviceidhash_count'], user_counts.loc[3, 'unique_deviceidhash_count']],\n",
    "    stage=[user_counts.loc[0, 'eventname'], user_counts.loc[1, 'eventname'], user_counts.loc[2, 'eventname'], user_counts.loc[3, 'eventname']])\n",
    "fig = px.funnel(data, x='number', y='stage')\n",
    "fig.update_layout(title='Воронка', title_x = 0.5)\n",
    "fig.show()"
   ]
  },
  {
   "cell_type": "markdown",
   "metadata": {},
   "source": [
    "Анализируя таблицу и графики выше можно констатировать следующее:\n",
    "\n",
    "- Наибольшее количесвто пользователей отпадает между событиями 'MainScreenAppear' и 'OffersScreenAppear'. Потеря составляет 2826 пользователей или 38.09 процентов, что указывает на потенциальные проблемы на этом этапе - возможно, пользователи не находят предложения привлекательными для низ или сталкиваются с техническими проблемами. \n",
    "- Доля полбзователей, которые доходят от певрого до последнего события, то есть проходят всю воронку, составляет 47.7 процентов или 3539 из 7419 пользователей завершают оплату, что можно охарактеризовать как хороший показатель конверсии.\n",
    "- Конверсия на последнем шаге - между 'CartScreenAppear' и 'PaymentScreenSuccessful' довольно высокая, что означает, что те, кто дошел до этапа оплаты, с высокой вероятностью завершают покупку.\n",
    "\n",
    "Главная рекомендация - стоит обратить внимание и изучить просадку в шаге между 'MainScreenAppear' и 'OffersScreenAppear'. Для улучшения конверсии стоит сфокусироваться на оптимизации перехода от главного экрана к экрану предложений, возможно, через более точное таргетирование предложений или устранение возможных технических проблем."
   ]
  },
  {
   "cell_type": "markdown",
   "metadata": {},
   "source": [
    "<div class=\"alert alert-success\">\n",
    "\n",
    "**✔️ Комментарий ревьюера ✔️** \n",
    "   \n",
    "   Очень хорошо - проблема обнаружена - провал на первом шаге: от `MainScreenAppear` к `OffersScreenAppear`. Вероятно, нужно лучше прорабатывать механику, чтобы пользователи переходили к `OffersScreen`.\n",
    "    \n",
    "`Tutorial`, действительно, можно просто пропустить.\n",
    "</div>\n"
   ]
  },
  {
   "cell_type": "markdown",
   "metadata": {},
   "source": [
    "<div class=\"alert alert-danger\">\n",
    "\n",
    "**❌ Комментарий ревьюера ❌**\n",
    "   \n",
    "   Воронку необходимо визуализировать с помощью графика - можно использовать любой тип графика, подходящий для решения задачи, или воспользоваться инструкцией по plotly ниже\n",
    "\n",
    "</div>\n",
    "<div class=\"alert alert-warning\">\n",
    "\n",
    "**⚠️ Комментарий ревьюера ⚠️**\n",
    "   \n",
    "   \n",
    "   На данном этапе рекомендую ознакомиться с инструментом `plotly` для построения воронок - пригодится в дальнейшей работе: https://habr.com/ru/company/otus/blog/588190/ Не забудь исключить tutorial с визуализации и добавить заголовок у воронки.\n",
    "\n",
    "</div>\n"
   ]
  },
  {
   "cell_type": "markdown",
   "metadata": {},
   "source": [
    "<div class=\"alert alert-block alert-info\">\n",
    "    \n",
    "Спасибо за полезную ссылку. График добавил!\n",
    "    \n",
    "</div>"
   ]
  },
  {
   "cell_type": "markdown",
   "metadata": {},
   "source": [
    "<div class=\"alert alert-success\">\n",
    "\n",
    "**✔️ Комментарий ревьюера v2✔️**\n",
    "   \n",
    "   Исправлено👍\n",
    "\n",
    "</div>\n"
   ]
  },
  {
   "cell_type": "markdown",
   "metadata": {},
   "source": [
    "## Анализ A/A/B-теста"
   ]
  },
  {
   "cell_type": "markdown",
   "metadata": {},
   "source": [
    "Перейдем ко второму этапу анализа и взгялем на результаты A/A/B-теста. Для начала взглянем на количесвто пользователей в каждой экспериментальной группе. "
   ]
  },
  {
   "cell_type": "code",
   "execution_count": 25,
   "metadata": {},
   "outputs": [
    {
     "data": {
      "text/html": [
       "<div>\n",
       "<style scoped>\n",
       "    .dataframe tbody tr th:only-of-type {\n",
       "        vertical-align: middle;\n",
       "    }\n",
       "\n",
       "    .dataframe tbody tr th {\n",
       "        vertical-align: top;\n",
       "    }\n",
       "\n",
       "    .dataframe thead th {\n",
       "        text-align: right;\n",
       "    }\n",
       "</style>\n",
       "<table border=\"1\" class=\"dataframe\">\n",
       "  <thead>\n",
       "    <tr style=\"text-align: right;\">\n",
       "      <th></th>\n",
       "      <th>expid</th>\n",
       "      <th>total_deviceidhash</th>\n",
       "    </tr>\n",
       "  </thead>\n",
       "  <tbody>\n",
       "    <tr>\n",
       "      <th>0</th>\n",
       "      <td>248</td>\n",
       "      <td>2537</td>\n",
       "    </tr>\n",
       "    <tr>\n",
       "      <th>1</th>\n",
       "      <td>247</td>\n",
       "      <td>2513</td>\n",
       "    </tr>\n",
       "    <tr>\n",
       "      <th>2</th>\n",
       "      <td>246</td>\n",
       "      <td>2484</td>\n",
       "    </tr>\n",
       "  </tbody>\n",
       "</table>\n",
       "</div>"
      ],
      "text/plain": [
       "   expid  total_deviceidhash\n",
       "0    248                2537\n",
       "1    247                2513\n",
       "2    246                2484"
      ]
     },
     "execution_count": 25,
     "metadata": {},
     "output_type": "execute_result"
    }
   ],
   "source": [
    "expgroup_counts = df.groupby('expid')['deviceidhash'].nunique().sort_values(ascending=False).reset_index()\n",
    "expgroup_counts.rename(columns={'deviceidhash': 'total_deviceidhash'}, inplace=True)\n",
    "expgroup_counts"
   ]
  },
  {
   "cell_type": "markdown",
   "metadata": {},
   "source": [
    "- 246 — контрольная группа и в ней 2484 пользователей\n",
    "- 247 — также контрольная группа и в ней 2513 пользователей\n",
    "- 248 — экспериментальная группа и в ней 2537 пользователей\n",
    "\n",
    "Мы можем наблюдать, что пользователи распределяются между сегментами неравномерно, что создает риск получить полностью некорретные результаты анализа A/B-тестировани. Проверим, есть ли в таблице пересекающиеся пользователи, оказавшиеся одновременно в нескольких группах. Дело в том, что при АВ тестировании могут быть ошибки при логировании и распределении пользователей по группам"
   ]
  },
  {
   "cell_type": "code",
   "execution_count": 26,
   "metadata": {},
   "outputs": [
    {
     "data": {
      "text/plain": [
       "0"
      ]
     },
     "execution_count": 26,
     "metadata": {},
     "output_type": "execute_result"
    }
   ],
   "source": [
    "df.groupby('deviceidhash').agg({'expid':'nunique'}).query('expid > 1')['expid'].count()"
   ]
  },
  {
   "cell_type": "markdown",
   "metadata": {},
   "source": [
    "Пересекающихся пользователей нет. Самая большая разница в количестве пользователей в группах составляет 2%. Риск, что это может повлиять на результаты АВ тестирования есть, но он относительно небольшой. Можем продолжить работу."
   ]
  },
  {
   "cell_type": "markdown",
   "metadata": {},
   "source": [
    "<div class=\"alert alert-success\">\n",
    "\n",
    "**✔️ Комментарий ревьюера ✔️**\n",
    "   \n",
    "   Это хорошо👍\n",
    "\n",
    "</div>\n"
   ]
  },
  {
   "cell_type": "markdown",
   "metadata": {},
   "source": [
    "Перед тем, как приступать к анализу А/B-эксперимента проверим корректность всех механизмов и расчётов с помощью А/А-эксперимента. Проверим, находят ли статистические критерии разницу между выборками 246 и 247. Если трафик и инструмент проведения A/A-теста не подвели, различий в показателях не будет. Количество пользователей в группах различается примерно на 1% и попавшие в одну из групп посетители остались в этой группе до конца теста, что должно способствовать удачному проведению теста."
   ]
  },
  {
   "cell_type": "markdown",
   "metadata": {},
   "source": [
    "Для данной цели лучше всего выбрать z-тест, так как этот тест используется для проверки гипотез о равенстве долей. Поскольку речь идет о конверсии пользователей, наиболее подходящим тестом для проверки равенства конверсий между двумя контрольными группами будет Z-тест для пропорций."
   ]
  },
  {
   "cell_type": "markdown",
   "metadata": {},
   "source": [
    "Общее количество пользователей в группе 246 и 247 нам уже известно"
   ]
  },
  {
   "cell_type": "code",
   "execution_count": 27,
   "metadata": {},
   "outputs": [],
   "source": [
    "trials_all_246_247 = np.array([expgroup_counts.loc[2, 'total_deviceidhash'],expgroup_counts.loc[1, 'total_deviceidhash']])"
   ]
  },
  {
   "cell_type": "markdown",
   "metadata": {},
   "source": [
    "<div class=\"alert alert-danger\">\n",
    "\n",
    "**❌ Комментарий ревьюера ❌**\n",
    "   \n",
    "   Ввод значений вручную следует убрать здесь и далее. После этого посмотрим на результаты\n",
    "\n",
    "</div>\n"
   ]
  },
  {
   "cell_type": "markdown",
   "metadata": {},
   "source": [
    "<div class=\"alert alert-block alert-info\">\n",
    "    \n",
    "Исправил \n",
    "    \n",
    "</div>"
   ]
  },
  {
   "cell_type": "markdown",
   "metadata": {},
   "source": [
    "<div class=\"alert alert-success\">\n",
    "\n",
    "**✔️ Комментарий ревьюера v2✔️**\n",
    "   \n",
    "   👍\n",
    "\n",
    "</div>\n"
   ]
  },
  {
   "cell_type": "markdown",
   "metadata": {},
   "source": [
    "Для каждой из контрольных групп (246 и 247) подсчитаем количество пользователей, которые завершили воронку (то есть успешно сконвертировались)."
   ]
  },
  {
   "cell_type": "code",
   "execution_count": 28,
   "metadata": {},
   "outputs": [
    {
     "data": {
      "text/html": [
       "<div>\n",
       "<style scoped>\n",
       "    .dataframe tbody tr th:only-of-type {\n",
       "        vertical-align: middle;\n",
       "    }\n",
       "\n",
       "    .dataframe tbody tr th {\n",
       "        vertical-align: top;\n",
       "    }\n",
       "\n",
       "    .dataframe thead th {\n",
       "        text-align: right;\n",
       "    }\n",
       "</style>\n",
       "<table border=\"1\" class=\"dataframe\">\n",
       "  <thead>\n",
       "    <tr style=\"text-align: right;\">\n",
       "      <th></th>\n",
       "      <th>expid</th>\n",
       "      <th>payment_screen_deviceidhash</th>\n",
       "    </tr>\n",
       "  </thead>\n",
       "  <tbody>\n",
       "    <tr>\n",
       "      <th>0</th>\n",
       "      <td>246</td>\n",
       "      <td>1200</td>\n",
       "    </tr>\n",
       "    <tr>\n",
       "      <th>1</th>\n",
       "      <td>248</td>\n",
       "      <td>1181</td>\n",
       "    </tr>\n",
       "    <tr>\n",
       "      <th>2</th>\n",
       "      <td>247</td>\n",
       "      <td>1158</td>\n",
       "    </tr>\n",
       "  </tbody>\n",
       "</table>\n",
       "</div>"
      ],
      "text/plain": [
       "   expid  payment_screen_deviceidhash\n",
       "0    246                         1200\n",
       "1    248                         1181\n",
       "2    247                         1158"
      ]
     },
     "execution_count": 28,
     "metadata": {},
     "output_type": "execute_result"
    }
   ],
   "source": [
    "expgroup_counts_pscreen = df.query('eventname == \"PaymentScreenSuccessful\"').groupby('expid')['deviceidhash'].nunique().sort_values(ascending=False).reset_index()\n",
    "expgroup_counts_pscreen.rename(columns={'deviceidhash': 'payment_screen_deviceidhash'}, inplace=True)\n",
    "expgroup_counts_pscreen"
   ]
  },
  {
   "cell_type": "code",
   "execution_count": 29,
   "metadata": {},
   "outputs": [],
   "source": [
    "successes_buy_246_247 = np.array([expgroup_counts_pscreen.loc[0, 'payment_screen_deviceidhash'],expgroup_counts_pscreen.loc[2, 'payment_screen_deviceidhash']])"
   ]
  },
  {
   "cell_type": "markdown",
   "metadata": {},
   "source": [
    "- H0 = Доли пользователей из контрольных групп 246 и 247, дошедших до события PaymentScreenSuccessful, одинаковы\n",
    "- H1 = Доли пользователей из контрольных групп 246 и 247, дошедших до события PaymentScreenSuccessful, разные\n",
    "- Уровень значимости 𝛼 = 0.05"
   ]
  },
  {
   "cell_type": "code",
   "execution_count": 30,
   "metadata": {},
   "outputs": [],
   "source": [
    "alpha = 0.05 # определяем критический уровень статистической значимости"
   ]
  },
  {
   "cell_type": "markdown",
   "metadata": {},
   "source": [
    "Подставляем значения в функцию для проверки гипотезы о равенстве долей. "
   ]
  },
  {
   "cell_type": "code",
   "execution_count": 31,
   "metadata": {},
   "outputs": [
    {
     "data": {
      "text/plain": [
       "'p-значение:'"
      ]
     },
     "metadata": {},
     "output_type": "display_data"
    },
    {
     "data": {
      "text/plain": [
       "0.11456679313141849"
      ]
     },
     "metadata": {},
     "output_type": "display_data"
    },
    {
     "data": {
      "text/plain": [
       "'Не получилось отвергнуть нулевую гипотезу, нет оснований считать доли разными'"
      ]
     },
     "metadata": {},
     "output_type": "display_data"
    }
   ],
   "source": [
    "z_test_proportions(successes_buy_246_247, trials_all_246_247, alpha)"
   ]
  },
  {
   "cell_type": "markdown",
   "metadata": {},
   "source": [
    "Результаты теста нам говорят о том, что статистические критерии не находят разницу между выборками 246 и 247, а это значит, что A/A-тест проведен успешно, но перед тем, как анализировать результаты A/B-тестирования проверим и другие события"
   ]
  },
  {
   "cell_type": "markdown",
   "metadata": {},
   "source": [
    "Выберем самое популярное событие - MainScreenAppear. Посчитаем число пользователей, совершивших это событие в каждой из контрольных групп и проверим, будет ли отличие между группами статистически достоверным. "
   ]
  },
  {
   "cell_type": "code",
   "execution_count": 32,
   "metadata": {},
   "outputs": [
    {
     "data": {
      "text/html": [
       "<div>\n",
       "<style scoped>\n",
       "    .dataframe tbody tr th:only-of-type {\n",
       "        vertical-align: middle;\n",
       "    }\n",
       "\n",
       "    .dataframe tbody tr th {\n",
       "        vertical-align: top;\n",
       "    }\n",
       "\n",
       "    .dataframe thead th {\n",
       "        text-align: right;\n",
       "    }\n",
       "</style>\n",
       "<table border=\"1\" class=\"dataframe\">\n",
       "  <thead>\n",
       "    <tr style=\"text-align: right;\">\n",
       "      <th></th>\n",
       "      <th>expid</th>\n",
       "      <th>main_screen_deviceidhash</th>\n",
       "    </tr>\n",
       "  </thead>\n",
       "  <tbody>\n",
       "    <tr>\n",
       "      <th>0</th>\n",
       "      <td>248</td>\n",
       "      <td>2493</td>\n",
       "    </tr>\n",
       "    <tr>\n",
       "      <th>1</th>\n",
       "      <td>247</td>\n",
       "      <td>2476</td>\n",
       "    </tr>\n",
       "    <tr>\n",
       "      <th>2</th>\n",
       "      <td>246</td>\n",
       "      <td>2450</td>\n",
       "    </tr>\n",
       "  </tbody>\n",
       "</table>\n",
       "</div>"
      ],
      "text/plain": [
       "   expid  main_screen_deviceidhash\n",
       "0    248                      2493\n",
       "1    247                      2476\n",
       "2    246                      2450"
      ]
     },
     "execution_count": 32,
     "metadata": {},
     "output_type": "execute_result"
    }
   ],
   "source": [
    "expgroup_counts_mscreen = df.query('eventname == \"MainScreenAppear\"').groupby('expid')['deviceidhash'].nunique().sort_values(ascending=False).reset_index()\n",
    "expgroup_counts_mscreen.rename(columns={'deviceidhash': 'main_screen_deviceidhash'}, inplace=True)\n",
    "expgroup_counts_mscreen"
   ]
  },
  {
   "cell_type": "code",
   "execution_count": 33,
   "metadata": {},
   "outputs": [],
   "source": [
    "successes_mscreen_246_247 = np.array([expgroup_counts_mscreen.loc[2, 'main_screen_deviceidhash'],expgroup_counts_mscreen.loc[1, 'main_screen_deviceidhash']])"
   ]
  },
  {
   "cell_type": "markdown",
   "metadata": {},
   "source": [
    "- H0 = Доли пользователей из контрольных групп 246 и 247, дошедших до события MainScreenAppear, одинаковы\n",
    "- H1 = Доли пользователей из контрольных групп 246 и 247, дошедших до события MainScreenAppear, разные\n",
    "- Уровень значимости 𝛼 = 0.05"
   ]
  },
  {
   "cell_type": "code",
   "execution_count": 34,
   "metadata": {},
   "outputs": [
    {
     "data": {
      "text/plain": [
       "'p-значение:'"
      ]
     },
     "metadata": {},
     "output_type": "display_data"
    },
    {
     "data": {
      "text/plain": [
       "0.7570597232046099"
      ]
     },
     "metadata": {},
     "output_type": "display_data"
    },
    {
     "data": {
      "text/plain": [
       "'Не получилось отвергнуть нулевую гипотезу, нет оснований считать доли разными'"
      ]
     },
     "metadata": {},
     "output_type": "display_data"
    }
   ],
   "source": [
    "z_test_proportions(successes_mscreen_246_247, trials_all_246_247, alpha)"
   ]
  },
  {
   "cell_type": "markdown",
   "metadata": {},
   "source": [
    "Нет, отличие между группами нельзя считать достоверным - результат такой же как и для экрана покупки."
   ]
  },
  {
   "cell_type": "markdown",
   "metadata": {},
   "source": [
    "Проделаем то же самое для всех других событий. Можно ли с увереностью сказать, что разбиение на группы работает корректно?"
   ]
  },
  {
   "cell_type": "markdown",
   "metadata": {},
   "source": [
    "Возьмем событие \"OffersScreenAppear\""
   ]
  },
  {
   "cell_type": "code",
   "execution_count": 35,
   "metadata": {},
   "outputs": [
    {
     "data": {
      "text/html": [
       "<div>\n",
       "<style scoped>\n",
       "    .dataframe tbody tr th:only-of-type {\n",
       "        vertical-align: middle;\n",
       "    }\n",
       "\n",
       "    .dataframe tbody tr th {\n",
       "        vertical-align: top;\n",
       "    }\n",
       "\n",
       "    .dataframe thead th {\n",
       "        text-align: right;\n",
       "    }\n",
       "</style>\n",
       "<table border=\"1\" class=\"dataframe\">\n",
       "  <thead>\n",
       "    <tr style=\"text-align: right;\">\n",
       "      <th></th>\n",
       "      <th>expid</th>\n",
       "      <th>offers_screen_deviceidhash</th>\n",
       "    </tr>\n",
       "  </thead>\n",
       "  <tbody>\n",
       "    <tr>\n",
       "      <th>0</th>\n",
       "      <td>246</td>\n",
       "      <td>1542</td>\n",
       "    </tr>\n",
       "    <tr>\n",
       "      <th>1</th>\n",
       "      <td>248</td>\n",
       "      <td>1531</td>\n",
       "    </tr>\n",
       "    <tr>\n",
       "      <th>2</th>\n",
       "      <td>247</td>\n",
       "      <td>1520</td>\n",
       "    </tr>\n",
       "  </tbody>\n",
       "</table>\n",
       "</div>"
      ],
      "text/plain": [
       "   expid  offers_screen_deviceidhash\n",
       "0    246                        1542\n",
       "1    248                        1531\n",
       "2    247                        1520"
      ]
     },
     "execution_count": 35,
     "metadata": {},
     "output_type": "execute_result"
    }
   ],
   "source": [
    "expgroup_counts_oscreen = df.query('eventname == \"OffersScreenAppear\"').groupby('expid')['deviceidhash'].nunique().sort_values(ascending=False).reset_index()\n",
    "expgroup_counts_oscreen.rename(columns={'deviceidhash': 'offers_screen_deviceidhash'}, inplace=True)\n",
    "expgroup_counts_oscreen"
   ]
  },
  {
   "cell_type": "code",
   "execution_count": 36,
   "metadata": {},
   "outputs": [],
   "source": [
    "successes_oscreen_246_247 = np.array([expgroup_counts_oscreen.loc[0, 'offers_screen_deviceidhash'],expgroup_counts_oscreen.loc[2, 'offers_screen_deviceidhash']])"
   ]
  },
  {
   "cell_type": "markdown",
   "metadata": {},
   "source": [
    "- H0 = Доли пользователей из контрольных групп 246 и 247, дошедших до события OffersScreenAppear, одинаковы\n",
    "- H1 = Доли пользователей из контрольных групп 246 и 247, дошедших до события OffersScreenAppear, разные\n",
    "- Уровень значимости 𝛼 = 0.05"
   ]
  },
  {
   "cell_type": "code",
   "execution_count": 37,
   "metadata": {},
   "outputs": [
    {
     "data": {
      "text/plain": [
       "'p-значение:'"
      ]
     },
     "metadata": {},
     "output_type": "display_data"
    },
    {
     "data": {
      "text/plain": [
       "0.2480954578522181"
      ]
     },
     "metadata": {},
     "output_type": "display_data"
    },
    {
     "data": {
      "text/plain": [
       "'Не получилось отвергнуть нулевую гипотезу, нет оснований считать доли разными'"
      ]
     },
     "metadata": {},
     "output_type": "display_data"
    }
   ],
   "source": [
    "z_test_proportions(successes_oscreen_246_247, trials_all_246_247, alpha)"
   ]
  },
  {
   "cell_type": "markdown",
   "metadata": {},
   "source": [
    "Нет, отличие между группами нельзя считать достоверным"
   ]
  },
  {
   "cell_type": "markdown",
   "metadata": {},
   "source": [
    "Возьмем событие \"CartScreenAppear\""
   ]
  },
  {
   "cell_type": "code",
   "execution_count": 38,
   "metadata": {},
   "outputs": [
    {
     "data": {
      "text/html": [
       "<div>\n",
       "<style scoped>\n",
       "    .dataframe tbody tr th:only-of-type {\n",
       "        vertical-align: middle;\n",
       "    }\n",
       "\n",
       "    .dataframe tbody tr th {\n",
       "        vertical-align: top;\n",
       "    }\n",
       "\n",
       "    .dataframe thead th {\n",
       "        text-align: right;\n",
       "    }\n",
       "</style>\n",
       "<table border=\"1\" class=\"dataframe\">\n",
       "  <thead>\n",
       "    <tr style=\"text-align: right;\">\n",
       "      <th></th>\n",
       "      <th>expid</th>\n",
       "      <th>cart_screen_deviceidhash</th>\n",
       "    </tr>\n",
       "  </thead>\n",
       "  <tbody>\n",
       "    <tr>\n",
       "      <th>0</th>\n",
       "      <td>246</td>\n",
       "      <td>1266</td>\n",
       "    </tr>\n",
       "    <tr>\n",
       "      <th>1</th>\n",
       "      <td>247</td>\n",
       "      <td>1238</td>\n",
       "    </tr>\n",
       "    <tr>\n",
       "      <th>2</th>\n",
       "      <td>248</td>\n",
       "      <td>1230</td>\n",
       "    </tr>\n",
       "  </tbody>\n",
       "</table>\n",
       "</div>"
      ],
      "text/plain": [
       "   expid  cart_screen_deviceidhash\n",
       "0    246                      1266\n",
       "1    247                      1238\n",
       "2    248                      1230"
      ]
     },
     "execution_count": 38,
     "metadata": {},
     "output_type": "execute_result"
    }
   ],
   "source": [
    "expgroup_counts_cscreen = df.query('eventname == \"CartScreenAppear\"').groupby('expid')['deviceidhash'].nunique().sort_values(ascending=False).reset_index()\n",
    "expgroup_counts_cscreen.rename(columns={'deviceidhash': 'cart_screen_deviceidhash'}, inplace=True)\n",
    "expgroup_counts_cscreen"
   ]
  },
  {
   "cell_type": "code",
   "execution_count": 39,
   "metadata": {},
   "outputs": [],
   "source": [
    "successes_cscreen_246_247 = np.array([expgroup_counts_cscreen.loc[0, 'cart_screen_deviceidhash'],expgroup_counts_cscreen.loc[1, 'cart_screen_deviceidhash']])"
   ]
  },
  {
   "cell_type": "markdown",
   "metadata": {},
   "source": [
    "- H0 = Доли пользователей из контрольных групп 246 и 247, дошедших до события CartScreenAppear, одинаковы\n",
    "- H1 = Доли пользователей из контрольных групп 246 и 247, дошедших до события CartScreenAppear, разные\n",
    "- Уровень значимости 𝛼 = 0.05"
   ]
  },
  {
   "cell_type": "code",
   "execution_count": 40,
   "metadata": {},
   "outputs": [
    {
     "data": {
      "text/plain": [
       "'p-значение:'"
      ]
     },
     "metadata": {},
     "output_type": "display_data"
    },
    {
     "data": {
      "text/plain": [
       "0.22883372237997213"
      ]
     },
     "metadata": {},
     "output_type": "display_data"
    },
    {
     "data": {
      "text/plain": [
       "'Не получилось отвергнуть нулевую гипотезу, нет оснований считать доли разными'"
      ]
     },
     "metadata": {},
     "output_type": "display_data"
    }
   ],
   "source": [
    "z_test_proportions(successes_cscreen_246_247, trials_all_246_247, alpha)"
   ]
  },
  {
   "cell_type": "markdown",
   "metadata": {},
   "source": [
    "Результат для всех сравнений одинаковый - статистически достоверных отличий между группами 246 и 247 нет, а значит можно с увереностью сказать, что разбиение на группы работает корректно и переходить к A/B-тестированию."
   ]
  },
  {
   "cell_type": "markdown",
   "metadata": {},
   "source": [
    "Поступим аналогично с группой с изменённым шрифтом - 248. Сравним результаты с каждой из контрольных групп в отдельности по каждому событию, а также сравним результаты с объединённой контрольной группой. Проанализруем выводы из эксперимента."
   ]
  },
  {
   "cell_type": "markdown",
   "metadata": {},
   "source": [
    "Cоеденим число пользователей, совершивших все событие в каждой из групп в один датасет"
   ]
  },
  {
   "cell_type": "code",
   "execution_count": 41,
   "metadata": {},
   "outputs": [
    {
     "data": {
      "text/html": [
       "<div>\n",
       "<style scoped>\n",
       "    .dataframe tbody tr th:only-of-type {\n",
       "        vertical-align: middle;\n",
       "    }\n",
       "\n",
       "    .dataframe tbody tr th {\n",
       "        vertical-align: top;\n",
       "    }\n",
       "\n",
       "    .dataframe thead th {\n",
       "        text-align: right;\n",
       "    }\n",
       "</style>\n",
       "<table border=\"1\" class=\"dataframe\">\n",
       "  <thead>\n",
       "    <tr style=\"text-align: right;\">\n",
       "      <th>expid</th>\n",
       "      <th>246</th>\n",
       "      <th>247</th>\n",
       "      <th>248</th>\n",
       "    </tr>\n",
       "  </thead>\n",
       "  <tbody>\n",
       "    <tr>\n",
       "      <th>total_deviceidhash</th>\n",
       "      <td>2484</td>\n",
       "      <td>2513</td>\n",
       "      <td>2537</td>\n",
       "    </tr>\n",
       "    <tr>\n",
       "      <th>main_screen_deviceidhash</th>\n",
       "      <td>2450</td>\n",
       "      <td>2476</td>\n",
       "      <td>2493</td>\n",
       "    </tr>\n",
       "    <tr>\n",
       "      <th>offers_screen_deviceidhash</th>\n",
       "      <td>1542</td>\n",
       "      <td>1520</td>\n",
       "      <td>1531</td>\n",
       "    </tr>\n",
       "    <tr>\n",
       "      <th>cart_screen_deviceidhash</th>\n",
       "      <td>1266</td>\n",
       "      <td>1238</td>\n",
       "      <td>1230</td>\n",
       "    </tr>\n",
       "    <tr>\n",
       "      <th>payment_screen_deviceidhash</th>\n",
       "      <td>1200</td>\n",
       "      <td>1158</td>\n",
       "      <td>1181</td>\n",
       "    </tr>\n",
       "  </tbody>\n",
       "</table>\n",
       "</div>"
      ],
      "text/plain": [
       "expid                         246   247   248\n",
       "total_deviceidhash           2484  2513  2537\n",
       "main_screen_deviceidhash     2450  2476  2493\n",
       "offers_screen_deviceidhash   1542  1520  1531\n",
       "cart_screen_deviceidhash     1266  1238  1230\n",
       "payment_screen_deviceidhash  1200  1158  1181"
      ]
     },
     "execution_count": 41,
     "metadata": {},
     "output_type": "execute_result"
    }
   ],
   "source": [
    "df_ab = expgroup_counts.merge(expgroup_counts_mscreen, on='expid', how='left')\\\n",
    "                        .merge(expgroup_counts_oscreen, on='expid', how='left')\\\n",
    "                        .merge(expgroup_counts_cscreen, on='expid', how='left')\\\n",
    "                        .merge(expgroup_counts_pscreen, on='expid', how='left')\n",
    "df_ab = df_ab.pivot_table(\n",
    "    index=None,          # Мы не задаем индекс, так как хотим сделать \"развернутую\" таблицу\n",
    "    columns='expid',     # expid будут новыми столбцами\n",
    "    aggfunc='first'      # Используем 'first', так как у нас нет дублирующихся значений для одного и того же expid\n",
    ")\n",
    "# Упорядочиваем столбцы\n",
    "df_ab = df_ab.reindex(['total_deviceidhash', 'main_screen_deviceidhash', 'offers_screen_deviceidhash', \n",
    "                       'cart_screen_deviceidhash', 'payment_screen_deviceidhash'])\n",
    "df_ab"
   ]
  },
  {
   "cell_type": "code",
   "execution_count": 42,
   "metadata": {},
   "outputs": [],
   "source": [
    "trials_all_246_248 = np.array([df_ab.iloc[0, 0], df_ab.iloc[0, 2]])\n",
    "trials_all_247_248 = np.array([df_ab.iloc[0, 1], df_ab.iloc[0, 2]])"
   ]
  },
  {
   "cell_type": "code",
   "execution_count": 43,
   "metadata": {},
   "outputs": [],
   "source": [
    "successes_mscreen_246_248 = np.array([df_ab.iloc[1, 0], df_ab.iloc[1, 2]])\n",
    "successes_mscreen_247_248 = np.array([df_ab.iloc[1, 1], df_ab.iloc[1, 2]])"
   ]
  },
  {
   "cell_type": "code",
   "execution_count": 44,
   "metadata": {},
   "outputs": [],
   "source": [
    "successes_oscreen_246_248 = np.array([df_ab.iloc[2, 0], df_ab.iloc[2, 2]])\n",
    "successes_oscreen_247_248 = np.array([df_ab.iloc[2, 1], df_ab.iloc[2, 2]])"
   ]
  },
  {
   "cell_type": "code",
   "execution_count": 45,
   "metadata": {},
   "outputs": [],
   "source": [
    "successes_cscreen_246_248 = np.array([df_ab.iloc[3, 0], df_ab.iloc[3, 2]])\n",
    "successes_cscreen_247_248 = np.array([df_ab.iloc[3, 1], df_ab.iloc[3, 2]])"
   ]
  },
  {
   "cell_type": "code",
   "execution_count": 46,
   "metadata": {},
   "outputs": [],
   "source": [
    "successes_pscreen_246_248 = np.array([df_ab.iloc[4, 0], df_ab.iloc[4, 2]])\n",
    "successes_pscreen_247_248 = np.array([df_ab.iloc[4, 1], df_ab.iloc[4, 2]])"
   ]
  },
  {
   "cell_type": "markdown",
   "metadata": {},
   "source": [
    "- H0 = Доли пользователей из контрольных групп 246 и 248, дошедших до события MainScreenAppear, одинаковы\n",
    "- H1 = Доли пользователей из контрольных групп 246 и 248, дошедших до события MainScreenAppear, разные\n",
    "- Уровень значимости 𝛼 = 0.05"
   ]
  },
  {
   "cell_type": "code",
   "execution_count": 47,
   "metadata": {},
   "outputs": [
    {
     "data": {
      "text/plain": [
       "'p-значение:'"
      ]
     },
     "metadata": {},
     "output_type": "display_data"
    },
    {
     "data": {
      "text/plain": [
       "0.2949721933554552"
      ]
     },
     "metadata": {},
     "output_type": "display_data"
    },
    {
     "data": {
      "text/plain": [
       "'Не получилось отвергнуть нулевую гипотезу, нет оснований считать доли разными'"
      ]
     },
     "metadata": {},
     "output_type": "display_data"
    }
   ],
   "source": [
    "z_test_proportions(successes_mscreen_246_248, trials_all_246_248, alpha)"
   ]
  },
  {
   "cell_type": "markdown",
   "metadata": {},
   "source": [
    "- H0 = Доли пользователей из контрольных групп 246 и 248, дошедших до события OffersScreenAppear, одинаковы\n",
    "- H1 = Доли пользователей из контрольных групп 246 и 248, дошедших до события OffersScreenAppear, разные\n",
    "- Уровень значимости 𝛼 = 0.05"
   ]
  },
  {
   "cell_type": "code",
   "execution_count": 48,
   "metadata": {},
   "outputs": [
    {
     "data": {
      "text/plain": [
       "'p-значение:'"
      ]
     },
     "metadata": {},
     "output_type": "display_data"
    },
    {
     "data": {
      "text/plain": [
       "0.20836205402738917"
      ]
     },
     "metadata": {},
     "output_type": "display_data"
    },
    {
     "data": {
      "text/plain": [
       "'Не получилось отвергнуть нулевую гипотезу, нет оснований считать доли разными'"
      ]
     },
     "metadata": {},
     "output_type": "display_data"
    }
   ],
   "source": [
    "z_test_proportions(successes_oscreen_246_248, trials_all_246_248, alpha)"
   ]
  },
  {
   "cell_type": "markdown",
   "metadata": {},
   "source": [
    "- H0 = Доли пользователей из контрольных групп 246 и 248, дошедших до события CartScreenAppea, одинаковы\n",
    "- H1 = Доли пользователей из контрольных групп 246 и 248, дошедших до события CartScreenAppea, разные\n",
    "- Уровень значимости 𝛼 = 0.05"
   ]
  },
  {
   "cell_type": "code",
   "execution_count": 49,
   "metadata": {},
   "outputs": [
    {
     "data": {
      "text/plain": [
       "'p-значение:'"
      ]
     },
     "metadata": {},
     "output_type": "display_data"
    },
    {
     "data": {
      "text/plain": [
       "0.07842923237520116"
      ]
     },
     "metadata": {},
     "output_type": "display_data"
    },
    {
     "data": {
      "text/plain": [
       "'Не получилось отвергнуть нулевую гипотезу, нет оснований считать доли разными'"
      ]
     },
     "metadata": {},
     "output_type": "display_data"
    }
   ],
   "source": [
    "z_test_proportions(successes_cscreen_246_248, trials_all_246_248, alpha)"
   ]
  },
  {
   "cell_type": "markdown",
   "metadata": {},
   "source": [
    "- H0 = Доли пользователей из контрольных групп 246 и 248, дошедших до события PaymentScreenSuccessful, одинаковы\n",
    "- H1 = Доли пользователей из контрольных групп 246 и 248, дошедших до события PaymentScreenSuccessful, разные\n",
    "- Уровень значимости 𝛼 = 0.05"
   ]
  },
  {
   "cell_type": "code",
   "execution_count": 50,
   "metadata": {},
   "outputs": [
    {
     "data": {
      "text/plain": [
       "'p-значение:'"
      ]
     },
     "metadata": {},
     "output_type": "display_data"
    },
    {
     "data": {
      "text/plain": [
       "0.2122553275697796"
      ]
     },
     "metadata": {},
     "output_type": "display_data"
    },
    {
     "data": {
      "text/plain": [
       "'Не получилось отвергнуть нулевую гипотезу, нет оснований считать доли разными'"
      ]
     },
     "metadata": {},
     "output_type": "display_data"
    }
   ],
   "source": [
    "z_test_proportions(successes_pscreen_246_248, trials_all_246_248, alpha)"
   ]
  },
  {
   "cell_type": "markdown",
   "metadata": {},
   "source": [
    "- H0 = Доли пользователей из контрольных групп 247 и 248, дошедших до события MainScreenAppear, одинаковы\n",
    "- H1 = Доли пользователей из контрольных групп 247 и 248, дошедших до события MainScreenAppear, разные\n",
    "- Уровень значимости 𝛼 = 0.05"
   ]
  },
  {
   "cell_type": "code",
   "execution_count": 51,
   "metadata": {},
   "outputs": [
    {
     "data": {
      "text/plain": [
       "'p-значение:'"
      ]
     },
     "metadata": {},
     "output_type": "display_data"
    },
    {
     "data": {
      "text/plain": [
       "0.4587053616621515"
      ]
     },
     "metadata": {},
     "output_type": "display_data"
    },
    {
     "data": {
      "text/plain": [
       "'Не получилось отвергнуть нулевую гипотезу, нет оснований считать доли разными'"
      ]
     },
     "metadata": {},
     "output_type": "display_data"
    }
   ],
   "source": [
    "z_test_proportions(successes_mscreen_247_248, trials_all_247_248, alpha)"
   ]
  },
  {
   "cell_type": "markdown",
   "metadata": {},
   "source": [
    "- H0 = Доли пользователей из контрольных групп 247 и 248, дошедших до события OffersScreenAppear, одинаковы\n",
    "- H1 = Доли пользователей из контрольных групп 247 и 248, дошедших до события OffersScreenAppear, разные\n",
    "- Уровень значимости 𝛼 = 0.05"
   ]
  },
  {
   "cell_type": "code",
   "execution_count": 52,
   "metadata": {},
   "outputs": [
    {
     "data": {
      "text/plain": [
       "'p-значение:'"
      ]
     },
     "metadata": {},
     "output_type": "display_data"
    },
    {
     "data": {
      "text/plain": [
       "0.9197817830592261"
      ]
     },
     "metadata": {},
     "output_type": "display_data"
    },
    {
     "data": {
      "text/plain": [
       "'Не получилось отвергнуть нулевую гипотезу, нет оснований считать доли разными'"
      ]
     },
     "metadata": {},
     "output_type": "display_data"
    }
   ],
   "source": [
    "z_test_proportions(successes_oscreen_247_248 , trials_all_247_248, alpha)"
   ]
  },
  {
   "cell_type": "markdown",
   "metadata": {},
   "source": [
    "- H0 = Доли пользователей из контрольных групп 247 и 248, дошедших до события CartScreenAppea, одинаковы\n",
    "- H1 = Доли пользователей из контрольных групп 247 и 248, дошедших до события CartScreenAppea, разные\n",
    "- Уровень значимости 𝛼 = 0.05"
   ]
  },
  {
   "cell_type": "code",
   "execution_count": 53,
   "metadata": {},
   "outputs": [
    {
     "data": {
      "text/plain": [
       "'p-значение:'"
      ]
     },
     "metadata": {},
     "output_type": "display_data"
    },
    {
     "data": {
      "text/plain": [
       "0.5786197879539783"
      ]
     },
     "metadata": {},
     "output_type": "display_data"
    },
    {
     "data": {
      "text/plain": [
       "'Не получилось отвергнуть нулевую гипотезу, нет оснований считать доли разными'"
      ]
     },
     "metadata": {},
     "output_type": "display_data"
    }
   ],
   "source": [
    "z_test_proportions(successes_cscreen_247_248 , trials_all_247_248, alpha)"
   ]
  },
  {
   "cell_type": "markdown",
   "metadata": {},
   "source": [
    "- H0 = Доли пользователей из контрольных групп 247 и 248, дошедших до события PaymentScreenSuccessful, одинаковы\n",
    "- H1 = Доли пользователей из контрольных групп 247 и 248, дошедших до события PaymentScreenSuccessful, разные\n",
    "- Уровень значимости 𝛼 = 0.05"
   ]
  },
  {
   "cell_type": "code",
   "execution_count": 54,
   "metadata": {},
   "outputs": [
    {
     "data": {
      "text/plain": [
       "'p-значение:'"
      ]
     },
     "metadata": {},
     "output_type": "display_data"
    },
    {
     "data": {
      "text/plain": [
       "0.7373415053803964"
      ]
     },
     "metadata": {},
     "output_type": "display_data"
    },
    {
     "data": {
      "text/plain": [
       "'Не получилось отвергнуть нулевую гипотезу, нет оснований считать доли разными'"
      ]
     },
     "metadata": {},
     "output_type": "display_data"
    }
   ],
   "source": [
    "z_test_proportions(successes_pscreen_247_248, trials_all_247_248, alpha)"
   ]
  },
  {
   "cell_type": "markdown",
   "metadata": {},
   "source": [
    "Сравнив результаты с каждой из контрольных групп по каждому событию, можно заключить, что нет оснований считать доли различными. Это означает, что изменение шрифта не оказало статистически значимого влияния."
   ]
  },
  {
   "cell_type": "markdown",
   "metadata": {},
   "source": [
    "Теперь сравним результаты с объединённой контрольной группой."
   ]
  },
  {
   "cell_type": "code",
   "execution_count": 55,
   "metadata": {},
   "outputs": [],
   "source": [
    "trials_all_246_247_248 = np.array([df_ab.iloc[0, 0]+df_ab.iloc[0, 1],df_ab.iloc[0, 2]]) "
   ]
  },
  {
   "cell_type": "code",
   "execution_count": 56,
   "metadata": {},
   "outputs": [],
   "source": [
    "successes_mscreen_246_247_248 = np.array([df_ab.iloc[1, 0]+df_ab.iloc[1, 1],df_ab.iloc[1, 2]]) "
   ]
  },
  {
   "cell_type": "code",
   "execution_count": 57,
   "metadata": {},
   "outputs": [],
   "source": [
    "successes_oscreen_246_247_248 = np.array([df_ab.iloc[2, 0]+df_ab.iloc[2, 1],df_ab.iloc[2, 2]]) "
   ]
  },
  {
   "cell_type": "code",
   "execution_count": 58,
   "metadata": {},
   "outputs": [],
   "source": [
    "successes_cscreen_246_247_248 = np.array([df_ab.iloc[3, 0]+df_ab.iloc[3, 1],df_ab.iloc[3, 2]]) "
   ]
  },
  {
   "cell_type": "code",
   "execution_count": 59,
   "metadata": {},
   "outputs": [],
   "source": [
    "successes_pscreen_246_247_248 = np.array([df_ab.iloc[4, 0]+df_ab.iloc[4, 1],df_ab.iloc[4, 2]]) "
   ]
  },
  {
   "cell_type": "markdown",
   "metadata": {},
   "source": [
    "- H0 = Доли пользователей из контрольных групп 246+247 и 248, дошедших до события MainScreenAppear, одинаковы\n",
    "- H1 = Доли пользователей из контрольных групп 246+247 и 248, дошедших до события MainScreenAppear, разные\n",
    "- Уровень значимости 𝛼 = 0.05"
   ]
  },
  {
   "cell_type": "code",
   "execution_count": 60,
   "metadata": {},
   "outputs": [
    {
     "data": {
      "text/plain": [
       "'p-значение:'"
      ]
     },
     "metadata": {},
     "output_type": "display_data"
    },
    {
     "data": {
      "text/plain": [
       "0.29424526837179577"
      ]
     },
     "metadata": {},
     "output_type": "display_data"
    },
    {
     "data": {
      "text/plain": [
       "'Не получилось отвергнуть нулевую гипотезу, нет оснований считать доли разными'"
      ]
     },
     "metadata": {},
     "output_type": "display_data"
    }
   ],
   "source": [
    "z_test_proportions(successes_mscreen_246_247_248, trials_all_246_247_248, alpha)"
   ]
  },
  {
   "cell_type": "markdown",
   "metadata": {},
   "source": [
    "- H0 = Доли пользователей из контрольных групп 246+247 и 248, дошедших до события OffersScreenAppear, одинаковы\n",
    "- H1 = Доли пользователей из контрольных групп 246+247 и 248, дошедших до события OffersScreenAppear, разные\n",
    "- Уровень значимости 𝛼 = 0.05"
   ]
  },
  {
   "cell_type": "code",
   "execution_count": 61,
   "metadata": {},
   "outputs": [
    {
     "data": {
      "text/plain": [
       "'p-значение:'"
      ]
     },
     "metadata": {},
     "output_type": "display_data"
    },
    {
     "data": {
      "text/plain": [
       "0.43425549655188256"
      ]
     },
     "metadata": {},
     "output_type": "display_data"
    },
    {
     "data": {
      "text/plain": [
       "'Не получилось отвергнуть нулевую гипотезу, нет оснований считать доли разными'"
      ]
     },
     "metadata": {},
     "output_type": "display_data"
    }
   ],
   "source": [
    "z_test_proportions(successes_oscreen_246_247_248 , trials_all_246_247_248, alpha)"
   ]
  },
  {
   "cell_type": "markdown",
   "metadata": {},
   "source": [
    "- H0 = Доли пользователей из контрольных групп 246+247 и 248, дошедших до события CartScreenAppea, одинаковы\n",
    "- H1 = Доли пользователей из контрольных групп 246+247 и 248, дошедших до события CartScreenAppea, разные\n",
    "- Уровень значимости 𝛼 = 0.05"
   ]
  },
  {
   "cell_type": "code",
   "execution_count": 62,
   "metadata": {},
   "outputs": [
    {
     "data": {
      "text/plain": [
       "'p-значение:'"
      ]
     },
     "metadata": {},
     "output_type": "display_data"
    },
    {
     "data": {
      "text/plain": [
       "0.18175875284404386"
      ]
     },
     "metadata": {},
     "output_type": "display_data"
    },
    {
     "data": {
      "text/plain": [
       "'Не получилось отвергнуть нулевую гипотезу, нет оснований считать доли разными'"
      ]
     },
     "metadata": {},
     "output_type": "display_data"
    }
   ],
   "source": [
    "z_test_proportions(successes_cscreen_246_247_248 , trials_all_246_247_248, alpha)"
   ]
  },
  {
   "cell_type": "markdown",
   "metadata": {},
   "source": [
    "- H0 = Доли пользователей из контрольных групп 246+247 и 248, дошедших до события PaymentScreenSuccessful, одинаковы\n",
    "- H1 = Доли пользователей из контрольных групп 246+247 и 248, дошедших до события PaymentScreenSuccessful, разные\n",
    "- Уровень значимости 𝛼 = 0.05"
   ]
  },
  {
   "cell_type": "code",
   "execution_count": 63,
   "metadata": {},
   "outputs": [
    {
     "data": {
      "text/plain": [
       "'p-значение:'"
      ]
     },
     "metadata": {},
     "output_type": "display_data"
    },
    {
     "data": {
      "text/plain": [
       "0.6004294282308704"
      ]
     },
     "metadata": {},
     "output_type": "display_data"
    },
    {
     "data": {
      "text/plain": [
       "'Не получилось отвергнуть нулевую гипотезу, нет оснований считать доли разными'"
      ]
     },
     "metadata": {},
     "output_type": "display_data"
    }
   ],
   "source": [
    "z_test_proportions(successes_pscreen_246_247_248, trials_all_246_247_248, alpha)"
   ]
  },
  {
   "cell_type": "markdown",
   "metadata": {},
   "source": [
    "Сравинив эксперементальную группу с объединённой контрольной группой, можно увтерждать, что значимых различий нет, что говорит о том, что изменение шрифта не оказало статистически значимого влияния."
   ]
  },
  {
   "cell_type": "markdown",
   "metadata": {},
   "source": [
    "В статистических тестах обычно применяется уровень значимости 0,05, что означает 5% вероятность ошибочного отклонения нулевой гипотезы, если она верна. Это ошибку первого рода, или ложнопозитивный результат теста, при котором разница между сравниваемыми группами отсутствует, но тест показывает p-value, меньшее уровня значимости, что ведет к ошибочному отвергнению нулевой гипотезы (H0). В нашем случае также следует учитывать возможность накопительной ошибки из-за множественного тестирования, известной как групповая вероятность ошибки первого рода (FWER).\n",
    "\n",
    "Мы провели 16 тестов, сравнивая группы 246 и 247, 246 и 248, 247 и 248, а также объединённую контрольную группу и 248. Для контроля вероятности ошибки первого рода можно использовать методы коррекции уровня значимости, такие как коррекция Бонферрони или метод Холма.\n",
    "\n",
    "Мы установили уровень значимости на 0,05 и получили результаты, при которых нулевая гипотеза не была отвергнута в каждом тесте. Однако, если бы уровень значимости был установлен на 0,1, то нулевая гипотеза о равенстве долей пользователей из контрольных групп 246 и 248, достигших события CartScreenAppears, была бы отвергнута, так как p-значение в этом тесте составило 0,0784.\n",
    "\n",
    "В случае выбора уровня значимости 0,1 и применения коррекции по методу Бонферрони, новый уровень значимости составил бы 0,1/16 = 0.00625. Это свидетельствует о том, что в таких условиях тест не привёл бы к отверганию нулевой гипотезы."
   ]
  },
  {
   "cell_type": "markdown",
   "metadata": {},
   "source": [
    "<div class=\"alert alert-danger\">\n",
    "\n",
    "**❌ Комментарий ревьюера ❌**\n",
    "   \n",
    "   У нас всего должно получиться 16 проверок нулевых гипотез - проверяем по 4 события в каждом из сравнений групп 246/247, 246/248, 247/248 и 246+247/248 - при использовании поправки Бонферрони делим альфа на общее число нулевых гипотез 0,1/16 во всех случаях \n",
    "\n",
    "</div>\n"
   ]
  },
  {
   "cell_type": "markdown",
   "metadata": {},
   "source": [
    "<div class=\"alert alert-block alert-info\">\n",
    "    \n",
    "Исправил \n",
    "    \n",
    "</div>"
   ]
  },
  {
   "cell_type": "markdown",
   "metadata": {},
   "source": [
    "<div class=\"alert alert-success\">\n",
    "\n",
    "**✔️ Комментарий ревьюера v2✔️**\n",
    "   \n",
    "\n",
    "\n",
    "   \n",
    "   Очень хорошо, мы разобрались с использованием поправки Бонферрони. Однако отмечу, что данная поправка используется редко. Причины: эта поправка слишком сильно уменьшает уровень альфа, опровергнуть нулевую гипотезу становится фактически невозможно; повышается вероятность совершить ошибку второго рода. Возможное решение - использовать менее мощные поправки - рекомендую ознакомиться со статьей: https://studfile.net/preview/10706903/page:19/\n",
    "Также рекомендую статью: https://habr.com/ru/company/yandex/blog/476826/ - в ней описывается применение библиотеки `statsmodels` - пригодится в дальнейшем                    \n",
    "\n",
    "</div>\n",
    "\n",
    "\n"
   ]
  },
  {
   "cell_type": "markdown",
   "metadata": {},
   "source": [
    "## Заключение"
   ]
  },
  {
   "cell_type": "markdown",
   "metadata": {},
   "source": [
    "В данном исследовании мы провели всесторонний анализ поведения пользователей мобильного приложения для продажи продуктов питания и оценили влияние дизайнерских изменений на взаимодействие с приложением. Исследование включало анализ воронки продаж и результаты A/A/B-эксперимента.\n",
    "\n",
    "- Воронка продаж в нашем приложении структурируется следующим образом:\n",
    "    - MainScreenAppear\n",
    "    - OffersScreenAppear\n",
    "    - CartScreenAppear\n",
    "    - PaymentScreenSuccessful\n",
    "\n",
    "- Анализ воронки продаж показал, что:\n",
    "  - Наибольшие потери пользователей происходят между событиями 'MainScreenAppear' и 'OffersScreenAppear', где теряется 38,09% пользователей (2826 из 7419). Это указывает на потенциальные проблемы на этом этапе, такие как недостаточная привлекательность предложений или технические сбои.\n",
    "  - Доля пользователей, успешно проходящих всю воронку от 'MainScreenAppear' до 'PaymentScreenSuccessful', составляет 47,7% (3539 из 7419), что можно считать хорошим показателем конверсии.\n",
    "  - Конверсия на последнем шаге воронки, между 'CartScreenAppear' и 'PaymentScreenSuccessful', достаточно высокая, что свидетельствует о том, что пользователи, достигшие этапа оплаты, с высокой вероятностью завершают покупку.\n",
    "  - Рекомендуется сосредоточиться на оптимизации перехода от главного экрана к экрану предложений для повышения конверсии, возможно, через улучшение таргетинга предложений или устранение технических проблем.\n",
    "\n",
    "- Анализ A/A-теста:\n",
    "  - Проверка распределения пользователей между контрольными группами 246 и 247 показала, что разница в количестве пользователей составляет около 1%, что незначительно и не оказывает существенного влияния на результаты A/B-тестирования. Не было обнаружено пересекающихся пользователей между группами. А также результаты теста нам говорят о том, что статистические критерии не находят разницу между выборками 246 и 247, а это значит, что A/A-тест проведен успешно. Таким образом, разбиение на группы можно считать корректным, что позволяет перейти к A/B-тестированию.\n",
    "\n",
    "- Анализ A/B-тестирования:\n",
    "  - Сравнение результатов между экспериментальной группой, использующей новые шрифты, и контрольными группами показало, что изменение шрифта не оказывает статистически значимого влияния на ключевые метрики. По всем событиям не было обнаружено статистически значимых различий между группами, что свидетельствует о том, что изменения в дизайне шрифтов не оказали значимого эффекта на поведение пользователей.\n",
    "\n",
    "В заключение, исследование подтвердило, что текущие дизайнерские изменения не приводят к улучшению ключевых метрик, а воронка продаж требует оптимизации на этапе перехода от главного экрана к экрану предложений. Эти выводы помогут сфокусироваться на наиболее значимых аспектах улучшения пользовательского опыта и принятия обоснованных решений по дальнейшему развитию приложения."
   ]
  },
  {
   "cell_type": "markdown",
   "metadata": {},
   "source": [
    "<div class=\"alert alert-success\">\n",
    "\n",
    "**✔️ Комментарий ревьюера ✔️**\n",
    "   \n",
    "   Артемий, проведен основательный и подробный анализ. Все наглядно - графики и гистограммы подтверждают обоснованные выводы. Учти мои замечания. Возможно, придется немного подправить выводы. Жду твой проект на повторное ревью. Успехов!\n",
    "\n",
    "</div>\n"
   ]
  },
  {
   "cell_type": "markdown",
   "metadata": {},
   "source": [
    "<div class=\"alert alert-block alert-info\">\n",
    "    \n",
    "Благодарю за полезные комментарии. Провел исправления по ним. Вывод не поменялся, поэтому оставляю его без исправлений. \n",
    "    \n",
    "</div>"
   ]
  },
  {
   "cell_type": "markdown",
   "metadata": {},
   "source": [
    "<div class=\"alert alert-success\">\n",
    "\n",
    "**✔️ Комментарий ревьюера v3✔️**\n",
    "   \n",
    "   Артемий, замечания устранены 👍. Уверен, мои советы пригодятся тебе в новых проектах. Успехов в обучении! 😉 \n",
    "\n",
    "</div>"
   ]
  },
  {
   "cell_type": "code",
   "execution_count": null,
   "metadata": {},
   "outputs": [],
   "source": []
  }
 ],
 "metadata": {
  "ExecuteTimeLog": [
   {
    "duration": 4,
    "start_time": "2024-08-11T13:55:44.595Z"
   },
   {
    "duration": 1352,
    "start_time": "2024-08-11T14:06:38.203Z"
   },
   {
    "duration": 4,
    "start_time": "2024-08-11T14:07:20.173Z"
   },
   {
    "duration": 1736,
    "start_time": "2024-08-11T14:08:55.963Z"
   },
   {
    "duration": 53,
    "start_time": "2024-08-11T14:09:59.752Z"
   },
   {
    "duration": 943,
    "start_time": "2024-08-11T14:10:18.903Z"
   },
   {
    "duration": 318,
    "start_time": "2024-08-11T14:10:41.607Z"
   },
   {
    "duration": 57,
    "start_time": "2024-08-11T14:10:50.392Z"
   },
   {
    "duration": 190,
    "start_time": "2024-08-11T14:11:15.018Z"
   },
   {
    "duration": 312,
    "start_time": "2024-08-11T14:11:40.873Z"
   },
   {
    "duration": 5,
    "start_time": "2024-08-11T14:25:47.309Z"
   },
   {
    "duration": 4,
    "start_time": "2024-08-11T14:25:58.238Z"
   },
   {
    "duration": 57,
    "start_time": "2024-08-11T14:27:16.433Z"
   },
   {
    "duration": 794,
    "start_time": "2024-08-11T14:27:38.548Z"
   },
   {
    "duration": 61,
    "start_time": "2024-08-11T14:27:48.898Z"
   },
   {
    "duration": 80,
    "start_time": "2024-08-11T15:36:57.759Z"
   },
   {
    "duration": 12,
    "start_time": "2024-08-11T15:37:36.564Z"
   },
   {
    "duration": 33,
    "start_time": "2024-08-11T15:41:03.229Z"
   },
   {
    "duration": 67,
    "start_time": "2024-08-11T15:41:10.479Z"
   },
   {
    "duration": 14,
    "start_time": "2024-08-11T15:41:29.409Z"
   },
   {
    "duration": 10,
    "start_time": "2024-08-11T15:42:02.273Z"
   },
   {
    "duration": 9,
    "start_time": "2024-08-11T15:42:10.789Z"
   },
   {
    "duration": 8,
    "start_time": "2024-08-11T15:42:29.664Z"
   },
   {
    "duration": 1188,
    "start_time": "2024-08-11T15:43:43.494Z"
   },
   {
    "duration": 4,
    "start_time": "2024-08-11T15:43:44.684Z"
   },
   {
    "duration": 340,
    "start_time": "2024-08-11T15:43:44.690Z"
   },
   {
    "duration": 6,
    "start_time": "2024-08-11T15:43:45.032Z"
   },
   {
    "duration": 69,
    "start_time": "2024-08-11T15:43:45.040Z"
   },
   {
    "duration": 71,
    "start_time": "2024-08-11T15:43:45.110Z"
   },
   {
    "duration": 8,
    "start_time": "2024-08-11T15:43:45.182Z"
   },
   {
    "duration": 107,
    "start_time": "2024-08-11T15:46:43.224Z"
   },
   {
    "duration": 11,
    "start_time": "2024-08-11T15:46:55.699Z"
   },
   {
    "duration": 10,
    "start_time": "2024-08-11T15:47:01.648Z"
   },
   {
    "duration": 8,
    "start_time": "2024-08-11T15:47:12.674Z"
   },
   {
    "duration": 61,
    "start_time": "2024-08-11T15:47:49.359Z"
   },
   {
    "duration": 70,
    "start_time": "2024-08-11T15:48:47.518Z"
   },
   {
    "duration": 68,
    "start_time": "2024-08-11T15:49:12.324Z"
   },
   {
    "duration": 69,
    "start_time": "2024-08-11T15:49:15.408Z"
   },
   {
    "duration": 75,
    "start_time": "2024-08-11T15:50:01.289Z"
   },
   {
    "duration": 69,
    "start_time": "2024-08-11T15:50:05.233Z"
   },
   {
    "duration": 72,
    "start_time": "2024-08-11T15:50:08.164Z"
   },
   {
    "duration": 80,
    "start_time": "2024-08-11T15:56:17.239Z"
   },
   {
    "duration": 101,
    "start_time": "2024-08-11T15:56:41.328Z"
   },
   {
    "duration": 110,
    "start_time": "2024-08-11T15:57:05.589Z"
   },
   {
    "duration": 105,
    "start_time": "2024-08-11T15:57:09.433Z"
   },
   {
    "duration": 77,
    "start_time": "2024-08-11T16:14:14.393Z"
   },
   {
    "duration": 1159,
    "start_time": "2024-08-11T16:15:54.145Z"
   },
   {
    "duration": 4,
    "start_time": "2024-08-11T16:15:55.306Z"
   },
   {
    "duration": 344,
    "start_time": "2024-08-11T16:15:55.312Z"
   },
   {
    "duration": 6,
    "start_time": "2024-08-11T16:15:55.658Z"
   },
   {
    "duration": 27,
    "start_time": "2024-08-11T16:15:55.666Z"
   },
   {
    "duration": 76,
    "start_time": "2024-08-11T16:15:55.708Z"
   },
   {
    "duration": 83,
    "start_time": "2024-08-11T16:15:55.786Z"
   },
   {
    "duration": 78,
    "start_time": "2024-08-11T16:15:55.871Z"
   },
   {
    "duration": 83,
    "start_time": "2024-08-11T16:15:55.950Z"
   },
   {
    "duration": 1154,
    "start_time": "2024-08-11T16:17:29.655Z"
   },
   {
    "duration": 4,
    "start_time": "2024-08-11T16:17:30.812Z"
   },
   {
    "duration": 408,
    "start_time": "2024-08-11T16:17:30.817Z"
   },
   {
    "duration": 6,
    "start_time": "2024-08-11T16:17:31.227Z"
   },
   {
    "duration": 80,
    "start_time": "2024-08-11T16:17:31.235Z"
   },
   {
    "duration": 81,
    "start_time": "2024-08-11T16:17:31.316Z"
   },
   {
    "duration": 76,
    "start_time": "2024-08-11T16:17:31.399Z"
   },
   {
    "duration": 81,
    "start_time": "2024-08-11T16:17:31.477Z"
   },
   {
    "duration": 96,
    "start_time": "2024-08-11T16:17:31.560Z"
   },
   {
    "duration": 35,
    "start_time": "2024-08-11T16:19:55.384Z"
   },
   {
    "duration": 4,
    "start_time": "2024-08-11T16:24:38.229Z"
   },
   {
    "duration": 55,
    "start_time": "2024-08-11T16:25:06.174Z"
   },
   {
    "duration": 9,
    "start_time": "2024-08-11T16:25:44.154Z"
   },
   {
    "duration": 8,
    "start_time": "2024-08-11T16:25:54.689Z"
   },
   {
    "duration": 9,
    "start_time": "2024-08-11T16:25:59.623Z"
   },
   {
    "duration": 10,
    "start_time": "2024-08-11T16:30:35.080Z"
   },
   {
    "duration": 11,
    "start_time": "2024-08-11T16:30:40.538Z"
   },
   {
    "duration": 32,
    "start_time": "2024-08-11T16:32:21.244Z"
   },
   {
    "duration": 44,
    "start_time": "2024-08-11T16:32:30.528Z"
   },
   {
    "duration": 14,
    "start_time": "2024-08-11T16:32:51.513Z"
   },
   {
    "duration": 46,
    "start_time": "2024-08-11T16:33:01.770Z"
   },
   {
    "duration": 30,
    "start_time": "2024-08-11T16:45:07.864Z"
   },
   {
    "duration": 69,
    "start_time": "2024-08-11T16:52:02.019Z"
   },
   {
    "duration": 328,
    "start_time": "2024-08-11T16:52:45.719Z"
   },
   {
    "duration": 288,
    "start_time": "2024-08-11T17:02:17.188Z"
   },
   {
    "duration": 77,
    "start_time": "2024-08-11T17:03:07.715Z"
   },
   {
    "duration": 13,
    "start_time": "2024-08-11T17:03:19.053Z"
   },
   {
    "duration": 55,
    "start_time": "2024-08-11T17:05:05.024Z"
   },
   {
    "duration": 266,
    "start_time": "2024-08-11T17:06:08.529Z"
   },
   {
    "duration": 264,
    "start_time": "2024-08-11T17:06:55.438Z"
   },
   {
    "duration": 1168,
    "start_time": "2024-08-11T17:07:06.544Z"
   },
   {
    "duration": 4,
    "start_time": "2024-08-11T17:07:07.714Z"
   },
   {
    "duration": 335,
    "start_time": "2024-08-11T17:07:07.720Z"
   },
   {
    "duration": 6,
    "start_time": "2024-08-11T17:07:08.056Z"
   },
   {
    "duration": 26,
    "start_time": "2024-08-11T17:07:08.065Z"
   },
   {
    "duration": 76,
    "start_time": "2024-08-11T17:07:08.108Z"
   },
   {
    "duration": 89,
    "start_time": "2024-08-11T17:07:08.185Z"
   },
   {
    "duration": 79,
    "start_time": "2024-08-11T17:07:08.275Z"
   },
   {
    "duration": 88,
    "start_time": "2024-08-11T17:07:08.356Z"
   },
   {
    "duration": 61,
    "start_time": "2024-08-11T17:07:08.446Z"
   },
   {
    "duration": 357,
    "start_time": "2024-08-11T17:07:08.509Z"
   },
   {
    "duration": 62,
    "start_time": "2024-08-11T17:07:08.868Z"
   },
   {
    "duration": 276,
    "start_time": "2024-08-11T17:07:08.931Z"
   },
   {
    "duration": 105,
    "start_time": "2024-08-11T17:12:42.543Z"
   },
   {
    "duration": 28,
    "start_time": "2024-08-11T17:13:26.448Z"
   },
   {
    "duration": 11,
    "start_time": "2024-08-11T17:19:22.179Z"
   },
   {
    "duration": 53,
    "start_time": "2024-08-11T17:19:39.134Z"
   },
   {
    "duration": 55,
    "start_time": "2024-08-11T17:20:34.272Z"
   },
   {
    "duration": 54,
    "start_time": "2024-08-11T17:20:51.148Z"
   },
   {
    "duration": 693,
    "start_time": "2024-08-11T17:21:36.863Z"
   },
   {
    "duration": 9,
    "start_time": "2024-08-11T17:21:43.648Z"
   },
   {
    "duration": 55,
    "start_time": "2024-08-11T17:22:09.408Z"
   },
   {
    "duration": 57,
    "start_time": "2024-08-11T17:22:27.228Z"
   },
   {
    "duration": 11,
    "start_time": "2024-08-11T17:22:50.398Z"
   },
   {
    "duration": 10,
    "start_time": "2024-08-11T17:22:55.688Z"
   },
   {
    "duration": 11,
    "start_time": "2024-08-11T17:23:08.953Z"
   },
   {
    "duration": 67,
    "start_time": "2024-08-12T14:54:26.448Z"
   },
   {
    "duration": 43,
    "start_time": "2024-08-12T14:54:41.196Z"
   },
   {
    "duration": 1334,
    "start_time": "2024-08-12T14:54:46.634Z"
   },
   {
    "duration": 4,
    "start_time": "2024-08-12T14:54:47.970Z"
   },
   {
    "duration": 902,
    "start_time": "2024-08-12T14:54:47.976Z"
   },
   {
    "duration": 5,
    "start_time": "2024-08-12T14:54:48.880Z"
   },
   {
    "duration": 32,
    "start_time": "2024-08-12T14:54:48.887Z"
   },
   {
    "duration": 86,
    "start_time": "2024-08-12T14:54:48.920Z"
   },
   {
    "duration": 70,
    "start_time": "2024-08-12T14:54:49.008Z"
   },
   {
    "duration": 97,
    "start_time": "2024-08-12T14:54:49.080Z"
   },
   {
    "duration": 80,
    "start_time": "2024-08-12T14:54:49.179Z"
   },
   {
    "duration": 70,
    "start_time": "2024-08-12T14:54:49.261Z"
   },
   {
    "duration": 354,
    "start_time": "2024-08-12T14:54:49.333Z"
   },
   {
    "duration": 55,
    "start_time": "2024-08-12T14:54:49.689Z"
   },
   {
    "duration": 265,
    "start_time": "2024-08-12T14:54:49.745Z"
   },
   {
    "duration": 29,
    "start_time": "2024-08-12T14:54:50.013Z"
   },
   {
    "duration": 83,
    "start_time": "2024-08-12T14:54:50.044Z"
   },
   {
    "duration": 10,
    "start_time": "2024-08-12T14:54:50.128Z"
   },
   {
    "duration": 113,
    "start_time": "2024-08-12T14:54:50.139Z"
   },
   {
    "duration": 12,
    "start_time": "2024-08-12T14:54:56.834Z"
   },
   {
    "duration": 4,
    "start_time": "2024-08-12T14:55:34.542Z"
   },
   {
    "duration": 9,
    "start_time": "2024-08-12T14:55:40.135Z"
   },
   {
    "duration": 1105,
    "start_time": "2024-08-12T14:57:50.642Z"
   },
   {
    "duration": 14,
    "start_time": "2024-08-12T14:58:29.283Z"
   },
   {
    "duration": 11,
    "start_time": "2024-08-12T14:58:42.448Z"
   },
   {
    "duration": 1212,
    "start_time": "2024-08-12T14:58:52.571Z"
   },
   {
    "duration": 5,
    "start_time": "2024-08-12T14:58:53.785Z"
   },
   {
    "duration": 362,
    "start_time": "2024-08-12T14:58:53.792Z"
   },
   {
    "duration": 8,
    "start_time": "2024-08-12T14:58:54.156Z"
   },
   {
    "duration": 72,
    "start_time": "2024-08-12T14:58:54.167Z"
   },
   {
    "duration": 92,
    "start_time": "2024-08-12T14:58:54.241Z"
   },
   {
    "duration": 82,
    "start_time": "2024-08-12T14:58:54.335Z"
   },
   {
    "duration": 68,
    "start_time": "2024-08-12T14:58:54.419Z"
   },
   {
    "duration": 93,
    "start_time": "2024-08-12T14:58:54.489Z"
   },
   {
    "duration": 56,
    "start_time": "2024-08-12T14:58:54.584Z"
   },
   {
    "duration": 386,
    "start_time": "2024-08-12T14:58:54.642Z"
   },
   {
    "duration": 57,
    "start_time": "2024-08-12T14:58:55.029Z"
   },
   {
    "duration": 277,
    "start_time": "2024-08-12T14:58:55.087Z"
   },
   {
    "duration": 29,
    "start_time": "2024-08-12T14:58:55.367Z"
   },
   {
    "duration": 65,
    "start_time": "2024-08-12T14:58:55.406Z"
   },
   {
    "duration": 14,
    "start_time": "2024-08-12T14:58:55.473Z"
   },
   {
    "duration": 24,
    "start_time": "2024-08-12T14:58:55.489Z"
   },
   {
    "duration": 10,
    "start_time": "2024-08-12T14:58:55.515Z"
   },
   {
    "duration": 12,
    "start_time": "2024-08-12T15:00:04.251Z"
   },
   {
    "duration": 105,
    "start_time": "2024-08-12T15:00:11.906Z"
   },
   {
    "duration": 13,
    "start_time": "2024-08-12T15:00:38.830Z"
   },
   {
    "duration": 10,
    "start_time": "2024-08-12T15:00:50.934Z"
   },
   {
    "duration": 11,
    "start_time": "2024-08-12T15:01:56.444Z"
   },
   {
    "duration": 1095,
    "start_time": "2024-08-12T15:04:02.966Z"
   },
   {
    "duration": 1155,
    "start_time": "2024-08-12T15:05:40.395Z"
   },
   {
    "duration": 17,
    "start_time": "2024-08-12T15:05:52.614Z"
   },
   {
    "duration": 1250,
    "start_time": "2024-08-12T15:05:58.575Z"
   },
   {
    "duration": 5,
    "start_time": "2024-08-12T15:05:59.827Z"
   },
   {
    "duration": 340,
    "start_time": "2024-08-12T15:05:59.833Z"
   },
   {
    "duration": 6,
    "start_time": "2024-08-12T15:06:00.174Z"
   },
   {
    "duration": 77,
    "start_time": "2024-08-12T15:06:00.182Z"
   },
   {
    "duration": 116,
    "start_time": "2024-08-12T15:06:00.260Z"
   },
   {
    "duration": 101,
    "start_time": "2024-08-12T15:06:00.378Z"
   },
   {
    "duration": 90,
    "start_time": "2024-08-12T15:06:00.481Z"
   },
   {
    "duration": 85,
    "start_time": "2024-08-12T15:06:00.573Z"
   },
   {
    "duration": 136,
    "start_time": "2024-08-12T15:06:00.660Z"
   },
   {
    "duration": 428,
    "start_time": "2024-08-12T15:06:00.798Z"
   },
   {
    "duration": 60,
    "start_time": "2024-08-12T15:06:01.228Z"
   },
   {
    "duration": 413,
    "start_time": "2024-08-12T15:06:01.290Z"
   },
   {
    "duration": 28,
    "start_time": "2024-08-12T15:06:01.706Z"
   },
   {
    "duration": 142,
    "start_time": "2024-08-12T15:06:01.735Z"
   },
   {
    "duration": 10,
    "start_time": "2024-08-12T15:06:01.879Z"
   },
   {
    "duration": 38,
    "start_time": "2024-08-12T15:06:01.891Z"
   },
   {
    "duration": 48,
    "start_time": "2024-08-12T15:06:01.930Z"
   },
   {
    "duration": 30,
    "start_time": "2024-08-12T15:07:17.598Z"
   },
   {
    "duration": 1243,
    "start_time": "2024-08-12T15:08:47.435Z"
   },
   {
    "duration": 4,
    "start_time": "2024-08-12T15:08:48.681Z"
   },
   {
    "duration": 374,
    "start_time": "2024-08-12T15:08:48.687Z"
   },
   {
    "duration": 7,
    "start_time": "2024-08-12T15:08:49.063Z"
   },
   {
    "duration": 39,
    "start_time": "2024-08-12T15:08:49.072Z"
   },
   {
    "duration": 77,
    "start_time": "2024-08-12T15:08:49.113Z"
   },
   {
    "duration": 85,
    "start_time": "2024-08-12T15:08:49.192Z"
   },
   {
    "duration": 88,
    "start_time": "2024-08-12T15:08:49.278Z"
   },
   {
    "duration": 96,
    "start_time": "2024-08-12T15:08:49.367Z"
   },
   {
    "duration": 63,
    "start_time": "2024-08-12T15:08:49.465Z"
   },
   {
    "duration": 392,
    "start_time": "2024-08-12T15:08:49.530Z"
   },
   {
    "duration": 62,
    "start_time": "2024-08-12T15:08:49.924Z"
   },
   {
    "duration": 306,
    "start_time": "2024-08-12T15:08:49.987Z"
   },
   {
    "duration": 29,
    "start_time": "2024-08-12T15:08:50.295Z"
   },
   {
    "duration": 94,
    "start_time": "2024-08-12T15:08:50.326Z"
   },
   {
    "duration": 10,
    "start_time": "2024-08-12T15:08:50.422Z"
   },
   {
    "duration": 17,
    "start_time": "2024-08-12T15:08:50.433Z"
   },
   {
    "duration": 19,
    "start_time": "2024-08-12T15:08:50.452Z"
   },
   {
    "duration": 29,
    "start_time": "2024-08-12T15:08:50.473Z"
   },
   {
    "duration": 8,
    "start_time": "2024-08-12T15:34:09.346Z"
   },
   {
    "duration": 7,
    "start_time": "2024-08-12T15:34:16.110Z"
   },
   {
    "duration": 33,
    "start_time": "2024-08-12T15:36:22.398Z"
   },
   {
    "duration": 32,
    "start_time": "2024-08-12T15:36:26.478Z"
   },
   {
    "duration": 22,
    "start_time": "2024-08-12T15:36:50.498Z"
   },
   {
    "duration": 117,
    "start_time": "2024-08-12T15:36:57.152Z"
   },
   {
    "duration": 5,
    "start_time": "2024-08-12T15:37:08.317Z"
   },
   {
    "duration": 35,
    "start_time": "2024-08-12T15:38:12.896Z"
   },
   {
    "duration": 41,
    "start_time": "2024-08-12T15:47:15.726Z"
   },
   {
    "duration": 49,
    "start_time": "2024-08-12T15:47:42.003Z"
   },
   {
    "duration": 44,
    "start_time": "2024-08-12T15:49:04.004Z"
   },
   {
    "duration": 39,
    "start_time": "2024-08-12T15:56:44.173Z"
   },
   {
    "duration": 39,
    "start_time": "2024-08-12T15:56:50.103Z"
   },
   {
    "duration": 131,
    "start_time": "2024-08-12T15:57:19.243Z"
   },
   {
    "duration": 1377,
    "start_time": "2024-08-12T18:55:11.302Z"
   },
   {
    "duration": 5,
    "start_time": "2024-08-12T18:55:12.684Z"
   },
   {
    "duration": 1170,
    "start_time": "2024-08-12T18:55:12.690Z"
   },
   {
    "duration": 6,
    "start_time": "2024-08-12T18:55:13.861Z"
   },
   {
    "duration": 58,
    "start_time": "2024-08-12T18:55:13.869Z"
   },
   {
    "duration": 75,
    "start_time": "2024-08-12T18:55:13.929Z"
   },
   {
    "duration": 84,
    "start_time": "2024-08-12T18:55:14.005Z"
   },
   {
    "duration": 74,
    "start_time": "2024-08-12T18:55:14.091Z"
   },
   {
    "duration": 103,
    "start_time": "2024-08-12T18:55:14.167Z"
   },
   {
    "duration": 68,
    "start_time": "2024-08-12T18:55:14.271Z"
   },
   {
    "duration": 386,
    "start_time": "2024-08-12T18:55:14.342Z"
   },
   {
    "duration": 65,
    "start_time": "2024-08-12T18:55:14.729Z"
   },
   {
    "duration": 269,
    "start_time": "2024-08-12T18:55:14.795Z"
   },
   {
    "duration": 33,
    "start_time": "2024-08-12T18:55:15.066Z"
   },
   {
    "duration": 69,
    "start_time": "2024-08-12T18:55:15.100Z"
   },
   {
    "duration": 17,
    "start_time": "2024-08-12T18:55:15.170Z"
   },
   {
    "duration": 9,
    "start_time": "2024-08-12T18:55:15.189Z"
   },
   {
    "duration": 20,
    "start_time": "2024-08-12T18:55:15.200Z"
   },
   {
    "duration": 76,
    "start_time": "2024-08-12T18:55:15.221Z"
   },
   {
    "duration": 51,
    "start_time": "2024-08-12T18:55:15.299Z"
   },
   {
    "duration": 44,
    "start_time": "2024-08-12T18:55:15.351Z"
   },
   {
    "duration": 3,
    "start_time": "2024-08-12T18:58:26.408Z"
   },
   {
    "duration": 148,
    "start_time": "2024-08-12T19:01:09.317Z"
   },
   {
    "duration": 14,
    "start_time": "2024-08-12T19:03:31.331Z"
   },
   {
    "duration": 17,
    "start_time": "2024-08-12T19:03:48.536Z"
   },
   {
    "duration": 28,
    "start_time": "2024-08-12T19:04:14.056Z"
   },
   {
    "duration": 26,
    "start_time": "2024-08-12T19:04:28.501Z"
   },
   {
    "duration": 21,
    "start_time": "2024-08-12T19:04:34.066Z"
   },
   {
    "duration": 18,
    "start_time": "2024-08-12T19:04:49.782Z"
   },
   {
    "duration": 19,
    "start_time": "2024-08-12T19:04:56.021Z"
   },
   {
    "duration": 4,
    "start_time": "2024-08-12T19:05:38.825Z"
   },
   {
    "duration": 5,
    "start_time": "2024-08-12T19:08:18.386Z"
   },
   {
    "duration": 19,
    "start_time": "2024-08-12T19:16:49.781Z"
   },
   {
    "duration": 3,
    "start_time": "2024-08-12T19:17:02.757Z"
   },
   {
    "duration": 11,
    "start_time": "2024-08-12T19:17:04.556Z"
   },
   {
    "duration": 10,
    "start_time": "2024-08-12T19:17:57.852Z"
   },
   {
    "duration": 9,
    "start_time": "2024-08-12T19:18:23.074Z"
   },
   {
    "duration": 3,
    "start_time": "2024-08-12T19:28:46.287Z"
   },
   {
    "duration": 6,
    "start_time": "2024-08-12T19:32:53.637Z"
   },
   {
    "duration": 1320,
    "start_time": "2024-08-12T19:32:59.857Z"
   },
   {
    "duration": 5,
    "start_time": "2024-08-12T19:33:01.179Z"
   },
   {
    "duration": 78,
    "start_time": "2024-08-12T19:33:01.186Z"
   },
   {
    "duration": 409,
    "start_time": "2024-08-12T19:33:01.266Z"
   },
   {
    "duration": 11,
    "start_time": "2024-08-12T19:33:01.678Z"
   },
   {
    "duration": 79,
    "start_time": "2024-08-12T19:33:01.691Z"
   },
   {
    "duration": 82,
    "start_time": "2024-08-12T19:33:01.772Z"
   },
   {
    "duration": 90,
    "start_time": "2024-08-12T19:33:01.855Z"
   },
   {
    "duration": 78,
    "start_time": "2024-08-12T19:33:01.947Z"
   },
   {
    "duration": 91,
    "start_time": "2024-08-12T19:33:02.028Z"
   },
   {
    "duration": 64,
    "start_time": "2024-08-12T19:33:02.120Z"
   },
   {
    "duration": 371,
    "start_time": "2024-08-12T19:33:02.186Z"
   },
   {
    "duration": 69,
    "start_time": "2024-08-12T19:33:02.558Z"
   },
   {
    "duration": 278,
    "start_time": "2024-08-12T19:33:02.629Z"
   },
   {
    "duration": 28,
    "start_time": "2024-08-12T19:33:02.908Z"
   },
   {
    "duration": 79,
    "start_time": "2024-08-12T19:33:02.938Z"
   },
   {
    "duration": 11,
    "start_time": "2024-08-12T19:33:03.018Z"
   },
   {
    "duration": 10,
    "start_time": "2024-08-12T19:33:03.031Z"
   },
   {
    "duration": 15,
    "start_time": "2024-08-12T19:33:03.043Z"
   },
   {
    "duration": 50,
    "start_time": "2024-08-12T19:33:03.060Z"
   },
   {
    "duration": 55,
    "start_time": "2024-08-12T19:33:03.112Z"
   },
   {
    "duration": 42,
    "start_time": "2024-08-12T19:33:03.168Z"
   },
   {
    "duration": 3,
    "start_time": "2024-08-12T19:33:03.211Z"
   },
   {
    "duration": 46,
    "start_time": "2024-08-12T19:33:03.216Z"
   },
   {
    "duration": 2,
    "start_time": "2024-08-12T19:33:03.264Z"
   },
   {
    "duration": 129,
    "start_time": "2024-08-12T19:33:03.268Z"
   },
   {
    "duration": 9,
    "start_time": "2024-08-12T19:35:25.717Z"
   },
   {
    "duration": 1157,
    "start_time": "2024-08-12T19:35:31.142Z"
   },
   {
    "duration": 5,
    "start_time": "2024-08-12T19:35:32.300Z"
   },
   {
    "duration": 28,
    "start_time": "2024-08-12T19:35:32.307Z"
   },
   {
    "duration": 384,
    "start_time": "2024-08-12T19:35:32.337Z"
   },
   {
    "duration": 6,
    "start_time": "2024-08-12T19:35:32.723Z"
   },
   {
    "duration": 32,
    "start_time": "2024-08-12T19:35:32.731Z"
   },
   {
    "duration": 93,
    "start_time": "2024-08-12T19:35:32.765Z"
   },
   {
    "duration": 85,
    "start_time": "2024-08-12T19:35:32.860Z"
   },
   {
    "duration": 78,
    "start_time": "2024-08-12T19:35:32.946Z"
   },
   {
    "duration": 85,
    "start_time": "2024-08-12T19:35:33.027Z"
   },
   {
    "duration": 44,
    "start_time": "2024-08-12T19:35:33.113Z"
   },
   {
    "duration": 375,
    "start_time": "2024-08-12T19:35:33.158Z"
   },
   {
    "duration": 65,
    "start_time": "2024-08-12T19:35:33.535Z"
   },
   {
    "duration": 273,
    "start_time": "2024-08-12T19:35:33.601Z"
   },
   {
    "duration": 28,
    "start_time": "2024-08-12T19:35:33.883Z"
   },
   {
    "duration": 63,
    "start_time": "2024-08-12T19:35:33.912Z"
   },
   {
    "duration": 11,
    "start_time": "2024-08-12T19:35:33.985Z"
   },
   {
    "duration": 12,
    "start_time": "2024-08-12T19:35:33.998Z"
   },
   {
    "duration": 38,
    "start_time": "2024-08-12T19:35:34.012Z"
   },
   {
    "duration": 32,
    "start_time": "2024-08-12T19:35:34.052Z"
   },
   {
    "duration": 50,
    "start_time": "2024-08-12T19:35:34.086Z"
   },
   {
    "duration": 39,
    "start_time": "2024-08-12T19:35:34.138Z"
   },
   {
    "duration": 3,
    "start_time": "2024-08-12T19:35:34.184Z"
   },
   {
    "duration": 47,
    "start_time": "2024-08-12T19:35:34.189Z"
   },
   {
    "duration": 3,
    "start_time": "2024-08-12T19:35:34.238Z"
   },
   {
    "duration": 104,
    "start_time": "2024-08-12T19:35:34.243Z"
   },
   {
    "duration": 3,
    "start_time": "2024-08-12T19:36:30.328Z"
   },
   {
    "duration": 11,
    "start_time": "2024-08-12T19:36:37.367Z"
   },
   {
    "duration": 5,
    "start_time": "2024-08-12T19:37:06.273Z"
   },
   {
    "duration": 7,
    "start_time": "2024-08-12T19:37:11.907Z"
   },
   {
    "duration": 35,
    "start_time": "2024-08-12T19:39:04.437Z"
   },
   {
    "duration": 3,
    "start_time": "2024-08-12T19:39:52.578Z"
   },
   {
    "duration": 8,
    "start_time": "2024-08-12T19:40:06.277Z"
   },
   {
    "duration": 25,
    "start_time": "2024-08-12T19:44:55.852Z"
   },
   {
    "duration": 3,
    "start_time": "2024-08-12T19:45:13.162Z"
   },
   {
    "duration": 8,
    "start_time": "2024-08-12T19:45:21.022Z"
   },
   {
    "duration": 23,
    "start_time": "2024-08-12T19:46:45.892Z"
   },
   {
    "duration": 4,
    "start_time": "2024-08-12T19:46:58.807Z"
   },
   {
    "duration": 13,
    "start_time": "2024-08-12T19:47:09.656Z"
   },
   {
    "duration": 3,
    "start_time": "2024-08-12T19:47:15.267Z"
   },
   {
    "duration": 10,
    "start_time": "2024-08-12T19:47:18.898Z"
   },
   {
    "duration": 11,
    "start_time": "2024-08-12T20:05:25.332Z"
   },
   {
    "duration": 9,
    "start_time": "2024-08-12T20:06:01.492Z"
   },
   {
    "duration": 812,
    "start_time": "2024-08-12T20:12:01.001Z"
   },
   {
    "duration": 4,
    "start_time": "2024-08-12T20:13:12.306Z"
   },
   {
    "duration": 11,
    "start_time": "2024-08-12T20:14:45.675Z"
   },
   {
    "duration": 3,
    "start_time": "2024-08-12T20:15:00.126Z"
   },
   {
    "duration": 3,
    "start_time": "2024-08-12T20:15:52.701Z"
   },
   {
    "duration": 4,
    "start_time": "2024-08-12T20:15:55.481Z"
   },
   {
    "duration": 3,
    "start_time": "2024-08-12T20:15:58.236Z"
   },
   {
    "duration": 3,
    "start_time": "2024-08-12T20:16:21.085Z"
   },
   {
    "duration": 14,
    "start_time": "2024-08-12T20:18:00.146Z"
   },
   {
    "duration": 7,
    "start_time": "2024-08-12T20:18:08.466Z"
   },
   {
    "duration": 6,
    "start_time": "2024-08-12T20:18:22.581Z"
   },
   {
    "duration": 6,
    "start_time": "2024-08-12T20:18:33.410Z"
   },
   {
    "duration": 7,
    "start_time": "2024-08-12T20:18:47.355Z"
   },
   {
    "duration": 7,
    "start_time": "2024-08-12T20:19:13.890Z"
   },
   {
    "duration": 7,
    "start_time": "2024-08-12T20:19:33.316Z"
   },
   {
    "duration": 6,
    "start_time": "2024-08-12T20:19:54.941Z"
   },
   {
    "duration": 7,
    "start_time": "2024-08-12T20:20:11.245Z"
   },
   {
    "duration": 60,
    "start_time": "2024-08-12T20:39:01.044Z"
   },
   {
    "duration": 4,
    "start_time": "2024-08-12T20:39:48.329Z"
   },
   {
    "duration": 5,
    "start_time": "2024-08-12T20:39:53.249Z"
   },
   {
    "duration": 3,
    "start_time": "2024-08-12T20:39:59.769Z"
   },
   {
    "duration": 3,
    "start_time": "2024-08-12T20:40:05.329Z"
   },
   {
    "duration": 4,
    "start_time": "2024-08-12T20:40:10.584Z"
   },
   {
    "duration": 4,
    "start_time": "2024-08-12T20:40:15.489Z"
   },
   {
    "duration": 3,
    "start_time": "2024-08-12T20:40:19.809Z"
   },
   {
    "duration": 8,
    "start_time": "2024-08-12T20:43:32.279Z"
   },
   {
    "duration": 7,
    "start_time": "2024-08-12T20:43:37.959Z"
   },
   {
    "duration": 7,
    "start_time": "2024-08-12T20:43:41.410Z"
   },
   {
    "duration": 8,
    "start_time": "2024-08-12T20:43:45.144Z"
   },
   {
    "duration": 1158,
    "start_time": "2024-08-12T21:17:43.108Z"
   },
   {
    "duration": 5,
    "start_time": "2024-08-12T21:17:44.267Z"
   },
   {
    "duration": 12,
    "start_time": "2024-08-12T21:17:44.273Z"
   },
   {
    "duration": 335,
    "start_time": "2024-08-12T21:17:44.287Z"
   },
   {
    "duration": 6,
    "start_time": "2024-08-12T21:17:44.624Z"
   },
   {
    "duration": 29,
    "start_time": "2024-08-12T21:17:44.631Z"
   },
   {
    "duration": 87,
    "start_time": "2024-08-12T21:17:44.661Z"
   },
   {
    "duration": 89,
    "start_time": "2024-08-12T21:17:44.750Z"
   },
   {
    "duration": 75,
    "start_time": "2024-08-12T21:17:44.840Z"
   },
   {
    "duration": 87,
    "start_time": "2024-08-12T21:17:44.917Z"
   },
   {
    "duration": 121,
    "start_time": "2024-08-12T21:17:45.006Z"
   },
   {
    "duration": 358,
    "start_time": "2024-08-12T21:17:45.129Z"
   },
   {
    "duration": 57,
    "start_time": "2024-08-12T21:17:45.488Z"
   },
   {
    "duration": 267,
    "start_time": "2024-08-12T21:17:45.547Z"
   },
   {
    "duration": 28,
    "start_time": "2024-08-12T21:17:45.816Z"
   },
   {
    "duration": 73,
    "start_time": "2024-08-12T21:17:45.846Z"
   },
   {
    "duration": 11,
    "start_time": "2024-08-12T21:17:45.921Z"
   },
   {
    "duration": 18,
    "start_time": "2024-08-12T21:17:45.934Z"
   },
   {
    "duration": 26,
    "start_time": "2024-08-12T21:17:45.954Z"
   },
   {
    "duration": 14,
    "start_time": "2024-08-12T21:17:45.981Z"
   },
   {
    "duration": 70,
    "start_time": "2024-08-12T21:17:45.997Z"
   },
   {
    "duration": 41,
    "start_time": "2024-08-12T21:17:46.068Z"
   },
   {
    "duration": 2,
    "start_time": "2024-08-12T21:17:46.110Z"
   },
   {
    "duration": 21,
    "start_time": "2024-08-12T21:17:46.114Z"
   },
   {
    "duration": 3,
    "start_time": "2024-08-12T21:17:46.136Z"
   },
   {
    "duration": 5,
    "start_time": "2024-08-12T21:17:46.140Z"
   },
   {
    "duration": 14,
    "start_time": "2024-08-12T21:17:46.146Z"
   },
   {
    "duration": 35,
    "start_time": "2024-08-12T21:17:46.185Z"
   },
   {
    "duration": 39,
    "start_time": "2024-08-12T21:17:46.222Z"
   },
   {
    "duration": 70,
    "start_time": "2024-08-12T21:17:46.263Z"
   },
   {
    "duration": 24,
    "start_time": "2024-08-12T21:17:46.335Z"
   },
   {
    "duration": 3,
    "start_time": "2024-08-12T21:17:46.361Z"
   },
   {
    "duration": 10,
    "start_time": "2024-08-12T21:17:46.366Z"
   },
   {
    "duration": 23,
    "start_time": "2024-08-12T21:17:46.378Z"
   },
   {
    "duration": 3,
    "start_time": "2024-08-12T21:17:46.403Z"
   },
   {
    "duration": 12,
    "start_time": "2024-08-12T21:17:46.408Z"
   },
   {
    "duration": 11,
    "start_time": "2024-08-12T21:17:46.422Z"
   },
   {
    "duration": 5,
    "start_time": "2024-08-12T21:17:46.434Z"
   },
   {
    "duration": 7,
    "start_time": "2024-08-12T21:17:46.441Z"
   },
   {
    "duration": 5,
    "start_time": "2024-08-12T21:17:46.449Z"
   },
   {
    "duration": 31,
    "start_time": "2024-08-12T21:17:46.455Z"
   },
   {
    "duration": 7,
    "start_time": "2024-08-12T21:17:46.488Z"
   },
   {
    "duration": 19,
    "start_time": "2024-08-12T21:17:46.497Z"
   },
   {
    "duration": 9,
    "start_time": "2024-08-12T21:17:46.518Z"
   },
   {
    "duration": 21,
    "start_time": "2024-08-12T21:17:46.529Z"
   },
   {
    "duration": 26,
    "start_time": "2024-08-12T21:17:46.552Z"
   },
   {
    "duration": 11,
    "start_time": "2024-08-12T21:17:46.585Z"
   },
   {
    "duration": 7,
    "start_time": "2024-08-12T21:17:46.598Z"
   },
   {
    "duration": 10,
    "start_time": "2024-08-12T21:17:46.606Z"
   },
   {
    "duration": 26,
    "start_time": "2024-08-12T21:17:46.618Z"
   },
   {
    "duration": 37,
    "start_time": "2024-08-12T21:17:46.645Z"
   },
   {
    "duration": 20,
    "start_time": "2024-08-12T21:17:46.683Z"
   },
   {
    "duration": 12,
    "start_time": "2024-08-12T21:17:46.704Z"
   },
   {
    "duration": 18,
    "start_time": "2024-08-12T21:17:46.717Z"
   },
   {
    "duration": 21,
    "start_time": "2024-08-12T21:17:46.737Z"
   },
   {
    "duration": 15,
    "start_time": "2024-08-12T21:17:46.759Z"
   },
   {
    "duration": 7,
    "start_time": "2024-08-12T21:17:46.775Z"
   },
   {
    "duration": 8,
    "start_time": "2024-08-12T21:17:46.784Z"
   },
   {
    "duration": 8,
    "start_time": "2024-08-12T21:17:46.793Z"
   },
   {
    "duration": 1446,
    "start_time": "2024-08-12T22:04:17.564Z"
   },
   {
    "duration": 5,
    "start_time": "2024-08-12T22:04:19.012Z"
   },
   {
    "duration": 12,
    "start_time": "2024-08-12T22:04:19.019Z"
   },
   {
    "duration": 914,
    "start_time": "2024-08-12T22:04:19.034Z"
   },
   {
    "duration": 14,
    "start_time": "2024-08-12T22:04:19.953Z"
   },
   {
    "duration": 31,
    "start_time": "2024-08-12T22:04:19.969Z"
   },
   {
    "duration": 90,
    "start_time": "2024-08-12T22:04:20.001Z"
   },
   {
    "duration": 82,
    "start_time": "2024-08-12T22:04:20.092Z"
   },
   {
    "duration": 83,
    "start_time": "2024-08-12T22:04:20.176Z"
   },
   {
    "duration": 99,
    "start_time": "2024-08-12T22:04:20.261Z"
   },
   {
    "duration": 66,
    "start_time": "2024-08-12T22:04:20.362Z"
   },
   {
    "duration": 495,
    "start_time": "2024-08-12T22:04:20.430Z"
   },
   {
    "duration": 71,
    "start_time": "2024-08-12T22:04:20.927Z"
   },
   {
    "duration": 305,
    "start_time": "2024-08-12T22:04:21.001Z"
   },
   {
    "duration": 28,
    "start_time": "2024-08-12T22:04:21.309Z"
   },
   {
    "duration": 79,
    "start_time": "2024-08-12T22:04:21.338Z"
   },
   {
    "duration": 11,
    "start_time": "2024-08-12T22:04:21.418Z"
   },
   {
    "duration": 39,
    "start_time": "2024-08-12T22:04:21.430Z"
   },
   {
    "duration": 12,
    "start_time": "2024-08-12T22:04:21.471Z"
   },
   {
    "duration": 25,
    "start_time": "2024-08-12T22:04:21.485Z"
   },
   {
    "duration": 59,
    "start_time": "2024-08-12T22:04:21.511Z"
   },
   {
    "duration": 46,
    "start_time": "2024-08-12T22:04:21.572Z"
   },
   {
    "duration": 3,
    "start_time": "2024-08-12T22:04:21.620Z"
   },
   {
    "duration": 36,
    "start_time": "2024-08-12T22:04:21.625Z"
   },
   {
    "duration": 6,
    "start_time": "2024-08-12T22:04:21.663Z"
   },
   {
    "duration": 24,
    "start_time": "2024-08-12T22:04:21.671Z"
   },
   {
    "duration": 18,
    "start_time": "2024-08-12T22:04:21.697Z"
   },
   {
    "duration": 81,
    "start_time": "2024-08-12T22:04:21.717Z"
   },
   {
    "duration": 3,
    "start_time": "2024-08-12T22:04:21.800Z"
   },
   {
    "duration": 25,
    "start_time": "2024-08-12T22:04:21.804Z"
   },
   {
    "duration": 49,
    "start_time": "2024-08-12T22:04:21.830Z"
   },
   {
    "duration": 4,
    "start_time": "2024-08-12T22:04:21.881Z"
   },
   {
    "duration": 19,
    "start_time": "2024-08-12T22:04:21.887Z"
   },
   {
    "duration": 23,
    "start_time": "2024-08-12T22:04:21.908Z"
   },
   {
    "duration": 17,
    "start_time": "2024-08-12T22:04:21.933Z"
   },
   {
    "duration": 14,
    "start_time": "2024-08-12T22:04:21.951Z"
   },
   {
    "duration": 24,
    "start_time": "2024-08-12T22:04:21.966Z"
   },
   {
    "duration": 15,
    "start_time": "2024-08-12T22:04:21.992Z"
   },
   {
    "duration": 11,
    "start_time": "2024-08-12T22:04:22.009Z"
   },
   {
    "duration": 5,
    "start_time": "2024-08-12T22:04:22.021Z"
   },
   {
    "duration": 44,
    "start_time": "2024-08-12T22:04:22.031Z"
   },
   {
    "duration": 8,
    "start_time": "2024-08-12T22:04:22.076Z"
   },
   {
    "duration": 48,
    "start_time": "2024-08-12T22:04:22.086Z"
   },
   {
    "duration": 8,
    "start_time": "2024-08-12T22:04:22.136Z"
   },
   {
    "duration": 31,
    "start_time": "2024-08-12T22:04:22.147Z"
   },
   {
    "duration": 44,
    "start_time": "2024-08-12T22:04:22.180Z"
   },
   {
    "duration": 44,
    "start_time": "2024-08-12T22:04:22.225Z"
   },
   {
    "duration": 9,
    "start_time": "2024-08-12T22:04:22.270Z"
   },
   {
    "duration": 50,
    "start_time": "2024-08-12T22:04:22.281Z"
   },
   {
    "duration": 36,
    "start_time": "2024-08-12T22:04:22.333Z"
   },
   {
    "duration": 20,
    "start_time": "2024-08-12T22:04:22.370Z"
   },
   {
    "duration": 10,
    "start_time": "2024-08-12T22:04:22.392Z"
   },
   {
    "duration": 10,
    "start_time": "2024-08-12T22:04:22.404Z"
   },
   {
    "duration": 10,
    "start_time": "2024-08-12T22:04:22.415Z"
   },
   {
    "duration": 23,
    "start_time": "2024-08-12T22:04:22.426Z"
   },
   {
    "duration": 11,
    "start_time": "2024-08-12T22:04:22.450Z"
   },
   {
    "duration": 30,
    "start_time": "2024-08-12T22:04:22.462Z"
   },
   {
    "duration": 11,
    "start_time": "2024-08-12T22:04:22.496Z"
   },
   {
    "duration": 8,
    "start_time": "2024-08-12T22:04:22.509Z"
   },
   {
    "duration": 45,
    "start_time": "2024-08-13T07:49:58.975Z"
   },
   {
    "duration": 1347,
    "start_time": "2024-08-13T07:50:06.460Z"
   },
   {
    "duration": 5,
    "start_time": "2024-08-13T07:50:07.809Z"
   },
   {
    "duration": 70,
    "start_time": "2024-08-13T07:50:07.815Z"
   },
   {
    "duration": 949,
    "start_time": "2024-08-13T07:50:07.887Z"
   },
   {
    "duration": 6,
    "start_time": "2024-08-13T07:50:08.839Z"
   },
   {
    "duration": 83,
    "start_time": "2024-08-13T07:50:08.861Z"
   },
   {
    "duration": 74,
    "start_time": "2024-08-13T07:50:08.946Z"
   },
   {
    "duration": 104,
    "start_time": "2024-08-13T07:50:09.022Z"
   },
   {
    "duration": 71,
    "start_time": "2024-08-13T07:50:09.127Z"
   },
   {
    "duration": 83,
    "start_time": "2024-08-13T07:50:09.199Z"
   },
   {
    "duration": 58,
    "start_time": "2024-08-13T07:50:09.284Z"
   },
   {
    "duration": 384,
    "start_time": "2024-08-13T07:50:09.344Z"
   },
   {
    "duration": 67,
    "start_time": "2024-08-13T07:50:09.730Z"
   },
   {
    "duration": 185,
    "start_time": "2024-08-13T07:50:09.800Z"
   },
   {
    "duration": 246,
    "start_time": "2024-08-13T07:50:09.987Z"
   },
   {
    "duration": 29,
    "start_time": "2024-08-13T07:50:10.235Z"
   },
   {
    "duration": 67,
    "start_time": "2024-08-13T07:50:10.266Z"
   },
   {
    "duration": 10,
    "start_time": "2024-08-13T07:50:10.334Z"
   },
   {
    "duration": 35,
    "start_time": "2024-08-13T07:50:10.345Z"
   },
   {
    "duration": 63,
    "start_time": "2024-08-13T07:50:10.381Z"
   },
   {
    "duration": 59,
    "start_time": "2024-08-13T07:50:10.446Z"
   },
   {
    "duration": 69,
    "start_time": "2024-08-13T07:50:10.507Z"
   },
   {
    "duration": 39,
    "start_time": "2024-08-13T07:50:10.578Z"
   },
   {
    "duration": 2,
    "start_time": "2024-08-13T07:50:10.619Z"
   },
   {
    "duration": 46,
    "start_time": "2024-08-13T07:50:10.623Z"
   },
   {
    "duration": 24,
    "start_time": "2024-08-13T07:50:10.671Z"
   },
   {
    "duration": 45,
    "start_time": "2024-08-13T07:50:10.697Z"
   },
   {
    "duration": 31,
    "start_time": "2024-08-13T07:50:10.744Z"
   },
   {
    "duration": 70,
    "start_time": "2024-08-13T07:50:10.777Z"
   },
   {
    "duration": 2,
    "start_time": "2024-08-13T07:50:10.849Z"
   },
   {
    "duration": 39,
    "start_time": "2024-08-13T07:50:10.852Z"
   },
   {
    "duration": 73,
    "start_time": "2024-08-13T07:50:10.892Z"
   },
   {
    "duration": 57,
    "start_time": "2024-08-13T07:50:10.967Z"
   },
   {
    "duration": 30,
    "start_time": "2024-08-13T07:50:11.026Z"
   },
   {
    "duration": 55,
    "start_time": "2024-08-13T07:50:11.058Z"
   },
   {
    "duration": 42,
    "start_time": "2024-08-13T07:50:11.114Z"
   },
   {
    "duration": 50,
    "start_time": "2024-08-13T07:50:11.158Z"
   },
   {
    "duration": 71,
    "start_time": "2024-08-13T07:50:11.210Z"
   },
   {
    "duration": 24,
    "start_time": "2024-08-13T07:50:11.283Z"
   },
   {
    "duration": 60,
    "start_time": "2024-08-13T07:50:11.308Z"
   },
   {
    "duration": 42,
    "start_time": "2024-08-13T07:50:11.371Z"
   },
   {
    "duration": 29,
    "start_time": "2024-08-13T07:50:11.414Z"
   },
   {
    "duration": 40,
    "start_time": "2024-08-13T07:50:11.444Z"
   },
   {
    "duration": 47,
    "start_time": "2024-08-13T07:50:11.486Z"
   },
   {
    "duration": 19,
    "start_time": "2024-08-13T07:50:11.535Z"
   },
   {
    "duration": 45,
    "start_time": "2024-08-13T07:50:11.556Z"
   },
   {
    "duration": 77,
    "start_time": "2024-08-13T07:50:11.603Z"
   },
   {
    "duration": 64,
    "start_time": "2024-08-13T07:50:11.681Z"
   },
   {
    "duration": 82,
    "start_time": "2024-08-13T07:50:11.747Z"
   },
   {
    "duration": 51,
    "start_time": "2024-08-13T07:50:11.831Z"
   },
   {
    "duration": 45,
    "start_time": "2024-08-13T07:50:11.884Z"
   },
   {
    "duration": 29,
    "start_time": "2024-08-13T07:50:11.931Z"
   },
   {
    "duration": 108,
    "start_time": "2024-08-13T07:50:11.962Z"
   },
   {
    "duration": 32,
    "start_time": "2024-08-13T07:50:12.071Z"
   },
   {
    "duration": 28,
    "start_time": "2024-08-13T07:50:12.105Z"
   },
   {
    "duration": 38,
    "start_time": "2024-08-13T07:50:12.134Z"
   },
   {
    "duration": 19,
    "start_time": "2024-08-13T07:50:12.173Z"
   },
   {
    "duration": 35,
    "start_time": "2024-08-13T07:50:12.193Z"
   },
   {
    "duration": 36,
    "start_time": "2024-08-13T07:50:12.230Z"
   },
   {
    "duration": 20,
    "start_time": "2024-08-13T07:50:12.268Z"
   },
   {
    "duration": 177,
    "start_time": "2024-08-13T07:51:52.195Z"
   },
   {
    "duration": 39,
    "start_time": "2024-08-13T07:57:18.124Z"
   },
   {
    "duration": 18,
    "start_time": "2024-08-13T07:57:24.503Z"
   },
   {
    "duration": 8,
    "start_time": "2024-08-13T07:57:45.908Z"
   },
   {
    "duration": 5,
    "start_time": "2024-08-13T07:57:58.336Z"
   },
   {
    "duration": 5,
    "start_time": "2024-08-13T07:58:08.189Z"
   },
   {
    "duration": 6,
    "start_time": "2024-08-13T07:58:15.493Z"
   },
   {
    "duration": 6,
    "start_time": "2024-08-13T07:58:25.053Z"
   },
   {
    "duration": 7,
    "start_time": "2024-08-13T07:58:36.448Z"
   },
   {
    "duration": 6,
    "start_time": "2024-08-13T07:58:39.581Z"
   },
   {
    "duration": 7,
    "start_time": "2024-08-13T07:58:59.892Z"
   },
   {
    "duration": 1706,
    "start_time": "2024-08-13T08:00:07.055Z"
   },
   {
    "duration": 1351,
    "start_time": "2024-08-13T08:00:29.887Z"
   },
   {
    "duration": 7,
    "start_time": "2024-08-13T08:01:54.126Z"
   },
   {
    "duration": 22,
    "start_time": "2024-08-13T08:02:00.214Z"
   },
   {
    "duration": 44,
    "start_time": "2024-08-13T08:02:13.541Z"
   },
   {
    "duration": 5,
    "start_time": "2024-08-13T08:05:22.037Z"
   },
   {
    "duration": 5,
    "start_time": "2024-08-13T08:05:26.155Z"
   },
   {
    "duration": 111,
    "start_time": "2024-08-13T08:07:12.627Z"
   },
   {
    "duration": 6,
    "start_time": "2024-08-13T08:07:52.797Z"
   },
   {
    "duration": 48,
    "start_time": "2024-08-13T08:08:33.873Z"
   },
   {
    "duration": 47,
    "start_time": "2024-08-13T08:09:31.683Z"
   },
   {
    "duration": 52,
    "start_time": "2024-08-13T08:11:52.791Z"
   },
   {
    "duration": 57,
    "start_time": "2024-08-13T08:12:29.928Z"
   },
   {
    "duration": 24,
    "start_time": "2024-08-13T08:12:50.839Z"
   },
   {
    "duration": 11,
    "start_time": "2024-08-13T08:14:11.768Z"
   },
   {
    "duration": 18,
    "start_time": "2024-08-13T08:15:01.591Z"
   },
   {
    "duration": 10,
    "start_time": "2024-08-13T08:17:04.305Z"
   },
   {
    "duration": 11,
    "start_time": "2024-08-13T08:18:26.902Z"
   },
   {
    "duration": 88,
    "start_time": "2024-08-13T08:20:42.515Z"
   },
   {
    "duration": 517,
    "start_time": "2024-08-13T08:22:38.511Z"
   },
   {
    "duration": 64,
    "start_time": "2024-08-13T08:22:53.837Z"
   },
   {
    "duration": 47,
    "start_time": "2024-08-13T08:25:36.200Z"
   },
   {
    "duration": 66,
    "start_time": "2024-08-13T08:26:25.079Z"
   },
   {
    "duration": 39,
    "start_time": "2024-08-13T08:28:51.920Z"
   },
   {
    "duration": 3,
    "start_time": "2024-08-13T08:30:26.016Z"
   },
   {
    "duration": 31,
    "start_time": "2024-08-13T08:30:46.857Z"
   },
   {
    "duration": 19,
    "start_time": "2024-08-13T08:33:57.789Z"
   },
   {
    "duration": 23,
    "start_time": "2024-08-13T08:34:08.187Z"
   },
   {
    "duration": 3,
    "start_time": "2024-08-13T08:35:05.586Z"
   },
   {
    "duration": 2,
    "start_time": "2024-08-13T08:35:11.161Z"
   },
   {
    "duration": 7,
    "start_time": "2024-08-13T08:35:13.989Z"
   },
   {
    "duration": 35,
    "start_time": "2024-08-13T08:35:40.306Z"
   },
   {
    "duration": 36,
    "start_time": "2024-08-13T08:35:46.807Z"
   },
   {
    "duration": 4,
    "start_time": "2024-08-13T08:36:17.920Z"
   },
   {
    "duration": 7,
    "start_time": "2024-08-13T08:36:21.252Z"
   },
   {
    "duration": 28,
    "start_time": "2024-08-13T08:36:48.186Z"
   },
   {
    "duration": 26,
    "start_time": "2024-08-13T08:37:22.671Z"
   },
   {
    "duration": 4,
    "start_time": "2024-08-13T08:37:25.065Z"
   },
   {
    "duration": 7,
    "start_time": "2024-08-13T08:37:28.286Z"
   },
   {
    "duration": 22,
    "start_time": "2024-08-13T08:38:14.250Z"
   },
   {
    "duration": 3,
    "start_time": "2024-08-13T08:39:15.971Z"
   },
   {
    "duration": 8,
    "start_time": "2024-08-13T08:39:20.534Z"
   },
   {
    "duration": 34,
    "start_time": "2024-08-13T08:48:00.504Z"
   },
   {
    "duration": 23,
    "start_time": "2024-08-13T08:49:27.489Z"
   },
   {
    "duration": 18,
    "start_time": "2024-08-13T08:49:45.343Z"
   },
   {
    "duration": 20,
    "start_time": "2024-08-13T08:50:34.953Z"
   },
   {
    "duration": 81,
    "start_time": "2024-08-13T08:50:49.831Z"
   },
   {
    "duration": 18,
    "start_time": "2024-08-13T08:51:09.200Z"
   },
   {
    "duration": 1210,
    "start_time": "2024-08-13T08:51:17.907Z"
   },
   {
    "duration": 5,
    "start_time": "2024-08-13T08:51:19.119Z"
   },
   {
    "duration": 28,
    "start_time": "2024-08-13T08:51:19.126Z"
   },
   {
    "duration": 335,
    "start_time": "2024-08-13T08:51:19.156Z"
   },
   {
    "duration": 6,
    "start_time": "2024-08-13T08:51:19.493Z"
   },
   {
    "duration": 40,
    "start_time": "2024-08-13T08:51:19.502Z"
   },
   {
    "duration": 75,
    "start_time": "2024-08-13T08:51:19.544Z"
   },
   {
    "duration": 74,
    "start_time": "2024-08-13T08:51:19.620Z"
   },
   {
    "duration": 78,
    "start_time": "2024-08-13T08:51:19.695Z"
   },
   {
    "duration": 98,
    "start_time": "2024-08-13T08:51:19.776Z"
   },
   {
    "duration": 44,
    "start_time": "2024-08-13T08:51:19.875Z"
   },
   {
    "duration": 364,
    "start_time": "2024-08-13T08:51:19.921Z"
   },
   {
    "duration": 57,
    "start_time": "2024-08-13T08:51:20.287Z"
   },
   {
    "duration": 170,
    "start_time": "2024-08-13T08:51:20.345Z"
   },
   {
    "duration": 8,
    "start_time": "2024-08-13T08:51:20.517Z"
   },
   {
    "duration": 60,
    "start_time": "2024-08-13T08:51:20.527Z"
   },
   {
    "duration": 269,
    "start_time": "2024-08-13T08:51:20.588Z"
   },
   {
    "duration": 26,
    "start_time": "2024-08-13T08:51:20.859Z"
   },
   {
    "duration": 76,
    "start_time": "2024-08-13T08:51:20.887Z"
   },
   {
    "duration": 13,
    "start_time": "2024-08-13T08:51:20.965Z"
   },
   {
    "duration": 10,
    "start_time": "2024-08-13T08:51:20.979Z"
   },
   {
    "duration": 13,
    "start_time": "2024-08-13T08:51:20.991Z"
   },
   {
    "duration": 434,
    "start_time": "2024-08-13T08:51:21.005Z"
   },
   {
    "duration": 36,
    "start_time": "2024-08-13T08:51:21.440Z"
   },
   {
    "duration": 91,
    "start_time": "2024-08-13T08:51:21.478Z"
   },
   {
    "duration": 4,
    "start_time": "2024-08-13T08:51:21.570Z"
   },
   {
    "duration": 21,
    "start_time": "2024-08-13T08:51:21.575Z"
   },
   {
    "duration": 3,
    "start_time": "2024-08-13T08:51:21.600Z"
   },
   {
    "duration": 4,
    "start_time": "2024-08-13T08:51:21.604Z"
   },
   {
    "duration": 8,
    "start_time": "2024-08-13T08:51:21.609Z"
   },
   {
    "duration": 74,
    "start_time": "2024-08-13T08:51:21.618Z"
   },
   {
    "duration": 2,
    "start_time": "2024-08-13T08:51:21.694Z"
   },
   {
    "duration": 8,
    "start_time": "2024-08-13T08:51:21.698Z"
   },
   {
    "duration": 32,
    "start_time": "2024-08-13T08:51:21.707Z"
   },
   {
    "duration": 3,
    "start_time": "2024-08-13T08:51:21.740Z"
   },
   {
    "duration": 9,
    "start_time": "2024-08-13T08:51:21.760Z"
   },
   {
    "duration": 23,
    "start_time": "2024-08-13T08:51:21.771Z"
   },
   {
    "duration": 3,
    "start_time": "2024-08-13T08:51:21.795Z"
   },
   {
    "duration": 20,
    "start_time": "2024-08-13T08:51:21.799Z"
   },
   {
    "duration": 49,
    "start_time": "2024-08-13T08:51:21.821Z"
   },
   {
    "duration": 12,
    "start_time": "2024-08-13T08:51:21.871Z"
   },
   {
    "duration": 10,
    "start_time": "2024-08-13T08:51:21.885Z"
   },
   {
    "duration": 5,
    "start_time": "2024-08-13T08:51:21.897Z"
   },
   {
    "duration": 7,
    "start_time": "2024-08-13T08:51:21.904Z"
   },
   {
    "duration": 4,
    "start_time": "2024-08-13T08:51:21.913Z"
   },
   {
    "duration": 5,
    "start_time": "2024-08-13T08:51:21.918Z"
   },
   {
    "duration": 40,
    "start_time": "2024-08-13T08:51:21.925Z"
   },
   {
    "duration": 9,
    "start_time": "2024-08-13T08:51:21.967Z"
   },
   {
    "duration": 9,
    "start_time": "2024-08-13T08:51:21.978Z"
   },
   {
    "duration": 10,
    "start_time": "2024-08-13T08:51:21.989Z"
   },
   {
    "duration": 8,
    "start_time": "2024-08-13T08:51:22.001Z"
   },
   {
    "duration": 52,
    "start_time": "2024-08-13T08:51:22.011Z"
   },
   {
    "duration": 13,
    "start_time": "2024-08-13T08:51:22.065Z"
   },
   {
    "duration": 15,
    "start_time": "2024-08-13T08:51:22.080Z"
   },
   {
    "duration": 3,
    "start_time": "2024-08-13T08:51:22.097Z"
   },
   {
    "duration": 12,
    "start_time": "2024-08-13T08:51:22.101Z"
   },
   {
    "duration": 5,
    "start_time": "2024-08-13T08:51:22.115Z"
   },
   {
    "duration": 13,
    "start_time": "2024-08-13T08:51:22.121Z"
   },
   {
    "duration": 4,
    "start_time": "2024-08-13T08:51:22.135Z"
   },
   {
    "duration": 8,
    "start_time": "2024-08-13T08:51:22.161Z"
   },
   {
    "duration": 9,
    "start_time": "2024-08-13T08:51:22.170Z"
   },
   {
    "duration": 44,
    "start_time": "2024-08-13T08:51:22.181Z"
   },
   {
    "duration": 29,
    "start_time": "2024-08-13T08:51:22.226Z"
   },
   {
    "duration": 34,
    "start_time": "2024-08-13T08:52:53.685Z"
   },
   {
    "duration": 23,
    "start_time": "2024-08-13T08:53:18.031Z"
   },
   {
    "duration": 37,
    "start_time": "2024-08-13T08:53:32.572Z"
   },
   {
    "duration": 26,
    "start_time": "2024-08-13T08:53:51.433Z"
   },
   {
    "duration": 22,
    "start_time": "2024-08-13T08:54:02.816Z"
   },
   {
    "duration": 1296,
    "start_time": "2024-08-13T08:54:53.933Z"
   },
   {
    "duration": 4,
    "start_time": "2024-08-13T08:54:55.231Z"
   },
   {
    "duration": 47,
    "start_time": "2024-08-13T08:54:55.237Z"
   },
   {
    "duration": 342,
    "start_time": "2024-08-13T08:54:55.286Z"
   },
   {
    "duration": 6,
    "start_time": "2024-08-13T08:54:55.629Z"
   },
   {
    "duration": 43,
    "start_time": "2024-08-13T08:54:55.637Z"
   },
   {
    "duration": 81,
    "start_time": "2024-08-13T08:54:55.681Z"
   },
   {
    "duration": 68,
    "start_time": "2024-08-13T08:54:55.763Z"
   },
   {
    "duration": 79,
    "start_time": "2024-08-13T08:54:55.832Z"
   },
   {
    "duration": 83,
    "start_time": "2024-08-13T08:54:55.913Z"
   },
   {
    "duration": 40,
    "start_time": "2024-08-13T08:54:55.998Z"
   },
   {
    "duration": 371,
    "start_time": "2024-08-13T08:54:56.039Z"
   },
   {
    "duration": 67,
    "start_time": "2024-08-13T08:54:56.411Z"
   },
   {
    "duration": 168,
    "start_time": "2024-08-13T08:54:56.480Z"
   },
   {
    "duration": 13,
    "start_time": "2024-08-13T08:54:56.650Z"
   },
   {
    "duration": 59,
    "start_time": "2024-08-13T08:54:56.665Z"
   },
   {
    "duration": 276,
    "start_time": "2024-08-13T08:54:56.725Z"
   },
   {
    "duration": 25,
    "start_time": "2024-08-13T08:54:57.003Z"
   },
   {
    "duration": 88,
    "start_time": "2024-08-13T08:54:57.029Z"
   },
   {
    "duration": 12,
    "start_time": "2024-08-13T08:54:57.118Z"
   },
   {
    "duration": 13,
    "start_time": "2024-08-13T08:54:57.132Z"
   },
   {
    "duration": 25,
    "start_time": "2024-08-13T08:54:57.147Z"
   },
   {
    "duration": 396,
    "start_time": "2024-08-13T08:54:57.174Z"
   },
   {
    "duration": 36,
    "start_time": "2024-08-13T08:54:57.571Z"
   },
   {
    "duration": 88,
    "start_time": "2024-08-13T08:54:57.608Z"
   },
   {
    "duration": 3,
    "start_time": "2024-08-13T08:54:57.698Z"
   },
   {
    "duration": 68,
    "start_time": "2024-08-13T08:54:57.703Z"
   },
   {
    "duration": 3,
    "start_time": "2024-08-13T08:54:57.774Z"
   },
   {
    "duration": 21,
    "start_time": "2024-08-13T08:54:57.779Z"
   },
   {
    "duration": 29,
    "start_time": "2024-08-13T08:54:57.802Z"
   },
   {
    "duration": 47,
    "start_time": "2024-08-13T08:54:57.833Z"
   },
   {
    "duration": 3,
    "start_time": "2024-08-13T08:54:57.882Z"
   },
   {
    "duration": 21,
    "start_time": "2024-08-13T08:54:57.886Z"
   },
   {
    "duration": 31,
    "start_time": "2024-08-13T08:54:57.909Z"
   },
   {
    "duration": 11,
    "start_time": "2024-08-13T08:54:57.942Z"
   },
   {
    "duration": 13,
    "start_time": "2024-08-13T08:54:57.954Z"
   },
   {
    "duration": 27,
    "start_time": "2024-08-13T08:54:57.969Z"
   },
   {
    "duration": 3,
    "start_time": "2024-08-13T08:54:57.997Z"
   },
   {
    "duration": 9,
    "start_time": "2024-08-13T08:54:58.002Z"
   },
   {
    "duration": 89,
    "start_time": "2024-08-13T08:54:58.013Z"
   },
   {
    "duration": 0,
    "start_time": "2024-08-13T08:54:58.104Z"
   },
   {
    "duration": 0,
    "start_time": "2024-08-13T08:54:58.106Z"
   },
   {
    "duration": 0,
    "start_time": "2024-08-13T08:54:58.107Z"
   },
   {
    "duration": 0,
    "start_time": "2024-08-13T08:54:58.109Z"
   },
   {
    "duration": 0,
    "start_time": "2024-08-13T08:54:58.110Z"
   },
   {
    "duration": 0,
    "start_time": "2024-08-13T08:54:58.112Z"
   },
   {
    "duration": 0,
    "start_time": "2024-08-13T08:54:58.113Z"
   },
   {
    "duration": 0,
    "start_time": "2024-08-13T08:54:58.115Z"
   },
   {
    "duration": 0,
    "start_time": "2024-08-13T08:54:58.116Z"
   },
   {
    "duration": 0,
    "start_time": "2024-08-13T08:54:58.118Z"
   },
   {
    "duration": 0,
    "start_time": "2024-08-13T08:54:58.119Z"
   },
   {
    "duration": 0,
    "start_time": "2024-08-13T08:54:58.121Z"
   },
   {
    "duration": 0,
    "start_time": "2024-08-13T08:54:58.122Z"
   },
   {
    "duration": 0,
    "start_time": "2024-08-13T08:54:58.123Z"
   },
   {
    "duration": 0,
    "start_time": "2024-08-13T08:54:58.124Z"
   },
   {
    "duration": 0,
    "start_time": "2024-08-13T08:54:58.125Z"
   },
   {
    "duration": 0,
    "start_time": "2024-08-13T08:54:58.127Z"
   },
   {
    "duration": 0,
    "start_time": "2024-08-13T08:54:58.128Z"
   },
   {
    "duration": 0,
    "start_time": "2024-08-13T08:54:58.128Z"
   },
   {
    "duration": 0,
    "start_time": "2024-08-13T08:54:58.130Z"
   },
   {
    "duration": 0,
    "start_time": "2024-08-13T08:54:58.131Z"
   },
   {
    "duration": 0,
    "start_time": "2024-08-13T08:54:58.132Z"
   },
   {
    "duration": 0,
    "start_time": "2024-08-13T08:54:58.133Z"
   },
   {
    "duration": 27,
    "start_time": "2024-08-13T08:55:33.996Z"
   },
   {
    "duration": 19,
    "start_time": "2024-08-13T08:56:14.201Z"
   },
   {
    "duration": 157,
    "start_time": "2024-08-13T08:58:16.732Z"
   },
   {
    "duration": 26,
    "start_time": "2024-08-13T08:58:28.119Z"
   },
   {
    "duration": 32,
    "start_time": "2024-08-13T08:59:59.554Z"
   },
   {
    "duration": 25,
    "start_time": "2024-08-13T09:02:48.508Z"
   },
   {
    "duration": 29,
    "start_time": "2024-08-13T09:04:35.545Z"
   },
   {
    "duration": 18,
    "start_time": "2024-08-13T09:05:05.996Z"
   },
   {
    "duration": 24,
    "start_time": "2024-08-13T09:05:54.387Z"
   },
   {
    "duration": 49,
    "start_time": "2024-08-13T09:06:41.250Z"
   },
   {
    "duration": 34,
    "start_time": "2024-08-13T09:07:01.900Z"
   },
   {
    "duration": 21,
    "start_time": "2024-08-13T09:07:44.289Z"
   },
   {
    "duration": 25,
    "start_time": "2024-08-13T09:07:49.494Z"
   },
   {
    "duration": 19,
    "start_time": "2024-08-13T09:07:58.425Z"
   },
   {
    "duration": 24,
    "start_time": "2024-08-13T09:08:05.334Z"
   },
   {
    "duration": 30,
    "start_time": "2024-08-13T09:08:32.973Z"
   },
   {
    "duration": 31,
    "start_time": "2024-08-13T09:08:37.895Z"
   },
   {
    "duration": 25,
    "start_time": "2024-08-13T09:08:45.031Z"
   },
   {
    "duration": 24,
    "start_time": "2024-08-13T09:08:49.666Z"
   },
   {
    "duration": 32,
    "start_time": "2024-08-13T09:08:53.769Z"
   },
   {
    "duration": 23,
    "start_time": "2024-08-13T09:09:09.458Z"
   },
   {
    "duration": 30,
    "start_time": "2024-08-13T09:09:23.909Z"
   },
   {
    "duration": 29,
    "start_time": "2024-08-13T09:10:02.802Z"
   },
   {
    "duration": 13,
    "start_time": "2024-08-13T09:10:15.549Z"
   },
   {
    "duration": 1288,
    "start_time": "2024-08-13T09:10:51.806Z"
   },
   {
    "duration": 4,
    "start_time": "2024-08-13T09:10:53.096Z"
   },
   {
    "duration": 14,
    "start_time": "2024-08-13T09:10:53.102Z"
   },
   {
    "duration": 323,
    "start_time": "2024-08-13T09:10:53.118Z"
   },
   {
    "duration": 7,
    "start_time": "2024-08-13T09:10:53.443Z"
   },
   {
    "duration": 36,
    "start_time": "2024-08-13T09:10:53.461Z"
   },
   {
    "duration": 83,
    "start_time": "2024-08-13T09:10:53.498Z"
   },
   {
    "duration": 83,
    "start_time": "2024-08-13T09:10:53.584Z"
   },
   {
    "duration": 83,
    "start_time": "2024-08-13T09:10:53.668Z"
   },
   {
    "duration": 106,
    "start_time": "2024-08-13T09:10:53.763Z"
   },
   {
    "duration": 47,
    "start_time": "2024-08-13T09:10:53.871Z"
   },
   {
    "duration": 378,
    "start_time": "2024-08-13T09:10:53.920Z"
   },
   {
    "duration": 62,
    "start_time": "2024-08-13T09:10:54.300Z"
   },
   {
    "duration": 178,
    "start_time": "2024-08-13T09:10:54.364Z"
   },
   {
    "duration": 7,
    "start_time": "2024-08-13T09:10:54.544Z"
   },
   {
    "duration": 49,
    "start_time": "2024-08-13T09:10:54.561Z"
   },
   {
    "duration": 251,
    "start_time": "2024-08-13T09:10:54.612Z"
   },
   {
    "duration": 25,
    "start_time": "2024-08-13T09:10:54.864Z"
   },
   {
    "duration": 73,
    "start_time": "2024-08-13T09:10:54.891Z"
   },
   {
    "duration": 13,
    "start_time": "2024-08-13T09:10:54.966Z"
   },
   {
    "duration": 11,
    "start_time": "2024-08-13T09:10:54.980Z"
   },
   {
    "duration": 13,
    "start_time": "2024-08-13T09:10:54.993Z"
   },
   {
    "duration": 446,
    "start_time": "2024-08-13T09:10:55.008Z"
   },
   {
    "duration": 35,
    "start_time": "2024-08-13T09:10:55.455Z"
   },
   {
    "duration": 88,
    "start_time": "2024-08-13T09:10:55.492Z"
   },
   {
    "duration": 4,
    "start_time": "2024-08-13T09:10:55.582Z"
   },
   {
    "duration": 90,
    "start_time": "2024-08-13T09:10:55.588Z"
   },
   {
    "duration": 4,
    "start_time": "2024-08-13T09:10:55.683Z"
   },
   {
    "duration": 12,
    "start_time": "2024-08-13T09:10:55.689Z"
   },
   {
    "duration": 13,
    "start_time": "2024-08-13T09:10:55.702Z"
   },
   {
    "duration": 49,
    "start_time": "2024-08-13T09:10:55.717Z"
   },
   {
    "duration": 3,
    "start_time": "2024-08-13T09:10:55.768Z"
   },
   {
    "duration": 17,
    "start_time": "2024-08-13T09:10:55.772Z"
   },
   {
    "duration": 32,
    "start_time": "2024-08-13T09:10:55.791Z"
   },
   {
    "duration": 4,
    "start_time": "2024-08-13T09:10:55.825Z"
   },
   {
    "duration": 34,
    "start_time": "2024-08-13T09:10:55.831Z"
   },
   {
    "duration": 33,
    "start_time": "2024-08-13T09:10:55.867Z"
   },
   {
    "duration": 4,
    "start_time": "2024-08-13T09:10:55.902Z"
   },
   {
    "duration": 11,
    "start_time": "2024-08-13T09:10:55.907Z"
   },
   {
    "duration": 59,
    "start_time": "2024-08-13T09:10:55.919Z"
   },
   {
    "duration": 1292,
    "start_time": "2024-08-13T09:10:55.980Z"
   },
   {
    "duration": 0,
    "start_time": "2024-08-13T09:10:57.274Z"
   },
   {
    "duration": 0,
    "start_time": "2024-08-13T09:10:57.275Z"
   },
   {
    "duration": 0,
    "start_time": "2024-08-13T09:10:57.276Z"
   },
   {
    "duration": 0,
    "start_time": "2024-08-13T09:10:57.277Z"
   },
   {
    "duration": 0,
    "start_time": "2024-08-13T09:10:57.278Z"
   },
   {
    "duration": 0,
    "start_time": "2024-08-13T09:10:57.279Z"
   },
   {
    "duration": 0,
    "start_time": "2024-08-13T09:10:57.280Z"
   },
   {
    "duration": 0,
    "start_time": "2024-08-13T09:10:57.281Z"
   },
   {
    "duration": 0,
    "start_time": "2024-08-13T09:10:57.283Z"
   },
   {
    "duration": 0,
    "start_time": "2024-08-13T09:10:57.284Z"
   },
   {
    "duration": 0,
    "start_time": "2024-08-13T09:10:57.285Z"
   },
   {
    "duration": 0,
    "start_time": "2024-08-13T09:10:57.286Z"
   },
   {
    "duration": 0,
    "start_time": "2024-08-13T09:10:57.287Z"
   },
   {
    "duration": 0,
    "start_time": "2024-08-13T09:10:57.288Z"
   },
   {
    "duration": 0,
    "start_time": "2024-08-13T09:10:57.289Z"
   },
   {
    "duration": 0,
    "start_time": "2024-08-13T09:10:57.291Z"
   },
   {
    "duration": 0,
    "start_time": "2024-08-13T09:10:57.292Z"
   },
   {
    "duration": 0,
    "start_time": "2024-08-13T09:10:57.294Z"
   },
   {
    "duration": 0,
    "start_time": "2024-08-13T09:10:57.296Z"
   },
   {
    "duration": 0,
    "start_time": "2024-08-13T09:10:57.297Z"
   },
   {
    "duration": 0,
    "start_time": "2024-08-13T09:10:57.299Z"
   },
   {
    "duration": 942,
    "start_time": "2024-08-13T09:12:20.650Z"
   },
   {
    "duration": 1163,
    "start_time": "2024-08-13T09:14:20.018Z"
   },
   {
    "duration": 1244,
    "start_time": "2024-08-13T09:15:27.603Z"
   },
   {
    "duration": 1421,
    "start_time": "2024-08-13T09:16:03.590Z"
   },
   {
    "duration": 3,
    "start_time": "2024-08-13T09:16:30.429Z"
   },
   {
    "duration": 6,
    "start_time": "2024-08-13T09:16:40.349Z"
   },
   {
    "duration": 5,
    "start_time": "2024-08-13T09:16:51.635Z"
   },
   {
    "duration": 6,
    "start_time": "2024-08-13T09:17:00.056Z"
   },
   {
    "duration": 7,
    "start_time": "2024-08-13T09:17:33.861Z"
   },
   {
    "duration": 3,
    "start_time": "2024-08-13T09:17:41.366Z"
   },
   {
    "duration": 4,
    "start_time": "2024-08-13T09:19:20.716Z"
   },
   {
    "duration": 6,
    "start_time": "2024-08-13T09:19:27.842Z"
   },
   {
    "duration": 6,
    "start_time": "2024-08-13T09:19:34.595Z"
   },
   {
    "duration": 5,
    "start_time": "2024-08-13T09:19:46.603Z"
   },
   {
    "duration": 5,
    "start_time": "2024-08-13T09:19:51.906Z"
   },
   {
    "duration": 5,
    "start_time": "2024-08-13T09:19:59.007Z"
   },
   {
    "duration": 5,
    "start_time": "2024-08-13T09:20:04.114Z"
   },
   {
    "duration": 5,
    "start_time": "2024-08-13T09:20:08.491Z"
   },
   {
    "duration": 5,
    "start_time": "2024-08-13T09:20:12.762Z"
   },
   {
    "duration": 1265,
    "start_time": "2024-08-13T09:20:24.875Z"
   },
   {
    "duration": 5,
    "start_time": "2024-08-13T09:20:26.144Z"
   },
   {
    "duration": 22,
    "start_time": "2024-08-13T09:20:26.151Z"
   },
   {
    "duration": 374,
    "start_time": "2024-08-13T09:20:26.175Z"
   },
   {
    "duration": 11,
    "start_time": "2024-08-13T09:20:26.551Z"
   },
   {
    "duration": 31,
    "start_time": "2024-08-13T09:20:26.564Z"
   },
   {
    "duration": 119,
    "start_time": "2024-08-13T09:20:26.596Z"
   },
   {
    "duration": 82,
    "start_time": "2024-08-13T09:20:26.717Z"
   },
   {
    "duration": 69,
    "start_time": "2024-08-13T09:20:26.801Z"
   },
   {
    "duration": 91,
    "start_time": "2024-08-13T09:20:26.871Z"
   },
   {
    "duration": 53,
    "start_time": "2024-08-13T09:20:26.965Z"
   },
   {
    "duration": 356,
    "start_time": "2024-08-13T09:20:27.020Z"
   },
   {
    "duration": 57,
    "start_time": "2024-08-13T09:20:27.378Z"
   },
   {
    "duration": 168,
    "start_time": "2024-08-13T09:20:27.438Z"
   },
   {
    "duration": 8,
    "start_time": "2024-08-13T09:20:27.607Z"
   },
   {
    "duration": 62,
    "start_time": "2024-08-13T09:20:27.617Z"
   },
   {
    "duration": 277,
    "start_time": "2024-08-13T09:20:27.681Z"
   },
   {
    "duration": 27,
    "start_time": "2024-08-13T09:20:27.960Z"
   },
   {
    "duration": 75,
    "start_time": "2024-08-13T09:20:27.989Z"
   },
   {
    "duration": 14,
    "start_time": "2024-08-13T09:20:28.066Z"
   },
   {
    "duration": 12,
    "start_time": "2024-08-13T09:20:28.081Z"
   },
   {
    "duration": 24,
    "start_time": "2024-08-13T09:20:28.095Z"
   },
   {
    "duration": 506,
    "start_time": "2024-08-13T09:20:28.121Z"
   },
   {
    "duration": 37,
    "start_time": "2024-08-13T09:20:28.628Z"
   },
   {
    "duration": 38,
    "start_time": "2024-08-13T09:20:28.667Z"
   },
   {
    "duration": 56,
    "start_time": "2024-08-13T09:20:28.706Z"
   },
   {
    "duration": 23,
    "start_time": "2024-08-13T09:20:28.764Z"
   },
   {
    "duration": 3,
    "start_time": "2024-08-13T09:20:28.789Z"
   },
   {
    "duration": 4,
    "start_time": "2024-08-13T09:20:28.794Z"
   },
   {
    "duration": 9,
    "start_time": "2024-08-13T09:20:28.799Z"
   },
   {
    "duration": 75,
    "start_time": "2024-08-13T09:20:28.811Z"
   },
   {
    "duration": 3,
    "start_time": "2024-08-13T09:20:28.888Z"
   },
   {
    "duration": 8,
    "start_time": "2024-08-13T09:20:28.892Z"
   },
   {
    "duration": 26,
    "start_time": "2024-08-13T09:20:28.902Z"
   },
   {
    "duration": 3,
    "start_time": "2024-08-13T09:20:28.929Z"
   },
   {
    "duration": 8,
    "start_time": "2024-08-13T09:20:28.960Z"
   },
   {
    "duration": 26,
    "start_time": "2024-08-13T09:20:28.969Z"
   },
   {
    "duration": 3,
    "start_time": "2024-08-13T09:20:28.997Z"
   },
   {
    "duration": 19,
    "start_time": "2024-08-13T09:20:29.002Z"
   },
   {
    "duration": 49,
    "start_time": "2024-08-13T09:20:29.023Z"
   },
   {
    "duration": 3,
    "start_time": "2024-08-13T09:20:29.076Z"
   },
   {
    "duration": 10,
    "start_time": "2024-08-13T09:20:29.081Z"
   },
   {
    "duration": 5,
    "start_time": "2024-08-13T09:20:29.092Z"
   },
   {
    "duration": 12,
    "start_time": "2024-08-13T09:20:29.099Z"
   },
   {
    "duration": 10,
    "start_time": "2024-08-13T09:20:29.113Z"
   },
   {
    "duration": 8,
    "start_time": "2024-08-13T09:20:29.124Z"
   },
   {
    "duration": 29,
    "start_time": "2024-08-13T09:20:29.133Z"
   },
   {
    "duration": 15,
    "start_time": "2024-08-13T09:20:29.163Z"
   },
   {
    "duration": 12,
    "start_time": "2024-08-13T09:20:29.179Z"
   },
   {
    "duration": 8,
    "start_time": "2024-08-13T09:20:29.192Z"
   },
   {
    "duration": 7,
    "start_time": "2024-08-13T09:20:29.202Z"
   },
   {
    "duration": 8,
    "start_time": "2024-08-13T09:20:29.210Z"
   },
   {
    "duration": 47,
    "start_time": "2024-08-13T09:20:29.219Z"
   },
   {
    "duration": 1450,
    "start_time": "2024-08-13T09:20:29.268Z"
   },
   {
    "duration": 0,
    "start_time": "2024-08-13T09:20:30.719Z"
   },
   {
    "duration": 0,
    "start_time": "2024-08-13T09:20:30.721Z"
   },
   {
    "duration": 0,
    "start_time": "2024-08-13T09:20:30.722Z"
   },
   {
    "duration": 0,
    "start_time": "2024-08-13T09:20:30.723Z"
   },
   {
    "duration": 0,
    "start_time": "2024-08-13T09:20:30.724Z"
   },
   {
    "duration": 0,
    "start_time": "2024-08-13T09:20:30.725Z"
   },
   {
    "duration": 0,
    "start_time": "2024-08-13T09:20:30.726Z"
   },
   {
    "duration": 0,
    "start_time": "2024-08-13T09:20:30.727Z"
   },
   {
    "duration": 4,
    "start_time": "2024-08-13T09:27:33.381Z"
   },
   {
    "duration": 4,
    "start_time": "2024-08-13T09:29:23.659Z"
   },
   {
    "duration": 4,
    "start_time": "2024-08-13T09:29:24.772Z"
   },
   {
    "duration": 5,
    "start_time": "2024-08-13T09:29:26.376Z"
   },
   {
    "duration": 4,
    "start_time": "2024-08-13T09:29:27.166Z"
   },
   {
    "duration": 13,
    "start_time": "2024-08-13T09:29:32.696Z"
   },
   {
    "duration": 7,
    "start_time": "2024-08-13T09:29:41.799Z"
   },
   {
    "duration": 7,
    "start_time": "2024-08-13T09:29:47.053Z"
   },
   {
    "duration": 14,
    "start_time": "2024-08-13T09:29:49.818Z"
   },
   {
    "duration": 7,
    "start_time": "2024-08-13T09:29:52.715Z"
   },
   {
    "duration": 1276,
    "start_time": "2024-08-13T09:29:57.698Z"
   },
   {
    "duration": 4,
    "start_time": "2024-08-13T09:29:58.976Z"
   },
   {
    "duration": 8,
    "start_time": "2024-08-13T09:29:58.981Z"
   },
   {
    "duration": 303,
    "start_time": "2024-08-13T09:29:58.991Z"
   },
   {
    "duration": 8,
    "start_time": "2024-08-13T09:29:59.296Z"
   },
   {
    "duration": 45,
    "start_time": "2024-08-13T09:29:59.306Z"
   },
   {
    "duration": 72,
    "start_time": "2024-08-13T09:29:59.361Z"
   },
   {
    "duration": 93,
    "start_time": "2024-08-13T09:29:59.435Z"
   },
   {
    "duration": 77,
    "start_time": "2024-08-13T09:29:59.530Z"
   },
   {
    "duration": 85,
    "start_time": "2024-08-13T09:29:59.609Z"
   },
   {
    "duration": 72,
    "start_time": "2024-08-13T09:29:59.695Z"
   },
   {
    "duration": 400,
    "start_time": "2024-08-13T09:29:59.769Z"
   },
   {
    "duration": 54,
    "start_time": "2024-08-13T09:30:00.171Z"
   },
   {
    "duration": 261,
    "start_time": "2024-08-13T09:30:00.227Z"
   },
   {
    "duration": 7,
    "start_time": "2024-08-13T09:30:00.490Z"
   },
   {
    "duration": 82,
    "start_time": "2024-08-13T09:30:00.499Z"
   },
   {
    "duration": 253,
    "start_time": "2024-08-13T09:30:00.583Z"
   },
   {
    "duration": 30,
    "start_time": "2024-08-13T09:30:00.838Z"
   },
   {
    "duration": 101,
    "start_time": "2024-08-13T09:30:00.869Z"
   },
   {
    "duration": 77,
    "start_time": "2024-08-13T09:30:00.971Z"
   },
   {
    "duration": 137,
    "start_time": "2024-08-13T09:30:01.050Z"
   },
   {
    "duration": 153,
    "start_time": "2024-08-13T09:30:01.189Z"
   },
   {
    "duration": 536,
    "start_time": "2024-08-13T09:30:01.344Z"
   },
   {
    "duration": 84,
    "start_time": "2024-08-13T09:30:01.882Z"
   },
   {
    "duration": 112,
    "start_time": "2024-08-13T09:30:01.968Z"
   },
   {
    "duration": 160,
    "start_time": "2024-08-13T09:30:02.082Z"
   },
   {
    "duration": 61,
    "start_time": "2024-08-13T09:30:02.243Z"
   },
   {
    "duration": 3,
    "start_time": "2024-08-13T09:30:02.307Z"
   },
   {
    "duration": 82,
    "start_time": "2024-08-13T09:30:02.312Z"
   },
   {
    "duration": 74,
    "start_time": "2024-08-13T09:30:02.396Z"
   },
   {
    "duration": 57,
    "start_time": "2024-08-13T09:30:02.472Z"
   },
   {
    "duration": 3,
    "start_time": "2024-08-13T09:30:02.531Z"
   },
   {
    "duration": 20,
    "start_time": "2024-08-13T09:30:02.535Z"
   },
   {
    "duration": 25,
    "start_time": "2024-08-13T09:30:02.557Z"
   },
   {
    "duration": 3,
    "start_time": "2024-08-13T09:30:02.584Z"
   },
   {
    "duration": 22,
    "start_time": "2024-08-13T09:30:02.588Z"
   },
   {
    "duration": 65,
    "start_time": "2024-08-13T09:30:02.612Z"
   },
   {
    "duration": 3,
    "start_time": "2024-08-13T09:30:02.680Z"
   },
   {
    "duration": 27,
    "start_time": "2024-08-13T09:30:02.686Z"
   },
   {
    "duration": 51,
    "start_time": "2024-08-13T09:30:02.715Z"
   },
   {
    "duration": 50,
    "start_time": "2024-08-13T09:30:02.768Z"
   },
   {
    "duration": 20,
    "start_time": "2024-08-13T09:30:02.820Z"
   },
   {
    "duration": 41,
    "start_time": "2024-08-13T09:30:02.842Z"
   },
   {
    "duration": 50,
    "start_time": "2024-08-13T09:30:02.885Z"
   },
   {
    "duration": 32,
    "start_time": "2024-08-13T09:30:02.937Z"
   },
   {
    "duration": 21,
    "start_time": "2024-08-13T09:30:02.971Z"
   },
   {
    "duration": 15,
    "start_time": "2024-08-13T09:30:02.993Z"
   },
   {
    "duration": 7,
    "start_time": "2024-08-13T09:30:03.010Z"
   },
   {
    "duration": 19,
    "start_time": "2024-08-13T09:30:03.019Z"
   },
   {
    "duration": 36,
    "start_time": "2024-08-13T09:30:03.039Z"
   },
   {
    "duration": 10,
    "start_time": "2024-08-13T09:30:03.077Z"
   },
   {
    "duration": 9,
    "start_time": "2024-08-13T09:30:03.089Z"
   },
   {
    "duration": 15,
    "start_time": "2024-08-13T09:30:03.100Z"
   },
   {
    "duration": 4,
    "start_time": "2024-08-13T09:30:03.117Z"
   },
   {
    "duration": 51,
    "start_time": "2024-08-13T09:30:03.123Z"
   },
   {
    "duration": 15,
    "start_time": "2024-08-13T09:30:03.176Z"
   },
   {
    "duration": 25,
    "start_time": "2024-08-13T09:30:03.193Z"
   },
   {
    "duration": 7,
    "start_time": "2024-08-13T09:30:03.220Z"
   },
   {
    "duration": 13,
    "start_time": "2024-08-13T09:30:03.228Z"
   },
   {
    "duration": 13,
    "start_time": "2024-08-13T09:30:03.242Z"
   },
   {
    "duration": 40,
    "start_time": "2024-08-13T09:30:03.256Z"
   },
   {
    "duration": 8,
    "start_time": "2024-08-13T09:30:03.298Z"
   },
   {
    "duration": 1437,
    "start_time": "2024-08-13T09:34:30.062Z"
   },
   {
    "duration": 6,
    "start_time": "2024-08-13T09:34:31.502Z"
   },
   {
    "duration": 15,
    "start_time": "2024-08-13T09:34:31.510Z"
   },
   {
    "duration": 371,
    "start_time": "2024-08-13T09:34:31.562Z"
   },
   {
    "duration": 8,
    "start_time": "2024-08-13T09:34:31.935Z"
   },
   {
    "duration": 44,
    "start_time": "2024-08-13T09:34:31.944Z"
   },
   {
    "duration": 85,
    "start_time": "2024-08-13T09:34:31.990Z"
   },
   {
    "duration": 69,
    "start_time": "2024-08-13T09:34:32.077Z"
   },
   {
    "duration": 75,
    "start_time": "2024-08-13T09:34:32.161Z"
   },
   {
    "duration": 91,
    "start_time": "2024-08-13T09:34:32.238Z"
   },
   {
    "duration": 113,
    "start_time": "2024-08-13T09:34:32.331Z"
   },
   {
    "duration": 328,
    "start_time": "2024-08-13T09:34:32.446Z"
   },
   {
    "duration": 55,
    "start_time": "2024-08-13T09:34:32.775Z"
   },
   {
    "duration": 167,
    "start_time": "2024-08-13T09:34:32.832Z"
   },
   {
    "duration": 8,
    "start_time": "2024-08-13T09:34:33.000Z"
   },
   {
    "duration": 60,
    "start_time": "2024-08-13T09:34:33.010Z"
   },
   {
    "duration": 253,
    "start_time": "2024-08-13T09:34:33.072Z"
   },
   {
    "duration": 34,
    "start_time": "2024-08-13T09:34:33.327Z"
   },
   {
    "duration": 56,
    "start_time": "2024-08-13T09:34:33.362Z"
   },
   {
    "duration": 13,
    "start_time": "2024-08-13T09:34:33.419Z"
   },
   {
    "duration": 30,
    "start_time": "2024-08-13T09:34:33.433Z"
   },
   {
    "duration": 14,
    "start_time": "2024-08-13T09:34:33.464Z"
   },
   {
    "duration": 428,
    "start_time": "2024-08-13T09:34:33.479Z"
   },
   {
    "duration": 77,
    "start_time": "2024-08-13T09:34:33.910Z"
   },
   {
    "duration": 96,
    "start_time": "2024-08-13T09:34:33.989Z"
   },
   {
    "duration": 3,
    "start_time": "2024-08-13T09:34:34.087Z"
   },
   {
    "duration": 77,
    "start_time": "2024-08-13T09:34:34.092Z"
   },
   {
    "duration": 3,
    "start_time": "2024-08-13T09:34:34.174Z"
   },
   {
    "duration": 34,
    "start_time": "2024-08-13T09:34:34.179Z"
   },
   {
    "duration": 18,
    "start_time": "2024-08-13T09:34:34.214Z"
   },
   {
    "duration": 39,
    "start_time": "2024-08-13T09:34:34.233Z"
   },
   {
    "duration": 4,
    "start_time": "2024-08-13T09:34:34.274Z"
   },
   {
    "duration": 45,
    "start_time": "2024-08-13T09:34:34.280Z"
   },
   {
    "duration": 112,
    "start_time": "2024-08-13T09:34:34.326Z"
   },
   {
    "duration": 27,
    "start_time": "2024-08-13T09:34:34.440Z"
   },
   {
    "duration": 25,
    "start_time": "2024-08-13T09:34:34.469Z"
   },
   {
    "duration": 51,
    "start_time": "2024-08-13T09:34:34.496Z"
   },
   {
    "duration": 4,
    "start_time": "2024-08-13T09:34:34.548Z"
   },
   {
    "duration": 13,
    "start_time": "2024-08-13T09:34:34.553Z"
   },
   {
    "duration": 97,
    "start_time": "2024-08-13T09:34:34.568Z"
   },
   {
    "duration": 46,
    "start_time": "2024-08-13T09:34:34.667Z"
   },
   {
    "duration": 20,
    "start_time": "2024-08-13T09:34:34.715Z"
   },
   {
    "duration": 30,
    "start_time": "2024-08-13T09:34:34.737Z"
   },
   {
    "duration": 51,
    "start_time": "2024-08-13T09:34:34.769Z"
   },
   {
    "duration": 61,
    "start_time": "2024-08-13T09:34:34.822Z"
   },
   {
    "duration": 31,
    "start_time": "2024-08-13T09:34:34.885Z"
   },
   {
    "duration": 17,
    "start_time": "2024-08-13T09:34:34.918Z"
   },
   {
    "duration": 15,
    "start_time": "2024-08-13T09:34:34.937Z"
   },
   {
    "duration": 22,
    "start_time": "2024-08-13T09:34:34.954Z"
   },
   {
    "duration": 35,
    "start_time": "2024-08-13T09:34:34.978Z"
   },
   {
    "duration": 15,
    "start_time": "2024-08-13T09:34:35.015Z"
   },
   {
    "duration": 10,
    "start_time": "2024-08-13T09:34:35.032Z"
   },
   {
    "duration": 9,
    "start_time": "2024-08-13T09:34:35.044Z"
   },
   {
    "duration": 7,
    "start_time": "2024-08-13T09:34:35.055Z"
   },
   {
    "duration": 4,
    "start_time": "2024-08-13T09:34:35.064Z"
   },
   {
    "duration": 5,
    "start_time": "2024-08-13T09:34:35.070Z"
   },
   {
    "duration": 6,
    "start_time": "2024-08-13T09:34:35.077Z"
   },
   {
    "duration": 9,
    "start_time": "2024-08-13T09:34:35.085Z"
   },
   {
    "duration": 37,
    "start_time": "2024-08-13T09:34:35.096Z"
   },
   {
    "duration": 60,
    "start_time": "2024-08-13T09:34:35.135Z"
   },
   {
    "duration": 25,
    "start_time": "2024-08-13T09:34:35.197Z"
   },
   {
    "duration": 51,
    "start_time": "2024-08-13T09:34:35.224Z"
   },
   {
    "duration": 1124,
    "start_time": "2024-08-13T17:58:03.220Z"
   },
   {
    "duration": 4,
    "start_time": "2024-08-13T17:58:04.346Z"
   },
   {
    "duration": 24,
    "start_time": "2024-08-13T17:58:04.351Z"
   },
   {
    "duration": 808,
    "start_time": "2024-08-13T17:58:04.376Z"
   },
   {
    "duration": 6,
    "start_time": "2024-08-13T17:58:05.187Z"
   },
   {
    "duration": 44,
    "start_time": "2024-08-13T17:58:05.195Z"
   },
   {
    "duration": 81,
    "start_time": "2024-08-13T17:58:05.240Z"
   },
   {
    "duration": 68,
    "start_time": "2024-08-13T17:58:05.322Z"
   },
   {
    "duration": 67,
    "start_time": "2024-08-13T17:58:05.391Z"
   },
   {
    "duration": 150,
    "start_time": "2024-08-13T17:58:05.459Z"
   },
   {
    "duration": 41,
    "start_time": "2024-08-13T17:58:05.611Z"
   },
   {
    "duration": 290,
    "start_time": "2024-08-13T17:58:05.653Z"
   },
   {
    "duration": 42,
    "start_time": "2024-08-13T17:58:05.944Z"
   },
   {
    "duration": 140,
    "start_time": "2024-08-13T17:58:05.989Z"
   },
   {
    "duration": 6,
    "start_time": "2024-08-13T17:58:06.130Z"
   },
   {
    "duration": 47,
    "start_time": "2024-08-13T17:58:06.138Z"
   },
   {
    "duration": 202,
    "start_time": "2024-08-13T17:58:06.186Z"
   },
   {
    "duration": 27,
    "start_time": "2024-08-13T17:58:06.390Z"
   },
   {
    "duration": 53,
    "start_time": "2024-08-13T17:58:06.418Z"
   },
   {
    "duration": 30,
    "start_time": "2024-08-13T17:58:06.472Z"
   },
   {
    "duration": 9,
    "start_time": "2024-08-13T17:58:06.504Z"
   },
   {
    "duration": 16,
    "start_time": "2024-08-13T17:58:06.517Z"
   },
   {
    "duration": 570,
    "start_time": "2024-08-13T17:58:06.534Z"
   },
   {
    "duration": 29,
    "start_time": "2024-08-13T17:58:07.106Z"
   },
   {
    "duration": 86,
    "start_time": "2024-08-13T17:58:07.137Z"
   },
   {
    "duration": 3,
    "start_time": "2024-08-13T17:58:07.224Z"
   },
   {
    "duration": 40,
    "start_time": "2024-08-13T17:58:07.229Z"
   },
   {
    "duration": 2,
    "start_time": "2024-08-13T17:58:07.270Z"
   },
   {
    "duration": 4,
    "start_time": "2024-08-13T17:58:07.273Z"
   },
   {
    "duration": 6,
    "start_time": "2024-08-13T17:58:07.301Z"
   },
   {
    "duration": 31,
    "start_time": "2024-08-13T17:58:07.308Z"
   },
   {
    "duration": 3,
    "start_time": "2024-08-13T17:58:07.341Z"
   },
   {
    "duration": 16,
    "start_time": "2024-08-13T17:58:07.345Z"
   },
   {
    "duration": 40,
    "start_time": "2024-08-13T17:58:07.362Z"
   },
   {
    "duration": 2,
    "start_time": "2024-08-13T17:58:07.404Z"
   },
   {
    "duration": 141,
    "start_time": "2024-08-13T17:58:07.408Z"
   },
   {
    "duration": 21,
    "start_time": "2024-08-13T17:58:07.550Z"
   },
   {
    "duration": 2,
    "start_time": "2024-08-13T17:58:07.573Z"
   },
   {
    "duration": 20,
    "start_time": "2024-08-13T17:58:07.576Z"
   },
   {
    "duration": 34,
    "start_time": "2024-08-13T17:58:07.597Z"
   },
   {
    "duration": 11,
    "start_time": "2024-08-13T17:58:07.635Z"
   },
   {
    "duration": 8,
    "start_time": "2024-08-13T17:58:07.647Z"
   },
   {
    "duration": 5,
    "start_time": "2024-08-13T17:58:07.656Z"
   },
   {
    "duration": 7,
    "start_time": "2024-08-13T17:58:07.662Z"
   },
   {
    "duration": 7,
    "start_time": "2024-08-13T17:58:07.670Z"
   },
   {
    "duration": 7,
    "start_time": "2024-08-13T17:58:07.678Z"
   },
   {
    "duration": 19,
    "start_time": "2024-08-13T17:58:07.686Z"
   },
   {
    "duration": 31,
    "start_time": "2024-08-13T17:58:07.706Z"
   },
   {
    "duration": 12,
    "start_time": "2024-08-13T17:58:07.738Z"
   },
   {
    "duration": 16,
    "start_time": "2024-08-13T17:58:07.751Z"
   },
   {
    "duration": 43,
    "start_time": "2024-08-13T17:58:07.769Z"
   },
   {
    "duration": 23,
    "start_time": "2024-08-13T17:58:07.814Z"
   },
   {
    "duration": 13,
    "start_time": "2024-08-13T17:58:07.839Z"
   },
   {
    "duration": 2,
    "start_time": "2024-08-13T17:58:07.853Z"
   },
   {
    "duration": 6,
    "start_time": "2024-08-13T17:58:07.856Z"
   },
   {
    "duration": 6,
    "start_time": "2024-08-13T17:58:07.863Z"
   },
   {
    "duration": 14,
    "start_time": "2024-08-13T17:58:07.870Z"
   },
   {
    "duration": 13,
    "start_time": "2024-08-13T17:58:07.885Z"
   },
   {
    "duration": 21,
    "start_time": "2024-08-13T17:58:07.899Z"
   },
   {
    "duration": 18,
    "start_time": "2024-08-13T17:58:07.921Z"
   },
   {
    "duration": 19,
    "start_time": "2024-08-13T17:58:07.940Z"
   },
   {
    "duration": 9,
    "start_time": "2024-08-13T17:58:07.960Z"
   },
   {
    "duration": 44,
    "start_time": "2024-08-13T18:00:30.503Z"
   },
   {
    "duration": 51,
    "start_time": "2024-08-13T18:12:29.284Z"
   },
   {
    "duration": 1449,
    "start_time": "2024-08-13T18:12:34.795Z"
   },
   {
    "duration": 4,
    "start_time": "2024-08-13T18:12:36.247Z"
   },
   {
    "duration": 12,
    "start_time": "2024-08-13T18:12:36.253Z"
   },
   {
    "duration": 843,
    "start_time": "2024-08-13T18:12:36.266Z"
   },
   {
    "duration": 7,
    "start_time": "2024-08-13T18:12:37.111Z"
   },
   {
    "duration": 45,
    "start_time": "2024-08-13T18:12:37.120Z"
   },
   {
    "duration": 75,
    "start_time": "2024-08-13T18:12:37.167Z"
   },
   {
    "duration": 85,
    "start_time": "2024-08-13T18:12:37.244Z"
   },
   {
    "duration": 112,
    "start_time": "2024-08-13T18:12:37.331Z"
   },
   {
    "duration": 82,
    "start_time": "2024-08-13T18:12:37.445Z"
   },
   {
    "duration": 64,
    "start_time": "2024-08-13T18:12:37.528Z"
   },
   {
    "duration": 363,
    "start_time": "2024-08-13T18:12:37.594Z"
   },
   {
    "duration": 57,
    "start_time": "2024-08-13T18:12:37.959Z"
   },
   {
    "duration": 165,
    "start_time": "2024-08-13T18:12:38.019Z"
   },
   {
    "duration": 6,
    "start_time": "2024-08-13T18:12:38.186Z"
   },
   {
    "duration": 43,
    "start_time": "2024-08-13T18:12:38.194Z"
   },
   {
    "duration": 262,
    "start_time": "2024-08-13T18:12:38.238Z"
   },
   {
    "duration": 26,
    "start_time": "2024-08-13T18:12:38.502Z"
   },
   {
    "duration": 70,
    "start_time": "2024-08-13T18:12:38.529Z"
   },
   {
    "duration": 12,
    "start_time": "2024-08-13T18:12:38.600Z"
   },
   {
    "duration": 11,
    "start_time": "2024-08-13T18:12:38.614Z"
   },
   {
    "duration": 10,
    "start_time": "2024-08-13T18:12:38.627Z"
   },
   {
    "duration": 448,
    "start_time": "2024-08-13T18:12:38.638Z"
   },
   {
    "duration": 81,
    "start_time": "2024-08-13T18:12:39.088Z"
   },
   {
    "duration": 51,
    "start_time": "2024-08-13T18:12:39.171Z"
   },
   {
    "duration": 81,
    "start_time": "2024-08-13T18:12:39.223Z"
   },
   {
    "duration": 26,
    "start_time": "2024-08-13T18:12:39.306Z"
   },
   {
    "duration": 40,
    "start_time": "2024-08-13T18:12:39.334Z"
   },
   {
    "duration": 3,
    "start_time": "2024-08-13T18:12:39.376Z"
   },
   {
    "duration": 17,
    "start_time": "2024-08-13T18:12:39.381Z"
   },
   {
    "duration": 10,
    "start_time": "2024-08-13T18:12:39.400Z"
   },
   {
    "duration": 38,
    "start_time": "2024-08-13T18:12:39.412Z"
   },
   {
    "duration": 14,
    "start_time": "2024-08-13T18:12:39.451Z"
   },
   {
    "duration": 21,
    "start_time": "2024-08-13T18:12:39.467Z"
   },
   {
    "duration": 24,
    "start_time": "2024-08-13T18:12:39.490Z"
   },
   {
    "duration": 3,
    "start_time": "2024-08-13T18:12:39.516Z"
   },
   {
    "duration": 8,
    "start_time": "2024-08-13T18:12:39.520Z"
   },
   {
    "duration": 37,
    "start_time": "2024-08-13T18:12:39.529Z"
   },
   {
    "duration": 3,
    "start_time": "2024-08-13T18:12:39.567Z"
   },
   {
    "duration": 19,
    "start_time": "2024-08-13T18:12:39.571Z"
   },
   {
    "duration": 24,
    "start_time": "2024-08-13T18:12:39.595Z"
   },
   {
    "duration": 3,
    "start_time": "2024-08-13T18:12:39.621Z"
   },
   {
    "duration": 8,
    "start_time": "2024-08-13T18:12:39.625Z"
   },
   {
    "duration": 4,
    "start_time": "2024-08-13T18:12:39.634Z"
   },
   {
    "duration": 17,
    "start_time": "2024-08-13T18:12:39.639Z"
   },
   {
    "duration": 8,
    "start_time": "2024-08-13T18:12:39.665Z"
   },
   {
    "duration": 14,
    "start_time": "2024-08-13T18:12:39.675Z"
   },
   {
    "duration": 15,
    "start_time": "2024-08-13T18:12:39.691Z"
   },
   {
    "duration": 7,
    "start_time": "2024-08-13T18:12:39.708Z"
   },
   {
    "duration": 6,
    "start_time": "2024-08-13T18:12:39.716Z"
   },
   {
    "duration": 6,
    "start_time": "2024-08-13T18:12:39.723Z"
   },
   {
    "duration": 79,
    "start_time": "2024-08-13T18:12:39.730Z"
   },
   {
    "duration": 7,
    "start_time": "2024-08-13T18:12:39.811Z"
   },
   {
    "duration": 7,
    "start_time": "2024-08-13T18:12:39.820Z"
   },
   {
    "duration": 6,
    "start_time": "2024-08-13T18:12:39.829Z"
   },
   {
    "duration": 4,
    "start_time": "2024-08-13T18:12:39.837Z"
   },
   {
    "duration": 4,
    "start_time": "2024-08-13T18:12:39.843Z"
   },
   {
    "duration": 7,
    "start_time": "2024-08-13T18:12:39.848Z"
   },
   {
    "duration": 11,
    "start_time": "2024-08-13T18:12:39.857Z"
   },
   {
    "duration": 16,
    "start_time": "2024-08-13T18:12:39.869Z"
   },
   {
    "duration": 7,
    "start_time": "2024-08-13T18:12:39.887Z"
   },
   {
    "duration": 13,
    "start_time": "2024-08-13T18:12:39.895Z"
   },
   {
    "duration": 16,
    "start_time": "2024-08-13T18:12:39.909Z"
   },
   {
    "duration": 52,
    "start_time": "2024-08-13T18:13:53.419Z"
   },
   {
    "duration": 177,
    "start_time": "2024-08-13T18:16:52.460Z"
   },
   {
    "duration": 5,
    "start_time": "2024-08-13T18:16:57.864Z"
   },
   {
    "duration": 5,
    "start_time": "2024-08-13T18:17:04.695Z"
   },
   {
    "duration": 65,
    "start_time": "2024-08-13T18:17:29.465Z"
   },
   {
    "duration": 161,
    "start_time": "2024-08-13T18:18:13.650Z"
   },
   {
    "duration": 18,
    "start_time": "2024-08-13T18:18:56.329Z"
   },
   {
    "duration": 7,
    "start_time": "2024-08-13T18:19:07.479Z"
   },
   {
    "duration": 46,
    "start_time": "2024-08-13T18:19:30.471Z"
   },
   {
    "duration": 14,
    "start_time": "2024-08-13T18:19:32.424Z"
   }
  ],
  "kernelspec": {
   "display_name": "Python 3 (ipykernel)",
   "language": "python",
   "name": "python3"
  },
  "language_info": {
   "codemirror_mode": {
    "name": "ipython",
    "version": 3
   },
   "file_extension": ".py",
   "mimetype": "text/x-python",
   "name": "python",
   "nbconvert_exporter": "python",
   "pygments_lexer": "ipython3",
   "version": "3.9.5"
  },
  "toc": {
   "base_numbering": 1,
   "nav_menu": {},
   "number_sections": true,
   "sideBar": true,
   "skip_h1_title": true,
   "title_cell": "Table of Contents",
   "title_sidebar": "Contents",
   "toc_cell": false,
   "toc_position": {},
   "toc_section_display": true,
   "toc_window_display": false
  }
 },
 "nbformat": 4,
 "nbformat_minor": 2
}
