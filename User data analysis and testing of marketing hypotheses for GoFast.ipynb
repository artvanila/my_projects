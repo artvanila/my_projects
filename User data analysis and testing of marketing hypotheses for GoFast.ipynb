{
 "cells": [
  {
   "cell_type": "markdown",
   "id": "2dc8a7c6",
   "metadata": {},
   "source": [
    "<div style=\"border:solid Purple 2px; padding: 40px\">\n",
    "\n",
    "<b>Привет, Артемий!👋\n",
    "\n",
    "Меня зовут Эльвира, я буду ревьюером твоего проекта. Предлагаю общаться на «ты», но если это не удобно - дай мне знать, и мы перейдем на «вы».\n",
    "\n",
    "\n",
    "Ты можешь найти мои комментарии, обозначенные <font color='green'>зеленым</font>, <font color='gold'>желтым</font> и <font color='red'>красным</font> цветами, например:\n",
    "\n",
    "\n",
    "<div class=\"alert alert-success\">\n",
    "<h2> Комментарий ревьюера 😊<a class=\"tocSkip\"> </h2>\n",
    "    \n",
    "Такими комментариями я буду помечать отлично проделаную работу😉\n",
    "</div>\n",
    "    \n",
    "<div class=\"alert alert-warning\">\n",
    "<h2> Комментарий ревьюера 🤓<a class=\"tocSkip\"> </h2>\n",
    "        \n",
    "В таких комментариях я постараюсь подсказать тебе более элегантное или легкое решение, некоторые хитрости и фишки. Части проекта, помеченные такими комментариями, можно не исправлять, но рекомендую обратить на них внимание.</div>\n",
    "\n",
    "<div class=\"alert alert-block alert-danger\">\n",
    "<h2> Комментарий ревьюера ⛔️<a class=\"tocSkip\"></h2>\n",
    "    \n",
    "В случае, когда решение на отдельном шаге требует существенной переработки и внесения правок. Если ты видишь такой комментарий, значит здесть есть недочет, который следует исправить.\n",
    "</div>\n",
    "\n",
    "Ты также можешь реагировать на мои комментарии своими, выделяя их цветами и наиболее понравившимся тебе способом оформления, но явно  отличающимся от моих комментариев. Это нужно, чтобы не создавалась путаница🙃\n",
    "    \n",
    "`<div class=\"alert alert-info\"> <b>Комментарий студента:</b> Например, вот так.</div>`\n",
    "\n",
    "Чтобы сделать подобный блок, кликни здесь дважды и скопируй всю предыдущую строку ;)\n",
    "    \n",
    "Пожалуйста, не удаляй и не перемещай мои комментарии, они будут особенно полезны для нашей работы в случае повторной проверки проекта.</div></b>"
   ]
  },
  {
   "cell_type": "markdown",
   "id": "0993bf04",
   "metadata": {},
   "source": [
    "<div class=\"alert alert-block alert-danger\">\n",
    "<h2> Комментарий ревьюера ⛔️<a class=\"tocSkip\"></h2>\n",
    "<s>\n",
    "Введение, как и общий вывод - важные части твоей работы, на которые в первую очередь обращает внимание заказчик. Давай добавим следующие пункты:\n",
    "* заголовок,\n",
    "\n",
    "* краткое описание проекта,\n",
    "\n",
    "* выделим цель проекта\n",
    "\n",
    "* описание данных\n",
    "\n",
    "* краткий план работы, выделим основные этапы, которые должны сделать.\n",
    "\n",
    "Тогда получатель отчета сможет быстрей его понять.\n",
    "\n",
    "</div>"
   ]
  },
  {
   "cell_type": "markdown",
   "id": "952704fe",
   "metadata": {},
   "source": [
    "<div class=\"alert alert-info\"> \n",
    "<b>Комментарий студента:</b> Сделал\n",
    "</div>\n",
    "    "
   ]
  },
  {
   "cell_type": "markdown",
   "id": "f2593bd6",
   "metadata": {},
   "source": [
    "<div class=\"alert alert-success\">\n",
    "<h2> Комментарий ревьюера 😊 v_2 <a class=\"tocSkip\"> </h2>\n",
    "\n",
    "Отличное введение к проекту)"
   ]
  },
  {
   "cell_type": "markdown",
   "id": "8837dbfc",
   "metadata": {},
   "source": [
    "# GoFast. Анализ данных пользователей и проверка гипотез"
   ]
  },
  {
   "cell_type": "markdown",
   "id": "4080f21c",
   "metadata": {},
   "source": [
    "Нам передали данные о некоторых пользователях GoFast из нескольких городов, а также об их поездках. В этом исследовании проанализируем данные и проверим некоторые гипотезы, которые могут помочь бизнесу вырасти и ответить на вопрос: являются ли пользователи с подпиской более выгодными для компании?\n",
    "\n",
    "Чтобы совершать поездки по городу, пользователи сервиса GoFast пользуются мобильным приложением. Сервисом можно пользоваться:\n",
    "\n",
    "- без подписки\n",
    "    - абонентская плата отсутствует;\n",
    "    - стоимость одной минуты поездки — 8 рублей;\n",
    "    - стоимость старта (начала поездки) — 50 рублей;\n",
    "- с подпиской Ultra\n",
    "    - абонентская плата — 199 рублей в месяц;\n",
    "    - стоимость одной минуты поездки — 6 рублей;\n",
    "    - стоимость старта — бесплатно.\n",
    "\n",
    "В переданных данных есть информация \n",
    "- о пользователях (users_go.csv), который включает в себя уникальный идентификатор пользователя (user_id), имя пользователя (name), возраст (age), город (city), тип подписки - free, ultra (subscription_type)\n",
    "- их поездках (rides_go.csv), который включает в себя уникальный идентификатор пользователя (user_id), расстояние, которое пользователь проехал в текущей сессии (distance), продолжительность сессии (duration), дата совершения поездки (date)\n",
    "- и подписках (subscriptions_go.csv), который включает в себя тип подписки (subscription_type), стоимость одной минуты поездки по данной подписке (minute_price), стоимость начала поездки (start_ride_price), стоимость ежемесячного платежа (subscription_fee)\n",
    "\n",
    "Структура исследования будет выглядеть так:\n",
    "\n",
    "- В первом шаге исследования загрузим данные и проведем неглубокую проверку данных.\n",
    "- Во втором шаге проведем более глубокий контроль данных - сосредоточися на типах данных, пропусках и дубликатах\n",
    "- В третьем шаге проведем исследовательский анализ данных и поищем необычные явления, артефакты и ошиби в данных, построим графики\n",
    "- На четвертом - объединим 3 датафрейма в один для удобства дальнейшей работы\n",
    "- На пятом шаге посчитаем выручку для пользователей с подпиской и без\n",
    "- На шестом шаге рассмотрим и проверим несколько гипотиз для бизнеса\n",
    "- В последнем шаге посмотрим на распределения и сделаем общий вывод исследования"
   ]
  },
  {
   "cell_type": "code",
   "execution_count": 1,
   "id": "72576667",
   "metadata": {},
   "outputs": [],
   "source": [
    "import pandas as pd"
   ]
  },
  {
   "cell_type": "code",
   "execution_count": 2,
   "id": "4f311fa3",
   "metadata": {},
   "outputs": [],
   "source": [
    "import numpy as np"
   ]
  },
  {
   "cell_type": "code",
   "execution_count": 3,
   "id": "c6e40f8a",
   "metadata": {},
   "outputs": [],
   "source": [
    "import matplotlib.pyplot as plt"
   ]
  },
  {
   "cell_type": "markdown",
   "id": "2002b562",
   "metadata": {},
   "source": [
    "<div class=\"alert alert-success\">\n",
    "<h2> Комментарий ревьюера 😊<a class=\"tocSkip\"> </h2>\n",
    "\n",
    "Молодец, что загружаешь все библиотеки в начале проекта. Так сложней случайно удалить ячейку с загрузкой нужной библиотеки и сделать код не работающим. А получатель отчета сразу поймет, какие библиотеки ты используешь и какие ему нужно установить для запуска проекта.\n",
    "\n",
    "</div>"
   ]
  },
  {
   "cell_type": "markdown",
   "id": "c42cbe00",
   "metadata": {},
   "source": [
    "#### Шаг 1. Загрузка данных"
   ]
  },
  {
   "cell_type": "markdown",
   "id": "4b63435c",
   "metadata": {},
   "source": [
    "Загрузим данные из csv-файлов в датафрейм c помощью библиотеки panda. Изучим первые строки каждого набора данных."
   ]
  },
  {
   "cell_type": "code",
   "execution_count": 4,
   "id": "5e8c1777",
   "metadata": {},
   "outputs": [],
   "source": [
    "data_users = pd.read_csv('/datasets/users_go.csv')"
   ]
  },
  {
   "cell_type": "code",
   "execution_count": 5,
   "id": "55bca848",
   "metadata": {},
   "outputs": [],
   "source": [
    "data_rides = pd.read_csv('/datasets/rides_go.csv')"
   ]
  },
  {
   "cell_type": "code",
   "execution_count": 6,
   "id": "c797d7d5",
   "metadata": {},
   "outputs": [],
   "source": [
    "data_subs = pd.read_csv('/datasets/subscriptions_go.csv')"
   ]
  },
  {
   "cell_type": "code",
   "execution_count": 7,
   "id": "0733f7fe",
   "metadata": {},
   "outputs": [
    {
     "data": {
      "text/html": [
       "<div>\n",
       "<style scoped>\n",
       "    .dataframe tbody tr th:only-of-type {\n",
       "        vertical-align: middle;\n",
       "    }\n",
       "\n",
       "    .dataframe tbody tr th {\n",
       "        vertical-align: top;\n",
       "    }\n",
       "\n",
       "    .dataframe thead th {\n",
       "        text-align: right;\n",
       "    }\n",
       "</style>\n",
       "<table border=\"1\" class=\"dataframe\">\n",
       "  <thead>\n",
       "    <tr style=\"text-align: right;\">\n",
       "      <th></th>\n",
       "      <th>user_id</th>\n",
       "      <th>name</th>\n",
       "      <th>age</th>\n",
       "      <th>city</th>\n",
       "      <th>subscription_type</th>\n",
       "    </tr>\n",
       "  </thead>\n",
       "  <tbody>\n",
       "    <tr>\n",
       "      <th>0</th>\n",
       "      <td>1</td>\n",
       "      <td>Кира</td>\n",
       "      <td>22</td>\n",
       "      <td>Тюмень</td>\n",
       "      <td>ultra</td>\n",
       "    </tr>\n",
       "    <tr>\n",
       "      <th>1</th>\n",
       "      <td>2</td>\n",
       "      <td>Станислав</td>\n",
       "      <td>31</td>\n",
       "      <td>Омск</td>\n",
       "      <td>ultra</td>\n",
       "    </tr>\n",
       "    <tr>\n",
       "      <th>2</th>\n",
       "      <td>3</td>\n",
       "      <td>Алексей</td>\n",
       "      <td>20</td>\n",
       "      <td>Москва</td>\n",
       "      <td>ultra</td>\n",
       "    </tr>\n",
       "    <tr>\n",
       "      <th>3</th>\n",
       "      <td>4</td>\n",
       "      <td>Константин</td>\n",
       "      <td>26</td>\n",
       "      <td>Ростов-на-Дону</td>\n",
       "      <td>ultra</td>\n",
       "    </tr>\n",
       "    <tr>\n",
       "      <th>4</th>\n",
       "      <td>5</td>\n",
       "      <td>Адель</td>\n",
       "      <td>28</td>\n",
       "      <td>Омск</td>\n",
       "      <td>ultra</td>\n",
       "    </tr>\n",
       "  </tbody>\n",
       "</table>\n",
       "</div>"
      ],
      "text/plain": [
       "   user_id        name  age            city subscription_type\n",
       "0        1        Кира   22          Тюмень             ultra\n",
       "1        2   Станислав   31            Омск             ultra\n",
       "2        3     Алексей   20          Москва             ultra\n",
       "3        4  Константин   26  Ростов-на-Дону             ultra\n",
       "4        5       Адель   28            Омск             ultra"
      ]
     },
     "metadata": {},
     "output_type": "display_data"
    },
    {
     "name": "stdout",
     "output_type": "stream",
     "text": [
      "<class 'pandas.core.frame.DataFrame'>\n",
      "RangeIndex: 1565 entries, 0 to 1564\n",
      "Data columns (total 5 columns):\n",
      " #   Column             Non-Null Count  Dtype \n",
      "---  ------             --------------  ----- \n",
      " 0   user_id            1565 non-null   int64 \n",
      " 1   name               1565 non-null   object\n",
      " 2   age                1565 non-null   int64 \n",
      " 3   city               1565 non-null   object\n",
      " 4   subscription_type  1565 non-null   object\n",
      "dtypes: int64(2), object(3)\n",
      "memory usage: 61.3+ KB\n"
     ]
    },
    {
     "data": {
      "text/plain": [
       "None"
      ]
     },
     "metadata": {},
     "output_type": "display_data"
    }
   ],
   "source": [
    "display(data_users.head())\n",
    "display(data_users.info())"
   ]
  },
  {
   "cell_type": "markdown",
   "id": "39b65cb4",
   "metadata": {},
   "source": [
    "Данные выглядят хорошо - типы данных отвечают названию столбцов и их наоплнению, пропусков не видно, дубликаты поищем позже."
   ]
  },
  {
   "cell_type": "code",
   "execution_count": 8,
   "id": "c36bd7dc",
   "metadata": {},
   "outputs": [
    {
     "data": {
      "text/html": [
       "<div>\n",
       "<style scoped>\n",
       "    .dataframe tbody tr th:only-of-type {\n",
       "        vertical-align: middle;\n",
       "    }\n",
       "\n",
       "    .dataframe tbody tr th {\n",
       "        vertical-align: top;\n",
       "    }\n",
       "\n",
       "    .dataframe thead th {\n",
       "        text-align: right;\n",
       "    }\n",
       "</style>\n",
       "<table border=\"1\" class=\"dataframe\">\n",
       "  <thead>\n",
       "    <tr style=\"text-align: right;\">\n",
       "      <th></th>\n",
       "      <th>user_id</th>\n",
       "      <th>distance</th>\n",
       "      <th>duration</th>\n",
       "      <th>date</th>\n",
       "    </tr>\n",
       "  </thead>\n",
       "  <tbody>\n",
       "    <tr>\n",
       "      <th>0</th>\n",
       "      <td>1</td>\n",
       "      <td>4409.919140</td>\n",
       "      <td>25.599769</td>\n",
       "      <td>2021-01-01</td>\n",
       "    </tr>\n",
       "    <tr>\n",
       "      <th>1</th>\n",
       "      <td>1</td>\n",
       "      <td>2617.592153</td>\n",
       "      <td>15.816871</td>\n",
       "      <td>2021-01-18</td>\n",
       "    </tr>\n",
       "    <tr>\n",
       "      <th>2</th>\n",
       "      <td>1</td>\n",
       "      <td>754.159807</td>\n",
       "      <td>6.232113</td>\n",
       "      <td>2021-04-20</td>\n",
       "    </tr>\n",
       "    <tr>\n",
       "      <th>3</th>\n",
       "      <td>1</td>\n",
       "      <td>2694.783254</td>\n",
       "      <td>18.511000</td>\n",
       "      <td>2021-08-11</td>\n",
       "    </tr>\n",
       "    <tr>\n",
       "      <th>4</th>\n",
       "      <td>1</td>\n",
       "      <td>4028.687306</td>\n",
       "      <td>26.265803</td>\n",
       "      <td>2021-08-28</td>\n",
       "    </tr>\n",
       "  </tbody>\n",
       "</table>\n",
       "</div>"
      ],
      "text/plain": [
       "   user_id     distance   duration        date\n",
       "0        1  4409.919140  25.599769  2021-01-01\n",
       "1        1  2617.592153  15.816871  2021-01-18\n",
       "2        1   754.159807   6.232113  2021-04-20\n",
       "3        1  2694.783254  18.511000  2021-08-11\n",
       "4        1  4028.687306  26.265803  2021-08-28"
      ]
     },
     "metadata": {},
     "output_type": "display_data"
    },
    {
     "name": "stdout",
     "output_type": "stream",
     "text": [
      "<class 'pandas.core.frame.DataFrame'>\n",
      "RangeIndex: 18068 entries, 0 to 18067\n",
      "Data columns (total 4 columns):\n",
      " #   Column    Non-Null Count  Dtype  \n",
      "---  ------    --------------  -----  \n",
      " 0   user_id   18068 non-null  int64  \n",
      " 1   distance  18068 non-null  float64\n",
      " 2   duration  18068 non-null  float64\n",
      " 3   date      18068 non-null  object \n",
      "dtypes: float64(2), int64(1), object(1)\n",
      "memory usage: 564.8+ KB\n"
     ]
    },
    {
     "data": {
      "text/plain": [
       "None"
      ]
     },
     "metadata": {},
     "output_type": "display_data"
    }
   ],
   "source": [
    "display(data_rides.head())\n",
    "display(data_rides.info())"
   ]
  },
  {
   "cell_type": "markdown",
   "id": "d7e6f9d1",
   "metadata": {},
   "source": [
    "Данные выглядят хорошо за исключением даты, которая имеет тип данных object. "
   ]
  },
  {
   "cell_type": "code",
   "execution_count": 9,
   "id": "8737f06a",
   "metadata": {},
   "outputs": [
    {
     "data": {
      "text/html": [
       "<div>\n",
       "<style scoped>\n",
       "    .dataframe tbody tr th:only-of-type {\n",
       "        vertical-align: middle;\n",
       "    }\n",
       "\n",
       "    .dataframe tbody tr th {\n",
       "        vertical-align: top;\n",
       "    }\n",
       "\n",
       "    .dataframe thead th {\n",
       "        text-align: right;\n",
       "    }\n",
       "</style>\n",
       "<table border=\"1\" class=\"dataframe\">\n",
       "  <thead>\n",
       "    <tr style=\"text-align: right;\">\n",
       "      <th></th>\n",
       "      <th>subscription_type</th>\n",
       "      <th>minute_price</th>\n",
       "      <th>start_ride_price</th>\n",
       "      <th>subscription_fee</th>\n",
       "    </tr>\n",
       "  </thead>\n",
       "  <tbody>\n",
       "    <tr>\n",
       "      <th>0</th>\n",
       "      <td>free</td>\n",
       "      <td>8</td>\n",
       "      <td>50</td>\n",
       "      <td>0</td>\n",
       "    </tr>\n",
       "    <tr>\n",
       "      <th>1</th>\n",
       "      <td>ultra</td>\n",
       "      <td>6</td>\n",
       "      <td>0</td>\n",
       "      <td>199</td>\n",
       "    </tr>\n",
       "  </tbody>\n",
       "</table>\n",
       "</div>"
      ],
      "text/plain": [
       "  subscription_type  minute_price  start_ride_price  subscription_fee\n",
       "0              free             8                50                 0\n",
       "1             ultra             6                 0               199"
      ]
     },
     "metadata": {},
     "output_type": "display_data"
    },
    {
     "name": "stdout",
     "output_type": "stream",
     "text": [
      "<class 'pandas.core.frame.DataFrame'>\n",
      "RangeIndex: 2 entries, 0 to 1\n",
      "Data columns (total 4 columns):\n",
      " #   Column             Non-Null Count  Dtype \n",
      "---  ------             --------------  ----- \n",
      " 0   subscription_type  2 non-null      object\n",
      " 1   minute_price       2 non-null      int64 \n",
      " 2   start_ride_price   2 non-null      int64 \n",
      " 3   subscription_fee   2 non-null      int64 \n",
      "dtypes: int64(3), object(1)\n",
      "memory usage: 192.0+ bytes\n"
     ]
    },
    {
     "data": {
      "text/plain": [
       "None"
      ]
     },
     "metadata": {},
     "output_type": "display_data"
    }
   ],
   "source": [
    "display(data_subs.head())\n",
    "display(data_subs.info())"
   ]
  },
  {
   "cell_type": "markdown",
   "id": "4487ae0d",
   "metadata": {},
   "source": [
    "Данные выглядят хорошо."
   ]
  },
  {
   "cell_type": "markdown",
   "id": "e002eb05",
   "metadata": {},
   "source": [
    "<div class=\"alert alert-warning\">\n",
    "<h2> Комментарий ревьюера 🤓<a class=\"tocSkip\"> </h2>\n",
    "\n",
    "Можно автоматизировать через цикл или функцию)\n",
    "\n",
    "Сразу после получения информации о таблице, будет здорово сформулировать вывод: проверить типы данных, а также важно понять, что по пропущенным значениям"
   ]
  },
  {
   "cell_type": "markdown",
   "id": "e69404de",
   "metadata": {},
   "source": [
    "<div class=\"alert alert-info\"> \n",
    "<b>Комментарий студента:</b> Сделал выводы, но автоматизацию не стал делать.\n",
    "</div>"
   ]
  },
  {
   "cell_type": "markdown",
   "id": "626403ed",
   "metadata": {},
   "source": [
    "<div class=\"alert alert-success\">\n",
    "<h2> Комментарий ревьюера 😊 v_2 <a class=\"tocSkip\"> </h2>\n",
    "\n",
    "Хорошо)"
   ]
  },
  {
   "cell_type": "markdown",
   "id": "e95ebca7",
   "metadata": {},
   "source": [
    "#### Шаг 2. Предобработка данных"
   ]
  },
  {
   "cell_type": "markdown",
   "id": "8b805df1",
   "metadata": {},
   "source": [
    "При первом просмотре данных и их типов можем наблюдать одно отклонение, которое нужно устронить - в датафрейме с поездками data_rides типом данных дата является object. Приведем его в формат datetime64 с помощью метода to_datetime() и проверим с помощью метода info()"
   ]
  },
  {
   "cell_type": "code",
   "execution_count": 1,
   "id": "7601958e",
   "metadata": {},
   "outputs": [
    {
     "ename": "NameError",
     "evalue": "name 'pd' is not defined",
     "output_type": "error",
     "traceback": [
      "\u001b[0;31m---------------------------------------------------------------------------\u001b[0m",
      "\u001b[0;31mNameError\u001b[0m                                 Traceback (most recent call last)",
      "\u001b[0;32m/tmp/ipykernel_101/860482202.py\u001b[0m in \u001b[0;36m<module>\u001b[0;34m\u001b[0m\n\u001b[0;32m----> 1\u001b[0;31m data_rides['date'] = pd.to_datetime(\n\u001b[0m\u001b[1;32m      2\u001b[0m     data_rides['date'], format='%Y%m%d')\n",
      "\u001b[0;31mNameError\u001b[0m: name 'pd' is not defined"
     ]
    }
   ],
   "source": [
    "data_rides['date'] = pd.to_datetime(\n",
    "    data_rides['date'].astype(str), format='%Y%m%d%H, format='%Y%m%d')"
   ]
  },
  {
   "cell_type": "code",
   "execution_count": null,
   "id": "2947b42b",
   "metadata": {},
   "outputs": [],
   "source": []
  },
  {
   "cell_type": "code",
   "execution_count": 11,
   "id": "9ce5720b",
   "metadata": {},
   "outputs": [
    {
     "name": "stdout",
     "output_type": "stream",
     "text": [
      "<class 'pandas.core.frame.DataFrame'>\n",
      "RangeIndex: 18068 entries, 0 to 18067\n",
      "Data columns (total 4 columns):\n",
      " #   Column    Non-Null Count  Dtype         \n",
      "---  ------    --------------  -----         \n",
      " 0   user_id   18068 non-null  int64         \n",
      " 1   distance  18068 non-null  float64       \n",
      " 2   duration  18068 non-null  float64       \n",
      " 3   date      18068 non-null  datetime64[ns]\n",
      "dtypes: datetime64[ns](1), float64(2), int64(1)\n",
      "memory usage: 564.8 KB\n"
     ]
    },
    {
     "data": {
      "text/plain": [
       "None"
      ]
     },
     "metadata": {},
     "output_type": "display_data"
    }
   ],
   "source": [
    "display(data_rides.info()) "
   ]
  },
  {
   "cell_type": "markdown",
   "id": "cab5c82a",
   "metadata": {},
   "source": [
    "В датафрейм с поездками data_rides добавим столбец с названием месяца - month. Извлечем название месяца из столбца date для этого нужно поместить время в класс DatetimeIndex и применить к нему атрибут month."
   ]
  },
  {
   "cell_type": "code",
   "execution_count": 12,
   "id": "addeb1a6",
   "metadata": {},
   "outputs": [],
   "source": [
    "data_rides['month'] = pd.DatetimeIndex(data_rides['date']).month"
   ]
  },
  {
   "cell_type": "markdown",
   "id": "6630737a",
   "metadata": {},
   "source": [
    "<div class=\"alert alert-warning\">\n",
    "<h2> Комментарий ревьюера 🤓<a class=\"tocSkip\"> </h2>\n",
    "    \n",
    "Будет хорошо проверить за какой период представлены данные, чтобы убедиться что данные за несколько лет не склеиются при агрегации по месяцам."
   ]
  },
  {
   "cell_type": "code",
   "execution_count": 13,
   "id": "b1cd1de5",
   "metadata": {},
   "outputs": [
    {
     "data": {
      "text/html": [
       "<div>\n",
       "<style scoped>\n",
       "    .dataframe tbody tr th:only-of-type {\n",
       "        vertical-align: middle;\n",
       "    }\n",
       "\n",
       "    .dataframe tbody tr th {\n",
       "        vertical-align: top;\n",
       "    }\n",
       "\n",
       "    .dataframe thead th {\n",
       "        text-align: right;\n",
       "    }\n",
       "</style>\n",
       "<table border=\"1\" class=\"dataframe\">\n",
       "  <thead>\n",
       "    <tr style=\"text-align: right;\">\n",
       "      <th></th>\n",
       "      <th>user_id</th>\n",
       "      <th>distance</th>\n",
       "      <th>duration</th>\n",
       "      <th>date</th>\n",
       "      <th>month</th>\n",
       "    </tr>\n",
       "  </thead>\n",
       "  <tbody>\n",
       "    <tr>\n",
       "      <th>0</th>\n",
       "      <td>1</td>\n",
       "      <td>4409.919140</td>\n",
       "      <td>25.599769</td>\n",
       "      <td>2021-01-01</td>\n",
       "      <td>1</td>\n",
       "    </tr>\n",
       "    <tr>\n",
       "      <th>1</th>\n",
       "      <td>1</td>\n",
       "      <td>2617.592153</td>\n",
       "      <td>15.816871</td>\n",
       "      <td>2021-01-18</td>\n",
       "      <td>1</td>\n",
       "    </tr>\n",
       "    <tr>\n",
       "      <th>2</th>\n",
       "      <td>1</td>\n",
       "      <td>754.159807</td>\n",
       "      <td>6.232113</td>\n",
       "      <td>2021-04-20</td>\n",
       "      <td>4</td>\n",
       "    </tr>\n",
       "    <tr>\n",
       "      <th>3</th>\n",
       "      <td>1</td>\n",
       "      <td>2694.783254</td>\n",
       "      <td>18.511000</td>\n",
       "      <td>2021-08-11</td>\n",
       "      <td>8</td>\n",
       "    </tr>\n",
       "    <tr>\n",
       "      <th>4</th>\n",
       "      <td>1</td>\n",
       "      <td>4028.687306</td>\n",
       "      <td>26.265803</td>\n",
       "      <td>2021-08-28</td>\n",
       "      <td>8</td>\n",
       "    </tr>\n",
       "  </tbody>\n",
       "</table>\n",
       "</div>"
      ],
      "text/plain": [
       "   user_id     distance   duration       date  month\n",
       "0        1  4409.919140  25.599769 2021-01-01      1\n",
       "1        1  2617.592153  15.816871 2021-01-18      1\n",
       "2        1   754.159807   6.232113 2021-04-20      4\n",
       "3        1  2694.783254  18.511000 2021-08-11      8\n",
       "4        1  4028.687306  26.265803 2021-08-28      8"
      ]
     },
     "metadata": {},
     "output_type": "display_data"
    }
   ],
   "source": [
    "display(data_rides.head())"
   ]
  },
  {
   "cell_type": "markdown",
   "id": "bdb3e2a1",
   "metadata": {},
   "source": [
    "Найдём и изучим пропущенные значения в столбцах. Для этого используем комбинацию методов .isna().sum() для каждого датафрейма."
   ]
  },
  {
   "cell_type": "code",
   "execution_count": 14,
   "id": "e15af829",
   "metadata": {},
   "outputs": [
    {
     "data": {
      "text/plain": [
       "user_id              0\n",
       "name                 0\n",
       "age                  0\n",
       "city                 0\n",
       "subscription_type    0\n",
       "dtype: int64"
      ]
     },
     "execution_count": 14,
     "metadata": {},
     "output_type": "execute_result"
    }
   ],
   "source": [
    "data_users.isna().sum()"
   ]
  },
  {
   "cell_type": "markdown",
   "id": "832e629b",
   "metadata": {},
   "source": [
    "В датафрйме data_users пропусков нет."
   ]
  },
  {
   "cell_type": "code",
   "execution_count": 15,
   "id": "52730f36",
   "metadata": {},
   "outputs": [
    {
     "data": {
      "text/plain": [
       "user_id     0\n",
       "distance    0\n",
       "duration    0\n",
       "date        0\n",
       "month       0\n",
       "dtype: int64"
      ]
     },
     "execution_count": 15,
     "metadata": {},
     "output_type": "execute_result"
    }
   ],
   "source": [
    "data_rides.isna().sum()"
   ]
  },
  {
   "cell_type": "markdown",
   "id": "ac87050b",
   "metadata": {},
   "source": [
    "В датафрйме data_rides пропусков нет."
   ]
  },
  {
   "cell_type": "code",
   "execution_count": 16,
   "id": "bbfdecff",
   "metadata": {},
   "outputs": [
    {
     "data": {
      "text/plain": [
       "subscription_type    0\n",
       "minute_price         0\n",
       "start_ride_price     0\n",
       "subscription_fee     0\n",
       "dtype: int64"
      ]
     },
     "execution_count": 16,
     "metadata": {},
     "output_type": "execute_result"
    }
   ],
   "source": [
    "data_subs.isna().sum()"
   ]
  },
  {
   "cell_type": "markdown",
   "id": "ae3f2bf4",
   "metadata": {},
   "source": [
    "В датафрйме data_subs пропусков нет."
   ]
  },
  {
   "cell_type": "markdown",
   "id": "15e08c7c",
   "metadata": {},
   "source": [
    "Посмотрим на явные и неявные дубликаты. Для явных используем комбинацию методов .duplicated().sum() для неявных посмотрим на отдельные столбы с помощью метода .unique()"
   ]
  },
  {
   "cell_type": "code",
   "execution_count": 17,
   "id": "e40a57b6",
   "metadata": {},
   "outputs": [
    {
     "data": {
      "text/plain": [
       "31"
      ]
     },
     "execution_count": 17,
     "metadata": {},
     "output_type": "execute_result"
    }
   ],
   "source": [
    "data_users.duplicated().sum()"
   ]
  },
  {
   "cell_type": "markdown",
   "id": "6a18ed09",
   "metadata": {},
   "source": [
    "Посмотрим на них внимательнее. Выведем строки из датафрейма, где встречаются дубликаты с помощью логической индексации с применением метода .duplicated(). Мы наблюдаем одинковые строки датафрейма - речь идет о явном дубликате. Удалим строки с помощью метода drop_duplicates() и сохраним в исходный датафрейм."
   ]
  },
  {
   "cell_type": "code",
   "execution_count": 18,
   "id": "16f97ef8",
   "metadata": {},
   "outputs": [
    {
     "data": {
      "text/html": [
       "<div>\n",
       "<style scoped>\n",
       "    .dataframe tbody tr th:only-of-type {\n",
       "        vertical-align: middle;\n",
       "    }\n",
       "\n",
       "    .dataframe tbody tr th {\n",
       "        vertical-align: top;\n",
       "    }\n",
       "\n",
       "    .dataframe thead th {\n",
       "        text-align: right;\n",
       "    }\n",
       "</style>\n",
       "<table border=\"1\" class=\"dataframe\">\n",
       "  <thead>\n",
       "    <tr style=\"text-align: right;\">\n",
       "      <th></th>\n",
       "      <th>user_id</th>\n",
       "      <th>name</th>\n",
       "      <th>age</th>\n",
       "      <th>city</th>\n",
       "      <th>subscription_type</th>\n",
       "    </tr>\n",
       "  </thead>\n",
       "  <tbody>\n",
       "    <tr>\n",
       "      <th>1534</th>\n",
       "      <td>293</td>\n",
       "      <td>Агата</td>\n",
       "      <td>26</td>\n",
       "      <td>Краснодар</td>\n",
       "      <td>ultra</td>\n",
       "    </tr>\n",
       "    <tr>\n",
       "      <th>292</th>\n",
       "      <td>293</td>\n",
       "      <td>Агата</td>\n",
       "      <td>26</td>\n",
       "      <td>Краснодар</td>\n",
       "      <td>ultra</td>\n",
       "    </tr>\n",
       "    <tr>\n",
       "      <th>1545</th>\n",
       "      <td>807</td>\n",
       "      <td>Александр</td>\n",
       "      <td>28</td>\n",
       "      <td>Екатеринбург</td>\n",
       "      <td>free</td>\n",
       "    </tr>\n",
       "    <tr>\n",
       "      <th>806</th>\n",
       "      <td>807</td>\n",
       "      <td>Александр</td>\n",
       "      <td>28</td>\n",
       "      <td>Екатеринбург</td>\n",
       "      <td>free</td>\n",
       "    </tr>\n",
       "    <tr>\n",
       "      <th>1553</th>\n",
       "      <td>121</td>\n",
       "      <td>Алина</td>\n",
       "      <td>25</td>\n",
       "      <td>Пятигорск</td>\n",
       "      <td>ultra</td>\n",
       "    </tr>\n",
       "    <tr>\n",
       "      <th>...</th>\n",
       "      <td>...</td>\n",
       "      <td>...</td>\n",
       "      <td>...</td>\n",
       "      <td>...</td>\n",
       "      <td>...</td>\n",
       "    </tr>\n",
       "    <tr>\n",
       "      <th>1563</th>\n",
       "      <td>47</td>\n",
       "      <td>Юрий</td>\n",
       "      <td>28</td>\n",
       "      <td>Тюмень</td>\n",
       "      <td>ultra</td>\n",
       "    </tr>\n",
       "    <tr>\n",
       "      <th>808</th>\n",
       "      <td>809</td>\n",
       "      <td>Юрий</td>\n",
       "      <td>26</td>\n",
       "      <td>Сочи</td>\n",
       "      <td>free</td>\n",
       "    </tr>\n",
       "    <tr>\n",
       "      <th>1561</th>\n",
       "      <td>809</td>\n",
       "      <td>Юрий</td>\n",
       "      <td>26</td>\n",
       "      <td>Сочи</td>\n",
       "      <td>free</td>\n",
       "    </tr>\n",
       "    <tr>\n",
       "      <th>306</th>\n",
       "      <td>307</td>\n",
       "      <td>Ясмина</td>\n",
       "      <td>19</td>\n",
       "      <td>Краснодар</td>\n",
       "      <td>ultra</td>\n",
       "    </tr>\n",
       "    <tr>\n",
       "      <th>1562</th>\n",
       "      <td>307</td>\n",
       "      <td>Ясмина</td>\n",
       "      <td>19</td>\n",
       "      <td>Краснодар</td>\n",
       "      <td>ultra</td>\n",
       "    </tr>\n",
       "  </tbody>\n",
       "</table>\n",
       "<p>62 rows × 5 columns</p>\n",
       "</div>"
      ],
      "text/plain": [
       "      user_id       name  age          city subscription_type\n",
       "1534      293      Агата   26     Краснодар             ultra\n",
       "292       293      Агата   26     Краснодар             ultra\n",
       "1545      807  Александр   28  Екатеринбург              free\n",
       "806       807  Александр   28  Екатеринбург              free\n",
       "1553      121      Алина   25     Пятигорск             ultra\n",
       "...       ...        ...  ...           ...               ...\n",
       "1563       47       Юрий   28        Тюмень             ultra\n",
       "808       809       Юрий   26          Сочи              free\n",
       "1561      809       Юрий   26          Сочи              free\n",
       "306       307     Ясмина   19     Краснодар             ultra\n",
       "1562      307     Ясмина   19     Краснодар             ultra\n",
       "\n",
       "[62 rows x 5 columns]"
      ]
     },
     "execution_count": 18,
     "metadata": {},
     "output_type": "execute_result"
    }
   ],
   "source": [
    "duplicates = data_users[data_users.duplicated(keep=False)]\n",
    "duplicates.sort_values(by='name')"
   ]
  },
  {
   "cell_type": "code",
   "execution_count": 19,
   "id": "ef8f2484",
   "metadata": {},
   "outputs": [],
   "source": [
    "data_users.drop_duplicates(subset=['user_id', 'name'],inplace=True)"
   ]
  },
  {
   "cell_type": "code",
   "execution_count": 20,
   "id": "6d877c64",
   "metadata": {},
   "outputs": [
    {
     "data": {
      "text/plain": [
       "0"
      ]
     },
     "execution_count": 20,
     "metadata": {},
     "output_type": "execute_result"
    }
   ],
   "source": [
    "data_users.duplicated().sum()"
   ]
  },
  {
   "cell_type": "markdown",
   "id": "3d222644",
   "metadata": {},
   "source": [
    "<div class=\"alert alert-block alert-danger\">\n",
    "<h2> Комментарий ревьюера ⛔️<a class=\"tocSkip\"></h2>\n",
    "   <s>\n",
    "Давай добавим сортировку, чтобы быть уверенными, что это не одни и те же пользователи.  "
   ]
  },
  {
   "cell_type": "markdown",
   "id": "1888d66f",
   "metadata": {},
   "source": [
    "<div class=\"alert alert-info\"> \n",
    "<b>Комментарий студента:</b> Да действительно дубликаты есть. Нашел и удалил их.\n",
    "</div>"
   ]
  },
  {
   "cell_type": "markdown",
   "id": "cc56794e",
   "metadata": {},
   "source": [
    "<div class=\"alert alert-success\">\n",
    "<h2> Комментарий ревьюера 😊 v_2 <a class=\"tocSkip\"> </h2>\n",
    "\n",
    "Верно"
   ]
  },
  {
   "cell_type": "code",
   "execution_count": 21,
   "id": "dd666608",
   "metadata": {},
   "outputs": [
    {
     "data": {
      "text/plain": [
       "0"
      ]
     },
     "execution_count": 21,
     "metadata": {},
     "output_type": "execute_result"
    }
   ],
   "source": [
    "data_rides.duplicated().sum()"
   ]
  },
  {
   "cell_type": "code",
   "execution_count": 22,
   "id": "4f88a38b",
   "metadata": {},
   "outputs": [
    {
     "data": {
      "text/plain": [
       "0"
      ]
     },
     "execution_count": 22,
     "metadata": {},
     "output_type": "execute_result"
    }
   ],
   "source": [
    "data_subs.duplicated().sum()"
   ]
  },
  {
   "cell_type": "markdown",
   "id": "7adf8ede",
   "metadata": {},
   "source": [
    "Неявные дубликаты могут встретиться в датафрейме data_users в столбце city. Посмотрим на все уникальные значения в этом столбце"
   ]
  },
  {
   "cell_type": "code",
   "execution_count": 23,
   "id": "09e6b624",
   "metadata": {},
   "outputs": [
    {
     "data": {
      "text/plain": [
       "array(['Тюмень', 'Омск', 'Москва', 'Ростов-на-Дону', 'Краснодар',\n",
       "       'Пятигорск', 'Екатеринбург', 'Сочи'], dtype=object)"
      ]
     },
     "execution_count": 23,
     "metadata": {},
     "output_type": "execute_result"
    }
   ],
   "source": [
    "data_users['city'].unique()"
   ]
  },
  {
   "cell_type": "markdown",
   "id": "b9fa97f2",
   "metadata": {},
   "source": [
    "Можно с уверенностью сказать, что дубликатов и пропусков в предложенных датафреймах нет."
   ]
  },
  {
   "cell_type": "markdown",
   "id": "44fb7259",
   "metadata": {},
   "source": [
    "Для дальнейшей работы округлим числа в столбце duration до следующего целого числа."
   ]
  },
  {
   "cell_type": "code",
   "execution_count": 24,
   "id": "1d5bc60e",
   "metadata": {},
   "outputs": [],
   "source": [
    "data_rides['duration'] = np.ceil(data_rides['duration'])"
   ]
  },
  {
   "cell_type": "markdown",
   "id": "f87fbb64",
   "metadata": {},
   "source": [
    "<div class=\"alert alert-success\">\n",
    "<h2> Комментарий ревьюера 😊 <a class=\"tocSkip\"> </h2>\n",
    "\n",
    "Блок предобработки выполнен хорошо: необходимые столбцы добавлены, типы скорректированы, есть проверка на пропуски и дубликаты, молодец)\n",
    "</div>"
   ]
  },
  {
   "cell_type": "markdown",
   "id": "212593c7",
   "metadata": {},
   "source": [
    "#### Шаг 3. Исследовательский анализ данных"
   ]
  },
  {
   "cell_type": "markdown",
   "id": "96d3abfe",
   "metadata": {},
   "source": [
    "В рамках ознакомления с датафреймом попробуем визуализировать общую информацию о пользователях и поездках. Построим отдельные гистограммы с помощью метода .hist() для каждого из параметров ниже:\n",
    "- частота встречаемости городов;\n",
    "- соотношение пользователей с подпиской и без подписки;\n",
    "- возраст пользователей;\n",
    "- расстояние, которое пользователь преодолел за одну поездку;\n",
    "- продолжительность поездок."
   ]
  },
  {
   "cell_type": "code",
   "execution_count": 25,
   "id": "68b1b20a",
   "metadata": {},
   "outputs": [
    {
     "data": {
      "text/plain": [
       "Пятигорск         219\n",
       "Екатеринбург      204\n",
       "Ростов-на-Дону    198\n",
       "Краснодар         193\n",
       "Сочи              189\n",
       "Омск              183\n",
       "Тюмень            180\n",
       "Москва            168\n",
       "Name: city, dtype: int64"
      ]
     },
     "execution_count": 25,
     "metadata": {},
     "output_type": "execute_result"
    }
   ],
   "source": [
    "city_counts = data_users['city'].value_counts()\n",
    "city_counts"
   ]
  },
  {
   "cell_type": "code",
   "execution_count": 26,
   "id": "e4a3ea73",
   "metadata": {},
   "outputs": [
    {
     "data": {
      "image/png": "[encoded data removed]",
      "text/plain": [
       "<Figure size 432x288 with 1 Axes>"
      ]
     },
     "metadata": {
      "needs_background": "light"
     },
     "output_type": "display_data"
    }
   ],
   "source": [
    "city_counts.plot.bar()\n",
    "plt.title('Частотность городов')\n",
    "plt.xlabel('Город')\n",
    "plt.ylabel('Частотность')\n",
    "plt.show()"
   ]
  },
  {
   "cell_type": "code",
   "execution_count": 27,
   "id": "10901a87",
   "metadata": {},
   "outputs": [
    {
     "data": {
      "text/plain": [
       "'Город с наибольшей частотностью: Пятигорск 219 раз'"
      ]
     },
     "metadata": {},
     "output_type": "display_data"
    }
   ],
   "source": [
    "max_city = city_counts.idxmax()\n",
    "display(f'Город с наибольшей частотностью: {max_city} {city_counts[max_city]} раз')"
   ]
  },
  {
   "cell_type": "code",
   "execution_count": 28,
   "id": "adf08698",
   "metadata": {},
   "outputs": [
    {
     "data": {
      "text/plain": [
       "'Город с наименьшей частотностью: Москва 168 раз'"
      ]
     },
     "metadata": {},
     "output_type": "display_data"
    }
   ],
   "source": [
    "min_city = city_counts.idxmin()\n",
    "display(f'Город с наименьшей частотностью: {min_city} {city_counts[min_city]} раз')"
   ]
  },
  {
   "cell_type": "markdown",
   "id": "f9d38853",
   "metadata": {},
   "source": [
    "<div class=\"alert alert-success\">\n",
    "<h2> Комментарий ревьюера 😊<a class=\"tocSkip\"> </h2>\n",
    "\n",
    "Для того что убрать технические подписи(<AxesSubplot:), ты можешь использовать `plt.show()` или `;`. Так же можно добавить подписи к графику, используя `plt.xlabel()` и `plt.ylabel()`, `plt.title()`. Подробнее об оформлении графиков, ты можешь узнать тут:\n",
    "    \n",
    "https://slemeshevsky.github.io/python-course/visual/html/._visual-flatly002.html\n",
    "\n",
    "</div>"
   ]
  },
  {
   "cell_type": "markdown",
   "id": "d6f1e742",
   "metadata": {},
   "source": [
    "<div class=\"alert alert-block alert-danger\">\n",
    "<h2> Комментарий ревьюера ⛔️<a class=\"tocSkip\"></h2>\n",
    "    <s>\n",
    "Гистограмма для отображения категориальных данных не подходит. Следует использовать столбчатую диаграмму.  Также необходимо добавить вывод числовых значений частотности городов.  и добавить названия нашим графикам) Нужно выделить в каком городе больше всего значений, а в каком меньше)"
   ]
  },
  {
   "cell_type": "markdown",
   "id": "265439d7",
   "metadata": {},
   "source": [
    "<div class=\"alert alert-info\"> \n",
    "<b>Комментарий студента:</b> Сделано\n",
    "</div>"
   ]
  },
  {
   "cell_type": "markdown",
   "id": "c3d0472b",
   "metadata": {},
   "source": [
    "<div class=\"alert alert-success\">\n",
    "<h2> Комментарий ревьюера 😊 v_2 <a class=\"tocSkip\"> </h2>\n",
    "\n",
    "Очень хорошо, можно повернуть график по горизонтали)"
   ]
  },
  {
   "cell_type": "code",
   "execution_count": 29,
   "id": "6d56a8a5",
   "metadata": {},
   "outputs": [
    {
     "data": {
      "text/plain": [
       "free     835\n",
       "ultra    699\n",
       "Name: subscription_type, dtype: int64"
      ]
     },
     "execution_count": 29,
     "metadata": {},
     "output_type": "execute_result"
    }
   ],
   "source": [
    "subs_counts = data_users['subscription_type'].value_counts()\n",
    "subs_counts"
   ]
  },
  {
   "cell_type": "code",
   "execution_count": 30,
   "id": "51f64531",
   "metadata": {},
   "outputs": [
    {
     "data": {
      "image/png": "[encoded data removed]",
      "text/plain": [
       "<Figure size 432x288 with 1 Axes>"
      ]
     },
     "metadata": {
      "needs_background": "light"
     },
     "output_type": "display_data"
    }
   ],
   "source": [
    "subs_counts.plot.bar()\n",
    "plt.title('Частотность типов подписок')\n",
    "plt.xlabel('Тип подписки')\n",
    "plt.ylabel('Частотность')\n",
    "plt.show()"
   ]
  },
  {
   "cell_type": "code",
   "execution_count": 31,
   "id": "9e08c3fb",
   "metadata": {},
   "outputs": [
    {
     "data": {
      "text/plain": [
       "'На одного пользователя с подпиской приходится 1.19 пользователей без подписки '"
      ]
     },
     "metadata": {},
     "output_type": "display_data"
    }
   ],
   "source": [
    "part = len(data_users.query(\"subscription_type == 'free'\"))/len(data_users.query(\"subscription_type == 'ultra'\"))\n",
    "display(f'На одного пользователя с подпиской приходится {round(part,2)} пользователей без подписки ')"
   ]
  },
  {
   "cell_type": "code",
   "execution_count": 32,
   "id": "631801c0",
   "metadata": {},
   "outputs": [
    {
     "data": {
      "text/plain": [
       "'Пользователей без подписки 54.43%, пользователей без подписки 45.57%'"
      ]
     },
     "metadata": {},
     "output_type": "display_data"
    }
   ],
   "source": [
    "procent_free = (len(data_users.query(\"subscription_type == 'free'\"))/len(data_users))*100\n",
    "procent_ultra = 100 - procent_free\n",
    "display(f'Пользователей без подписки {round(procent_free,2)}%, пользователей без подписки {round(procent_ultra,2)}%')"
   ]
  },
  {
   "cell_type": "markdown",
   "id": "aa74a7ae",
   "metadata": {},
   "source": [
    "Количество пользователей с подпиской составляет около 700, а без подписки — около 800"
   ]
  },
  {
   "cell_type": "markdown",
   "id": "6ee4a000",
   "metadata": {},
   "source": [
    "<div class=\"alert alert-block alert-danger\">\n",
    "<h2> Комментарий ревьюера ⛔️<a class=\"tocSkip\"></h2>\n",
    "<s>\n",
    "И здесь нужно будет скорректировать тип графика) Также нужно рассчитать соотношение, т.е. добавить расчет с долями)"
   ]
  },
  {
   "cell_type": "markdown",
   "id": "212d0340",
   "metadata": {},
   "source": [
    "<div class=\"alert alert-info\"> \n",
    "<b>Комментарий студента:</b> Сделано\n",
    "</div>"
   ]
  },
  {
   "cell_type": "markdown",
   "id": "88e61eea",
   "metadata": {},
   "source": [
    "<div class=\"alert alert-success\">\n",
    "<h2> Комментарий ревьюера 😊 v_2 <a class=\"tocSkip\"> </h2>\n",
    "\n",
    "Можно использовать круговую диаграмму)"
   ]
  },
  {
   "cell_type": "code",
   "execution_count": 33,
   "id": "0fc5d10c",
   "metadata": {},
   "outputs": [
    {
     "data": {
      "image/png": "[encoded data removed]",
      "text/plain": [
       "<Figure size 432x288 with 1 Axes>"
      ]
     },
     "metadata": {
      "needs_background": "light"
     },
     "output_type": "display_data"
    }
   ],
   "source": [
    "data_users['age'].hist(bins=60,range=(0,60));"
   ]
  },
  {
   "cell_type": "code",
   "execution_count": 34,
   "id": "a8245f4f",
   "metadata": {},
   "outputs": [
    {
     "data": {
      "text/plain": [
       "count    1534.000000\n",
       "mean       24.903520\n",
       "std         4.572367\n",
       "min        12.000000\n",
       "25%        22.000000\n",
       "50%        25.000000\n",
       "75%        28.000000\n",
       "max        43.000000\n",
       "Name: age, dtype: float64"
      ]
     },
     "execution_count": 34,
     "metadata": {},
     "output_type": "execute_result"
    }
   ],
   "source": [
    "data_users['age'].describe()"
   ]
  },
  {
   "cell_type": "markdown",
   "id": "cb350f5c",
   "metadata": {},
   "source": [
    "Большинство пользователей находятся в возрасте от 22 до 28 лет, а возрастной диапазон всех пользователей простирается от 12 до 43 лет. Эти данные выглядят нормально. "
   ]
  },
  {
   "cell_type": "markdown",
   "id": "0487647f",
   "metadata": {},
   "source": [
    "<div class=\"alert alert-success\">\n",
    "<h2> Комментарий ревьюера 😊<a class=\"tocSkip\"> </h2>\n",
    "\n",
    "Здорово, что используешь метод describe()"
   ]
  },
  {
   "cell_type": "code",
   "execution_count": 35,
   "id": "f96a639a",
   "metadata": {},
   "outputs": [
    {
     "data": {
      "image/png": "[encoded data removed]",
      "text/plain": [
       "<Figure size 432x288 with 1 Axes>"
      ]
     },
     "metadata": {
      "needs_background": "light"
     },
     "output_type": "display_data"
    }
   ],
   "source": [
    "data_rides['distance'].hist(bins=80);"
   ]
  },
  {
   "cell_type": "markdown",
   "id": "e960f956",
   "metadata": {},
   "source": [
    "<div class=\"alert alert-warning\">\n",
    "<h2> Комментарий ревьюера 🤓<a class=\"tocSkip\"> </h2>\n",
    "\n",
    "Будет здорово увеличить кол-во корзин)"
   ]
  },
  {
   "cell_type": "markdown",
   "id": "33e25da8",
   "metadata": {},
   "source": [
    "<div class=\"alert alert-info\"> \n",
    "<b>Комментарий студента:</b> Сделано\n",
    "</div>"
   ]
  },
  {
   "cell_type": "markdown",
   "id": "537a7883",
   "metadata": {},
   "source": [
    "<div class=\"alert alert-success\">\n",
    "<h2> Комментарий ревьюера 😊 v_2 <a class=\"tocSkip\"> </h2>\n",
    "\n",
    "Так лучше)"
   ]
  },
  {
   "cell_type": "code",
   "execution_count": 36,
   "id": "6820c03d",
   "metadata": {},
   "outputs": [
    {
     "data": {
      "text/plain": [
       "count    18068.000000\n",
       "mean      3070.659976\n",
       "std       1116.831209\n",
       "min          0.855683\n",
       "25%       2543.226360\n",
       "50%       3133.609994\n",
       "75%       3776.222735\n",
       "max       7211.007745\n",
       "Name: distance, dtype: float64"
      ]
     },
     "execution_count": 36,
     "metadata": {},
     "output_type": "execute_result"
    }
   ],
   "source": [
    "data_rides['distance'].describe()"
   ]
  },
  {
   "cell_type": "markdown",
   "id": "80a71c7a",
   "metadata": {},
   "source": [
    "Большинство поездок на самокате имеют длину от примерно 2543 до 3776 метров, а расстояния варьируются от менее одного метра до более чем 7 километров. Эти данные выглядят нормально. "
   ]
  },
  {
   "cell_type": "code",
   "execution_count": 37,
   "id": "5fc731fd",
   "metadata": {},
   "outputs": [
    {
     "data": {
      "image/png": "[encoded data removed]",
      "text/plain": [
       "<Figure size 432x288 with 1 Axes>"
      ]
     },
     "metadata": {
      "needs_background": "light"
     },
     "output_type": "display_data"
    }
   ],
   "source": [
    "data_rides['duration'].hist();"
   ]
  },
  {
   "cell_type": "code",
   "execution_count": 38,
   "id": "a5ff605e",
   "metadata": {},
   "outputs": [
    {
     "data": {
      "text/plain": [
       "count    18068.000000\n",
       "mean        18.303520\n",
       "std          6.094928\n",
       "min          1.000000\n",
       "25%         14.000000\n",
       "50%         18.000000\n",
       "75%         22.000000\n",
       "max         41.000000\n",
       "Name: duration, dtype: float64"
      ]
     },
     "execution_count": 38,
     "metadata": {},
     "output_type": "execute_result"
    }
   ],
   "source": [
    "data_rides['duration'].describe()"
   ]
  },
  {
   "cell_type": "markdown",
   "id": "864acee2",
   "metadata": {},
   "source": [
    "Большинство поездок на самокате имеют продолжительность от примерно 13.60 до 21.72 минуты, а продолжительность поездок варьируется от 0.50 до 40.82 минуты.  Эти данные выглядят нормально."
   ]
  },
  {
   "cell_type": "markdown",
   "id": "bd96c779",
   "metadata": {},
   "source": [
    "<div class=\"alert alert-success\">\n",
    "<h2> Комментарий ревьюера 😊<a class=\"tocSkip\"> </h2>\n",
    "\n",
    "Хорошая работа по исследовательскому анализу, молодец)"
   ]
  },
  {
   "cell_type": "markdown",
   "id": "4ef51331",
   "metadata": {},
   "source": [
    "#### Шаг 4. Объединение данных"
   ]
  },
  {
   "cell_type": "markdown",
   "id": "5d5a005f",
   "metadata": {},
   "source": [
    "Чтобы не работать с несколькими источниками данных. Соеденим все датафреймы в один при помощи метода merge(). Сначала соеденим data_users и data_rides по столбцу 'id'. А позже добавим в уже объединенную таблицу data_subs по столбцу 'subscription_type'."
   ]
  },
  {
   "cell_type": "code",
   "execution_count": 39,
   "id": "dbbfdb00",
   "metadata": {},
   "outputs": [],
   "source": [
    "data_uers_riders = data_users.merge(data_rides,on='user_id',how='outer')"
   ]
  },
  {
   "cell_type": "code",
   "execution_count": 40,
   "id": "55c88523",
   "metadata": {},
   "outputs": [
    {
     "data": {
      "text/html": [
       "<div>\n",
       "<style scoped>\n",
       "    .dataframe tbody tr th:only-of-type {\n",
       "        vertical-align: middle;\n",
       "    }\n",
       "\n",
       "    .dataframe tbody tr th {\n",
       "        vertical-align: top;\n",
       "    }\n",
       "\n",
       "    .dataframe thead th {\n",
       "        text-align: right;\n",
       "    }\n",
       "</style>\n",
       "<table border=\"1\" class=\"dataframe\">\n",
       "  <thead>\n",
       "    <tr style=\"text-align: right;\">\n",
       "      <th></th>\n",
       "      <th>user_id</th>\n",
       "      <th>name</th>\n",
       "      <th>age</th>\n",
       "      <th>city</th>\n",
       "      <th>subscription_type</th>\n",
       "      <th>distance</th>\n",
       "      <th>duration</th>\n",
       "      <th>date</th>\n",
       "      <th>month</th>\n",
       "    </tr>\n",
       "  </thead>\n",
       "  <tbody>\n",
       "    <tr>\n",
       "      <th>0</th>\n",
       "      <td>1</td>\n",
       "      <td>Кира</td>\n",
       "      <td>22</td>\n",
       "      <td>Тюмень</td>\n",
       "      <td>ultra</td>\n",
       "      <td>4409.919140</td>\n",
       "      <td>26.0</td>\n",
       "      <td>2021-01-01</td>\n",
       "      <td>1</td>\n",
       "    </tr>\n",
       "    <tr>\n",
       "      <th>1</th>\n",
       "      <td>1</td>\n",
       "      <td>Кира</td>\n",
       "      <td>22</td>\n",
       "      <td>Тюмень</td>\n",
       "      <td>ultra</td>\n",
       "      <td>2617.592153</td>\n",
       "      <td>16.0</td>\n",
       "      <td>2021-01-18</td>\n",
       "      <td>1</td>\n",
       "    </tr>\n",
       "    <tr>\n",
       "      <th>2</th>\n",
       "      <td>1</td>\n",
       "      <td>Кира</td>\n",
       "      <td>22</td>\n",
       "      <td>Тюмень</td>\n",
       "      <td>ultra</td>\n",
       "      <td>754.159807</td>\n",
       "      <td>7.0</td>\n",
       "      <td>2021-04-20</td>\n",
       "      <td>4</td>\n",
       "    </tr>\n",
       "    <tr>\n",
       "      <th>3</th>\n",
       "      <td>1</td>\n",
       "      <td>Кира</td>\n",
       "      <td>22</td>\n",
       "      <td>Тюмень</td>\n",
       "      <td>ultra</td>\n",
       "      <td>2694.783254</td>\n",
       "      <td>19.0</td>\n",
       "      <td>2021-08-11</td>\n",
       "      <td>8</td>\n",
       "    </tr>\n",
       "    <tr>\n",
       "      <th>4</th>\n",
       "      <td>1</td>\n",
       "      <td>Кира</td>\n",
       "      <td>22</td>\n",
       "      <td>Тюмень</td>\n",
       "      <td>ultra</td>\n",
       "      <td>4028.687306</td>\n",
       "      <td>27.0</td>\n",
       "      <td>2021-08-28</td>\n",
       "      <td>8</td>\n",
       "    </tr>\n",
       "  </tbody>\n",
       "</table>\n",
       "</div>"
      ],
      "text/plain": [
       "   user_id  name  age    city subscription_type     distance  duration  \\\n",
       "0        1  Кира   22  Тюмень             ultra  4409.919140      26.0   \n",
       "1        1  Кира   22  Тюмень             ultra  2617.592153      16.0   \n",
       "2        1  Кира   22  Тюмень             ultra   754.159807       7.0   \n",
       "3        1  Кира   22  Тюмень             ultra  2694.783254      19.0   \n",
       "4        1  Кира   22  Тюмень             ultra  4028.687306      27.0   \n",
       "\n",
       "        date  month  \n",
       "0 2021-01-01      1  \n",
       "1 2021-01-18      1  \n",
       "2 2021-04-20      4  \n",
       "3 2021-08-11      8  \n",
       "4 2021-08-28      8  "
      ]
     },
     "metadata": {},
     "output_type": "display_data"
    }
   ],
   "source": [
    "display(data_uers_riders.head())"
   ]
  },
  {
   "cell_type": "code",
   "execution_count": 41,
   "id": "7bb05e80",
   "metadata": {},
   "outputs": [
    {
     "data": {
      "text/plain": [
       "user_id              0\n",
       "name                 0\n",
       "age                  0\n",
       "city                 0\n",
       "subscription_type    0\n",
       "distance             0\n",
       "duration             0\n",
       "date                 0\n",
       "month                0\n",
       "dtype: int64"
      ]
     },
     "execution_count": 41,
     "metadata": {},
     "output_type": "execute_result"
    }
   ],
   "source": [
    "data_uers_riders.isna().sum()"
   ]
  },
  {
   "cell_type": "code",
   "execution_count": 42,
   "id": "5e921ff3",
   "metadata": {},
   "outputs": [],
   "source": [
    "data = data_uers_riders.merge(data_subs,on='subscription_type',how='outer')"
   ]
  },
  {
   "cell_type": "code",
   "execution_count": 43,
   "id": "f591930e",
   "metadata": {},
   "outputs": [
    {
     "data": {
      "text/html": [
       "<div>\n",
       "<style scoped>\n",
       "    .dataframe tbody tr th:only-of-type {\n",
       "        vertical-align: middle;\n",
       "    }\n",
       "\n",
       "    .dataframe tbody tr th {\n",
       "        vertical-align: top;\n",
       "    }\n",
       "\n",
       "    .dataframe thead th {\n",
       "        text-align: right;\n",
       "    }\n",
       "</style>\n",
       "<table border=\"1\" class=\"dataframe\">\n",
       "  <thead>\n",
       "    <tr style=\"text-align: right;\">\n",
       "      <th></th>\n",
       "      <th>user_id</th>\n",
       "      <th>name</th>\n",
       "      <th>age</th>\n",
       "      <th>city</th>\n",
       "      <th>subscription_type</th>\n",
       "      <th>distance</th>\n",
       "      <th>duration</th>\n",
       "      <th>date</th>\n",
       "      <th>month</th>\n",
       "      <th>minute_price</th>\n",
       "      <th>start_ride_price</th>\n",
       "      <th>subscription_fee</th>\n",
       "    </tr>\n",
       "  </thead>\n",
       "  <tbody>\n",
       "    <tr>\n",
       "      <th>0</th>\n",
       "      <td>1</td>\n",
       "      <td>Кира</td>\n",
       "      <td>22</td>\n",
       "      <td>Тюмень</td>\n",
       "      <td>ultra</td>\n",
       "      <td>4409.919140</td>\n",
       "      <td>26.0</td>\n",
       "      <td>2021-01-01</td>\n",
       "      <td>1</td>\n",
       "      <td>6</td>\n",
       "      <td>0</td>\n",
       "      <td>199</td>\n",
       "    </tr>\n",
       "    <tr>\n",
       "      <th>1</th>\n",
       "      <td>1</td>\n",
       "      <td>Кира</td>\n",
       "      <td>22</td>\n",
       "      <td>Тюмень</td>\n",
       "      <td>ultra</td>\n",
       "      <td>2617.592153</td>\n",
       "      <td>16.0</td>\n",
       "      <td>2021-01-18</td>\n",
       "      <td>1</td>\n",
       "      <td>6</td>\n",
       "      <td>0</td>\n",
       "      <td>199</td>\n",
       "    </tr>\n",
       "    <tr>\n",
       "      <th>2</th>\n",
       "      <td>1</td>\n",
       "      <td>Кира</td>\n",
       "      <td>22</td>\n",
       "      <td>Тюмень</td>\n",
       "      <td>ultra</td>\n",
       "      <td>754.159807</td>\n",
       "      <td>7.0</td>\n",
       "      <td>2021-04-20</td>\n",
       "      <td>4</td>\n",
       "      <td>6</td>\n",
       "      <td>0</td>\n",
       "      <td>199</td>\n",
       "    </tr>\n",
       "    <tr>\n",
       "      <th>3</th>\n",
       "      <td>1</td>\n",
       "      <td>Кира</td>\n",
       "      <td>22</td>\n",
       "      <td>Тюмень</td>\n",
       "      <td>ultra</td>\n",
       "      <td>2694.783254</td>\n",
       "      <td>19.0</td>\n",
       "      <td>2021-08-11</td>\n",
       "      <td>8</td>\n",
       "      <td>6</td>\n",
       "      <td>0</td>\n",
       "      <td>199</td>\n",
       "    </tr>\n",
       "    <tr>\n",
       "      <th>4</th>\n",
       "      <td>1</td>\n",
       "      <td>Кира</td>\n",
       "      <td>22</td>\n",
       "      <td>Тюмень</td>\n",
       "      <td>ultra</td>\n",
       "      <td>4028.687306</td>\n",
       "      <td>27.0</td>\n",
       "      <td>2021-08-28</td>\n",
       "      <td>8</td>\n",
       "      <td>6</td>\n",
       "      <td>0</td>\n",
       "      <td>199</td>\n",
       "    </tr>\n",
       "  </tbody>\n",
       "</table>\n",
       "</div>"
      ],
      "text/plain": [
       "   user_id  name  age    city subscription_type     distance  duration  \\\n",
       "0        1  Кира   22  Тюмень             ultra  4409.919140      26.0   \n",
       "1        1  Кира   22  Тюмень             ultra  2617.592153      16.0   \n",
       "2        1  Кира   22  Тюмень             ultra   754.159807       7.0   \n",
       "3        1  Кира   22  Тюмень             ultra  2694.783254      19.0   \n",
       "4        1  Кира   22  Тюмень             ultra  4028.687306      27.0   \n",
       "\n",
       "        date  month  minute_price  start_ride_price  subscription_fee  \n",
       "0 2021-01-01      1             6                 0               199  \n",
       "1 2021-01-18      1             6                 0               199  \n",
       "2 2021-04-20      4             6                 0               199  \n",
       "3 2021-08-11      8             6                 0               199  \n",
       "4 2021-08-28      8             6                 0               199  "
      ]
     },
     "metadata": {},
     "output_type": "display_data"
    }
   ],
   "source": [
    "display(data.head())"
   ]
  },
  {
   "cell_type": "code",
   "execution_count": 44,
   "id": "d1560015",
   "metadata": {},
   "outputs": [
    {
     "data": {
      "text/plain": [
       "user_id              0\n",
       "name                 0\n",
       "age                  0\n",
       "city                 0\n",
       "subscription_type    0\n",
       "distance             0\n",
       "duration             0\n",
       "date                 0\n",
       "month                0\n",
       "dtype: int64"
      ]
     },
     "execution_count": 44,
     "metadata": {},
     "output_type": "execute_result"
    }
   ],
   "source": [
    "data_uers_riders.isna().sum()"
   ]
  },
  {
   "cell_type": "code",
   "execution_count": 45,
   "id": "64118560",
   "metadata": {},
   "outputs": [
    {
     "name": "stdout",
     "output_type": "stream",
     "text": [
      "<class 'pandas.core.frame.DataFrame'>\n",
      "Int64Index: 18068 entries, 0 to 18067\n",
      "Data columns (total 9 columns):\n",
      " #   Column             Non-Null Count  Dtype         \n",
      "---  ------             --------------  -----         \n",
      " 0   user_id            18068 non-null  int64         \n",
      " 1   name               18068 non-null  object        \n",
      " 2   age                18068 non-null  int64         \n",
      " 3   city               18068 non-null  object        \n",
      " 4   subscription_type  18068 non-null  object        \n",
      " 5   distance           18068 non-null  float64       \n",
      " 6   duration           18068 non-null  float64       \n",
      " 7   date               18068 non-null  datetime64[ns]\n",
      " 8   month              18068 non-null  int64         \n",
      "dtypes: datetime64[ns](1), float64(2), int64(3), object(3)\n",
      "memory usage: 1.4+ MB\n"
     ]
    }
   ],
   "source": [
    "data_uers_riders.info()"
   ]
  },
  {
   "cell_type": "markdown",
   "id": "db54c188",
   "metadata": {},
   "source": [
    "<div class=\"alert alert-success\">\n",
    "<h2> Комментарий ревьюера 😊<a class=\"tocSkip\"> </h2>\n",
    "\n",
    "Верно, что проверяем на пропуски)"
   ]
  },
  {
   "cell_type": "markdown",
   "id": "5c7e1037",
   "metadata": {},
   "source": [
    "<div class=\"alert alert-block alert-danger\">\n",
    "<h2> Комментарий ревьюера ⛔️<a class=\"tocSkip\"></h2>\n",
    "<s>\n",
    "Также нужно проверить размерность датасета, что у нас не появились лишние значения. "
   ]
  },
  {
   "cell_type": "markdown",
   "id": "f21ec15c",
   "metadata": {},
   "source": [
    "<div class=\"alert alert-info\"> \n",
    "<b>Комментарий студента:</b> Сделано. Лишних значений не вижу.\n",
    "</div>"
   ]
  },
  {
   "cell_type": "markdown",
   "id": "904ad6f9",
   "metadata": {},
   "source": [
    "<div class=\"alert alert-success\">\n",
    "<h2> Комментарий ревьюера 😊 v_2 <a class=\"tocSkip\"> </h2>\n",
    "\n",
    "Верно, после удаления дубликатов их не должно быть)"
   ]
  },
  {
   "cell_type": "markdown",
   "id": "b7f439fe",
   "metadata": {},
   "source": [
    "Для более удобной работы разделим этот датафрейм на два - пользаватели с подпиской и без подписки."
   ]
  },
  {
   "cell_type": "code",
   "execution_count": 46,
   "id": "e6c60211",
   "metadata": {},
   "outputs": [],
   "source": [
    "data_free = data[data['subscription_type'] != 'ultra']"
   ]
  },
  {
   "cell_type": "code",
   "execution_count": 47,
   "id": "7ab138c8",
   "metadata": {},
   "outputs": [
    {
     "data": {
      "text/html": [
       "<div>\n",
       "<style scoped>\n",
       "    .dataframe tbody tr th:only-of-type {\n",
       "        vertical-align: middle;\n",
       "    }\n",
       "\n",
       "    .dataframe tbody tr th {\n",
       "        vertical-align: top;\n",
       "    }\n",
       "\n",
       "    .dataframe thead th {\n",
       "        text-align: right;\n",
       "    }\n",
       "</style>\n",
       "<table border=\"1\" class=\"dataframe\">\n",
       "  <thead>\n",
       "    <tr style=\"text-align: right;\">\n",
       "      <th></th>\n",
       "      <th>user_id</th>\n",
       "      <th>name</th>\n",
       "      <th>age</th>\n",
       "      <th>city</th>\n",
       "      <th>subscription_type</th>\n",
       "      <th>distance</th>\n",
       "      <th>duration</th>\n",
       "      <th>date</th>\n",
       "      <th>month</th>\n",
       "      <th>minute_price</th>\n",
       "      <th>start_ride_price</th>\n",
       "      <th>subscription_fee</th>\n",
       "    </tr>\n",
       "  </thead>\n",
       "  <tbody>\n",
       "    <tr>\n",
       "      <th>6500</th>\n",
       "      <td>700</td>\n",
       "      <td>Айдар</td>\n",
       "      <td>22</td>\n",
       "      <td>Омск</td>\n",
       "      <td>free</td>\n",
       "      <td>2515.690719</td>\n",
       "      <td>15.0</td>\n",
       "      <td>2021-01-02</td>\n",
       "      <td>1</td>\n",
       "      <td>8</td>\n",
       "      <td>50</td>\n",
       "      <td>0</td>\n",
       "    </tr>\n",
       "    <tr>\n",
       "      <th>6501</th>\n",
       "      <td>700</td>\n",
       "      <td>Айдар</td>\n",
       "      <td>22</td>\n",
       "      <td>Омск</td>\n",
       "      <td>free</td>\n",
       "      <td>846.932642</td>\n",
       "      <td>17.0</td>\n",
       "      <td>2021-02-01</td>\n",
       "      <td>2</td>\n",
       "      <td>8</td>\n",
       "      <td>50</td>\n",
       "      <td>0</td>\n",
       "    </tr>\n",
       "    <tr>\n",
       "      <th>6502</th>\n",
       "      <td>700</td>\n",
       "      <td>Айдар</td>\n",
       "      <td>22</td>\n",
       "      <td>Омск</td>\n",
       "      <td>free</td>\n",
       "      <td>4004.434142</td>\n",
       "      <td>21.0</td>\n",
       "      <td>2021-02-04</td>\n",
       "      <td>2</td>\n",
       "      <td>8</td>\n",
       "      <td>50</td>\n",
       "      <td>0</td>\n",
       "    </tr>\n",
       "    <tr>\n",
       "      <th>6503</th>\n",
       "      <td>700</td>\n",
       "      <td>Айдар</td>\n",
       "      <td>22</td>\n",
       "      <td>Омск</td>\n",
       "      <td>free</td>\n",
       "      <td>1205.911290</td>\n",
       "      <td>10.0</td>\n",
       "      <td>2021-02-10</td>\n",
       "      <td>2</td>\n",
       "      <td>8</td>\n",
       "      <td>50</td>\n",
       "      <td>0</td>\n",
       "    </tr>\n",
       "    <tr>\n",
       "      <th>6504</th>\n",
       "      <td>700</td>\n",
       "      <td>Айдар</td>\n",
       "      <td>22</td>\n",
       "      <td>Омск</td>\n",
       "      <td>free</td>\n",
       "      <td>3047.379435</td>\n",
       "      <td>18.0</td>\n",
       "      <td>2021-02-14</td>\n",
       "      <td>2</td>\n",
       "      <td>8</td>\n",
       "      <td>50</td>\n",
       "      <td>0</td>\n",
       "    </tr>\n",
       "  </tbody>\n",
       "</table>\n",
       "</div>"
      ],
      "text/plain": [
       "      user_id   name  age  city subscription_type     distance  duration  \\\n",
       "6500      700  Айдар   22  Омск              free  2515.690719      15.0   \n",
       "6501      700  Айдар   22  Омск              free   846.932642      17.0   \n",
       "6502      700  Айдар   22  Омск              free  4004.434142      21.0   \n",
       "6503      700  Айдар   22  Омск              free  1205.911290      10.0   \n",
       "6504      700  Айдар   22  Омск              free  3047.379435      18.0   \n",
       "\n",
       "           date  month  minute_price  start_ride_price  subscription_fee  \n",
       "6500 2021-01-02      1             8                50                 0  \n",
       "6501 2021-02-01      2             8                50                 0  \n",
       "6502 2021-02-04      2             8                50                 0  \n",
       "6503 2021-02-10      2             8                50                 0  \n",
       "6504 2021-02-14      2             8                50                 0  "
      ]
     },
     "metadata": {},
     "output_type": "display_data"
    }
   ],
   "source": [
    "display(data_free.head())"
   ]
  },
  {
   "cell_type": "code",
   "execution_count": 48,
   "id": "767de5cf",
   "metadata": {},
   "outputs": [
    {
     "data": {
      "image/png": "[encoded data removed]",
      "text/plain": [
       "<Figure size 432x288 with 1 Axes>"
      ]
     },
     "metadata": {
      "needs_background": "light"
     },
     "output_type": "display_data"
    }
   ],
   "source": [
    "data_free['distance'].hist(bins=80);"
   ]
  },
  {
   "cell_type": "code",
   "execution_count": 49,
   "id": "6da68859",
   "metadata": {},
   "outputs": [
    {
     "data": {
      "text/plain": [
       "count    11568.000000\n",
       "mean      3045.495282\n",
       "std       1246.173806\n",
       "min          0.855683\n",
       "25%       2366.562689\n",
       "50%       3114.648465\n",
       "75%       3905.697894\n",
       "max       7211.007745\n",
       "Name: distance, dtype: float64"
      ]
     },
     "execution_count": 49,
     "metadata": {},
     "output_type": "execute_result"
    }
   ],
   "source": [
    "data_free['distance'].describe()"
   ]
  },
  {
   "cell_type": "markdown",
   "id": "0006eba9",
   "metadata": {},
   "source": [
    "В данном случае среднее (3045.495282) и медиана (3114.648465) довольно близки друг к другу, что говорит о том, что распределение данных симметрично, что мы и наблюдаем."
   ]
  },
  {
   "cell_type": "code",
   "execution_count": 50,
   "id": "c0e65cf9",
   "metadata": {},
   "outputs": [
    {
     "data": {
      "image/png": "[encoded data removed]",
      "text/plain": [
       "<Figure size 432x288 with 1 Axes>"
      ]
     },
     "metadata": {
      "needs_background": "light"
     },
     "output_type": "display_data"
    }
   ],
   "source": [
    "data_free['duration'].hist(bins=35);"
   ]
  },
  {
   "cell_type": "code",
   "execution_count": 51,
   "id": "f8fbe44c",
   "metadata": {},
   "outputs": [
    {
     "data": {
      "text/plain": [
       "count    11568.000000\n",
       "mean        17.890992\n",
       "std          6.330250\n",
       "min          1.000000\n",
       "25%         13.000000\n",
       "50%         18.000000\n",
       "75%         22.000000\n",
       "max         35.000000\n",
       "Name: duration, dtype: float64"
      ]
     },
     "execution_count": 51,
     "metadata": {},
     "output_type": "execute_result"
    }
   ],
   "source": [
    "data_free['duration'].describe()"
   ]
  },
  {
   "cell_type": "markdown",
   "id": "0c0c16c7",
   "metadata": {},
   "source": [
    "Здесь мы наблюдаем почти совпадение медианы и среднего - график имеет форму нормального распределния, где самое популярное значение около 18 минут и стандартное отклоение 6 минут."
   ]
  },
  {
   "cell_type": "code",
   "execution_count": 52,
   "id": "3e76b6b8",
   "metadata": {},
   "outputs": [],
   "source": [
    "data_ultra = data[data['subscription_type'] != 'free']"
   ]
  },
  {
   "cell_type": "code",
   "execution_count": 53,
   "id": "3c93cda4",
   "metadata": {},
   "outputs": [
    {
     "data": {
      "text/html": [
       "<div>\n",
       "<style scoped>\n",
       "    .dataframe tbody tr th:only-of-type {\n",
       "        vertical-align: middle;\n",
       "    }\n",
       "\n",
       "    .dataframe tbody tr th {\n",
       "        vertical-align: top;\n",
       "    }\n",
       "\n",
       "    .dataframe thead th {\n",
       "        text-align: right;\n",
       "    }\n",
       "</style>\n",
       "<table border=\"1\" class=\"dataframe\">\n",
       "  <thead>\n",
       "    <tr style=\"text-align: right;\">\n",
       "      <th></th>\n",
       "      <th>user_id</th>\n",
       "      <th>name</th>\n",
       "      <th>age</th>\n",
       "      <th>city</th>\n",
       "      <th>subscription_type</th>\n",
       "      <th>distance</th>\n",
       "      <th>duration</th>\n",
       "      <th>date</th>\n",
       "      <th>month</th>\n",
       "      <th>minute_price</th>\n",
       "      <th>start_ride_price</th>\n",
       "      <th>subscription_fee</th>\n",
       "    </tr>\n",
       "  </thead>\n",
       "  <tbody>\n",
       "    <tr>\n",
       "      <th>0</th>\n",
       "      <td>1</td>\n",
       "      <td>Кира</td>\n",
       "      <td>22</td>\n",
       "      <td>Тюмень</td>\n",
       "      <td>ultra</td>\n",
       "      <td>4409.919140</td>\n",
       "      <td>26.0</td>\n",
       "      <td>2021-01-01</td>\n",
       "      <td>1</td>\n",
       "      <td>6</td>\n",
       "      <td>0</td>\n",
       "      <td>199</td>\n",
       "    </tr>\n",
       "    <tr>\n",
       "      <th>1</th>\n",
       "      <td>1</td>\n",
       "      <td>Кира</td>\n",
       "      <td>22</td>\n",
       "      <td>Тюмень</td>\n",
       "      <td>ultra</td>\n",
       "      <td>2617.592153</td>\n",
       "      <td>16.0</td>\n",
       "      <td>2021-01-18</td>\n",
       "      <td>1</td>\n",
       "      <td>6</td>\n",
       "      <td>0</td>\n",
       "      <td>199</td>\n",
       "    </tr>\n",
       "    <tr>\n",
       "      <th>2</th>\n",
       "      <td>1</td>\n",
       "      <td>Кира</td>\n",
       "      <td>22</td>\n",
       "      <td>Тюмень</td>\n",
       "      <td>ultra</td>\n",
       "      <td>754.159807</td>\n",
       "      <td>7.0</td>\n",
       "      <td>2021-04-20</td>\n",
       "      <td>4</td>\n",
       "      <td>6</td>\n",
       "      <td>0</td>\n",
       "      <td>199</td>\n",
       "    </tr>\n",
       "    <tr>\n",
       "      <th>3</th>\n",
       "      <td>1</td>\n",
       "      <td>Кира</td>\n",
       "      <td>22</td>\n",
       "      <td>Тюмень</td>\n",
       "      <td>ultra</td>\n",
       "      <td>2694.783254</td>\n",
       "      <td>19.0</td>\n",
       "      <td>2021-08-11</td>\n",
       "      <td>8</td>\n",
       "      <td>6</td>\n",
       "      <td>0</td>\n",
       "      <td>199</td>\n",
       "    </tr>\n",
       "    <tr>\n",
       "      <th>4</th>\n",
       "      <td>1</td>\n",
       "      <td>Кира</td>\n",
       "      <td>22</td>\n",
       "      <td>Тюмень</td>\n",
       "      <td>ultra</td>\n",
       "      <td>4028.687306</td>\n",
       "      <td>27.0</td>\n",
       "      <td>2021-08-28</td>\n",
       "      <td>8</td>\n",
       "      <td>6</td>\n",
       "      <td>0</td>\n",
       "      <td>199</td>\n",
       "    </tr>\n",
       "  </tbody>\n",
       "</table>\n",
       "</div>"
      ],
      "text/plain": [
       "   user_id  name  age    city subscription_type     distance  duration  \\\n",
       "0        1  Кира   22  Тюмень             ultra  4409.919140      26.0   \n",
       "1        1  Кира   22  Тюмень             ultra  2617.592153      16.0   \n",
       "2        1  Кира   22  Тюмень             ultra   754.159807       7.0   \n",
       "3        1  Кира   22  Тюмень             ultra  2694.783254      19.0   \n",
       "4        1  Кира   22  Тюмень             ultra  4028.687306      27.0   \n",
       "\n",
       "        date  month  minute_price  start_ride_price  subscription_fee  \n",
       "0 2021-01-01      1             6                 0               199  \n",
       "1 2021-01-18      1             6                 0               199  \n",
       "2 2021-04-20      4             6                 0               199  \n",
       "3 2021-08-11      8             6                 0               199  \n",
       "4 2021-08-28      8             6                 0               199  "
      ]
     },
     "metadata": {},
     "output_type": "display_data"
    }
   ],
   "source": [
    "display(data_ultra.head())"
   ]
  },
  {
   "cell_type": "code",
   "execution_count": 54,
   "id": "ea354cd9",
   "metadata": {},
   "outputs": [
    {
     "data": {
      "image/png": "[encoded data removed]",
      "text/plain": [
       "<Figure size 432x288 with 1 Axes>"
      ]
     },
     "metadata": {
      "needs_background": "light"
     },
     "output_type": "display_data"
    }
   ],
   "source": [
    "data_ultra['distance'].hist(bins=120);"
   ]
  },
  {
   "cell_type": "code",
   "execution_count": 55,
   "id": "746b387e",
   "metadata": {},
   "outputs": [
    {
     "data": {
      "text/plain": [
       "count    6500.000000\n",
       "mean     3115.445388\n",
       "std       836.895330\n",
       "min       244.210438\n",
       "25%      2785.444017\n",
       "50%      3148.637229\n",
       "75%      3560.574425\n",
       "max      5699.769662\n",
       "Name: distance, dtype: float64"
      ]
     },
     "execution_count": 55,
     "metadata": {},
     "output_type": "execute_result"
    }
   ],
   "source": [
    "data_ultra['distance'].describe()"
   ]
  },
  {
   "cell_type": "markdown",
   "id": "6651e0ad",
   "metadata": {},
   "source": [
    "Распределение по форме напоминает распредление значений для пользователей без подписки. Средение и медиана тоже близки друг к другу - 3115 и 3560 минут соответсвенно. Стандартное отклонение ниже."
   ]
  },
  {
   "cell_type": "code",
   "execution_count": 56,
   "id": "e80eb891",
   "metadata": {},
   "outputs": [
    {
     "data": {
      "image/png": "[encoded data removed]",
      "text/plain": [
       "<Figure size 432x288 with 1 Axes>"
      ]
     },
     "metadata": {
      "needs_background": "light"
     },
     "output_type": "display_data"
    }
   ],
   "source": [
    "data_ultra['duration'].hist(bins=38);"
   ]
  },
  {
   "cell_type": "code",
   "execution_count": 57,
   "id": "e6632310",
   "metadata": {},
   "outputs": [
    {
     "data": {
      "text/plain": [
       "count    6500.000000\n",
       "mean       19.037692\n",
       "std         5.577439\n",
       "min         4.000000\n",
       "25%        15.000000\n",
       "50%        19.000000\n",
       "75%        22.000000\n",
       "max        41.000000\n",
       "Name: duration, dtype: float64"
      ]
     },
     "execution_count": 57,
     "metadata": {},
     "output_type": "execute_result"
    }
   ],
   "source": [
    "data_ultra['duration'].describe()"
   ]
  },
  {
   "cell_type": "markdown",
   "id": "99362f41",
   "metadata": {},
   "source": [
    "Средение и медана почти одинаковые и составляют около 19 минут, что на одну минуту больше, чем у пользователей без подписки."
   ]
  },
  {
   "cell_type": "markdown",
   "id": "9f379288",
   "metadata": {},
   "source": [
    "<div class=\"alert alert-block alert-danger\">\n",
    "<h2> Комментарий ревьюера ⛔️<a class=\"tocSkip\"></h2>\n",
    "<s>\n",
    "Пропустили пункт:\n",
    "    \n",
    "    Визуализируйте информацию о расстоянии и времени поездок для пользователей обеих категорий."
   ]
  },
  {
   "cell_type": "markdown",
   "id": "97969c33",
   "metadata": {},
   "source": [
    "<div class=\"alert alert-info\"> \n",
    "<b>Комментарий студента:</b> Сделано. Лишних значений не вижу.\n",
    "</div>"
   ]
  },
  {
   "cell_type": "markdown",
   "id": "b29ede8c",
   "metadata": {},
   "source": [
    "<div class=\"alert alert-success\">\n",
    "<h2> Комментарий ревьюера 😊 v_2 <a class=\"tocSkip\"> </h2>\n",
    "\n",
    "Молодец, что обращаешь внимание на сходства или различия профилей пользователей с платной и бесплатной подписками."
   ]
  },
  {
   "cell_type": "markdown",
   "id": "402d620f",
   "metadata": {},
   "source": [
    "#### Шаг 5. Подсчёт выручки"
   ]
  },
  {
   "cell_type": "markdown",
   "id": "1676cdbc",
   "metadata": {},
   "source": [
    "Создадим датафрейм с агрегированными данными о поездках на основе датафрейма с объединёнными данными из шага 4. С помощью комбинации методов .groupby() и .agg() найдем суммарное расстояние, количество поездок и суммарное время для каждого пользователя за каждый месяц."
   ]
  },
  {
   "cell_type": "code",
   "execution_count": 58,
   "id": "18382ce0",
   "metadata": {},
   "outputs": [],
   "source": [
    "data_agg = data.groupby(['user_id', 'month','subscription_type']).agg({\n",
    "    'distance': 'sum',           \n",
    "    'duration': ['count', 'sum']\n",
    "}).reset_index()"
   ]
  },
  {
   "cell_type": "code",
   "execution_count": 59,
   "id": "fc87c853",
   "metadata": {},
   "outputs": [],
   "source": [
    "data_agg.columns = ['user_id', 'month','subscription_type','total_distance', 'total_trips', 'total_duration']"
   ]
  },
  {
   "cell_type": "code",
   "execution_count": 60,
   "id": "5e69950e",
   "metadata": {},
   "outputs": [
    {
     "data": {
      "text/html": [
       "<div>\n",
       "<style scoped>\n",
       "    .dataframe tbody tr th:only-of-type {\n",
       "        vertical-align: middle;\n",
       "    }\n",
       "\n",
       "    .dataframe tbody tr th {\n",
       "        vertical-align: top;\n",
       "    }\n",
       "\n",
       "    .dataframe thead th {\n",
       "        text-align: right;\n",
       "    }\n",
       "</style>\n",
       "<table border=\"1\" class=\"dataframe\">\n",
       "  <thead>\n",
       "    <tr style=\"text-align: right;\">\n",
       "      <th></th>\n",
       "      <th>user_id</th>\n",
       "      <th>month</th>\n",
       "      <th>subscription_type</th>\n",
       "      <th>total_distance</th>\n",
       "      <th>total_trips</th>\n",
       "      <th>total_duration</th>\n",
       "    </tr>\n",
       "  </thead>\n",
       "  <tbody>\n",
       "    <tr>\n",
       "      <th>0</th>\n",
       "      <td>1</td>\n",
       "      <td>1</td>\n",
       "      <td>ultra</td>\n",
       "      <td>7027.511294</td>\n",
       "      <td>2</td>\n",
       "      <td>42.0</td>\n",
       "    </tr>\n",
       "    <tr>\n",
       "      <th>1</th>\n",
       "      <td>1</td>\n",
       "      <td>4</td>\n",
       "      <td>ultra</td>\n",
       "      <td>754.159807</td>\n",
       "      <td>1</td>\n",
       "      <td>7.0</td>\n",
       "    </tr>\n",
       "    <tr>\n",
       "      <th>2</th>\n",
       "      <td>1</td>\n",
       "      <td>8</td>\n",
       "      <td>ultra</td>\n",
       "      <td>6723.470560</td>\n",
       "      <td>2</td>\n",
       "      <td>46.0</td>\n",
       "    </tr>\n",
       "    <tr>\n",
       "      <th>3</th>\n",
       "      <td>1</td>\n",
       "      <td>10</td>\n",
       "      <td>ultra</td>\n",
       "      <td>5809.911100</td>\n",
       "      <td>2</td>\n",
       "      <td>32.0</td>\n",
       "    </tr>\n",
       "    <tr>\n",
       "      <th>4</th>\n",
       "      <td>1</td>\n",
       "      <td>11</td>\n",
       "      <td>ultra</td>\n",
       "      <td>7003.499363</td>\n",
       "      <td>3</td>\n",
       "      <td>56.0</td>\n",
       "    </tr>\n",
       "    <tr>\n",
       "      <th>5</th>\n",
       "      <td>1</td>\n",
       "      <td>12</td>\n",
       "      <td>ultra</td>\n",
       "      <td>6751.629942</td>\n",
       "      <td>2</td>\n",
       "      <td>28.0</td>\n",
       "    </tr>\n",
       "    <tr>\n",
       "      <th>6</th>\n",
       "      <td>2</td>\n",
       "      <td>3</td>\n",
       "      <td>ultra</td>\n",
       "      <td>10187.723006</td>\n",
       "      <td>3</td>\n",
       "      <td>63.0</td>\n",
       "    </tr>\n",
       "    <tr>\n",
       "      <th>7</th>\n",
       "      <td>2</td>\n",
       "      <td>4</td>\n",
       "      <td>ultra</td>\n",
       "      <td>6164.381824</td>\n",
       "      <td>2</td>\n",
       "      <td>40.0</td>\n",
       "    </tr>\n",
       "    <tr>\n",
       "      <th>8</th>\n",
       "      <td>2</td>\n",
       "      <td>6</td>\n",
       "      <td>ultra</td>\n",
       "      <td>3255.338202</td>\n",
       "      <td>1</td>\n",
       "      <td>14.0</td>\n",
       "    </tr>\n",
       "    <tr>\n",
       "      <th>9</th>\n",
       "      <td>2</td>\n",
       "      <td>7</td>\n",
       "      <td>ultra</td>\n",
       "      <td>6780.722964</td>\n",
       "      <td>2</td>\n",
       "      <td>48.0</td>\n",
       "    </tr>\n",
       "  </tbody>\n",
       "</table>\n",
       "</div>"
      ],
      "text/plain": [
       "   user_id  month subscription_type  total_distance  total_trips  \\\n",
       "0        1      1             ultra     7027.511294            2   \n",
       "1        1      4             ultra      754.159807            1   \n",
       "2        1      8             ultra     6723.470560            2   \n",
       "3        1     10             ultra     5809.911100            2   \n",
       "4        1     11             ultra     7003.499363            3   \n",
       "5        1     12             ultra     6751.629942            2   \n",
       "6        2      3             ultra    10187.723006            3   \n",
       "7        2      4             ultra     6164.381824            2   \n",
       "8        2      6             ultra     3255.338202            1   \n",
       "9        2      7             ultra     6780.722964            2   \n",
       "\n",
       "   total_duration  \n",
       "0            42.0  \n",
       "1             7.0  \n",
       "2            46.0  \n",
       "3            32.0  \n",
       "4            56.0  \n",
       "5            28.0  \n",
       "6            63.0  \n",
       "7            40.0  \n",
       "8            14.0  \n",
       "9            48.0  "
      ]
     },
     "metadata": {},
     "output_type": "display_data"
    }
   ],
   "source": [
    "display(data_agg.head(10))"
   ]
  },
  {
   "cell_type": "markdown",
   "id": "d47ed84c",
   "metadata": {},
   "source": [
    "<div class=\"alert alert-success\">\n",
    "<h2> Комментарий ревьюера 😊<a class=\"tocSkip\"> </h2>\n",
    "\n",
    "Отличная работа со сводной таблицей!)"
   ]
  },
  {
   "cell_type": "markdown",
   "id": "22bcf00f",
   "metadata": {},
   "source": [
    "<div class=\"alert alert-warning\">\n",
    "<h2> Комментарий ревьюера 🤓<a class=\"tocSkip\"> </h2>\n",
    "    \n",
    "Если мы хотим сохранить столбцы с показателями для расчета выручки, можно использовать для этих значений функции `min` или `first`"
   ]
  },
  {
   "cell_type": "markdown",
   "id": "176bded9",
   "metadata": {},
   "source": [
    "В этот же датафрейм добавим столбец с помесячной выручкой, которую принёс каждый пользователь"
   ]
  },
  {
   "cell_type": "code",
   "execution_count": 61,
   "id": "ec27e28e",
   "metadata": {},
   "outputs": [],
   "source": [
    "def month_revenue(row):\n",
    "    sub = row['subscription_type']\n",
    "    trip = row['total_trips']\n",
    "    duar = row['total_duration']\n",
    "    \n",
    "    if sub == 'free':\n",
    "        return 50*trip + 8*duar\n",
    "    if sub == 'ultra':\n",
    "        return 0*trip + 6*duar + 199\n",
    "    return 'smth wrong, please, check code'"
   ]
  },
  {
   "cell_type": "code",
   "execution_count": 62,
   "id": "78c1ac83",
   "metadata": {},
   "outputs": [],
   "source": [
    "data_agg['month_revenue'] = data_agg.apply(month_revenue, axis=1)"
   ]
  },
  {
   "cell_type": "code",
   "execution_count": 63,
   "id": "51e07dd9",
   "metadata": {},
   "outputs": [
    {
     "data": {
      "text/html": [
       "<div>\n",
       "<style scoped>\n",
       "    .dataframe tbody tr th:only-of-type {\n",
       "        vertical-align: middle;\n",
       "    }\n",
       "\n",
       "    .dataframe tbody tr th {\n",
       "        vertical-align: top;\n",
       "    }\n",
       "\n",
       "    .dataframe thead th {\n",
       "        text-align: right;\n",
       "    }\n",
       "</style>\n",
       "<table border=\"1\" class=\"dataframe\">\n",
       "  <thead>\n",
       "    <tr style=\"text-align: right;\">\n",
       "      <th></th>\n",
       "      <th>user_id</th>\n",
       "      <th>month</th>\n",
       "      <th>subscription_type</th>\n",
       "      <th>total_distance</th>\n",
       "      <th>total_trips</th>\n",
       "      <th>total_duration</th>\n",
       "      <th>month_revenue</th>\n",
       "    </tr>\n",
       "  </thead>\n",
       "  <tbody>\n",
       "    <tr>\n",
       "      <th>0</th>\n",
       "      <td>1</td>\n",
       "      <td>1</td>\n",
       "      <td>ultra</td>\n",
       "      <td>7027.511294</td>\n",
       "      <td>2</td>\n",
       "      <td>42.0</td>\n",
       "      <td>451.0</td>\n",
       "    </tr>\n",
       "    <tr>\n",
       "      <th>1</th>\n",
       "      <td>1</td>\n",
       "      <td>4</td>\n",
       "      <td>ultra</td>\n",
       "      <td>754.159807</td>\n",
       "      <td>1</td>\n",
       "      <td>7.0</td>\n",
       "      <td>241.0</td>\n",
       "    </tr>\n",
       "    <tr>\n",
       "      <th>2</th>\n",
       "      <td>1</td>\n",
       "      <td>8</td>\n",
       "      <td>ultra</td>\n",
       "      <td>6723.470560</td>\n",
       "      <td>2</td>\n",
       "      <td>46.0</td>\n",
       "      <td>475.0</td>\n",
       "    </tr>\n",
       "    <tr>\n",
       "      <th>3</th>\n",
       "      <td>1</td>\n",
       "      <td>10</td>\n",
       "      <td>ultra</td>\n",
       "      <td>5809.911100</td>\n",
       "      <td>2</td>\n",
       "      <td>32.0</td>\n",
       "      <td>391.0</td>\n",
       "    </tr>\n",
       "    <tr>\n",
       "      <th>4</th>\n",
       "      <td>1</td>\n",
       "      <td>11</td>\n",
       "      <td>ultra</td>\n",
       "      <td>7003.499363</td>\n",
       "      <td>3</td>\n",
       "      <td>56.0</td>\n",
       "      <td>535.0</td>\n",
       "    </tr>\n",
       "  </tbody>\n",
       "</table>\n",
       "</div>"
      ],
      "text/plain": [
       "   user_id  month subscription_type  total_distance  total_trips  \\\n",
       "0        1      1             ultra     7027.511294            2   \n",
       "1        1      4             ultra      754.159807            1   \n",
       "2        1      8             ultra     6723.470560            2   \n",
       "3        1     10             ultra     5809.911100            2   \n",
       "4        1     11             ultra     7003.499363            3   \n",
       "\n",
       "   total_duration  month_revenue  \n",
       "0            42.0          451.0  \n",
       "1             7.0          241.0  \n",
       "2            46.0          475.0  \n",
       "3            32.0          391.0  \n",
       "4            56.0          535.0  "
      ]
     },
     "metadata": {},
     "output_type": "display_data"
    }
   ],
   "source": [
    "display(data_agg.head())"
   ]
  },
  {
   "cell_type": "markdown",
   "id": "b7fcf3a1",
   "metadata": {},
   "source": [
    "<div class=\"alert alert-success\">\n",
    "<h2> Комментарий ревьюера 😊<a class=\"tocSkip\"> </h2>\n",
    "\n",
    "Здорово, что используешь функцию для расчета выручки)"
   ]
  },
  {
   "cell_type": "markdown",
   "id": "41545ac0",
   "metadata": {},
   "source": [
    "#### Шаг 6. Проверка гипотез"
   ]
  },
  {
   "cell_type": "markdown",
   "id": "658a1019",
   "metadata": {},
   "source": [
    "На получившихся датафреймах проверим пару гипотез"
   ]
  },
  {
   "cell_type": "markdown",
   "id": "d990ad2a",
   "metadata": {},
   "source": [
    "Тратят ли пользователи с подпиской больше времени на поездки?"
   ]
  },
  {
   "cell_type": "markdown",
   "id": "1f799d8a",
   "metadata": {},
   "source": [
    "- Нулевая гипотеза (H0) - средняя продолжительность поездок пользователей с подпиской \"Ultra\" равна средней продолжительности поездок пользователей с бесплатным доступом.\n",
    "- Альтернативная гипотеза (H1) - средняя продолжительность поездок пользователей с подпиской \"Ultra\" больше средней продолжительности поездок пользователей с бесплатным доступом."
   ]
  },
  {
   "cell_type": "markdown",
   "id": "bc733a59",
   "metadata": {},
   "source": [
    "<div class=\"alert alert-block alert-danger\">\n",
    "<h2> Комментарий ревьюера ⛔️<a class=\"tocSkip\"></h2>\n",
    "<s>\n",
    "Нулевая гипотеза сформулирована не верно.  Нулевая гипотеза всегда декларирует равенство (отсутствие различий), альтернативная же - неравенство (наличие различий).\n",
    "\n",
    "Об этом можно подробнее почитать в статьях:\n",
    "\n",
    "http://www.mathprofi.ru/statisticheskie_gipotezy.html\n",
    "    \n",
    "http://math-info.hse.ru/f/2017-18/ps-ms/hypo-test.pdf \"Проверка статистических гипотез\""
   ]
  },
  {
   "cell_type": "markdown",
   "id": "bc85f4b1",
   "metadata": {},
   "source": [
    "<div class=\"alert alert-info\"> \n",
    "<b>Комментарий студента:</b> Сделано. \n",
    "</div>"
   ]
  },
  {
   "cell_type": "code",
   "execution_count": 64,
   "id": "2f865a89",
   "metadata": {},
   "outputs": [],
   "source": [
    "from scipy import stats as st"
   ]
  },
  {
   "cell_type": "code",
   "execution_count": 65,
   "id": "ac4910ca",
   "metadata": {},
   "outputs": [
    {
     "name": "stdout",
     "output_type": "stream",
     "text": [
      "p-value: 2.4959453720736625e-34\n",
      "Отвергаем нулевую гипотезу\n"
     ]
    }
   ],
   "source": [
    "alpha = 0.05 # задаём уровень значимости\n",
    "\n",
    "results = st.ttest_ind(data_ultra['duration'], data_free['duration'], alternative='greater') # проводим ttest для двух выборок, в качестве альтернативной используем одностороннюю гипотезу «больше»\n",
    "\n",
    "print(f'p-value: {results.pvalue}')\n",
    "\n",
    "# проверяем p-value\n",
    "if results.pvalue < alpha:\n",
    "    print('Отвергаем нулевую гипотезу')\n",
    "else:\n",
    "    print('Нет оснований отвергнуть нулевую гипотезу')"
   ]
  },
  {
   "cell_type": "markdown",
   "id": "29cae04d",
   "metadata": {},
   "source": [
    "<div class=\"alert alert-block alert-danger\">\n",
    "<h2> Комментарий ревьюера ⛔️ v_2 <a class=\"tocSkip\"></h2>\n",
    "<s>\n",
    "Тест был верным и альтернативная гипотеза, давай вернем. Нужно было только нулевую скорректировать, где знак равенство. Так как тест должен быть односторонним)"
   ]
  },
  {
   "cell_type": "markdown",
   "id": "1771c5a8",
   "metadata": {},
   "source": [
    "<div class=\"alert alert-info\"> \n",
    "<b>Комментарий студента:</b> Понял и поправил. \n",
    "</div>"
   ]
  },
  {
   "cell_type": "markdown",
   "id": "ac37744d",
   "metadata": {},
   "source": [
    "<div class=\"alert alert-success\">\n",
    "<h2> Комментарий ревьюера 😊 v_3<a class=\"tocSkip\"> </h2>\n",
    "    \n",
    "Теперь все отлично)"
   ]
  },
  {
   "cell_type": "markdown",
   "id": "f375ab29",
   "metadata": {},
   "source": [
    "Поскольку p-значение значительно меньше уровня значимости (0.05), мы отвергаем нулевую гипотезу. Это означает, что средняя продолжительность поездок пользователей с подпиской \"Ultra\" больше средней продолжительности поездок пользователей с бесплатным доступом."
   ]
  },
  {
   "cell_type": "markdown",
   "id": "5de72ca0",
   "metadata": {},
   "source": [
    "<div class=\"alert alert-success\">\n",
    "<h2> Комментарий ревьюера 😊<a class=\"tocSkip\"> </h2>\n",
    "    \n",
    "Тест проведен  верно и значение p-value интерпретировано правильно. Хорошая работа. Но нулевую гипотезу нужно доработать\n",
    "</div>"
   ]
  },
  {
   "cell_type": "markdown",
   "id": "a4bddba7",
   "metadata": {},
   "source": [
    "Можно ли сказать, что расстояние, которое проезжают пользователи с подпиской за одну поездку, не превышает 3130 метров?"
   ]
  },
  {
   "cell_type": "markdown",
   "id": "89e51429",
   "metadata": {},
   "source": [
    " - Нулевая гипотеза (H0) - среднее расстояние, которое проезжают пользователи с подпиской за одну поездку, равно оптимальному расстоянию 3130 метров.\n",
    " - Альтернативная гипотеза (H1) - среднее расстояние, которое проезжают пользователи с подпиской за одну поездку, больше оптимальных 3130 метров."
   ]
  },
  {
   "cell_type": "code",
   "execution_count": 66,
   "id": "dadc1d85",
   "metadata": {},
   "outputs": [
    {
     "name": "stdout",
     "output_type": "stream",
     "text": [
      "p-value: 0.9195368847849785\n",
      "Нет оснований отвергнуть нулевую гипотезу\n"
     ]
    }
   ],
   "source": [
    "compare_value = 3130 # можно ли сказать, что расстояние, которое проезжают пользователи с подпиской за одну поездку, не превышает 3130 метров?\n",
    "\n",
    "alpha = 0.05 # задаём уровень значимости\n",
    "\n",
    "results = st.ttest_1samp(data_ultra['distance'], compare_value, alternative='greater') \n",
    "\n",
    "print(f'p-value: {results.pvalue}')\n",
    "\n",
    "# проверяем p-value\n",
    "if results.pvalue < alpha:\n",
    "    print('Отвергаем нулевую гипотезу')\n",
    "else:\n",
    "    print('Нет оснований отвергнуть нулевую гипотезу')"
   ]
  },
  {
   "cell_type": "markdown",
   "id": "3b4bf33c",
   "metadata": {},
   "source": [
    "P-значения больше уровня значимости (0.05), мы не можем отвергнуть нулевую гипотезу. Таким образом, на основе имеющихся данных нет достаточных доказательств для того, чтобы утверждать, что среднее расстояние превышает оптимальных 3130 метров."
   ]
  },
  {
   "cell_type": "markdown",
   "id": "5743b914",
   "metadata": {},
   "source": [
    "<div class=\"alert alert-block alert-danger\">\n",
    "<h2> Комментарий ревьюера ⛔️<a class=\"tocSkip\"></h2> \n",
    "   <s>\n",
    "Поскольку оптимальное расстояние по износу составляет 3130 м, значит большее расстояние приводит к повышенному износу самоката. Следовательно, имеет смысл сформулировать альтернативную гипотезу \"Подписчики в среднем проезжают расстояние больше оптимального\" и соответственно в статистическом тесте использовать параметр alternative = 'greater'.\n",
    "    "
   ]
  },
  {
   "cell_type": "markdown",
   "id": "7c09f123",
   "metadata": {},
   "source": [
    "<div class=\"alert alert-info\"> \n",
    "<b>Комментарий студента:</b> Исправил. \n",
    "</div>"
   ]
  },
  {
   "cell_type": "markdown",
   "id": "ddc64aed",
   "metadata": {},
   "source": [
    "<div class=\"alert alert-block alert-danger\">\n",
    "<h2> Комментарий ревьюера ⛔️ v_2 <a class=\"tocSkip\"></h2>\n",
    "<s>\n",
    "В нулевой гипотезе знак равенство)"
   ]
  },
  {
   "cell_type": "markdown",
   "id": "0f5e5ffe",
   "metadata": {},
   "source": [
    "<div class=\"alert alert-info\"> \n",
    "<b>Комментарий студента:</b> Понял и поправил. \n",
    "</div>"
   ]
  },
  {
   "cell_type": "markdown",
   "id": "5fd86a2e",
   "metadata": {},
   "source": [
    "<div class=\"alert alert-success\">\n",
    "<h2> Комментарий ревьюера 😊 v_3 <a class=\"tocSkip\"> </h2>\n",
    "\n",
    "👍"
   ]
  },
  {
   "cell_type": "markdown",
   "id": "f10cffa4",
   "metadata": {},
   "source": [
    "Будет ли помесячная выручка от пользователей с подпиской по месяцам выше, чем выручка от пользователей без подписки?"
   ]
  },
  {
   "cell_type": "markdown",
   "id": "35fac5b1",
   "metadata": {},
   "source": [
    " - Нулевая гипотеза (H0) - средняя выручка от пользователей с подпиской по месяцам равна среднюю выручку от пользователей без подписки по месяцам.\n",
    " - Альтернативная гипотеза (H1) - средняя выручка от пользователей с подпиской по месяцам превышает среднюю выручку от пользователей без подписки по месяцам."
   ]
  },
  {
   "cell_type": "code",
   "execution_count": 67,
   "id": "28260852",
   "metadata": {},
   "outputs": [
    {
     "name": "stdout",
     "output_type": "stream",
     "text": [
      "p-value: 1.8850394384715216e-31\n",
      "Отвергаем нулевую гипотезу\n"
     ]
    }
   ],
   "source": [
    "alpha = 0.05 # задаём уровень значимости\n",
    "\n",
    "results = st.ttest_ind(data_agg[data_agg['subscription_type'] == 'ultra']['month_revenue'], data_agg[data_agg['subscription_type'] == 'free']['month_revenue'], alternative='greater') # проводим ttest для двух выборок, в качестве альтернативной используем одностороннюю гипотезу «больше»\n",
    "\n",
    "print(f'p-value: {results.pvalue}')\n",
    "\n",
    "# проверяем p-value\n",
    "if results.pvalue < alpha:\n",
    "    print('Отвергаем нулевую гипотезу')\n",
    "else:\n",
    "    print('Нет оснований отвергнуть нулевую гипотезу')"
   ]
  },
  {
   "cell_type": "markdown",
   "id": "ae9333f6",
   "metadata": {},
   "source": [
    "P-значения ниже уровня значимости (0.05), мы можем отвергнуть нулевую гипотезу. Таким образом,  средняя выручка от пользователей с подпиской по месяцам превышает среднюю выручку от пользователей без подписки по месяцам."
   ]
  },
  {
   "cell_type": "markdown",
   "id": "a166bf5e",
   "metadata": {},
   "source": [
    "<div class=\"alert alert-success\">\n",
    "<h2> Комментарий ревьюера 😊<a class=\"tocSkip\"> </h2>\n",
    "\n",
    "Верно, но нужно скорректировать Нулевую гипотезу"
   ]
  },
  {
   "cell_type": "markdown",
   "id": "a32a8717",
   "metadata": {},
   "source": [
    "Техническая команда сервиса обновила сервера, с которыми взаимодействует мобильное приложение. Она надеется, что из-за этого количество обращений в техподдержку значимо снизилось. Некоторый файл содержит для каждого пользователя данные о количестве обращений до обновления и после него. Какой тест вам понадобился бы для проверки этой гипотезы?"
   ]
  },
  {
   "cell_type": "markdown",
   "id": "92181528",
   "metadata": {},
   "source": [
    "Здесь лучше всего подходит t-тест для двух зависимых выборок о равенстве среднего значения генеральной совокупности обращений до и после обновления сервера"
   ]
  },
  {
   "cell_type": "markdown",
   "id": "087b8b97",
   "metadata": {},
   "source": [
    "<div class=\"alert alert-block alert-danger\">\n",
    "<h2> Комментарий ревьюера ⛔️<a class=\"tocSkip\"></h2>\n",
    "<s>\n",
    " Давай уточним проверяться будет двусторонняя или односторонняя гипотеза?"
   ]
  },
  {
   "cell_type": "markdown",
   "id": "e8328fd9",
   "metadata": {},
   "source": [
    "<div class=\"alert alert-info\"> \n",
    "<b>Комментарий студента:</b> Односторонняя. \n",
    "</div>"
   ]
  },
  {
   "cell_type": "markdown",
   "id": "65d5bdf3",
   "metadata": {},
   "source": [
    "<div class=\"alert alert-success\">\n",
    "<h2> Комментарий ревьюера 😊 v_2 <a class=\"tocSkip\"> </h2>\n",
    "\n",
    "Теперь все отлично) "
   ]
  },
  {
   "cell_type": "markdown",
   "id": "61213c5e",
   "metadata": {},
   "source": [
    "#### Шаг 7. Распределения"
   ]
  },
  {
   "cell_type": "markdown",
   "id": "78be0090",
   "metadata": {},
   "source": [
    "Нужно провести акцию с раздачей промокодов на один бесплатный месяц подписки, в рамках которой как минимум 100 существующих клиентов должны продлить эту подписку. То есть по завершении периода действия подписки пользователь может либо отказаться от неё, либо продлить, совершив соответствующий платёж.Эта акция уже проводилась ранее и по итогу выяснилось, что после бесплатного пробного периода подписку продлевают 10 % пользователей. Выясните, какое минимальное количество промокодов нужно разослать, чтобы вероятность не выполнить план была примерно 5 %. Подберите параметры распределения, описывающего эту ситуацию, постройте график распределения и сформулируйте ответ на вопрос о количестве промокодов."
   ]
  },
  {
   "cell_type": "markdown",
   "id": "90ab5cc9",
   "metadata": {},
   "source": [
    "*НУЖНА ЕЩЕ ПОДСКАЗКА. НЕ МОГУ ДОДУМАТЬСЯ*"
   ]
  },
  {
   "cell_type": "markdown",
   "id": "2ecb3575",
   "metadata": {},
   "source": [
    "<div class=\"alert alert-warning\">\n",
    "<h2> Комментарий ревьюера 🤓<a class=\"tocSkip\"> </h2>\n",
    "    \n",
    "Здесь необходимо создать цикл для подсчета значений."
   ]
  },
  {
   "cell_type": "markdown",
   "id": "0a6c06a4",
   "metadata": {},
   "source": [
    "<div class=\"alert alert-info\"> \n",
    "<b>Комментарий студента:</b> Оставлю эту задание. Не успеваю его сделать. Надеюсь, что вернусь к нему позже. \n",
    "</div>"
   ]
  },
  {
   "cell_type": "markdown",
   "id": "da2c6eda",
   "metadata": {},
   "source": [
    "Отдел маркетинга рассылает клиентам push-уведомления в мобильном приложении. Клиенты могут открыть его или не открывать. Известно, что уведомления открывают около 40 % получивших клиентов. Отдел планирует разослать 11 млн уведомлений. С помощью аппроксимации постройте примерный график распределения и оцените вероятность того, что уведомление откроют не более 399,5 тыс. пользователей."
   ]
  },
  {
   "cell_type": "markdown",
   "id": "73e9d310",
   "metadata": {},
   "source": [
    "*НУЖНА ЕЩЕ ПОДСКАЗКА. НЕ МОГУ ДОДУМАТЬСЯ*"
   ]
  },
  {
   "cell_type": "markdown",
   "id": "a82be864",
   "metadata": {},
   "source": [
    "<div class=\"alert alert-warning\">\n",
    "<h2> Комментарий ревьюера 🤓<a class=\"tocSkip\"> </h2>\n",
    "    \n",
    "А здесь задать параметры биномиального распределения и нормального распределения равными мат.ожиданию и дисперсии биномиального распределения, а затем задать нормальное распределение и посчитать вероятность хвоста слева от 399,5 тысяч"
   ]
  },
  {
   "cell_type": "markdown",
   "id": "b780c23a",
   "metadata": {},
   "source": [
    "<div class=\"alert alert-info\"> \n",
    "<b>Комментарий студента:</b> Оставлю эту задание. Не успеваю его сделать. Надеюсь, что вернусь к нему позже. \n",
    "</div>"
   ]
  },
  {
   "cell_type": "markdown",
   "id": "eca373a3",
   "metadata": {},
   "source": [
    "<div class=\"alert alert-block alert-danger\">\n",
    "<h2> Комментарий ревьюера ⛔️<a class=\"tocSkip\"></h2>\n",
    "    <s>\n",
    "Общий вывод это главный итог твоей работы, то что мы можем предоставить нашему заказчику. Давай дополним его результатами твоей работы и основными выводами, которые мы получили) \n",
    "    \n",
    "В выводе нужно аргументированно ответить на главный вопрос исследования: являются ли пользователи с подпиской более выгодными для компании?"
   ]
  },
  {
   "cell_type": "markdown",
   "id": "0bc9b9fa",
   "metadata": {},
   "source": [
    "В рамках исследования мы: \n",
    "\n",
    "- Выгрузили данные о пользователях, поездках и подписках\n",
    "- Проведели глубокий контроль данных - изменили типы данных и удалили дубликаты\n",
    "- Построив графики, составили представление о некоторых количественных и качественных характеристиках данных, например:\n",
    "  - Город с наибольшей частотностью - Пятигорск \n",
    "  - Город с наименьшей частотностью - Москва \n",
    "  - Пользователей без подписки 54.43%, пользователей c подписками 45.57%\n",
    "  - Большинство пользователей находятся в возрасте от 22 до 28 лет\n",
    "  - Большинство поездок на самокате имеют длину от примерно 2543 до 3776 метров (причем распределние пользователей с подпиской и без очень похожи между собой)\n",
    "  - Большинство поездок на самокате имеют продолжительность от примерно 13.60 до 21.72 минуты (у пользователей с подпиской среднея продолжительность на одну минуту больше)\n",
    "- Соединив 3 разных датафрейма, создали себе единую базу для проверки гипотез\n",
    "- Добавили в датафрейм новый столбец - выручку - для пользователей с подпиской и без\n",
    "- На шестом шаге рассмотрим и проверим несколько гипотиз для бизнеса и пришли к следующим выводам\n",
    " - средняя продолжительность поездок пользователей с подпиской больше средней продолжительности поездок пользователей без подписок.\n",
    " - нет достаточных доказательств для того, чтобы утверждать, что среднее расстояние превышает оптимальных для износа 3130 метров.\n",
    " - средняя выручка от пользователей с подпиской по месяцам превышает среднюю выручку от пользователей без подписки по месяцам.\n",
    " \n",
    "Исходя из проведенного анализа, можно сделать следующие заключения:\n",
    "\n",
    "- Пользователи с подпиской демонстрируют большую вовлеченность, выраженную в увеличенной продолжительности поездок.\n",
    "- Нет существенных доказательств того, что пользователи с подпиской значительно превышают оптимальное для степени износа расстояние\n",
    "- Финансовый анализ показал, что пользователи с подпиской приносят значительно больше выручки компании по сравнению с пользователями без подписки.\n",
    "\n",
    "Таким образом, можно заключить, что пользователи с подпиской являются более выгодными для GoFast, так как они проводят больше времени в поездках и приносят больше выручки. Это подтверждает целесообразность и эффективность внедрения и продвижения подписочных моделей для увеличения доходов компании и повышения лояльности клиентов."
   ]
  },
  {
   "cell_type": "markdown",
   "id": "2e93366a",
   "metadata": {},
   "source": [
    "<div class=\"alert alert-block alert-danger\">\n",
    "<h2> Комментарий ревьюера ⛔️ v_2 <a class=\"tocSkip\"> </h2>\n",
    "<s>\n",
    "Совсем нет основных вывод по проделанной работе, только описание действий. Нужно дополнить."
   ]
  },
  {
   "cell_type": "markdown",
   "id": "073a35b7",
   "metadata": {},
   "source": [
    "<div class=\"alert alert-info\"> \n",
    "<b>Комментарий студента:</b> Сделал\n",
    "</div>"
   ]
  },
  {
   "cell_type": "markdown",
   "id": "771bf3b9",
   "metadata": {},
   "source": [
    "<div class=\"alert alert-success\">\n",
    "<h2> Комментарий ревьюера 😊 v_2 <a class=\"tocSkip\"> </h2>\n",
    "\n",
    "Теперь все хорошо)"
   ]
  },
  {
   "cell_type": "markdown",
   "id": "f09be913",
   "metadata": {},
   "source": [
    "<div style=\"border:solid Purple 2px; padding: 40px\">\n",
    "\n",
    "<h2> Общий комментарий ревьюера 😊 v_3<a class=\"tocSkip\"> </h2>\n",
    "    <br/>\n",
    "Артемий, спасибо за проект! Успехов в дальнейшем обучении!)\n",
    "    "
   ]
  },
  {
   "cell_type": "markdown",
   "id": "b441c376",
   "metadata": {},
   "source": [
    "<div style=\"border:solid Purple 2px; padding: 40px\">\n",
    "\n",
    "<h2> Общий комментарий ревьюера 😊 v_2<a class=\"tocSkip\"> </h2>\n",
    "    <br/>\n",
    "    \n",
    "Еще немного осталось доработать)"
   ]
  },
  {
   "cell_type": "markdown",
   "id": "677710cf",
   "metadata": {},
   "source": [
    "<div style=\"border:solid Purple 2px; padding: 40px\">\n",
    "\n",
    "<h2> Общий комментарий ревьюера 😊<a class=\"tocSkip\"> </h2>\n",
    "    <br/>\n",
    "Ты проделал отличную работу, основные задачи выполнены. Хорошая работа со сводной таблицей и статистическим анализом. Однако, есть несколько важных моментов, которые стоит улучшить, чтобы проект стал действительно идеальным!\n",
    "\n",
    "Необходимо доработать:\n",
    "    \n",
    "* Нулевые гипотезы\n",
    "* Дубликаты\n",
    "* Дополнить выводы\n",
    "* Остальные комментарии ты найдешь в работе\n",
    "\n",
    "**Желаю удачи и жду твой проект на повторное ревью! Если у тебя вдруг есть какие–либо вопросы, то я с радостью отвечу на них 😊**\n",
    "    \n",
    "\n",
    "Также оставлю дополнительный материал по визуализации, если будет интересно:\n",
    "    \n",
    "\n",
    "* книга Александра Богачева [Графики, которые убеждают всех](https://book24.ru/product/grafiki-kotorye-ubezhdayut-vsekh-5873820/)\n",
    "* [cheatsheet по визуализации](https://extremepresentation.typepad.com/.a/6a00d8341bfd2e53ef0111683a7591970c-pi)\n",
    "* бесплатный курс от Яндекс.Практикум [Визуальныe презентации](https://practicum.yandex.ru/visual-presentation/)\n",
    "* Формат таблиц в pandas с помощью style. В том числе цветовое выделение. (https://habr.com/ru/post/521894/)\n",
    "* Основные компоненты matplotlib (https://pyprog.pro/mpl/mpl_main_components.html)\n",
    "* 50 оттенков matplotlib — The Master Plots (с полным кодом на Python) (https://habr.com/ru/post/468295/)\n",
    "* Построение графиков с использованием двух осей. (https://matplotlib.org/stable/gallery/subplots_axes_and_figures/two_scales.html)\n",
    "* Сайт, подробно представлюящий практически все типы визуализаций. (https://datavizproject.com/)\n",
    "* Шпаргалка по визуализации данных в Python с помощью Plotly (https://habr.com/ru/post/502958/)\n",
    "</div> "
   ]
  }
 ],
 "metadata": {
  "ExecuteTimeLog": [
   {
    "duration": 361,
    "start_time": "2024-05-17T13:08:57.109Z"
   },
   {
    "duration": 73,
    "start_time": "2024-05-17T13:12:08.094Z"
   },
   {
    "duration": 88,
    "start_time": "2024-05-17T13:12:27.661Z"
   },
   {
    "duration": 70,
    "start_time": "2024-05-17T13:13:00.658Z"
   },
   {
    "duration": 13,
    "start_time": "2024-05-17T13:13:28.447Z"
   },
   {
    "duration": 10,
    "start_time": "2024-05-17T13:13:36.824Z"
   },
   {
    "duration": 6,
    "start_time": "2024-05-17T13:13:47.008Z"
   },
   {
    "duration": 15,
    "start_time": "2024-05-17T13:15:40.696Z"
   },
   {
    "duration": 13,
    "start_time": "2024-05-17T13:16:06.980Z"
   },
   {
    "duration": 6,
    "start_time": "2024-05-17T13:16:19.527Z"
   },
   {
    "duration": 12,
    "start_time": "2024-05-17T13:16:28.678Z"
   },
   {
    "duration": 6,
    "start_time": "2024-05-17T13:26:54.185Z"
   },
   {
    "duration": 9,
    "start_time": "2024-05-17T13:26:56.370Z"
   },
   {
    "duration": 5,
    "start_time": "2024-05-17T13:47:39.729Z"
   },
   {
    "duration": 7,
    "start_time": "2024-05-17T13:47:49.337Z"
   },
   {
    "duration": 358,
    "start_time": "2024-05-17T13:48:13.432Z"
   },
   {
    "duration": 2,
    "start_time": "2024-05-17T13:48:13.791Z"
   },
   {
    "duration": 44,
    "start_time": "2024-05-17T13:48:13.794Z"
   },
   {
    "duration": 26,
    "start_time": "2024-05-17T13:48:13.839Z"
   },
   {
    "duration": 15,
    "start_time": "2024-05-17T13:48:13.867Z"
   },
   {
    "duration": 20,
    "start_time": "2024-05-17T13:48:13.883Z"
   },
   {
    "duration": 19,
    "start_time": "2024-05-17T13:48:13.904Z"
   },
   {
    "duration": 12,
    "start_time": "2024-05-17T13:48:13.924Z"
   },
   {
    "duration": 16,
    "start_time": "2024-05-17T13:48:13.937Z"
   },
   {
    "duration": 10,
    "start_time": "2024-05-17T13:48:13.954Z"
   },
   {
    "duration": 6,
    "start_time": "2024-05-17T13:48:13.965Z"
   },
   {
    "duration": 15,
    "start_time": "2024-05-17T13:48:13.972Z"
   },
   {
    "duration": 66,
    "start_time": "2024-05-17T13:48:29.329Z"
   },
   {
    "duration": 8,
    "start_time": "2024-05-17T13:48:34.015Z"
   },
   {
    "duration": 7,
    "start_time": "2024-05-17T13:48:38.452Z"
   },
   {
    "duration": 49,
    "start_time": "2024-05-17T13:48:42.312Z"
   },
   {
    "duration": 5,
    "start_time": "2024-05-17T13:48:46.416Z"
   },
   {
    "duration": 7,
    "start_time": "2024-05-17T13:48:56.398Z"
   },
   {
    "duration": 5,
    "start_time": "2024-05-17T13:50:48.963Z"
   },
   {
    "duration": 5,
    "start_time": "2024-05-17T13:51:22.294Z"
   },
   {
    "duration": 5,
    "start_time": "2024-05-17T13:51:56.274Z"
   },
   {
    "duration": 53,
    "start_time": "2024-05-17T13:52:06.335Z"
   },
   {
    "duration": 53,
    "start_time": "2024-05-17T13:56:07.256Z"
   },
   {
    "duration": 5,
    "start_time": "2024-05-17T13:56:50.138Z"
   },
   {
    "duration": 9,
    "start_time": "2024-05-17T13:58:36.239Z"
   },
   {
    "duration": 5,
    "start_time": "2024-05-17T13:58:48.325Z"
   },
   {
    "duration": 12,
    "start_time": "2024-05-17T14:00:50.276Z"
   },
   {
    "duration": 890,
    "start_time": "2024-05-17T14:14:51.033Z"
   },
   {
    "duration": 3,
    "start_time": "2024-05-17T14:15:00.707Z"
   },
   {
    "duration": 4,
    "start_time": "2024-05-17T14:15:39.898Z"
   },
   {
    "duration": 6,
    "start_time": "2024-05-17T14:16:07.787Z"
   },
   {
    "duration": 4,
    "start_time": "2024-05-17T14:18:02.189Z"
   },
   {
    "duration": 3,
    "start_time": "2024-05-17T14:18:52.099Z"
   },
   {
    "duration": 448,
    "start_time": "2024-05-17T14:24:35.182Z"
   },
   {
    "duration": 81,
    "start_time": "2024-05-17T14:24:58.547Z"
   },
   {
    "duration": 192,
    "start_time": "2024-05-17T14:25:32.017Z"
   },
   {
    "duration": 175,
    "start_time": "2024-05-17T14:25:36.522Z"
   },
   {
    "duration": 134,
    "start_time": "2024-05-17T14:25:39.906Z"
   },
   {
    "duration": 144,
    "start_time": "2024-05-17T14:25:43.373Z"
   },
   {
    "duration": 142,
    "start_time": "2024-05-17T14:26:05.815Z"
   },
   {
    "duration": 99,
    "start_time": "2024-05-17T14:26:42.068Z"
   },
   {
    "duration": 124,
    "start_time": "2024-05-17T14:26:52.193Z"
   },
   {
    "duration": 111,
    "start_time": "2024-05-17T14:27:09.455Z"
   },
   {
    "duration": 49,
    "start_time": "2024-05-17T20:05:03.453Z"
   },
   {
    "duration": 404,
    "start_time": "2024-05-17T20:05:11.888Z"
   },
   {
    "duration": 2,
    "start_time": "2024-05-17T20:05:12.294Z"
   },
   {
    "duration": 85,
    "start_time": "2024-05-17T20:05:12.297Z"
   },
   {
    "duration": 77,
    "start_time": "2024-05-17T20:05:12.383Z"
   },
   {
    "duration": 59,
    "start_time": "2024-05-17T20:05:12.462Z"
   },
   {
    "duration": 22,
    "start_time": "2024-05-17T20:05:12.522Z"
   },
   {
    "duration": 17,
    "start_time": "2024-05-17T20:05:12.545Z"
   },
   {
    "duration": 13,
    "start_time": "2024-05-17T20:05:12.563Z"
   },
   {
    "duration": 13,
    "start_time": "2024-05-17T20:05:12.577Z"
   },
   {
    "duration": 27,
    "start_time": "2024-05-17T20:05:12.592Z"
   },
   {
    "duration": 5,
    "start_time": "2024-05-17T20:05:12.620Z"
   },
   {
    "duration": 8,
    "start_time": "2024-05-17T20:05:12.626Z"
   },
   {
    "duration": 16,
    "start_time": "2024-05-17T20:05:12.635Z"
   },
   {
    "duration": 12,
    "start_time": "2024-05-17T20:05:12.653Z"
   },
   {
    "duration": 4,
    "start_time": "2024-05-17T20:05:12.667Z"
   },
   {
    "duration": 7,
    "start_time": "2024-05-17T20:05:12.672Z"
   },
   {
    "duration": 38,
    "start_time": "2024-05-17T20:05:12.681Z"
   },
   {
    "duration": 7,
    "start_time": "2024-05-17T20:05:12.721Z"
   },
   {
    "duration": 6,
    "start_time": "2024-05-17T20:05:12.729Z"
   },
   {
    "duration": 14,
    "start_time": "2024-05-17T20:05:12.736Z"
   },
   {
    "duration": 544,
    "start_time": "2024-05-17T20:05:12.751Z"
   },
   {
    "duration": 97,
    "start_time": "2024-05-17T20:05:13.297Z"
   },
   {
    "duration": 200,
    "start_time": "2024-05-17T20:05:13.395Z"
   },
   {
    "duration": 170,
    "start_time": "2024-05-17T20:05:13.597Z"
   },
   {
    "duration": 128,
    "start_time": "2024-05-17T20:05:13.769Z"
   },
   {
    "duration": 132,
    "start_time": "2024-05-17T20:05:45.840Z"
   },
   {
    "duration": 134,
    "start_time": "2024-05-17T20:05:49.951Z"
   },
   {
    "duration": 234,
    "start_time": "2024-05-17T20:05:53.635Z"
   },
   {
    "duration": 137,
    "start_time": "2024-05-17T20:05:56.479Z"
   },
   {
    "duration": 134,
    "start_time": "2024-05-17T20:06:05.838Z"
   },
   {
    "duration": 8,
    "start_time": "2024-05-17T20:06:56.787Z"
   },
   {
    "duration": 94,
    "start_time": "2024-05-17T20:09:37.100Z"
   },
   {
    "duration": 143,
    "start_time": "2024-05-17T20:09:51.188Z"
   },
   {
    "duration": 105,
    "start_time": "2024-05-17T20:09:56.090Z"
   },
   {
    "duration": 200,
    "start_time": "2024-05-17T20:09:59.014Z"
   },
   {
    "duration": 167,
    "start_time": "2024-05-17T20:10:01.516Z"
   },
   {
    "duration": 133,
    "start_time": "2024-05-17T20:10:19.145Z"
   },
   {
    "duration": 133,
    "start_time": "2024-05-17T20:10:25.227Z"
   },
   {
    "duration": 45,
    "start_time": "2024-05-17T20:11:25.320Z"
   },
   {
    "duration": 8,
    "start_time": "2024-05-17T20:11:59.529Z"
   },
   {
    "duration": 114,
    "start_time": "2024-05-17T20:16:14.008Z"
   },
   {
    "duration": 7,
    "start_time": "2024-05-17T20:16:24.234Z"
   },
   {
    "duration": 8,
    "start_time": "2024-05-17T20:18:14.075Z"
   },
   {
    "duration": 115,
    "start_time": "2024-05-17T20:19:13.178Z"
   },
   {
    "duration": 9,
    "start_time": "2024-05-17T20:19:30.026Z"
   },
   {
    "duration": 80,
    "start_time": "2024-05-17T20:30:24.025Z"
   },
   {
    "duration": 21,
    "start_time": "2024-05-17T20:31:03.176Z"
   },
   {
    "duration": 10,
    "start_time": "2024-05-17T20:32:26.409Z"
   },
   {
    "duration": 10,
    "start_time": "2024-05-17T20:32:44.094Z"
   },
   {
    "duration": 8,
    "start_time": "2024-05-17T20:32:58.543Z"
   },
   {
    "duration": 10,
    "start_time": "2024-05-17T20:34:27.350Z"
   },
   {
    "duration": 11,
    "start_time": "2024-05-17T20:34:34.861Z"
   },
   {
    "duration": 14,
    "start_time": "2024-05-17T20:34:47.984Z"
   },
   {
    "duration": 20,
    "start_time": "2024-05-17T20:34:52.627Z"
   },
   {
    "duration": 16,
    "start_time": "2024-05-17T20:34:59.330Z"
   },
   {
    "duration": 18,
    "start_time": "2024-05-17T20:35:05.831Z"
   },
   {
    "duration": 17,
    "start_time": "2024-05-17T20:35:11.333Z"
   },
   {
    "duration": 17,
    "start_time": "2024-05-17T20:35:17.062Z"
   },
   {
    "duration": 17,
    "start_time": "2024-05-17T20:35:20.651Z"
   },
   {
    "duration": 17,
    "start_time": "2024-05-17T20:35:23.074Z"
   },
   {
    "duration": 16,
    "start_time": "2024-05-17T20:35:27.394Z"
   },
   {
    "duration": 17,
    "start_time": "2024-05-17T20:35:30.296Z"
   },
   {
    "duration": 16,
    "start_time": "2024-05-17T20:35:33.293Z"
   },
   {
    "duration": 17,
    "start_time": "2024-05-17T20:35:39.143Z"
   },
   {
    "duration": 16,
    "start_time": "2024-05-17T20:35:41.816Z"
   },
   {
    "duration": 11,
    "start_time": "2024-05-17T20:36:02.930Z"
   },
   {
    "duration": 6,
    "start_time": "2024-05-17T20:36:40.184Z"
   },
   {
    "duration": 104,
    "start_time": "2024-05-17T20:36:47.512Z"
   },
   {
    "duration": 12,
    "start_time": "2024-05-17T20:37:08.455Z"
   },
   {
    "duration": 7,
    "start_time": "2024-05-17T20:43:52.355Z"
   },
   {
    "duration": 11,
    "start_time": "2024-05-17T20:44:04.946Z"
   },
   {
    "duration": 5,
    "start_time": "2024-05-17T20:44:23.874Z"
   },
   {
    "duration": 11,
    "start_time": "2024-05-17T20:44:28.157Z"
   },
   {
    "duration": 4,
    "start_time": "2024-05-17T20:45:05.706Z"
   },
   {
    "duration": 14,
    "start_time": "2024-05-17T20:49:10.525Z"
   },
   {
    "duration": 14,
    "start_time": "2024-05-17T20:49:21.576Z"
   },
   {
    "duration": 13,
    "start_time": "2024-05-17T20:50:06.090Z"
   },
   {
    "duration": 3,
    "start_time": "2024-05-17T20:50:08.204Z"
   },
   {
    "duration": 11,
    "start_time": "2024-05-17T20:50:09.895Z"
   },
   {
    "duration": 64,
    "start_time": "2024-05-17T20:54:01.243Z"
   },
   {
    "duration": 10,
    "start_time": "2024-05-17T20:57:24.388Z"
   },
   {
    "duration": 811,
    "start_time": "2024-05-17T20:57:37.449Z"
   },
   {
    "duration": 10,
    "start_time": "2024-05-17T20:57:53.972Z"
   },
   {
    "duration": 28,
    "start_time": "2024-05-17T20:59:18.396Z"
   },
   {
    "duration": 29,
    "start_time": "2024-05-17T20:59:33.270Z"
   },
   {
    "duration": 357,
    "start_time": "2024-05-17T21:02:46.857Z"
   },
   {
    "duration": 2,
    "start_time": "2024-05-17T21:02:47.216Z"
   },
   {
    "duration": 33,
    "start_time": "2024-05-17T21:02:47.219Z"
   },
   {
    "duration": 27,
    "start_time": "2024-05-17T21:02:47.254Z"
   },
   {
    "duration": 15,
    "start_time": "2024-05-17T21:02:47.282Z"
   },
   {
    "duration": 22,
    "start_time": "2024-05-17T21:02:47.299Z"
   },
   {
    "duration": 17,
    "start_time": "2024-05-17T21:02:47.322Z"
   },
   {
    "duration": 18,
    "start_time": "2024-05-17T21:02:47.340Z"
   },
   {
    "duration": 7,
    "start_time": "2024-05-17T21:02:47.360Z"
   },
   {
    "duration": 13,
    "start_time": "2024-05-17T21:02:47.370Z"
   },
   {
    "duration": 4,
    "start_time": "2024-05-17T21:02:47.412Z"
   },
   {
    "duration": 8,
    "start_time": "2024-05-17T21:02:47.418Z"
   },
   {
    "duration": 5,
    "start_time": "2024-05-17T21:02:47.428Z"
   },
   {
    "duration": 7,
    "start_time": "2024-05-17T21:02:47.434Z"
   },
   {
    "duration": 8,
    "start_time": "2024-05-17T21:02:47.442Z"
   },
   {
    "duration": 11,
    "start_time": "2024-05-17T21:02:47.451Z"
   },
   {
    "duration": 14,
    "start_time": "2024-05-17T21:02:47.463Z"
   },
   {
    "duration": 34,
    "start_time": "2024-05-17T21:02:47.478Z"
   },
   {
    "duration": 5,
    "start_time": "2024-05-17T21:02:47.513Z"
   },
   {
    "duration": 15,
    "start_time": "2024-05-17T21:02:47.519Z"
   },
   {
    "duration": 378,
    "start_time": "2024-05-17T21:02:47.535Z"
   },
   {
    "duration": 116,
    "start_time": "2024-05-17T21:02:47.915Z"
   },
   {
    "duration": 174,
    "start_time": "2024-05-17T21:02:48.032Z"
   },
   {
    "duration": 9,
    "start_time": "2024-05-17T21:02:48.208Z"
   },
   {
    "duration": 125,
    "start_time": "2024-05-17T21:02:48.219Z"
   },
   {
    "duration": 7,
    "start_time": "2024-05-17T21:02:48.346Z"
   },
   {
    "duration": 165,
    "start_time": "2024-05-17T21:02:48.354Z"
   },
   {
    "duration": 7,
    "start_time": "2024-05-17T21:02:48.522Z"
   },
   {
    "duration": 9,
    "start_time": "2024-05-17T21:02:48.530Z"
   },
   {
    "duration": 15,
    "start_time": "2024-05-17T21:02:48.541Z"
   },
   {
    "duration": 9,
    "start_time": "2024-05-17T21:02:48.557Z"
   },
   {
    "duration": 10,
    "start_time": "2024-05-17T21:02:48.568Z"
   },
   {
    "duration": 33,
    "start_time": "2024-05-17T21:02:48.579Z"
   },
   {
    "duration": 8,
    "start_time": "2024-05-17T21:02:48.613Z"
   },
   {
    "duration": 15,
    "start_time": "2024-05-17T21:02:48.622Z"
   },
   {
    "duration": 15,
    "start_time": "2024-05-17T21:02:48.638Z"
   },
   {
    "duration": 6,
    "start_time": "2024-05-17T21:02:48.654Z"
   },
   {
    "duration": 11,
    "start_time": "2024-05-17T21:02:48.662Z"
   },
   {
    "duration": 17,
    "start_time": "2024-05-17T21:02:48.674Z"
   },
   {
    "duration": 3,
    "start_time": "2024-05-17T21:02:48.692Z"
   },
   {
    "duration": 24,
    "start_time": "2024-05-17T21:02:48.696Z"
   },
   {
    "duration": 32,
    "start_time": "2024-05-17T21:02:48.721Z"
   },
   {
    "duration": 398,
    "start_time": "2024-05-17T21:05:05.610Z"
   },
   {
    "duration": 2,
    "start_time": "2024-05-17T21:05:06.012Z"
   },
   {
    "duration": 31,
    "start_time": "2024-05-17T21:05:06.016Z"
   },
   {
    "duration": 27,
    "start_time": "2024-05-17T21:05:06.049Z"
   },
   {
    "duration": 15,
    "start_time": "2024-05-17T21:05:06.078Z"
   },
   {
    "duration": 22,
    "start_time": "2024-05-17T21:05:06.095Z"
   },
   {
    "duration": 14,
    "start_time": "2024-05-17T21:05:06.119Z"
   },
   {
    "duration": 13,
    "start_time": "2024-05-17T21:05:06.135Z"
   },
   {
    "duration": 6,
    "start_time": "2024-05-17T21:05:06.149Z"
   },
   {
    "duration": 21,
    "start_time": "2024-05-17T21:05:06.157Z"
   },
   {
    "duration": 4,
    "start_time": "2024-05-17T21:05:06.179Z"
   },
   {
    "duration": 33,
    "start_time": "2024-05-17T21:05:06.184Z"
   },
   {
    "duration": 5,
    "start_time": "2024-05-17T21:05:06.219Z"
   },
   {
    "duration": 27,
    "start_time": "2024-05-17T21:05:06.225Z"
   },
   {
    "duration": 14,
    "start_time": "2024-05-17T21:05:06.253Z"
   },
   {
    "duration": 20,
    "start_time": "2024-05-17T21:05:06.268Z"
   },
   {
    "duration": 23,
    "start_time": "2024-05-17T21:05:06.290Z"
   },
   {
    "duration": 7,
    "start_time": "2024-05-17T21:05:06.315Z"
   },
   {
    "duration": 20,
    "start_time": "2024-05-17T21:05:06.324Z"
   },
   {
    "duration": 5,
    "start_time": "2024-05-17T21:05:06.345Z"
   },
   {
    "duration": 71,
    "start_time": "2024-05-17T21:05:06.351Z"
   },
   {
    "duration": 0,
    "start_time": "2024-05-17T21:05:06.424Z"
   },
   {
    "duration": 0,
    "start_time": "2024-05-17T21:05:06.425Z"
   },
   {
    "duration": 0,
    "start_time": "2024-05-17T21:05:06.426Z"
   },
   {
    "duration": 0,
    "start_time": "2024-05-17T21:05:06.427Z"
   },
   {
    "duration": 0,
    "start_time": "2024-05-17T21:05:06.428Z"
   },
   {
    "duration": 0,
    "start_time": "2024-05-17T21:05:06.428Z"
   },
   {
    "duration": 0,
    "start_time": "2024-05-17T21:05:06.429Z"
   },
   {
    "duration": 0,
    "start_time": "2024-05-17T21:05:06.430Z"
   },
   {
    "duration": 0,
    "start_time": "2024-05-17T21:05:06.431Z"
   },
   {
    "duration": 0,
    "start_time": "2024-05-17T21:05:06.432Z"
   },
   {
    "duration": 0,
    "start_time": "2024-05-17T21:05:06.432Z"
   },
   {
    "duration": 0,
    "start_time": "2024-05-17T21:05:06.433Z"
   },
   {
    "duration": 0,
    "start_time": "2024-05-17T21:05:06.434Z"
   },
   {
    "duration": 0,
    "start_time": "2024-05-17T21:05:06.435Z"
   },
   {
    "duration": 0,
    "start_time": "2024-05-17T21:05:06.436Z"
   },
   {
    "duration": 0,
    "start_time": "2024-05-17T21:05:06.437Z"
   },
   {
    "duration": 0,
    "start_time": "2024-05-17T21:05:06.437Z"
   },
   {
    "duration": 0,
    "start_time": "2024-05-17T21:05:06.438Z"
   },
   {
    "duration": 0,
    "start_time": "2024-05-17T21:05:06.439Z"
   },
   {
    "duration": 0,
    "start_time": "2024-05-17T21:05:06.440Z"
   },
   {
    "duration": 0,
    "start_time": "2024-05-17T21:05:06.441Z"
   },
   {
    "duration": 0,
    "start_time": "2024-05-17T21:05:06.442Z"
   },
   {
    "duration": 383,
    "start_time": "2024-05-17T21:05:43.519Z"
   },
   {
    "duration": 3,
    "start_time": "2024-05-17T21:05:43.903Z"
   },
   {
    "duration": 29,
    "start_time": "2024-05-17T21:05:43.911Z"
   },
   {
    "duration": 27,
    "start_time": "2024-05-17T21:05:43.941Z"
   },
   {
    "duration": 15,
    "start_time": "2024-05-17T21:05:43.970Z"
   },
   {
    "duration": 21,
    "start_time": "2024-05-17T21:05:43.986Z"
   },
   {
    "duration": 15,
    "start_time": "2024-05-17T21:05:44.008Z"
   },
   {
    "duration": 13,
    "start_time": "2024-05-17T21:05:44.025Z"
   },
   {
    "duration": 6,
    "start_time": "2024-05-17T21:05:44.040Z"
   },
   {
    "duration": 12,
    "start_time": "2024-05-17T21:05:44.048Z"
   },
   {
    "duration": 6,
    "start_time": "2024-05-17T21:05:44.061Z"
   },
   {
    "duration": 17,
    "start_time": "2024-05-17T21:05:44.069Z"
   },
   {
    "duration": 28,
    "start_time": "2024-05-17T21:05:44.087Z"
   },
   {
    "duration": 5,
    "start_time": "2024-05-17T21:05:44.117Z"
   },
   {
    "duration": 6,
    "start_time": "2024-05-17T21:05:44.123Z"
   },
   {
    "duration": 10,
    "start_time": "2024-05-17T21:05:44.130Z"
   },
   {
    "duration": 16,
    "start_time": "2024-05-17T21:05:44.142Z"
   },
   {
    "duration": 7,
    "start_time": "2024-05-17T21:05:44.159Z"
   },
   {
    "duration": 5,
    "start_time": "2024-05-17T21:05:44.167Z"
   },
   {
    "duration": 4,
    "start_time": "2024-05-17T21:05:44.173Z"
   },
   {
    "duration": 3,
    "start_time": "2024-05-17T21:05:44.178Z"
   },
   {
    "duration": 397,
    "start_time": "2024-05-17T21:05:44.211Z"
   },
   {
    "duration": 115,
    "start_time": "2024-05-17T21:05:44.609Z"
   },
   {
    "duration": 175,
    "start_time": "2024-05-17T21:05:44.725Z"
   },
   {
    "duration": 11,
    "start_time": "2024-05-17T21:05:44.902Z"
   },
   {
    "duration": 129,
    "start_time": "2024-05-17T21:05:44.914Z"
   },
   {
    "duration": 8,
    "start_time": "2024-05-17T21:05:45.044Z"
   },
   {
    "duration": 172,
    "start_time": "2024-05-17T21:05:45.053Z"
   },
   {
    "duration": 8,
    "start_time": "2024-05-17T21:05:45.226Z"
   },
   {
    "duration": 93,
    "start_time": "2024-05-17T21:05:45.235Z"
   },
   {
    "duration": 21,
    "start_time": "2024-05-17T21:05:45.329Z"
   },
   {
    "duration": 9,
    "start_time": "2024-05-17T21:05:45.352Z"
   },
   {
    "duration": 13,
    "start_time": "2024-05-17T21:05:45.362Z"
   },
   {
    "duration": 16,
    "start_time": "2024-05-17T21:05:45.376Z"
   },
   {
    "duration": 10,
    "start_time": "2024-05-17T21:05:45.394Z"
   },
   {
    "duration": 12,
    "start_time": "2024-05-17T21:05:45.406Z"
   },
   {
    "duration": 10,
    "start_time": "2024-05-17T21:05:45.420Z"
   },
   {
    "duration": 6,
    "start_time": "2024-05-17T21:05:45.431Z"
   },
   {
    "duration": 14,
    "start_time": "2024-05-17T21:05:45.438Z"
   },
   {
    "duration": 20,
    "start_time": "2024-05-17T21:05:45.453Z"
   },
   {
    "duration": 4,
    "start_time": "2024-05-17T21:05:45.476Z"
   },
   {
    "duration": 14,
    "start_time": "2024-05-17T21:05:45.481Z"
   },
   {
    "duration": 34,
    "start_time": "2024-05-17T21:05:45.511Z"
   },
   {
    "duration": 31,
    "start_time": "2024-05-17T21:07:08.369Z"
   },
   {
    "duration": 29,
    "start_time": "2024-05-17T21:07:13.644Z"
   },
   {
    "duration": 20,
    "start_time": "2024-05-17T21:07:46.121Z"
   },
   {
    "duration": 14,
    "start_time": "2024-05-17T21:07:50.131Z"
   },
   {
    "duration": 113,
    "start_time": "2024-05-17T21:08:18.453Z"
   },
   {
    "duration": 48,
    "start_time": "2024-05-17T21:08:26.160Z"
   },
   {
    "duration": 42,
    "start_time": "2024-05-17T21:09:41.163Z"
   },
   {
    "duration": 168,
    "start_time": "2024-05-17T21:09:47.648Z"
   },
   {
    "duration": 16,
    "start_time": "2024-05-17T21:10:04.857Z"
   },
   {
    "duration": 4822,
    "start_time": "2024-05-17T21:10:25.801Z"
   },
   {
    "duration": 17,
    "start_time": "2024-05-17T21:10:32.485Z"
   },
   {
    "duration": 419,
    "start_time": "2024-05-17T21:10:58.876Z"
   },
   {
    "duration": 2,
    "start_time": "2024-05-17T21:10:59.297Z"
   },
   {
    "duration": 87,
    "start_time": "2024-05-17T21:10:59.300Z"
   },
   {
    "duration": 78,
    "start_time": "2024-05-17T21:10:59.388Z"
   },
   {
    "duration": 59,
    "start_time": "2024-05-17T21:10:59.468Z"
   },
   {
    "duration": 21,
    "start_time": "2024-05-17T21:10:59.529Z"
   },
   {
    "duration": 15,
    "start_time": "2024-05-17T21:10:59.551Z"
   },
   {
    "duration": 13,
    "start_time": "2024-05-17T21:10:59.568Z"
   },
   {
    "duration": 17,
    "start_time": "2024-05-17T21:10:59.582Z"
   },
   {
    "duration": 15,
    "start_time": "2024-05-17T21:10:59.600Z"
   },
   {
    "duration": 8,
    "start_time": "2024-05-17T21:10:59.617Z"
   },
   {
    "duration": 8,
    "start_time": "2024-05-17T21:10:59.626Z"
   },
   {
    "duration": 17,
    "start_time": "2024-05-17T21:10:59.636Z"
   },
   {
    "duration": 7,
    "start_time": "2024-05-17T21:10:59.655Z"
   },
   {
    "duration": 6,
    "start_time": "2024-05-17T21:10:59.663Z"
   },
   {
    "duration": 17,
    "start_time": "2024-05-17T21:10:59.670Z"
   },
   {
    "duration": 17,
    "start_time": "2024-05-17T21:10:59.689Z"
   },
   {
    "duration": 7,
    "start_time": "2024-05-17T21:10:59.708Z"
   },
   {
    "duration": 26,
    "start_time": "2024-05-17T21:10:59.717Z"
   },
   {
    "duration": 5,
    "start_time": "2024-05-17T21:10:59.744Z"
   },
   {
    "duration": 7,
    "start_time": "2024-05-17T21:10:59.750Z"
   },
   {
    "duration": 395,
    "start_time": "2024-05-17T21:10:59.758Z"
   },
   {
    "duration": 120,
    "start_time": "2024-05-17T21:11:00.155Z"
   },
   {
    "duration": 177,
    "start_time": "2024-05-17T21:11:00.277Z"
   },
   {
    "duration": 8,
    "start_time": "2024-05-17T21:11:00.455Z"
   },
   {
    "duration": 146,
    "start_time": "2024-05-17T21:11:00.464Z"
   },
   {
    "duration": 6,
    "start_time": "2024-05-17T21:11:00.612Z"
   },
   {
    "duration": 173,
    "start_time": "2024-05-17T21:11:00.620Z"
   },
   {
    "duration": 7,
    "start_time": "2024-05-17T21:11:00.795Z"
   },
   {
    "duration": 46,
    "start_time": "2024-05-17T21:11:00.803Z"
   },
   {
    "duration": 45,
    "start_time": "2024-05-17T21:11:00.851Z"
   },
   {
    "duration": 43,
    "start_time": "2024-05-17T21:11:00.897Z"
   },
   {
    "duration": 34,
    "start_time": "2024-05-17T21:11:00.942Z"
   },
   {
    "duration": 66,
    "start_time": "2024-05-17T21:11:00.977Z"
   },
   {
    "duration": 35,
    "start_time": "2024-05-17T21:11:01.044Z"
   },
   {
    "duration": 41,
    "start_time": "2024-05-17T21:11:01.081Z"
   },
   {
    "duration": 46,
    "start_time": "2024-05-17T21:11:01.123Z"
   },
   {
    "duration": 31,
    "start_time": "2024-05-17T21:11:01.170Z"
   },
   {
    "duration": 63,
    "start_time": "2024-05-17T21:11:01.203Z"
   },
   {
    "duration": 46,
    "start_time": "2024-05-17T21:11:01.268Z"
   },
   {
    "duration": 31,
    "start_time": "2024-05-17T21:11:01.318Z"
   },
   {
    "duration": 30,
    "start_time": "2024-05-17T21:11:01.351Z"
   },
   {
    "duration": 76,
    "start_time": "2024-05-17T21:11:01.382Z"
   },
   {
    "duration": 43,
    "start_time": "2024-05-17T21:11:01.460Z"
   },
   {
    "duration": 21,
    "start_time": "2024-05-17T21:11:36.601Z"
   },
   {
    "duration": 287,
    "start_time": "2024-05-17T21:11:38.707Z"
   },
   {
    "duration": 3,
    "start_time": "2024-05-17T21:11:47.799Z"
   },
   {
    "duration": 14,
    "start_time": "2024-05-17T21:11:50.177Z"
   },
   {
    "duration": 4,
    "start_time": "2024-05-17T21:26:56.505Z"
   },
   {
    "duration": 133,
    "start_time": "2024-05-17T21:27:34.182Z"
   },
   {
    "duration": 18,
    "start_time": "2024-05-17T21:27:43.050Z"
   },
   {
    "duration": 10,
    "start_time": "2024-05-17T21:28:49.570Z"
   },
   {
    "duration": 411,
    "start_time": "2024-05-17T21:29:05.084Z"
   },
   {
    "duration": 2,
    "start_time": "2024-05-17T21:29:05.497Z"
   },
   {
    "duration": 51,
    "start_time": "2024-05-17T21:29:05.501Z"
   },
   {
    "duration": 29,
    "start_time": "2024-05-17T21:29:05.554Z"
   },
   {
    "duration": 16,
    "start_time": "2024-05-17T21:29:05.584Z"
   },
   {
    "duration": 25,
    "start_time": "2024-05-17T21:29:05.601Z"
   },
   {
    "duration": 15,
    "start_time": "2024-05-17T21:29:05.627Z"
   },
   {
    "duration": 14,
    "start_time": "2024-05-17T21:29:05.643Z"
   },
   {
    "duration": 7,
    "start_time": "2024-05-17T21:29:05.659Z"
   },
   {
    "duration": 43,
    "start_time": "2024-05-17T21:29:05.669Z"
   },
   {
    "duration": 3,
    "start_time": "2024-05-17T21:29:05.714Z"
   },
   {
    "duration": 24,
    "start_time": "2024-05-17T21:29:05.718Z"
   },
   {
    "duration": 9,
    "start_time": "2024-05-17T21:29:05.746Z"
   },
   {
    "duration": 6,
    "start_time": "2024-05-17T21:29:05.757Z"
   },
   {
    "duration": 5,
    "start_time": "2024-05-17T21:29:05.765Z"
   },
   {
    "duration": 7,
    "start_time": "2024-05-17T21:29:05.771Z"
   },
   {
    "duration": 24,
    "start_time": "2024-05-17T21:29:05.780Z"
   },
   {
    "duration": 7,
    "start_time": "2024-05-17T21:29:05.806Z"
   },
   {
    "duration": 6,
    "start_time": "2024-05-17T21:29:05.814Z"
   },
   {
    "duration": 16,
    "start_time": "2024-05-17T21:29:05.821Z"
   },
   {
    "duration": 7,
    "start_time": "2024-05-17T21:29:05.839Z"
   },
   {
    "duration": 387,
    "start_time": "2024-05-17T21:29:05.848Z"
   },
   {
    "duration": 119,
    "start_time": "2024-05-17T21:29:06.236Z"
   },
   {
    "duration": 165,
    "start_time": "2024-05-17T21:29:06.357Z"
   },
   {
    "duration": 7,
    "start_time": "2024-05-17T21:29:06.523Z"
   },
   {
    "duration": 127,
    "start_time": "2024-05-17T21:29:06.531Z"
   },
   {
    "duration": 6,
    "start_time": "2024-05-17T21:29:06.660Z"
   },
   {
    "duration": 164,
    "start_time": "2024-05-17T21:29:06.669Z"
   },
   {
    "duration": 7,
    "start_time": "2024-05-17T21:29:06.835Z"
   },
   {
    "duration": 10,
    "start_time": "2024-05-17T21:29:06.843Z"
   },
   {
    "duration": 10,
    "start_time": "2024-05-17T21:29:06.855Z"
   },
   {
    "duration": 8,
    "start_time": "2024-05-17T21:29:06.866Z"
   },
   {
    "duration": 8,
    "start_time": "2024-05-17T21:29:06.875Z"
   },
   {
    "duration": 36,
    "start_time": "2024-05-17T21:29:06.884Z"
   },
   {
    "duration": 9,
    "start_time": "2024-05-17T21:29:06.922Z"
   },
   {
    "duration": 11,
    "start_time": "2024-05-17T21:29:06.932Z"
   },
   {
    "duration": 17,
    "start_time": "2024-05-17T21:29:06.944Z"
   },
   {
    "duration": 30,
    "start_time": "2024-05-17T21:29:06.963Z"
   },
   {
    "duration": 20,
    "start_time": "2024-05-17T21:29:06.994Z"
   },
   {
    "duration": 24,
    "start_time": "2024-05-17T21:29:07.015Z"
   },
   {
    "duration": 2,
    "start_time": "2024-05-17T21:29:07.041Z"
   },
   {
    "duration": 29,
    "start_time": "2024-05-17T21:29:07.045Z"
   },
   {
    "duration": 14,
    "start_time": "2024-05-17T21:29:07.076Z"
   },
   {
    "duration": 171,
    "start_time": "2024-05-17T21:29:07.091Z"
   },
   {
    "duration": 8,
    "start_time": "2024-05-17T21:29:07.264Z"
   },
   {
    "duration": 660,
    "start_time": "2024-05-19T15:46:51.486Z"
   },
   {
    "duration": 490,
    "start_time": "2024-05-19T15:46:58.049Z"
   },
   {
    "duration": 3,
    "start_time": "2024-05-19T15:46:58.541Z"
   },
   {
    "duration": 82,
    "start_time": "2024-05-19T15:46:58.546Z"
   },
   {
    "duration": 85,
    "start_time": "2024-05-19T15:46:58.631Z"
   },
   {
    "duration": 58,
    "start_time": "2024-05-19T15:46:58.717Z"
   },
   {
    "duration": 27,
    "start_time": "2024-05-19T15:46:58.777Z"
   },
   {
    "duration": 20,
    "start_time": "2024-05-19T15:46:58.806Z"
   },
   {
    "duration": 33,
    "start_time": "2024-05-19T15:46:58.827Z"
   },
   {
    "duration": 9,
    "start_time": "2024-05-19T15:46:58.861Z"
   },
   {
    "duration": 21,
    "start_time": "2024-05-19T15:46:58.874Z"
   },
   {
    "duration": 7,
    "start_time": "2024-05-19T15:46:58.897Z"
   },
   {
    "duration": 13,
    "start_time": "2024-05-19T15:46:58.906Z"
   },
   {
    "duration": 36,
    "start_time": "2024-05-19T15:46:58.921Z"
   },
   {
    "duration": 8,
    "start_time": "2024-05-19T15:46:58.959Z"
   },
   {
    "duration": 11,
    "start_time": "2024-05-19T15:46:58.969Z"
   },
   {
    "duration": 10,
    "start_time": "2024-05-19T15:46:58.981Z"
   },
   {
    "duration": 18,
    "start_time": "2024-05-19T15:46:58.992Z"
   },
   {
    "duration": 10,
    "start_time": "2024-05-19T15:46:59.012Z"
   },
   {
    "duration": 6,
    "start_time": "2024-05-19T15:46:59.055Z"
   },
   {
    "duration": 14,
    "start_time": "2024-05-19T15:46:59.063Z"
   },
   {
    "duration": 4,
    "start_time": "2024-05-19T15:46:59.079Z"
   },
   {
    "duration": 583,
    "start_time": "2024-05-19T15:46:59.084Z"
   },
   {
    "duration": 152,
    "start_time": "2024-05-19T15:46:59.669Z"
   },
   {
    "duration": 216,
    "start_time": "2024-05-19T15:46:59.823Z"
   },
   {
    "duration": 20,
    "start_time": "2024-05-19T15:47:00.041Z"
   },
   {
    "duration": 284,
    "start_time": "2024-05-19T15:47:00.063Z"
   },
   {
    "duration": 14,
    "start_time": "2024-05-19T15:47:00.349Z"
   },
   {
    "duration": 145,
    "start_time": "2024-05-19T15:47:00.366Z"
   },
   {
    "duration": 10,
    "start_time": "2024-05-19T15:47:00.512Z"
   },
   {
    "duration": 47,
    "start_time": "2024-05-19T15:47:00.524Z"
   },
   {
    "duration": 22,
    "start_time": "2024-05-19T15:47:00.572Z"
   },
   {
    "duration": 34,
    "start_time": "2024-05-19T15:47:00.596Z"
   },
   {
    "duration": 29,
    "start_time": "2024-05-19T15:47:00.632Z"
   },
   {
    "duration": 25,
    "start_time": "2024-05-19T15:47:00.663Z"
   },
   {
    "duration": 38,
    "start_time": "2024-05-19T15:47:00.689Z"
   },
   {
    "duration": 19,
    "start_time": "2024-05-19T15:47:00.729Z"
   },
   {
    "duration": 36,
    "start_time": "2024-05-19T15:47:00.750Z"
   },
   {
    "duration": 21,
    "start_time": "2024-05-19T15:47:00.788Z"
   },
   {
    "duration": 39,
    "start_time": "2024-05-19T15:47:00.811Z"
   },
   {
    "duration": 42,
    "start_time": "2024-05-19T15:47:00.852Z"
   },
   {
    "duration": 8,
    "start_time": "2024-05-19T15:47:00.896Z"
   },
   {
    "duration": 35,
    "start_time": "2024-05-19T15:47:00.905Z"
   },
   {
    "duration": 17,
    "start_time": "2024-05-19T15:47:00.943Z"
   },
   {
    "duration": 177,
    "start_time": "2024-05-19T15:47:00.962Z"
   },
   {
    "duration": 12,
    "start_time": "2024-05-19T15:47:01.141Z"
   },
   {
    "duration": 565,
    "start_time": "2024-05-19T15:47:01.156Z"
   },
   {
    "duration": 4,
    "start_time": "2024-05-19T15:54:50.936Z"
   },
   {
    "duration": 4,
    "start_time": "2024-05-19T15:57:00.917Z"
   },
   {
    "duration": 64,
    "start_time": "2024-05-19T16:00:24.180Z"
   },
   {
    "duration": 7,
    "start_time": "2024-05-19T16:00:30.875Z"
   },
   {
    "duration": 6,
    "start_time": "2024-05-19T16:06:54.432Z"
   },
   {
    "duration": 3,
    "start_time": "2024-05-19T16:06:59.013Z"
   },
   {
    "duration": 5,
    "start_time": "2024-05-19T16:07:59.102Z"
   },
   {
    "duration": 4,
    "start_time": "2024-05-19T16:08:10.386Z"
   },
   {
    "duration": 4,
    "start_time": "2024-05-19T16:08:13.436Z"
   },
   {
    "duration": 6,
    "start_time": "2024-05-19T16:08:17.160Z"
   },
   {
    "duration": 3,
    "start_time": "2024-05-19T16:08:58.597Z"
   },
   {
    "duration": 3,
    "start_time": "2024-05-19T16:09:00.778Z"
   },
   {
    "duration": 6,
    "start_time": "2024-05-19T16:09:02.132Z"
   },
   {
    "duration": 6,
    "start_time": "2024-05-19T16:09:26.911Z"
   },
   {
    "duration": 5,
    "start_time": "2024-05-19T16:11:10.238Z"
   },
   {
    "duration": 6,
    "start_time": "2024-05-19T16:11:30.638Z"
   },
   {
    "duration": 5,
    "start_time": "2024-05-19T16:11:36.604Z"
   },
   {
    "duration": 6,
    "start_time": "2024-05-19T16:11:40.561Z"
   },
   {
    "duration": 6,
    "start_time": "2024-05-19T16:11:56.025Z"
   },
   {
    "duration": 7,
    "start_time": "2024-05-19T16:14:09.748Z"
   },
   {
    "duration": 4,
    "start_time": "2024-05-19T16:20:26.140Z"
   },
   {
    "duration": 5,
    "start_time": "2024-05-19T16:25:28.453Z"
   },
   {
    "duration": 7,
    "start_time": "2024-05-19T16:29:21.873Z"
   },
   {
    "duration": 7,
    "start_time": "2024-05-19T16:34:05.774Z"
   },
   {
    "duration": 1106,
    "start_time": "2024-05-19T16:39:20.845Z"
   },
   {
    "duration": 6,
    "start_time": "2024-05-19T16:39:58.422Z"
   },
   {
    "duration": 5,
    "start_time": "2024-05-19T16:40:31.813Z"
   },
   {
    "duration": 5,
    "start_time": "2024-05-19T16:43:10.376Z"
   },
   {
    "duration": 9,
    "start_time": "2024-05-19T16:55:09.460Z"
   },
   {
    "duration": 9,
    "start_time": "2024-05-19T16:55:29.929Z"
   },
   {
    "duration": 385,
    "start_time": "2024-05-19T19:12:22.649Z"
   },
   {
    "duration": 3,
    "start_time": "2024-05-19T19:12:23.036Z"
   },
   {
    "duration": 117,
    "start_time": "2024-05-19T19:12:23.041Z"
   },
   {
    "duration": 135,
    "start_time": "2024-05-19T19:12:23.160Z"
   },
   {
    "duration": 66,
    "start_time": "2024-05-19T19:12:23.297Z"
   },
   {
    "duration": 23,
    "start_time": "2024-05-19T19:12:23.365Z"
   },
   {
    "duration": 32,
    "start_time": "2024-05-19T19:12:23.389Z"
   },
   {
    "duration": 24,
    "start_time": "2024-05-19T19:12:23.423Z"
   },
   {
    "duration": 7,
    "start_time": "2024-05-19T19:12:23.449Z"
   },
   {
    "duration": 32,
    "start_time": "2024-05-19T19:12:23.458Z"
   },
   {
    "duration": 18,
    "start_time": "2024-05-19T19:12:23.492Z"
   },
   {
    "duration": 30,
    "start_time": "2024-05-19T19:12:23.513Z"
   },
   {
    "duration": 34,
    "start_time": "2024-05-19T19:12:23.545Z"
   },
   {
    "duration": 36,
    "start_time": "2024-05-19T19:12:23.580Z"
   },
   {
    "duration": 26,
    "start_time": "2024-05-19T19:12:23.618Z"
   },
   {
    "duration": 53,
    "start_time": "2024-05-19T19:12:23.646Z"
   },
   {
    "duration": 27,
    "start_time": "2024-05-19T19:12:23.701Z"
   },
   {
    "duration": 27,
    "start_time": "2024-05-19T19:12:23.729Z"
   },
   {
    "duration": 18,
    "start_time": "2024-05-19T19:12:23.757Z"
   },
   {
    "duration": 27,
    "start_time": "2024-05-19T19:12:23.777Z"
   },
   {
    "duration": 91,
    "start_time": "2024-05-19T19:12:23.805Z"
   },
   {
    "duration": 519,
    "start_time": "2024-05-19T19:12:23.897Z"
   },
   {
    "duration": 122,
    "start_time": "2024-05-19T19:12:24.418Z"
   },
   {
    "duration": 203,
    "start_time": "2024-05-19T19:12:24.541Z"
   },
   {
    "duration": 8,
    "start_time": "2024-05-19T19:12:24.746Z"
   },
   {
    "duration": 260,
    "start_time": "2024-05-19T19:12:24.756Z"
   },
   {
    "duration": 9,
    "start_time": "2024-05-19T19:12:25.018Z"
   },
   {
    "duration": 193,
    "start_time": "2024-05-19T19:12:25.031Z"
   },
   {
    "duration": 7,
    "start_time": "2024-05-19T19:12:25.226Z"
   },
   {
    "duration": 21,
    "start_time": "2024-05-19T19:12:25.235Z"
   },
   {
    "duration": 11,
    "start_time": "2024-05-19T19:12:25.258Z"
   },
   {
    "duration": 39,
    "start_time": "2024-05-19T19:12:25.270Z"
   },
   {
    "duration": 51,
    "start_time": "2024-05-19T19:12:25.310Z"
   },
   {
    "duration": 24,
    "start_time": "2024-05-19T19:12:25.362Z"
   },
   {
    "duration": 34,
    "start_time": "2024-05-19T19:12:25.387Z"
   },
   {
    "duration": 20,
    "start_time": "2024-05-19T19:12:25.422Z"
   },
   {
    "duration": 15,
    "start_time": "2024-05-19T19:12:25.444Z"
   },
   {
    "duration": 24,
    "start_time": "2024-05-19T19:12:25.461Z"
   },
   {
    "duration": 35,
    "start_time": "2024-05-19T19:12:25.486Z"
   },
   {
    "duration": 49,
    "start_time": "2024-05-19T19:12:25.523Z"
   },
   {
    "duration": 33,
    "start_time": "2024-05-19T19:12:25.573Z"
   },
   {
    "duration": 51,
    "start_time": "2024-05-19T19:12:25.608Z"
   },
   {
    "duration": 23,
    "start_time": "2024-05-19T19:12:25.661Z"
   },
   {
    "duration": 145,
    "start_time": "2024-05-19T19:12:25.686Z"
   },
   {
    "duration": 11,
    "start_time": "2024-05-19T19:12:25.832Z"
   },
   {
    "duration": 565,
    "start_time": "2024-05-19T19:12:25.845Z"
   },
   {
    "duration": 7,
    "start_time": "2024-05-19T19:12:26.411Z"
   },
   {
    "duration": 26,
    "start_time": "2024-05-19T19:12:26.419Z"
   },
   {
    "duration": 142,
    "start_time": "2024-05-19T19:12:26.447Z"
   },
   {
    "duration": 422,
    "start_time": "2024-05-20T08:54:40.633Z"
   },
   {
    "duration": 7,
    "start_time": "2024-05-20T08:54:41.057Z"
   },
   {
    "duration": 100,
    "start_time": "2024-05-20T08:54:41.066Z"
   },
   {
    "duration": 78,
    "start_time": "2024-05-20T08:54:41.168Z"
   },
   {
    "duration": 58,
    "start_time": "2024-05-20T08:54:41.247Z"
   },
   {
    "duration": 23,
    "start_time": "2024-05-20T08:54:41.306Z"
   },
   {
    "duration": 15,
    "start_time": "2024-05-20T08:54:41.331Z"
   },
   {
    "duration": 23,
    "start_time": "2024-05-20T08:54:41.348Z"
   },
   {
    "duration": 19,
    "start_time": "2024-05-20T08:54:41.372Z"
   },
   {
    "duration": 11,
    "start_time": "2024-05-20T08:54:41.393Z"
   },
   {
    "duration": 20,
    "start_time": "2024-05-20T08:54:41.405Z"
   },
   {
    "duration": 8,
    "start_time": "2024-05-20T08:54:41.426Z"
   },
   {
    "duration": 5,
    "start_time": "2024-05-20T08:54:41.436Z"
   },
   {
    "duration": 5,
    "start_time": "2024-05-20T08:54:41.443Z"
   },
   {
    "duration": 7,
    "start_time": "2024-05-20T08:54:41.449Z"
   },
   {
    "duration": 5,
    "start_time": "2024-05-20T08:54:41.464Z"
   },
   {
    "duration": 30,
    "start_time": "2024-05-20T08:54:41.470Z"
   },
   {
    "duration": 9,
    "start_time": "2024-05-20T08:54:41.501Z"
   },
   {
    "duration": 4,
    "start_time": "2024-05-20T08:54:41.512Z"
   },
   {
    "duration": 7,
    "start_time": "2024-05-20T08:54:41.517Z"
   },
   {
    "duration": 7,
    "start_time": "2024-05-20T08:54:41.526Z"
   },
   {
    "duration": 607,
    "start_time": "2024-05-20T08:54:41.534Z"
   },
   {
    "duration": 124,
    "start_time": "2024-05-20T08:54:42.142Z"
   },
   {
    "duration": 190,
    "start_time": "2024-05-20T08:54:42.268Z"
   },
   {
    "duration": 13,
    "start_time": "2024-05-20T08:54:42.459Z"
   },
   {
    "duration": 200,
    "start_time": "2024-05-20T08:54:42.473Z"
   },
   {
    "duration": 7,
    "start_time": "2024-05-20T08:54:42.675Z"
   },
   {
    "duration": 139,
    "start_time": "2024-05-20T08:54:42.686Z"
   },
   {
    "duration": 9,
    "start_time": "2024-05-20T08:54:42.826Z"
   },
   {
    "duration": 11,
    "start_time": "2024-05-20T08:54:42.836Z"
   },
   {
    "duration": 26,
    "start_time": "2024-05-20T08:54:42.848Z"
   },
   {
    "duration": 18,
    "start_time": "2024-05-20T08:54:42.875Z"
   },
   {
    "duration": 10,
    "start_time": "2024-05-20T08:54:42.896Z"
   },
   {
    "duration": 12,
    "start_time": "2024-05-20T08:54:42.907Z"
   },
   {
    "duration": 12,
    "start_time": "2024-05-20T08:54:42.920Z"
   },
   {
    "duration": 16,
    "start_time": "2024-05-20T08:54:42.934Z"
   },
   {
    "duration": 37,
    "start_time": "2024-05-20T08:54:42.951Z"
   },
   {
    "duration": 5,
    "start_time": "2024-05-20T08:54:42.990Z"
   },
   {
    "duration": 14,
    "start_time": "2024-05-20T08:54:42.996Z"
   },
   {
    "duration": 31,
    "start_time": "2024-05-20T08:54:43.012Z"
   },
   {
    "duration": 3,
    "start_time": "2024-05-20T08:54:43.044Z"
   },
   {
    "duration": 26,
    "start_time": "2024-05-20T08:54:43.048Z"
   },
   {
    "duration": 4,
    "start_time": "2024-05-20T08:54:43.075Z"
   },
   {
    "duration": 150,
    "start_time": "2024-05-20T08:54:43.080Z"
   },
   {
    "duration": 9,
    "start_time": "2024-05-20T08:54:43.232Z"
   },
   {
    "duration": 455,
    "start_time": "2024-05-20T08:54:43.243Z"
   },
   {
    "duration": 6,
    "start_time": "2024-05-20T08:54:43.699Z"
   },
   {
    "duration": 11,
    "start_time": "2024-05-20T08:54:43.706Z"
   },
   {
    "duration": 13,
    "start_time": "2024-05-20T08:54:43.719Z"
   },
   {
    "duration": 93,
    "start_time": "2024-05-20T08:58:10.231Z"
   },
   {
    "duration": 9,
    "start_time": "2024-05-20T08:58:52.424Z"
   },
   {
    "duration": 13,
    "start_time": "2024-05-20T08:59:14.604Z"
   },
   {
    "duration": 6,
    "start_time": "2024-05-20T09:12:12.918Z"
   },
   {
    "duration": 7,
    "start_time": "2024-05-20T09:13:29.899Z"
   },
   {
    "duration": 91,
    "start_time": "2024-05-20T20:21:55.117Z"
   },
   {
    "duration": 3,
    "start_time": "2024-05-20T20:46:33.848Z"
   },
   {
    "duration": 47,
    "start_time": "2024-05-20T20:46:51.586Z"
   },
   {
    "duration": 8,
    "start_time": "2024-05-20T20:46:59.704Z"
   },
   {
    "duration": 371,
    "start_time": "2024-05-20T20:47:04.009Z"
   },
   {
    "duration": 2,
    "start_time": "2024-05-20T20:47:05.166Z"
   },
   {
    "duration": 98,
    "start_time": "2024-05-20T20:47:07.764Z"
   },
   {
    "duration": 154,
    "start_time": "2024-05-20T20:47:08.619Z"
   },
   {
    "duration": 75,
    "start_time": "2024-05-20T20:47:09.521Z"
   },
   {
    "duration": 3,
    "start_time": "2024-05-20T20:47:10.106Z"
   },
   {
    "duration": 11,
    "start_time": "2024-05-20T20:47:11.255Z"
   },
   {
    "duration": 28,
    "start_time": "2024-05-20T20:47:31.340Z"
   },
   {
    "duration": 56,
    "start_time": "2024-05-20T20:50:54.039Z"
   },
   {
    "duration": 7,
    "start_time": "2024-05-20T20:51:19.345Z"
   },
   {
    "duration": 391,
    "start_time": "2024-05-20T20:51:25.693Z"
   },
   {
    "duration": 3,
    "start_time": "2024-05-20T20:51:26.086Z"
   },
   {
    "duration": 35,
    "start_time": "2024-05-20T20:51:26.090Z"
   },
   {
    "duration": 30,
    "start_time": "2024-05-20T20:51:26.127Z"
   },
   {
    "duration": 15,
    "start_time": "2024-05-20T20:51:26.158Z"
   },
   {
    "duration": 43,
    "start_time": "2024-05-20T20:51:26.175Z"
   },
   {
    "duration": 47,
    "start_time": "2024-05-20T20:51:26.220Z"
   },
   {
    "duration": 36,
    "start_time": "2024-05-20T20:51:26.269Z"
   },
   {
    "duration": 11,
    "start_time": "2024-05-20T20:51:26.307Z"
   },
   {
    "duration": 14,
    "start_time": "2024-05-20T20:51:26.322Z"
   },
   {
    "duration": 6,
    "start_time": "2024-05-20T20:51:26.338Z"
   },
   {
    "duration": 19,
    "start_time": "2024-05-20T20:51:26.346Z"
   },
   {
    "duration": 6,
    "start_time": "2024-05-20T20:51:26.367Z"
   },
   {
    "duration": 11,
    "start_time": "2024-05-20T20:51:26.375Z"
   },
   {
    "duration": 7,
    "start_time": "2024-05-20T20:51:26.387Z"
   },
   {
    "duration": 15,
    "start_time": "2024-05-20T20:51:26.395Z"
   },
   {
    "duration": 14,
    "start_time": "2024-05-20T20:51:26.412Z"
   },
   {
    "duration": 33,
    "start_time": "2024-05-20T20:51:26.428Z"
   },
   {
    "duration": 5,
    "start_time": "2024-05-20T20:51:26.463Z"
   },
   {
    "duration": 7,
    "start_time": "2024-05-20T20:51:26.469Z"
   },
   {
    "duration": 11,
    "start_time": "2024-05-20T20:51:26.477Z"
   },
   {
    "duration": 624,
    "start_time": "2024-05-20T20:51:26.490Z"
   },
   {
    "duration": 149,
    "start_time": "2024-05-20T20:51:27.116Z"
   },
   {
    "duration": 213,
    "start_time": "2024-05-20T20:51:27.267Z"
   },
   {
    "duration": 17,
    "start_time": "2024-05-20T20:51:27.482Z"
   },
   {
    "duration": 203,
    "start_time": "2024-05-20T20:51:27.501Z"
   },
   {
    "duration": 9,
    "start_time": "2024-05-20T20:51:27.705Z"
   },
   {
    "duration": 146,
    "start_time": "2024-05-20T20:51:27.717Z"
   },
   {
    "duration": 8,
    "start_time": "2024-05-20T20:51:27.865Z"
   },
   {
    "duration": 16,
    "start_time": "2024-05-20T20:51:27.875Z"
   },
   {
    "duration": 11,
    "start_time": "2024-05-20T20:51:27.893Z"
   },
   {
    "duration": 11,
    "start_time": "2024-05-20T20:51:27.906Z"
   },
   {
    "duration": 19,
    "start_time": "2024-05-20T20:51:27.919Z"
   },
   {
    "duration": 31,
    "start_time": "2024-05-20T20:51:27.939Z"
   },
   {
    "duration": 8,
    "start_time": "2024-05-20T20:51:27.972Z"
   },
   {
    "duration": 7,
    "start_time": "2024-05-20T20:51:27.982Z"
   },
   {
    "duration": 12,
    "start_time": "2024-05-20T20:51:27.990Z"
   },
   {
    "duration": 23,
    "start_time": "2024-05-20T20:51:28.003Z"
   },
   {
    "duration": 12,
    "start_time": "2024-05-20T20:51:28.027Z"
   },
   {
    "duration": 22,
    "start_time": "2024-05-20T20:51:28.058Z"
   },
   {
    "duration": 3,
    "start_time": "2024-05-20T20:51:28.081Z"
   },
   {
    "duration": 12,
    "start_time": "2024-05-20T20:51:28.086Z"
   },
   {
    "duration": 4,
    "start_time": "2024-05-20T20:51:28.099Z"
   },
   {
    "duration": 161,
    "start_time": "2024-05-20T20:51:28.104Z"
   },
   {
    "duration": 10,
    "start_time": "2024-05-20T20:51:28.266Z"
   },
   {
    "duration": 445,
    "start_time": "2024-05-20T20:51:28.278Z"
   },
   {
    "duration": 6,
    "start_time": "2024-05-20T20:51:28.725Z"
   },
   {
    "duration": 20,
    "start_time": "2024-05-20T20:51:28.733Z"
   },
   {
    "duration": 27,
    "start_time": "2024-05-20T20:51:28.755Z"
   },
   {
    "duration": 11,
    "start_time": "2024-05-20T20:53:23.754Z"
   },
   {
    "duration": 22,
    "start_time": "2024-05-20T21:07:08.651Z"
   },
   {
    "duration": 9,
    "start_time": "2024-05-20T21:08:51.437Z"
   },
   {
    "duration": 6,
    "start_time": "2024-05-20T21:09:24.037Z"
   },
   {
    "duration": 20,
    "start_time": "2024-05-20T21:10:21.539Z"
   },
   {
    "duration": 13,
    "start_time": "2024-05-20T21:12:53.798Z"
   },
   {
    "duration": 22,
    "start_time": "2024-05-20T21:13:01.332Z"
   },
   {
    "duration": 428,
    "start_time": "2024-05-20T21:13:13.190Z"
   },
   {
    "duration": 2,
    "start_time": "2024-05-20T21:13:13.621Z"
   },
   {
    "duration": 47,
    "start_time": "2024-05-20T21:13:13.625Z"
   },
   {
    "duration": 29,
    "start_time": "2024-05-20T21:13:13.674Z"
   },
   {
    "duration": 75,
    "start_time": "2024-05-20T21:13:13.705Z"
   },
   {
    "duration": 48,
    "start_time": "2024-05-20T21:13:13.782Z"
   },
   {
    "duration": 25,
    "start_time": "2024-05-20T21:13:13.832Z"
   },
   {
    "duration": 17,
    "start_time": "2024-05-20T21:13:13.859Z"
   },
   {
    "duration": 7,
    "start_time": "2024-05-20T21:13:13.877Z"
   },
   {
    "duration": 16,
    "start_time": "2024-05-20T21:13:13.886Z"
   },
   {
    "duration": 4,
    "start_time": "2024-05-20T21:13:13.904Z"
   },
   {
    "duration": 10,
    "start_time": "2024-05-20T21:13:13.910Z"
   },
   {
    "duration": 38,
    "start_time": "2024-05-20T21:13:13.922Z"
   },
   {
    "duration": 6,
    "start_time": "2024-05-20T21:13:13.962Z"
   },
   {
    "duration": 5,
    "start_time": "2024-05-20T21:13:13.969Z"
   },
   {
    "duration": 8,
    "start_time": "2024-05-20T21:13:13.976Z"
   },
   {
    "duration": 14,
    "start_time": "2024-05-20T21:13:13.985Z"
   },
   {
    "duration": 89,
    "start_time": "2024-05-20T21:13:14.000Z"
   },
   {
    "duration": 0,
    "start_time": "2024-05-20T21:13:14.091Z"
   },
   {
    "duration": 0,
    "start_time": "2024-05-20T21:13:14.092Z"
   },
   {
    "duration": 0,
    "start_time": "2024-05-20T21:13:14.093Z"
   },
   {
    "duration": 0,
    "start_time": "2024-05-20T21:13:14.094Z"
   },
   {
    "duration": 0,
    "start_time": "2024-05-20T21:13:14.095Z"
   },
   {
    "duration": 0,
    "start_time": "2024-05-20T21:13:14.096Z"
   },
   {
    "duration": 0,
    "start_time": "2024-05-20T21:13:14.097Z"
   },
   {
    "duration": 0,
    "start_time": "2024-05-20T21:13:14.098Z"
   },
   {
    "duration": 0,
    "start_time": "2024-05-20T21:13:14.099Z"
   },
   {
    "duration": 0,
    "start_time": "2024-05-20T21:13:14.100Z"
   },
   {
    "duration": 0,
    "start_time": "2024-05-20T21:13:14.101Z"
   },
   {
    "duration": 0,
    "start_time": "2024-05-20T21:13:14.102Z"
   },
   {
    "duration": 0,
    "start_time": "2024-05-20T21:13:14.102Z"
   },
   {
    "duration": 0,
    "start_time": "2024-05-20T21:13:14.103Z"
   },
   {
    "duration": 0,
    "start_time": "2024-05-20T21:13:14.104Z"
   },
   {
    "duration": 0,
    "start_time": "2024-05-20T21:13:14.105Z"
   },
   {
    "duration": 0,
    "start_time": "2024-05-20T21:13:14.107Z"
   },
   {
    "duration": 0,
    "start_time": "2024-05-20T21:13:14.107Z"
   },
   {
    "duration": 0,
    "start_time": "2024-05-20T21:13:14.108Z"
   },
   {
    "duration": 0,
    "start_time": "2024-05-20T21:13:14.109Z"
   },
   {
    "duration": 0,
    "start_time": "2024-05-20T21:13:14.110Z"
   },
   {
    "duration": 0,
    "start_time": "2024-05-20T21:13:14.111Z"
   },
   {
    "duration": 0,
    "start_time": "2024-05-20T21:13:14.112Z"
   },
   {
    "duration": 0,
    "start_time": "2024-05-20T21:13:14.113Z"
   },
   {
    "duration": 0,
    "start_time": "2024-05-20T21:13:14.114Z"
   },
   {
    "duration": 0,
    "start_time": "2024-05-20T21:13:14.114Z"
   },
   {
    "duration": 0,
    "start_time": "2024-05-20T21:13:14.116Z"
   },
   {
    "duration": 0,
    "start_time": "2024-05-20T21:13:14.159Z"
   },
   {
    "duration": 0,
    "start_time": "2024-05-20T21:13:14.160Z"
   },
   {
    "duration": 0,
    "start_time": "2024-05-20T21:13:14.161Z"
   },
   {
    "duration": 0,
    "start_time": "2024-05-20T21:13:14.162Z"
   },
   {
    "duration": 0,
    "start_time": "2024-05-20T21:13:14.163Z"
   },
   {
    "duration": 14,
    "start_time": "2024-05-20T21:13:52.271Z"
   },
   {
    "duration": 10,
    "start_time": "2024-05-20T21:14:02.091Z"
   },
   {
    "duration": 13,
    "start_time": "2024-05-20T21:14:10.682Z"
   },
   {
    "duration": 15,
    "start_time": "2024-05-20T21:14:21.873Z"
   },
   {
    "duration": 6,
    "start_time": "2024-05-20T21:15:28.063Z"
   },
   {
    "duration": 6,
    "start_time": "2024-05-20T21:15:38.978Z"
   },
   {
    "duration": 9,
    "start_time": "2024-05-20T21:17:16.119Z"
   },
   {
    "duration": 5,
    "start_time": "2024-05-20T21:17:18.492Z"
   },
   {
    "duration": 4,
    "start_time": "2024-05-20T21:18:08.478Z"
   },
   {
    "duration": 4,
    "start_time": "2024-05-20T21:18:12.230Z"
   },
   {
    "duration": 429,
    "start_time": "2024-05-20T21:18:22.986Z"
   },
   {
    "duration": 179,
    "start_time": "2024-05-20T21:18:39.060Z"
   },
   {
    "duration": 171,
    "start_time": "2024-05-20T21:18:45.835Z"
   },
   {
    "duration": 179,
    "start_time": "2024-05-20T21:18:48.749Z"
   },
   {
    "duration": 450,
    "start_time": "2024-05-20T21:19:59.420Z"
   },
   {
    "duration": 2,
    "start_time": "2024-05-20T21:19:59.873Z"
   },
   {
    "duration": 279,
    "start_time": "2024-05-20T21:19:59.878Z"
   },
   {
    "duration": 29,
    "start_time": "2024-05-20T21:20:00.159Z"
   },
   {
    "duration": 50,
    "start_time": "2024-05-20T21:20:00.191Z"
   },
   {
    "duration": 33,
    "start_time": "2024-05-20T21:20:00.243Z"
   },
   {
    "duration": 76,
    "start_time": "2024-05-20T21:20:00.278Z"
   },
   {
    "duration": 389,
    "start_time": "2024-05-20T21:20:00.355Z"
   },
   {
    "duration": 107,
    "start_time": "2024-05-20T21:20:00.746Z"
   },
   {
    "duration": 50,
    "start_time": "2024-05-20T21:20:00.856Z"
   },
   {
    "duration": 50,
    "start_time": "2024-05-20T21:20:00.908Z"
   },
   {
    "duration": 29,
    "start_time": "2024-05-20T21:20:00.959Z"
   },
   {
    "duration": 82,
    "start_time": "2024-05-20T21:20:00.989Z"
   },
   {
    "duration": 29,
    "start_time": "2024-05-20T21:20:01.073Z"
   },
   {
    "duration": 34,
    "start_time": "2024-05-20T21:20:01.104Z"
   },
   {
    "duration": 64,
    "start_time": "2024-05-20T21:20:01.140Z"
   },
   {
    "duration": 68,
    "start_time": "2024-05-20T21:20:01.207Z"
   },
   {
    "duration": 70,
    "start_time": "2024-05-20T21:20:01.277Z"
   },
   {
    "duration": 74,
    "start_time": "2024-05-20T21:20:01.349Z"
   },
   {
    "duration": 28,
    "start_time": "2024-05-20T21:20:01.424Z"
   },
   {
    "duration": 46,
    "start_time": "2024-05-20T21:20:01.453Z"
   },
   {
    "duration": 94,
    "start_time": "2024-05-20T21:20:01.501Z"
   },
   {
    "duration": 55,
    "start_time": "2024-05-20T21:20:01.597Z"
   },
   {
    "duration": 25,
    "start_time": "2024-05-20T21:20:01.654Z"
   },
   {
    "duration": 336,
    "start_time": "2024-05-20T21:20:01.681Z"
   },
   {
    "duration": 207,
    "start_time": "2024-05-20T21:20:02.019Z"
   },
   {
    "duration": 255,
    "start_time": "2024-05-20T21:20:02.228Z"
   },
   {
    "duration": 8,
    "start_time": "2024-05-20T21:20:02.487Z"
   },
   {
    "duration": 280,
    "start_time": "2024-05-20T21:20:02.496Z"
   },
   {
    "duration": 9,
    "start_time": "2024-05-20T21:20:02.778Z"
   },
   {
    "duration": 158,
    "start_time": "2024-05-20T21:20:02.788Z"
   },
   {
    "duration": 15,
    "start_time": "2024-05-20T21:20:02.947Z"
   },
   {
    "duration": 17,
    "start_time": "2024-05-20T21:20:02.964Z"
   },
   {
    "duration": 120,
    "start_time": "2024-05-20T21:20:02.983Z"
   },
   {
    "duration": 44,
    "start_time": "2024-05-20T21:20:03.105Z"
   },
   {
    "duration": 42,
    "start_time": "2024-05-20T21:20:03.150Z"
   },
   {
    "duration": 47,
    "start_time": "2024-05-20T21:20:03.194Z"
   },
   {
    "duration": 33,
    "start_time": "2024-05-20T21:20:03.242Z"
   },
   {
    "duration": 20,
    "start_time": "2024-05-20T21:20:03.277Z"
   },
   {
    "duration": 100,
    "start_time": "2024-05-20T21:20:03.298Z"
   },
   {
    "duration": 30,
    "start_time": "2024-05-20T21:20:03.400Z"
   },
   {
    "duration": 50,
    "start_time": "2024-05-20T21:20:03.432Z"
   },
   {
    "duration": 121,
    "start_time": "2024-05-20T21:20:03.484Z"
   },
   {
    "duration": 12,
    "start_time": "2024-05-20T21:20:03.607Z"
   },
   {
    "duration": 66,
    "start_time": "2024-05-20T21:20:03.621Z"
   },
   {
    "duration": 114,
    "start_time": "2024-05-20T21:20:03.688Z"
   },
   {
    "duration": 198,
    "start_time": "2024-05-20T21:20:03.803Z"
   },
   {
    "duration": 10,
    "start_time": "2024-05-20T21:20:04.003Z"
   },
   {
    "duration": 469,
    "start_time": "2024-05-20T21:20:04.014Z"
   },
   {
    "duration": 7,
    "start_time": "2024-05-20T21:20:04.485Z"
   },
   {
    "duration": 6,
    "start_time": "2024-05-20T21:20:04.493Z"
   },
   {
    "duration": 15,
    "start_time": "2024-05-20T21:20:04.501Z"
   },
   {
    "duration": 4,
    "start_time": "2024-05-20T21:21:33.632Z"
   },
   {
    "duration": 14,
    "start_time": "2024-05-20T21:21:40.212Z"
   },
   {
    "duration": 7,
    "start_time": "2024-05-20T21:22:24.896Z"
   },
   {
    "duration": 7,
    "start_time": "2024-05-20T21:22:28.164Z"
   },
   {
    "duration": 4,
    "start_time": "2024-05-20T21:22:36.819Z"
   },
   {
    "duration": 4,
    "start_time": "2024-05-20T21:22:52.886Z"
   },
   {
    "duration": 4,
    "start_time": "2024-05-20T21:22:55.420Z"
   },
   {
    "duration": 144,
    "start_time": "2024-05-20T21:23:48.697Z"
   },
   {
    "duration": 322,
    "start_time": "2024-05-20T21:23:59.152Z"
   },
   {
    "duration": 179,
    "start_time": "2024-05-20T21:24:05.219Z"
   },
   {
    "duration": 214,
    "start_time": "2024-05-20T21:24:14.708Z"
   },
   {
    "duration": 269,
    "start_time": "2024-05-20T21:24:54.813Z"
   },
   {
    "duration": 171,
    "start_time": "2024-05-20T21:25:06.756Z"
   },
   {
    "duration": 196,
    "start_time": "2024-05-20T21:26:53.916Z"
   },
   {
    "duration": 148,
    "start_time": "2024-05-20T21:27:03.846Z"
   },
   {
    "duration": 6,
    "start_time": "2024-05-20T21:27:55.356Z"
   },
   {
    "duration": 6,
    "start_time": "2024-05-20T21:28:11.125Z"
   },
   {
    "duration": 8,
    "start_time": "2024-05-20T21:28:22.099Z"
   },
   {
    "duration": 6,
    "start_time": "2024-05-20T21:28:50.887Z"
   },
   {
    "duration": 5,
    "start_time": "2024-05-20T21:29:02.651Z"
   },
   {
    "duration": 7,
    "start_time": "2024-05-20T21:29:11.293Z"
   },
   {
    "duration": 471,
    "start_time": "2024-05-20T21:38:35.039Z"
   },
   {
    "duration": 3,
    "start_time": "2024-05-20T21:38:35.512Z"
   },
   {
    "duration": 291,
    "start_time": "2024-05-20T21:38:35.516Z"
   },
   {
    "duration": 28,
    "start_time": "2024-05-20T21:38:35.810Z"
   },
   {
    "duration": 38,
    "start_time": "2024-05-20T21:38:35.839Z"
   },
   {
    "duration": 17,
    "start_time": "2024-05-20T21:38:35.883Z"
   },
   {
    "duration": 23,
    "start_time": "2024-05-20T21:38:35.902Z"
   },
   {
    "duration": 40,
    "start_time": "2024-05-20T21:38:35.927Z"
   },
   {
    "duration": 21,
    "start_time": "2024-05-20T21:38:35.969Z"
   },
   {
    "duration": 11,
    "start_time": "2024-05-20T21:38:35.995Z"
   },
   {
    "duration": 27,
    "start_time": "2024-05-20T21:38:36.007Z"
   },
   {
    "duration": 28,
    "start_time": "2024-05-20T21:38:36.036Z"
   },
   {
    "duration": 36,
    "start_time": "2024-05-20T21:38:36.067Z"
   },
   {
    "duration": 24,
    "start_time": "2024-05-20T21:38:36.105Z"
   },
   {
    "duration": 16,
    "start_time": "2024-05-20T21:38:36.131Z"
   },
   {
    "duration": 28,
    "start_time": "2024-05-20T21:38:36.150Z"
   },
   {
    "duration": 20,
    "start_time": "2024-05-20T21:38:36.181Z"
   },
   {
    "duration": 15,
    "start_time": "2024-05-20T21:38:36.203Z"
   },
   {
    "duration": 6,
    "start_time": "2024-05-20T21:38:36.220Z"
   },
   {
    "duration": 8,
    "start_time": "2024-05-20T21:38:36.227Z"
   },
   {
    "duration": 28,
    "start_time": "2024-05-20T21:38:36.236Z"
   },
   {
    "duration": 18,
    "start_time": "2024-05-20T21:38:36.265Z"
   },
   {
    "duration": 9,
    "start_time": "2024-05-20T21:38:36.284Z"
   },
   {
    "duration": 4,
    "start_time": "2024-05-20T21:38:36.295Z"
   },
   {
    "duration": 17,
    "start_time": "2024-05-20T21:38:36.300Z"
   },
   {
    "duration": 181,
    "start_time": "2024-05-20T21:38:36.320Z"
   },
   {
    "duration": 5,
    "start_time": "2024-05-20T21:38:36.503Z"
   },
   {
    "duration": 5,
    "start_time": "2024-05-20T21:38:36.513Z"
   },
   {
    "duration": 164,
    "start_time": "2024-05-20T21:38:36.520Z"
   },
   {
    "duration": 258,
    "start_time": "2024-05-20T21:38:36.687Z"
   },
   {
    "duration": 29,
    "start_time": "2024-05-20T21:38:36.947Z"
   },
   {
    "duration": 201,
    "start_time": "2024-05-20T21:38:36.979Z"
   },
   {
    "duration": 10,
    "start_time": "2024-05-20T21:38:37.182Z"
   },
   {
    "duration": 161,
    "start_time": "2024-05-20T21:38:37.193Z"
   },
   {
    "duration": 16,
    "start_time": "2024-05-20T21:38:37.355Z"
   },
   {
    "duration": 54,
    "start_time": "2024-05-20T21:38:37.373Z"
   },
   {
    "duration": 11,
    "start_time": "2024-05-20T21:38:37.429Z"
   },
   {
    "duration": 42,
    "start_time": "2024-05-20T21:38:37.442Z"
   },
   {
    "duration": 13,
    "start_time": "2024-05-20T21:38:37.485Z"
   },
   {
    "duration": 13,
    "start_time": "2024-05-20T21:38:37.500Z"
   },
   {
    "duration": 20,
    "start_time": "2024-05-20T21:38:37.515Z"
   },
   {
    "duration": 20,
    "start_time": "2024-05-20T21:38:37.537Z"
   },
   {
    "duration": 21,
    "start_time": "2024-05-20T21:38:37.559Z"
   },
   {
    "duration": 9,
    "start_time": "2024-05-20T21:38:37.582Z"
   },
   {
    "duration": 68,
    "start_time": "2024-05-20T21:38:37.593Z"
   },
   {
    "duration": 39,
    "start_time": "2024-05-20T21:38:37.663Z"
   },
   {
    "duration": 3,
    "start_time": "2024-05-20T21:38:37.704Z"
   },
   {
    "duration": 14,
    "start_time": "2024-05-20T21:38:37.709Z"
   },
   {
    "duration": 5,
    "start_time": "2024-05-20T21:38:37.725Z"
   },
   {
    "duration": 179,
    "start_time": "2024-05-20T21:38:37.731Z"
   },
   {
    "duration": 13,
    "start_time": "2024-05-20T21:38:37.912Z"
   },
   {
    "duration": 467,
    "start_time": "2024-05-20T21:38:37.926Z"
   },
   {
    "duration": 7,
    "start_time": "2024-05-20T21:38:38.394Z"
   },
   {
    "duration": 6,
    "start_time": "2024-05-20T21:38:38.403Z"
   },
   {
    "duration": 9,
    "start_time": "2024-05-20T21:38:38.412Z"
   },
   {
    "duration": 131,
    "start_time": "2024-05-20T21:39:32.912Z"
   },
   {
    "duration": 6,
    "start_time": "2024-05-20T21:40:07.306Z"
   },
   {
    "duration": 188,
    "start_time": "2024-05-20T21:40:49.254Z"
   },
   {
    "duration": 106,
    "start_time": "2024-05-20T21:41:47.677Z"
   },
   {
    "duration": 159,
    "start_time": "2024-05-20T21:41:50.169Z"
   },
   {
    "duration": 51,
    "start_time": "2024-05-20T21:43:46.878Z"
   },
   {
    "duration": 8,
    "start_time": "2024-05-20T21:45:03.989Z"
   },
   {
    "duration": 11,
    "start_time": "2024-05-20T21:45:07.836Z"
   },
   {
    "duration": 13,
    "start_time": "2024-05-20T21:46:10.522Z"
   },
   {
    "duration": 90,
    "start_time": "2024-05-20T21:46:27.539Z"
   },
   {
    "duration": 405,
    "start_time": "2024-05-20T21:46:37.878Z"
   },
   {
    "duration": 2,
    "start_time": "2024-05-20T21:46:38.285Z"
   },
   {
    "duration": 295,
    "start_time": "2024-05-20T21:46:38.290Z"
   },
   {
    "duration": 28,
    "start_time": "2024-05-20T21:46:38.587Z"
   },
   {
    "duration": 29,
    "start_time": "2024-05-20T21:46:38.617Z"
   },
   {
    "duration": 27,
    "start_time": "2024-05-20T21:46:38.648Z"
   },
   {
    "duration": 30,
    "start_time": "2024-05-20T21:46:38.677Z"
   },
   {
    "duration": 22,
    "start_time": "2024-05-20T21:46:38.709Z"
   },
   {
    "duration": 123,
    "start_time": "2024-05-20T21:46:38.734Z"
   },
   {
    "duration": 18,
    "start_time": "2024-05-20T21:46:38.859Z"
   },
   {
    "duration": 12,
    "start_time": "2024-05-20T21:46:38.883Z"
   },
   {
    "duration": 6,
    "start_time": "2024-05-20T21:46:38.896Z"
   },
   {
    "duration": 12,
    "start_time": "2024-05-20T21:46:38.903Z"
   },
   {
    "duration": 20,
    "start_time": "2024-05-20T21:46:38.920Z"
   },
   {
    "duration": 24,
    "start_time": "2024-05-20T21:46:38.942Z"
   },
   {
    "duration": 20,
    "start_time": "2024-05-20T21:46:38.968Z"
   },
   {
    "duration": 9,
    "start_time": "2024-05-20T21:46:38.990Z"
   },
   {
    "duration": 25,
    "start_time": "2024-05-20T21:46:39.002Z"
   },
   {
    "duration": 6,
    "start_time": "2024-05-20T21:46:39.029Z"
   },
   {
    "duration": 39,
    "start_time": "2024-05-20T21:46:39.037Z"
   },
   {
    "duration": 10,
    "start_time": "2024-05-20T21:46:39.078Z"
   },
   {
    "duration": 7,
    "start_time": "2024-05-20T21:46:39.089Z"
   },
   {
    "duration": 7,
    "start_time": "2024-05-20T21:46:39.097Z"
   },
   {
    "duration": 4,
    "start_time": "2024-05-20T21:46:39.106Z"
   },
   {
    "duration": 20,
    "start_time": "2024-05-20T21:46:39.112Z"
   },
   {
    "duration": 260,
    "start_time": "2024-05-20T21:46:39.135Z"
   },
   {
    "duration": 5,
    "start_time": "2024-05-20T21:46:39.396Z"
   },
   {
    "duration": 37,
    "start_time": "2024-05-20T21:46:39.403Z"
   },
   {
    "duration": 26,
    "start_time": "2024-05-20T21:46:39.442Z"
   },
   {
    "duration": 139,
    "start_time": "2024-05-20T21:46:39.470Z"
   },
   {
    "duration": 10,
    "start_time": "2024-05-20T21:46:39.611Z"
   },
   {
    "duration": 262,
    "start_time": "2024-05-20T21:46:39.623Z"
   },
   {
    "duration": 11,
    "start_time": "2024-05-20T21:46:39.887Z"
   },
   {
    "duration": 338,
    "start_time": "2024-05-20T21:46:39.901Z"
   },
   {
    "duration": 34,
    "start_time": "2024-05-20T21:46:40.242Z"
   },
   {
    "duration": 150,
    "start_time": "2024-05-20T21:46:40.281Z"
   },
   {
    "duration": 11,
    "start_time": "2024-05-20T21:46:40.433Z"
   },
   {
    "duration": 79,
    "start_time": "2024-05-20T21:46:40.450Z"
   },
   {
    "duration": 12,
    "start_time": "2024-05-20T21:46:40.530Z"
   },
   {
    "duration": 12,
    "start_time": "2024-05-20T21:46:40.543Z"
   },
   {
    "duration": 17,
    "start_time": "2024-05-20T21:46:40.560Z"
   },
   {
    "duration": 13,
    "start_time": "2024-05-20T21:46:40.579Z"
   },
   {
    "duration": 10,
    "start_time": "2024-05-20T21:46:40.594Z"
   },
   {
    "duration": 8,
    "start_time": "2024-05-20T21:46:40.606Z"
   },
   {
    "duration": 13,
    "start_time": "2024-05-20T21:46:40.616Z"
   },
   {
    "duration": 31,
    "start_time": "2024-05-20T21:46:40.631Z"
   },
   {
    "duration": 39,
    "start_time": "2024-05-20T21:46:40.664Z"
   },
   {
    "duration": 35,
    "start_time": "2024-05-20T21:46:40.705Z"
   },
   {
    "duration": 3,
    "start_time": "2024-05-20T21:46:40.742Z"
   },
   {
    "duration": 21,
    "start_time": "2024-05-20T21:46:40.747Z"
   },
   {
    "duration": 7,
    "start_time": "2024-05-20T21:46:40.771Z"
   },
   {
    "duration": 148,
    "start_time": "2024-05-20T21:46:40.780Z"
   },
   {
    "duration": 11,
    "start_time": "2024-05-20T21:46:40.929Z"
   },
   {
    "duration": 462,
    "start_time": "2024-05-20T21:46:40.941Z"
   },
   {
    "duration": 5,
    "start_time": "2024-05-20T21:46:41.405Z"
   },
   {
    "duration": 35,
    "start_time": "2024-05-20T21:46:41.412Z"
   },
   {
    "duration": 13,
    "start_time": "2024-05-20T21:46:41.449Z"
   },
   {
    "duration": 19,
    "start_time": "2024-05-20T21:48:10.154Z"
   },
   {
    "duration": 9,
    "start_time": "2024-05-20T21:48:37.282Z"
   },
   {
    "duration": 10,
    "start_time": "2024-05-20T21:48:41.675Z"
   },
   {
    "duration": 7,
    "start_time": "2024-05-20T21:48:56.577Z"
   },
   {
    "duration": 116,
    "start_time": "2024-05-20T21:49:17.330Z"
   },
   {
    "duration": 11,
    "start_time": "2024-05-20T21:49:24.757Z"
   },
   {
    "duration": 13,
    "start_time": "2024-05-20T21:49:36.911Z"
   },
   {
    "duration": 10,
    "start_time": "2024-05-20T21:50:19.026Z"
   },
   {
    "duration": 10,
    "start_time": "2024-05-20T21:51:29.646Z"
   },
   {
    "duration": 9,
    "start_time": "2024-05-20T21:51:36.867Z"
   },
   {
    "duration": 17,
    "start_time": "2024-05-20T21:51:55.386Z"
   },
   {
    "duration": 9,
    "start_time": "2024-05-20T21:51:59.199Z"
   },
   {
    "duration": 9,
    "start_time": "2024-05-20T21:52:05.181Z"
   },
   {
    "duration": 7,
    "start_time": "2024-05-20T21:52:23.432Z"
   },
   {
    "duration": 9,
    "start_time": "2024-05-20T21:53:56.542Z"
   },
   {
    "duration": 7,
    "start_time": "2024-05-20T21:54:24.500Z"
   },
   {
    "duration": 185,
    "start_time": "2024-05-20T21:55:09.792Z"
   },
   {
    "duration": 168,
    "start_time": "2024-05-20T21:55:14.148Z"
   },
   {
    "duration": 200,
    "start_time": "2024-05-20T21:55:18.075Z"
   },
   {
    "duration": 397,
    "start_time": "2024-05-20T21:55:27.578Z"
   },
   {
    "duration": 290,
    "start_time": "2024-05-20T21:55:33.630Z"
   },
   {
    "duration": 29,
    "start_time": "2024-05-20T21:56:43.563Z"
   },
   {
    "duration": 464,
    "start_time": "2024-05-20T21:56:59.876Z"
   },
   {
    "duration": 3,
    "start_time": "2024-05-20T21:57:00.342Z"
   },
   {
    "duration": 383,
    "start_time": "2024-05-20T21:57:00.347Z"
   },
   {
    "duration": 42,
    "start_time": "2024-05-20T21:57:00.731Z"
   },
   {
    "duration": 231,
    "start_time": "2024-05-20T21:57:00.776Z"
   },
   {
    "duration": 16,
    "start_time": "2024-05-20T21:57:01.008Z"
   },
   {
    "duration": 52,
    "start_time": "2024-05-20T21:57:01.026Z"
   },
   {
    "duration": 45,
    "start_time": "2024-05-20T21:57:01.080Z"
   },
   {
    "duration": 49,
    "start_time": "2024-05-20T21:57:01.127Z"
   },
   {
    "duration": 107,
    "start_time": "2024-05-20T21:57:01.180Z"
   },
   {
    "duration": 21,
    "start_time": "2024-05-20T21:57:01.289Z"
   },
   {
    "duration": 29,
    "start_time": "2024-05-20T21:57:01.312Z"
   },
   {
    "duration": 42,
    "start_time": "2024-05-20T21:57:01.343Z"
   },
   {
    "duration": 98,
    "start_time": "2024-05-20T21:57:01.388Z"
   },
   {
    "duration": 29,
    "start_time": "2024-05-20T21:57:01.488Z"
   },
   {
    "duration": 14,
    "start_time": "2024-05-20T21:57:01.520Z"
   },
   {
    "duration": 14,
    "start_time": "2024-05-20T21:57:01.535Z"
   },
   {
    "duration": 38,
    "start_time": "2024-05-20T21:57:01.551Z"
   },
   {
    "duration": 11,
    "start_time": "2024-05-20T21:57:01.591Z"
   },
   {
    "duration": 31,
    "start_time": "2024-05-20T21:57:01.603Z"
   },
   {
    "duration": 69,
    "start_time": "2024-05-20T21:57:01.636Z"
   },
   {
    "duration": 36,
    "start_time": "2024-05-20T21:57:01.710Z"
   },
   {
    "duration": 23,
    "start_time": "2024-05-20T21:57:01.747Z"
   },
   {
    "duration": 62,
    "start_time": "2024-05-20T21:57:01.772Z"
   },
   {
    "duration": 58,
    "start_time": "2024-05-20T21:57:01.837Z"
   },
   {
    "duration": 240,
    "start_time": "2024-05-20T21:57:01.896Z"
   },
   {
    "duration": 7,
    "start_time": "2024-05-20T21:57:02.138Z"
   },
   {
    "duration": 50,
    "start_time": "2024-05-20T21:57:02.147Z"
   },
   {
    "duration": 8,
    "start_time": "2024-05-20T21:57:02.199Z"
   },
   {
    "duration": 142,
    "start_time": "2024-05-20T21:57:02.209Z"
   },
   {
    "duration": 23,
    "start_time": "2024-05-20T21:57:02.353Z"
   },
   {
    "duration": 9,
    "start_time": "2024-05-20T21:57:02.382Z"
   },
   {
    "duration": 222,
    "start_time": "2024-05-20T21:57:02.393Z"
   },
   {
    "duration": 8,
    "start_time": "2024-05-20T21:57:02.616Z"
   },
   {
    "duration": 331,
    "start_time": "2024-05-20T21:57:02.626Z"
   },
   {
    "duration": 21,
    "start_time": "2024-05-20T21:57:02.959Z"
   },
   {
    "duration": 163,
    "start_time": "2024-05-20T21:57:02.982Z"
   },
   {
    "duration": 28,
    "start_time": "2024-05-20T21:57:03.147Z"
   },
   {
    "duration": 49,
    "start_time": "2024-05-20T21:57:03.183Z"
   },
   {
    "duration": 42,
    "start_time": "2024-05-20T21:57:03.234Z"
   },
   {
    "duration": 14,
    "start_time": "2024-05-20T21:57:03.281Z"
   },
   {
    "duration": 14,
    "start_time": "2024-05-20T21:57:03.297Z"
   },
   {
    "duration": 13,
    "start_time": "2024-05-20T21:57:03.314Z"
   },
   {
    "duration": 44,
    "start_time": "2024-05-20T21:57:03.329Z"
   },
   {
    "duration": 19,
    "start_time": "2024-05-20T21:57:03.375Z"
   },
   {
    "duration": 93,
    "start_time": "2024-05-20T21:57:03.396Z"
   },
   {
    "duration": 19,
    "start_time": "2024-05-20T21:57:03.497Z"
   },
   {
    "duration": 7,
    "start_time": "2024-05-20T21:57:03.518Z"
   },
   {
    "duration": 19,
    "start_time": "2024-05-20T21:57:03.527Z"
   },
   {
    "duration": 38,
    "start_time": "2024-05-20T21:57:03.548Z"
   },
   {
    "duration": 9,
    "start_time": "2024-05-20T21:57:03.591Z"
   },
   {
    "duration": 12,
    "start_time": "2024-05-20T21:57:03.602Z"
   },
   {
    "duration": 5,
    "start_time": "2024-05-20T21:57:03.615Z"
   },
   {
    "duration": 175,
    "start_time": "2024-05-20T21:57:03.622Z"
   },
   {
    "duration": 11,
    "start_time": "2024-05-20T21:57:03.802Z"
   },
   {
    "duration": 497,
    "start_time": "2024-05-20T21:57:03.815Z"
   },
   {
    "duration": 6,
    "start_time": "2024-05-20T21:57:04.313Z"
   },
   {
    "duration": 7,
    "start_time": "2024-05-20T21:57:04.321Z"
   },
   {
    "duration": 32,
    "start_time": "2024-05-20T21:57:04.330Z"
   },
   {
    "duration": 262,
    "start_time": "2024-05-20T22:01:04.249Z"
   },
   {
    "duration": 366,
    "start_time": "2024-05-20T22:01:09.242Z"
   },
   {
    "duration": 250,
    "start_time": "2024-05-20T22:01:20.001Z"
   },
   {
    "duration": 212,
    "start_time": "2024-05-20T22:01:28.864Z"
   },
   {
    "duration": 180,
    "start_time": "2024-05-20T22:01:31.467Z"
   },
   {
    "duration": 169,
    "start_time": "2024-05-20T22:01:36.671Z"
   },
   {
    "duration": 207,
    "start_time": "2024-05-20T22:01:41.983Z"
   },
   {
    "duration": 189,
    "start_time": "2024-05-20T22:01:48.547Z"
   },
   {
    "duration": 179,
    "start_time": "2024-05-20T22:01:52.284Z"
   },
   {
    "duration": 272,
    "start_time": "2024-05-20T22:01:54.910Z"
   },
   {
    "duration": 194,
    "start_time": "2024-05-20T22:02:00.239Z"
   },
   {
    "duration": 240,
    "start_time": "2024-05-20T22:02:17.778Z"
   },
   {
    "duration": 10,
    "start_time": "2024-05-20T22:02:40.343Z"
   },
   {
    "duration": 9,
    "start_time": "2024-05-20T22:02:55.413Z"
   },
   {
    "duration": 234,
    "start_time": "2024-05-20T22:03:15.120Z"
   },
   {
    "duration": 238,
    "start_time": "2024-05-20T22:03:53.107Z"
   },
   {
    "duration": 176,
    "start_time": "2024-05-20T22:03:58.565Z"
   },
   {
    "duration": 65,
    "start_time": "2024-05-20T22:04:04.486Z"
   },
   {
    "duration": 242,
    "start_time": "2024-05-20T22:04:08.665Z"
   },
   {
    "duration": 11,
    "start_time": "2024-05-20T22:04:35.663Z"
   },
   {
    "duration": 373,
    "start_time": "2024-05-20T22:04:38.799Z"
   },
   {
    "duration": 271,
    "start_time": "2024-05-20T22:04:43.839Z"
   },
   {
    "duration": 285,
    "start_time": "2024-05-20T22:04:56.902Z"
   },
   {
    "duration": 155,
    "start_time": "2024-05-20T22:04:59.533Z"
   },
   {
    "duration": 165,
    "start_time": "2024-05-20T22:05:01.784Z"
   },
   {
    "duration": 202,
    "start_time": "2024-05-20T22:05:04.010Z"
   },
   {
    "duration": 188,
    "start_time": "2024-05-20T22:05:06.993Z"
   },
   {
    "duration": 177,
    "start_time": "2024-05-20T22:05:09.119Z"
   },
   {
    "duration": 314,
    "start_time": "2024-05-20T22:05:12.520Z"
   },
   {
    "duration": 183,
    "start_time": "2024-05-20T22:05:14.694Z"
   },
   {
    "duration": 9,
    "start_time": "2024-05-20T22:05:26.894Z"
   },
   {
    "duration": 185,
    "start_time": "2024-05-20T22:13:40.191Z"
   },
   {
    "duration": 168,
    "start_time": "2024-05-20T22:13:44.020Z"
   },
   {
    "duration": 182,
    "start_time": "2024-05-20T22:13:46.204Z"
   },
   {
    "duration": 88,
    "start_time": "2024-05-20T22:15:12.633Z"
   },
   {
    "duration": 6,
    "start_time": "2024-05-20T22:22:22.837Z"
   },
   {
    "duration": 8,
    "start_time": "2024-05-20T22:22:36.755Z"
   },
   {
    "duration": 6,
    "start_time": "2024-05-20T22:22:42.446Z"
   },
   {
    "duration": 9,
    "start_time": "2024-05-20T22:27:32.575Z"
   },
   {
    "duration": 418,
    "start_time": "2024-05-20T22:48:24.087Z"
   },
   {
    "duration": 2,
    "start_time": "2024-05-20T22:48:24.507Z"
   },
   {
    "duration": 299,
    "start_time": "2024-05-20T22:48:24.510Z"
   },
   {
    "duration": 28,
    "start_time": "2024-05-20T22:48:24.811Z"
   },
   {
    "duration": 40,
    "start_time": "2024-05-20T22:48:24.841Z"
   },
   {
    "duration": 15,
    "start_time": "2024-05-20T22:48:24.886Z"
   },
   {
    "duration": 36,
    "start_time": "2024-05-20T22:48:24.903Z"
   },
   {
    "duration": 25,
    "start_time": "2024-05-20T22:48:24.941Z"
   },
   {
    "duration": 24,
    "start_time": "2024-05-20T22:48:24.975Z"
   },
   {
    "duration": 13,
    "start_time": "2024-05-20T22:48:25.001Z"
   },
   {
    "duration": 26,
    "start_time": "2024-05-20T22:48:25.015Z"
   },
   {
    "duration": 5,
    "start_time": "2024-05-20T22:48:25.042Z"
   },
   {
    "duration": 18,
    "start_time": "2024-05-20T22:48:25.048Z"
   },
   {
    "duration": 35,
    "start_time": "2024-05-20T22:48:25.070Z"
   },
   {
    "duration": 26,
    "start_time": "2024-05-20T22:48:25.107Z"
   },
   {
    "duration": 6,
    "start_time": "2024-05-20T22:48:25.135Z"
   },
   {
    "duration": 8,
    "start_time": "2024-05-20T22:48:25.142Z"
   },
   {
    "duration": 34,
    "start_time": "2024-05-20T22:48:25.152Z"
   },
   {
    "duration": 8,
    "start_time": "2024-05-20T22:48:25.188Z"
   },
   {
    "duration": 6,
    "start_time": "2024-05-20T22:48:25.198Z"
   },
   {
    "duration": 8,
    "start_time": "2024-05-20T22:48:25.205Z"
   },
   {
    "duration": 4,
    "start_time": "2024-05-20T22:48:25.215Z"
   },
   {
    "duration": 12,
    "start_time": "2024-05-20T22:48:25.221Z"
   },
   {
    "duration": 8,
    "start_time": "2024-05-20T22:48:25.234Z"
   },
   {
    "duration": 27,
    "start_time": "2024-05-20T22:48:25.243Z"
   },
   {
    "duration": 172,
    "start_time": "2024-05-20T22:48:25.279Z"
   },
   {
    "duration": 9,
    "start_time": "2024-05-20T22:48:25.453Z"
   },
   {
    "duration": 16,
    "start_time": "2024-05-20T22:48:25.467Z"
   },
   {
    "duration": 15,
    "start_time": "2024-05-20T22:48:25.495Z"
   },
   {
    "duration": 132,
    "start_time": "2024-05-20T22:48:25.516Z"
   },
   {
    "duration": 18,
    "start_time": "2024-05-20T22:48:25.650Z"
   },
   {
    "duration": 19,
    "start_time": "2024-05-20T22:48:25.671Z"
   },
   {
    "duration": 214,
    "start_time": "2024-05-20T22:48:25.691Z"
   },
   {
    "duration": 8,
    "start_time": "2024-05-20T22:48:25.907Z"
   },
   {
    "duration": 320,
    "start_time": "2024-05-20T22:48:25.916Z"
   },
   {
    "duration": 9,
    "start_time": "2024-05-20T22:48:26.237Z"
   },
   {
    "duration": 156,
    "start_time": "2024-05-20T22:48:26.247Z"
   },
   {
    "duration": 8,
    "start_time": "2024-05-20T22:48:26.405Z"
   },
   {
    "duration": 23,
    "start_time": "2024-05-20T22:48:26.414Z"
   },
   {
    "duration": 25,
    "start_time": "2024-05-20T22:48:26.439Z"
   },
   {
    "duration": 19,
    "start_time": "2024-05-20T22:48:26.473Z"
   },
   {
    "duration": 11,
    "start_time": "2024-05-20T22:48:26.495Z"
   },
   {
    "duration": 19,
    "start_time": "2024-05-20T22:48:26.508Z"
   },
   {
    "duration": 9,
    "start_time": "2024-05-20T22:48:26.529Z"
   },
   {
    "duration": 39,
    "start_time": "2024-05-20T22:48:26.539Z"
   },
   {
    "duration": 14,
    "start_time": "2024-05-20T22:48:26.579Z"
   },
   {
    "duration": 13,
    "start_time": "2024-05-20T22:48:26.597Z"
   },
   {
    "duration": 287,
    "start_time": "2024-05-20T22:48:26.612Z"
   },
   {
    "duration": 9,
    "start_time": "2024-05-20T22:48:26.901Z"
   },
   {
    "duration": 196,
    "start_time": "2024-05-20T22:48:26.912Z"
   },
   {
    "duration": 8,
    "start_time": "2024-05-20T22:48:27.109Z"
   },
   {
    "duration": 4,
    "start_time": "2024-05-20T22:48:27.119Z"
   },
   {
    "duration": 12,
    "start_time": "2024-05-20T22:48:27.125Z"
   },
   {
    "duration": 302,
    "start_time": "2024-05-20T22:48:27.164Z"
   },
   {
    "duration": 11,
    "start_time": "2024-05-20T22:48:27.468Z"
   },
   {
    "duration": 221,
    "start_time": "2024-05-20T22:48:27.480Z"
   },
   {
    "duration": 8,
    "start_time": "2024-05-20T22:48:27.702Z"
   },
   {
    "duration": 29,
    "start_time": "2024-05-20T22:48:27.712Z"
   },
   {
    "duration": 2,
    "start_time": "2024-05-20T22:48:27.743Z"
   },
   {
    "duration": 42,
    "start_time": "2024-05-20T22:48:27.747Z"
   },
   {
    "duration": 16,
    "start_time": "2024-05-20T22:48:27.791Z"
   },
   {
    "duration": 242,
    "start_time": "2024-05-20T22:48:27.809Z"
   },
   {
    "duration": 12,
    "start_time": "2024-05-20T22:48:28.053Z"
   },
   {
    "duration": 535,
    "start_time": "2024-05-20T22:48:28.067Z"
   },
   {
    "duration": 6,
    "start_time": "2024-05-20T22:48:28.604Z"
   },
   {
    "duration": 5,
    "start_time": "2024-05-20T22:48:28.611Z"
   },
   {
    "duration": 10,
    "start_time": "2024-05-20T22:48:28.617Z"
   },
   {
    "duration": 404,
    "start_time": "2024-05-21T11:18:24.514Z"
   },
   {
    "duration": 3,
    "start_time": "2024-05-21T11:18:24.920Z"
   },
   {
    "duration": 267,
    "start_time": "2024-05-21T11:18:24.924Z"
   },
   {
    "duration": 27,
    "start_time": "2024-05-21T11:18:25.193Z"
   },
   {
    "duration": 28,
    "start_time": "2024-05-21T11:18:25.222Z"
   },
   {
    "duration": 14,
    "start_time": "2024-05-21T11:18:25.252Z"
   },
   {
    "duration": 21,
    "start_time": "2024-05-21T11:18:25.268Z"
   },
   {
    "duration": 18,
    "start_time": "2024-05-21T11:18:25.291Z"
   },
   {
    "duration": 35,
    "start_time": "2024-05-21T11:18:25.311Z"
   },
   {
    "duration": 81,
    "start_time": "2024-05-21T11:18:25.582Z"
   },
   {
    "duration": 6,
    "start_time": "2024-05-21T11:18:25.680Z"
   },
   {
    "duration": 16,
    "start_time": "2024-05-21T11:18:25.687Z"
   },
   {
    "duration": 31,
    "start_time": "2024-05-21T11:18:25.704Z"
   },
   {
    "duration": 10,
    "start_time": "2024-05-21T11:18:25.737Z"
   },
   {
    "duration": 165,
    "start_time": "2024-05-21T11:18:25.748Z"
   },
   {
    "duration": 4,
    "start_time": "2024-05-21T11:18:25.915Z"
   },
   {
    "duration": 14,
    "start_time": "2024-05-21T11:18:25.923Z"
   },
   {
    "duration": 15,
    "start_time": "2024-05-21T11:18:25.938Z"
   },
   {
    "duration": 133,
    "start_time": "2024-05-21T11:18:25.954Z"
   },
   {
    "duration": 9,
    "start_time": "2024-05-21T11:18:26.088Z"
   },
   {
    "duration": 18,
    "start_time": "2024-05-21T11:18:26.098Z"
   },
   {
    "duration": 216,
    "start_time": "2024-05-21T11:18:26.117Z"
   },
   {
    "duration": 8,
    "start_time": "2024-05-21T11:18:26.334Z"
   },
   {
    "duration": 286,
    "start_time": "2024-05-21T11:18:26.343Z"
   },
   {
    "duration": 9,
    "start_time": "2024-05-21T11:18:26.630Z"
   },
   {
    "duration": 242,
    "start_time": "2024-05-21T11:18:26.640Z"
   },
   {
    "duration": 9,
    "start_time": "2024-05-21T11:18:26.883Z"
   },
   {
    "duration": 10,
    "start_time": "2024-05-21T11:18:26.894Z"
   },
   {
    "duration": 26,
    "start_time": "2024-05-21T11:18:26.906Z"
   },
   {
    "duration": 12,
    "start_time": "2024-05-21T11:18:26.934Z"
   },
   {
    "duration": 22,
    "start_time": "2024-05-21T11:18:26.948Z"
   },
   {
    "duration": 13,
    "start_time": "2024-05-21T11:18:26.971Z"
   },
   {
    "duration": 12,
    "start_time": "2024-05-21T11:18:26.985Z"
   },
   {
    "duration": 17,
    "start_time": "2024-05-21T11:18:26.998Z"
   },
   {
    "duration": 9,
    "start_time": "2024-05-21T11:18:27.017Z"
   },
   {
    "duration": 43,
    "start_time": "2024-05-21T11:18:27.028Z"
   },
   {
    "duration": 256,
    "start_time": "2024-05-21T11:18:27.072Z"
   },
   {
    "duration": 8,
    "start_time": "2024-05-21T11:18:27.330Z"
   },
   {
    "duration": 196,
    "start_time": "2024-05-21T11:18:27.340Z"
   },
   {
    "duration": 9,
    "start_time": "2024-05-21T11:18:27.538Z"
   },
   {
    "duration": 21,
    "start_time": "2024-05-21T11:18:27.549Z"
   },
   {
    "duration": 12,
    "start_time": "2024-05-21T11:18:27.572Z"
   },
   {
    "duration": 321,
    "start_time": "2024-05-21T11:18:27.585Z"
   },
   {
    "duration": 8,
    "start_time": "2024-05-21T11:18:27.908Z"
   },
   {
    "duration": 181,
    "start_time": "2024-05-21T11:18:27.917Z"
   },
   {
    "duration": 8,
    "start_time": "2024-05-21T11:18:28.100Z"
   },
   {
    "duration": 46,
    "start_time": "2024-05-21T11:18:28.110Z"
   },
   {
    "duration": 4,
    "start_time": "2024-05-21T11:18:28.158Z"
   },
   {
    "duration": 26,
    "start_time": "2024-05-21T11:18:28.163Z"
   },
   {
    "duration": 22,
    "start_time": "2024-05-21T11:18:28.191Z"
   },
   {
    "duration": 147,
    "start_time": "2024-05-21T11:18:28.215Z"
   },
   {
    "duration": 14,
    "start_time": "2024-05-21T11:18:28.364Z"
   },
   {
    "duration": 480,
    "start_time": "2024-05-21T11:18:28.380Z"
   },
   {
    "duration": 6,
    "start_time": "2024-05-21T11:18:28.861Z"
   },
   {
    "duration": 5,
    "start_time": "2024-05-21T11:18:28.870Z"
   },
   {
    "duration": 11,
    "start_time": "2024-05-21T11:18:28.876Z"
   },
   {
    "duration": 448,
    "start_time": "2024-05-21T11:19:26.562Z"
   },
   {
    "duration": 2,
    "start_time": "2024-05-21T11:19:27.012Z"
   },
   {
    "duration": 251,
    "start_time": "2024-05-21T11:19:27.016Z"
   },
   {
    "duration": 28,
    "start_time": "2024-05-21T11:19:27.269Z"
   },
   {
    "duration": 29,
    "start_time": "2024-05-21T11:19:27.299Z"
   },
   {
    "duration": 15,
    "start_time": "2024-05-21T11:19:27.330Z"
   },
   {
    "duration": 25,
    "start_time": "2024-05-21T11:19:27.347Z"
   },
   {
    "duration": 20,
    "start_time": "2024-05-21T11:19:27.374Z"
   },
   {
    "duration": 16,
    "start_time": "2024-05-21T11:19:27.396Z"
   },
   {
    "duration": 10,
    "start_time": "2024-05-21T11:19:27.415Z"
   },
   {
    "duration": 44,
    "start_time": "2024-05-21T11:19:27.427Z"
   },
   {
    "duration": 5,
    "start_time": "2024-05-21T11:19:27.472Z"
   },
   {
    "duration": 58,
    "start_time": "2024-05-21T11:19:27.479Z"
   },
   {
    "duration": 9,
    "start_time": "2024-05-21T11:19:27.539Z"
   },
   {
    "duration": 13,
    "start_time": "2024-05-21T11:19:27.549Z"
   },
   {
    "duration": 7,
    "start_time": "2024-05-21T11:19:27.564Z"
   },
   {
    "duration": 6,
    "start_time": "2024-05-21T11:19:27.573Z"
   },
   {
    "duration": 15,
    "start_time": "2024-05-21T11:19:27.581Z"
   },
   {
    "duration": 71,
    "start_time": "2024-05-21T11:19:27.598Z"
   },
   {
    "duration": 9,
    "start_time": "2024-05-21T11:19:27.671Z"
   },
   {
    "duration": 9,
    "start_time": "2024-05-21T11:19:27.682Z"
   },
   {
    "duration": 6,
    "start_time": "2024-05-21T11:19:27.693Z"
   },
   {
    "duration": 6,
    "start_time": "2024-05-21T11:19:27.700Z"
   },
   {
    "duration": 5,
    "start_time": "2024-05-21T11:19:27.708Z"
   },
   {
    "duration": 8,
    "start_time": "2024-05-21T11:19:27.714Z"
   },
   {
    "duration": 198,
    "start_time": "2024-05-21T11:19:27.724Z"
   },
   {
    "duration": 5,
    "start_time": "2024-05-21T11:19:27.924Z"
   },
   {
    "duration": 5,
    "start_time": "2024-05-21T11:19:27.934Z"
   },
   {
    "duration": 29,
    "start_time": "2024-05-21T11:19:27.941Z"
   },
   {
    "duration": 152,
    "start_time": "2024-05-21T11:19:27.972Z"
   },
   {
    "duration": 10,
    "start_time": "2024-05-21T11:19:28.127Z"
   },
   {
    "duration": 8,
    "start_time": "2024-05-21T11:19:28.139Z"
   },
   {
    "duration": 226,
    "start_time": "2024-05-21T11:19:28.148Z"
   },
   {
    "duration": 8,
    "start_time": "2024-05-21T11:19:28.376Z"
   },
   {
    "duration": 295,
    "start_time": "2024-05-21T11:19:28.385Z"
   },
   {
    "duration": 10,
    "start_time": "2024-05-21T11:19:28.681Z"
   },
   {
    "duration": 210,
    "start_time": "2024-05-21T11:19:28.693Z"
   },
   {
    "duration": 10,
    "start_time": "2024-05-21T11:19:28.905Z"
   },
   {
    "duration": 14,
    "start_time": "2024-05-21T11:19:28.916Z"
   },
   {
    "duration": 13,
    "start_time": "2024-05-21T11:19:28.931Z"
   },
   {
    "duration": 31,
    "start_time": "2024-05-21T11:19:28.946Z"
   },
   {
    "duration": 10,
    "start_time": "2024-05-21T11:19:28.980Z"
   },
   {
    "duration": 12,
    "start_time": "2024-05-21T11:19:28.992Z"
   },
   {
    "duration": 9,
    "start_time": "2024-05-21T11:19:29.006Z"
   },
   {
    "duration": 13,
    "start_time": "2024-05-21T11:19:29.017Z"
   },
   {
    "duration": 43,
    "start_time": "2024-05-21T11:19:29.031Z"
   },
   {
    "duration": 12,
    "start_time": "2024-05-21T11:19:29.076Z"
   },
   {
    "duration": 252,
    "start_time": "2024-05-21T11:19:29.090Z"
   },
   {
    "duration": 10,
    "start_time": "2024-05-21T11:19:29.344Z"
   },
   {
    "duration": 195,
    "start_time": "2024-05-21T11:19:29.356Z"
   },
   {
    "duration": 8,
    "start_time": "2024-05-21T11:19:29.553Z"
   },
   {
    "duration": 28,
    "start_time": "2024-05-21T11:19:29.563Z"
   },
   {
    "duration": 73,
    "start_time": "2024-05-21T11:19:29.593Z"
   },
   {
    "duration": 284,
    "start_time": "2024-05-21T11:19:29.668Z"
   },
   {
    "duration": 19,
    "start_time": "2024-05-21T11:19:29.953Z"
   },
   {
    "duration": 180,
    "start_time": "2024-05-21T11:19:29.974Z"
   },
   {
    "duration": 19,
    "start_time": "2024-05-21T11:19:30.155Z"
   },
   {
    "duration": 49,
    "start_time": "2024-05-21T11:19:30.176Z"
   },
   {
    "duration": 21,
    "start_time": "2024-05-21T11:19:30.227Z"
   },
   {
    "duration": 93,
    "start_time": "2024-05-21T11:19:30.250Z"
   },
   {
    "duration": 65,
    "start_time": "2024-05-21T11:19:30.344Z"
   },
   {
    "duration": 230,
    "start_time": "2024-05-21T11:19:30.411Z"
   },
   {
    "duration": 111,
    "start_time": "2024-05-21T11:19:30.642Z"
   },
   {
    "duration": 914,
    "start_time": "2024-05-21T11:19:30.755Z"
   },
   {
    "duration": 6,
    "start_time": "2024-05-21T11:19:31.671Z"
   },
   {
    "duration": 492,
    "start_time": "2024-05-21T11:19:31.678Z"
   },
   {
    "duration": 36,
    "start_time": "2024-05-21T11:19:32.172Z"
   },
   {
    "duration": 52,
    "start_time": "2024-05-21T18:14:35.208Z"
   },
   {
    "duration": 458,
    "start_time": "2024-05-21T18:14:45.559Z"
   },
   {
    "duration": 2,
    "start_time": "2024-05-21T18:14:46.019Z"
   },
   {
    "duration": 423,
    "start_time": "2024-05-21T18:14:46.023Z"
   },
   {
    "duration": 100,
    "start_time": "2024-05-21T18:14:46.449Z"
   },
   {
    "duration": 158,
    "start_time": "2024-05-21T18:14:46.551Z"
   },
   {
    "duration": 65,
    "start_time": "2024-05-21T18:14:46.710Z"
   },
   {
    "duration": 24,
    "start_time": "2024-05-21T18:14:46.777Z"
   },
   {
    "duration": 30,
    "start_time": "2024-05-21T18:14:46.803Z"
   },
   {
    "duration": 24,
    "start_time": "2024-05-21T18:14:46.835Z"
   },
   {
    "duration": 68,
    "start_time": "2024-05-21T18:14:46.862Z"
   },
   {
    "duration": 31,
    "start_time": "2024-05-21T18:14:46.931Z"
   },
   {
    "duration": 68,
    "start_time": "2024-05-21T18:14:46.964Z"
   },
   {
    "duration": 24,
    "start_time": "2024-05-21T18:14:47.034Z"
   },
   {
    "duration": 18,
    "start_time": "2024-05-21T18:14:47.060Z"
   },
   {
    "duration": 43,
    "start_time": "2024-05-21T18:14:47.080Z"
   },
   {
    "duration": 81,
    "start_time": "2024-05-21T18:14:47.125Z"
   },
   {
    "duration": 30,
    "start_time": "2024-05-21T18:14:47.208Z"
   },
   {
    "duration": 39,
    "start_time": "2024-05-21T18:14:47.240Z"
   },
   {
    "duration": 24,
    "start_time": "2024-05-21T18:14:47.281Z"
   },
   {
    "duration": 46,
    "start_time": "2024-05-21T18:14:47.307Z"
   },
   {
    "duration": 43,
    "start_time": "2024-05-21T18:14:47.355Z"
   },
   {
    "duration": 30,
    "start_time": "2024-05-21T18:14:47.400Z"
   },
   {
    "duration": 13,
    "start_time": "2024-05-21T18:14:47.432Z"
   },
   {
    "duration": 24,
    "start_time": "2024-05-21T18:14:47.447Z"
   },
   {
    "duration": 30,
    "start_time": "2024-05-21T18:14:47.473Z"
   },
   {
    "duration": 187,
    "start_time": "2024-05-21T18:14:47.504Z"
   },
   {
    "duration": 5,
    "start_time": "2024-05-21T18:14:47.695Z"
   },
   {
    "duration": 32,
    "start_time": "2024-05-21T18:14:47.707Z"
   },
   {
    "duration": 16,
    "start_time": "2024-05-21T18:14:47.740Z"
   },
   {
    "duration": 212,
    "start_time": "2024-05-21T18:14:47.758Z"
   },
   {
    "duration": 10,
    "start_time": "2024-05-21T18:14:47.972Z"
   },
   {
    "duration": 12,
    "start_time": "2024-05-21T18:14:47.984Z"
   },
   {
    "duration": 237,
    "start_time": "2024-05-21T18:14:47.998Z"
   },
   {
    "duration": 8,
    "start_time": "2024-05-21T18:14:48.237Z"
   },
   {
    "duration": 318,
    "start_time": "2024-05-21T18:14:48.247Z"
   },
   {
    "duration": 10,
    "start_time": "2024-05-21T18:14:48.567Z"
   },
   {
    "duration": 149,
    "start_time": "2024-05-21T18:14:48.579Z"
   },
   {
    "duration": 10,
    "start_time": "2024-05-21T18:14:48.729Z"
   },
   {
    "duration": 16,
    "start_time": "2024-05-21T18:14:48.741Z"
   },
   {
    "duration": 16,
    "start_time": "2024-05-21T18:14:48.759Z"
   },
   {
    "duration": 22,
    "start_time": "2024-05-21T18:14:48.776Z"
   },
   {
    "duration": 13,
    "start_time": "2024-05-21T18:14:48.800Z"
   },
   {
    "duration": 14,
    "start_time": "2024-05-21T18:14:48.815Z"
   },
   {
    "duration": 20,
    "start_time": "2024-05-21T18:14:48.830Z"
   },
   {
    "duration": 75,
    "start_time": "2024-05-21T18:14:48.852Z"
   },
   {
    "duration": 26,
    "start_time": "2024-05-21T18:14:48.929Z"
   },
   {
    "duration": 76,
    "start_time": "2024-05-21T18:14:48.957Z"
   },
   {
    "duration": 316,
    "start_time": "2024-05-21T18:14:49.035Z"
   },
   {
    "duration": 8,
    "start_time": "2024-05-21T18:14:49.352Z"
   },
   {
    "duration": 221,
    "start_time": "2024-05-21T18:14:49.363Z"
   },
   {
    "duration": 8,
    "start_time": "2024-05-21T18:14:49.586Z"
   },
   {
    "duration": 237,
    "start_time": "2024-05-21T18:14:49.596Z"
   },
   {
    "duration": 23,
    "start_time": "2024-05-21T18:14:49.834Z"
   },
   {
    "duration": 291,
    "start_time": "2024-05-21T18:14:49.859Z"
   },
   {
    "duration": 11,
    "start_time": "2024-05-21T18:14:50.152Z"
   },
   {
    "duration": 207,
    "start_time": "2024-05-21T18:14:50.165Z"
   },
   {
    "duration": 9,
    "start_time": "2024-05-21T18:14:50.373Z"
   },
   {
    "duration": 147,
    "start_time": "2024-05-21T18:14:50.391Z"
   },
   {
    "duration": 80,
    "start_time": "2024-05-21T18:14:50.539Z"
   },
   {
    "duration": 28,
    "start_time": "2024-05-21T18:14:50.621Z"
   },
   {
    "duration": 10,
    "start_time": "2024-05-21T18:14:50.650Z"
   },
   {
    "duration": 149,
    "start_time": "2024-05-21T18:14:50.661Z"
   },
   {
    "duration": 10,
    "start_time": "2024-05-21T18:14:50.812Z"
   },
   {
    "duration": 488,
    "start_time": "2024-05-21T18:14:50.824Z"
   },
   {
    "duration": 6,
    "start_time": "2024-05-21T18:14:51.313Z"
   },
   {
    "duration": 26,
    "start_time": "2024-05-21T18:14:51.320Z"
   },
   {
    "duration": 43,
    "start_time": "2024-05-21T18:14:51.347Z"
   },
   {
    "duration": 6,
    "start_time": "2024-05-21T18:17:53.505Z"
   },
   {
    "duration": 54,
    "start_time": "2024-05-21T18:18:32.746Z"
   },
   {
    "duration": 445,
    "start_time": "2024-05-21T19:34:35.561Z"
   },
   {
    "duration": 2,
    "start_time": "2024-05-21T19:34:36.008Z"
   },
   {
    "duration": 406,
    "start_time": "2024-05-21T19:34:36.012Z"
   },
   {
    "duration": 104,
    "start_time": "2024-05-21T19:34:36.420Z"
   },
   {
    "duration": 139,
    "start_time": "2024-05-21T19:34:36.525Z"
   },
   {
    "duration": 70,
    "start_time": "2024-05-21T19:34:36.665Z"
   },
   {
    "duration": 23,
    "start_time": "2024-05-21T19:34:36.736Z"
   },
   {
    "duration": 17,
    "start_time": "2024-05-21T19:34:36.761Z"
   },
   {
    "duration": 17,
    "start_time": "2024-05-21T19:34:36.780Z"
   },
   {
    "duration": 7,
    "start_time": "2024-05-21T19:34:36.799Z"
   },
   {
    "duration": 21,
    "start_time": "2024-05-21T19:34:36.808Z"
   },
   {
    "duration": 4,
    "start_time": "2024-05-21T19:34:36.831Z"
   },
   {
    "duration": 10,
    "start_time": "2024-05-21T19:34:36.837Z"
   },
   {
    "duration": 8,
    "start_time": "2024-05-21T19:34:36.869Z"
   },
   {
    "duration": 16,
    "start_time": "2024-05-21T19:34:36.879Z"
   },
   {
    "duration": 23,
    "start_time": "2024-05-21T19:34:36.897Z"
   },
   {
    "duration": 14,
    "start_time": "2024-05-21T19:34:36.922Z"
   },
   {
    "duration": 26,
    "start_time": "2024-05-21T19:34:36.938Z"
   },
   {
    "duration": 5,
    "start_time": "2024-05-21T19:34:36.966Z"
   },
   {
    "duration": 11,
    "start_time": "2024-05-21T19:34:36.973Z"
   },
   {
    "duration": 15,
    "start_time": "2024-05-21T19:34:36.986Z"
   },
   {
    "duration": 5,
    "start_time": "2024-05-21T19:34:37.002Z"
   },
   {
    "duration": 5,
    "start_time": "2024-05-21T19:34:37.009Z"
   },
   {
    "duration": 6,
    "start_time": "2024-05-21T19:34:37.016Z"
   },
   {
    "duration": 8,
    "start_time": "2024-05-21T19:34:37.023Z"
   },
   {
    "duration": 172,
    "start_time": "2024-05-21T19:34:37.033Z"
   },
   {
    "duration": 4,
    "start_time": "2024-05-21T19:34:37.206Z"
   },
   {
    "duration": 5,
    "start_time": "2024-05-21T19:34:37.213Z"
   },
   {
    "duration": 5,
    "start_time": "2024-05-21T19:34:37.220Z"
   },
   {
    "duration": 134,
    "start_time": "2024-05-21T19:34:37.227Z"
   },
   {
    "duration": 14,
    "start_time": "2024-05-21T19:34:37.363Z"
   },
   {
    "duration": 38,
    "start_time": "2024-05-21T19:34:37.379Z"
   },
   {
    "duration": 192,
    "start_time": "2024-05-21T19:34:37.418Z"
   },
   {
    "duration": 8,
    "start_time": "2024-05-21T19:34:37.611Z"
   },
   {
    "duration": 303,
    "start_time": "2024-05-21T19:34:37.620Z"
   },
   {
    "duration": 8,
    "start_time": "2024-05-21T19:34:37.925Z"
   },
   {
    "duration": 182,
    "start_time": "2024-05-21T19:34:37.935Z"
   },
   {
    "duration": 8,
    "start_time": "2024-05-21T19:34:38.118Z"
   },
   {
    "duration": 11,
    "start_time": "2024-05-21T19:34:38.128Z"
   },
   {
    "duration": 11,
    "start_time": "2024-05-21T19:34:38.141Z"
   },
   {
    "duration": 24,
    "start_time": "2024-05-21T19:34:38.153Z"
   },
   {
    "duration": 18,
    "start_time": "2024-05-21T19:34:38.179Z"
   },
   {
    "duration": 13,
    "start_time": "2024-05-21T19:34:38.198Z"
   },
   {
    "duration": 9,
    "start_time": "2024-05-21T19:34:38.212Z"
   },
   {
    "duration": 13,
    "start_time": "2024-05-21T19:34:38.222Z"
   },
   {
    "duration": 34,
    "start_time": "2024-05-21T19:34:38.237Z"
   },
   {
    "duration": 13,
    "start_time": "2024-05-21T19:34:38.272Z"
   },
   {
    "duration": 262,
    "start_time": "2024-05-21T19:34:38.287Z"
   },
   {
    "duration": 9,
    "start_time": "2024-05-21T19:34:38.550Z"
   },
   {
    "duration": 184,
    "start_time": "2024-05-21T19:34:38.560Z"
   },
   {
    "duration": 8,
    "start_time": "2024-05-21T19:34:38.746Z"
   },
   {
    "duration": 15,
    "start_time": "2024-05-21T19:34:38.756Z"
   },
   {
    "duration": 16,
    "start_time": "2024-05-21T19:34:38.773Z"
   },
   {
    "duration": 278,
    "start_time": "2024-05-21T19:34:38.791Z"
   },
   {
    "duration": 9,
    "start_time": "2024-05-21T19:34:39.071Z"
   },
   {
    "duration": 194,
    "start_time": "2024-05-21T19:34:39.082Z"
   },
   {
    "duration": 9,
    "start_time": "2024-05-21T19:34:39.278Z"
   },
   {
    "duration": 23,
    "start_time": "2024-05-21T19:34:39.289Z"
   },
   {
    "duration": 3,
    "start_time": "2024-05-21T19:34:39.314Z"
   },
   {
    "duration": 20,
    "start_time": "2024-05-21T19:34:39.318Z"
   },
   {
    "duration": 8,
    "start_time": "2024-05-21T19:34:39.340Z"
   },
   {
    "duration": 170,
    "start_time": "2024-05-21T19:34:39.350Z"
   },
   {
    "duration": 10,
    "start_time": "2024-05-21T19:34:39.522Z"
   },
   {
    "duration": 650,
    "start_time": "2024-05-21T19:34:39.533Z"
   },
   {
    "duration": 5,
    "start_time": "2024-05-21T19:34:40.185Z"
   },
   {
    "duration": 8,
    "start_time": "2024-05-21T19:34:40.191Z"
   },
   {
    "duration": 14,
    "start_time": "2024-05-21T19:34:40.201Z"
   },
   {
    "duration": 50,
    "start_time": "2024-10-22T15:26:59.805Z"
   }
  ],
  "kernelspec": {
   "display_name": "Python 3 (ipykernel)",
   "language": "python",
   "name": "python3"
  },
  "language_info": {
   "codemirror_mode": {
    "name": "ipython",
    "version": 3
   },
   "file_extension": ".py",
   "mimetype": "text/x-python",
   "name": "python",
   "nbconvert_exporter": "python",
   "pygments_lexer": "ipython3",
   "version": "3.9.5"
  },
  "toc": {
   "base_numbering": 1,
   "nav_menu": {},
   "number_sections": true,
   "sideBar": true,
   "skip_h1_title": true,
   "title_cell": "Table of Contents",
   "title_sidebar": "Contents",
   "toc_cell": false,
   "toc_position": {},
   "toc_section_display": true,
   "toc_window_display": false
  }
 },
 "nbformat": 4,
 "nbformat_minor": 5
}
