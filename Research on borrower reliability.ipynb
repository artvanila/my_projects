{
 "cells": [
  {
   "cell_type": "markdown",
   "id": "96c30d48",
   "metadata": {},
   "source": [
    "<b>Привет!</b>\n",
    "\n",
    "Меня зовут Харочкина Екатерина, и я буду проверять твой проект. Давай общаться на «ты», но если это неудобно, пожалуйста, сообщи. Моя основная цель — не указать на совершенные тобою ошибки, а поделиться своим опытом и помочь тебе совершенствоваться как профессионалу.\n",
    "\n",
    "Ты подготовил замечательный проект, но есть аспекты, которые еще можно улучшить. Я буду использовать комментарии с цветовой разметкой. Пожалуйста, **не перемещай, не изменяй и не удаляй их**. Это поможет выполнить повторную проверку твоего проекта оперативнее.\n",
    "\n",
    "<div class=\"alert alert-danger\">\n",
    "<b>Комментарий ревьюера №1</b> ❌\n",
    "    \n",
    "Таким комментарием выделены самые важные замечания. Без их отработки проект не будет принят.\n",
    "</div>\n",
    "\n",
    "<div class=\"alert alert-warning\">\n",
    "<b>Комментарий ревьюера №1</b> ⚠️\n",
    "    \n",
    "Таким комментарием выделены небольшие замечания и рекомендации, которые будет хорошо учесть.\n",
    "</div>\n",
    "\n",
    "<div class=\"alert alert-success\">\n",
    "<b>Комментарий ревьюера №1</b> ✅\n",
    "    \n",
    "Таким комментарием выделены удачные решения🙂\n",
    "</div>\n",
    "\n",
    "Свои комментарии ты можешь помечать синим цветом.\n",
    "\n",
    "<div class=\"alert alert-info\">\n",
    "<b>Комментарий студента №1</b>\n",
    "    \n",
    "Так ты можешь оформить свой комментарий\n",
    "</div>\n",
    "\n",
    "Давай работать над проектом в диалоге: если ты **что-то меняешь** в проекте по моим рекомендациям — **пиши об этом**. После того, как ты все доработаешь, я смогу принять твой проект!) "
   ]
  },
  {
   "cell_type": "markdown",
   "id": "386f2ae7",
   "metadata": {
    "deletable": false,
    "editable": false,
    "id": "386f2ae7"
   },
   "source": [
    "# Исследование надежности заемщиков\n"
   ]
  },
  {
   "cell_type": "markdown",
   "id": "bdee5de1",
   "metadata": {},
   "source": [
    "<div class=\"alert alert-success\">\n",
    "<b>Комментарий ревьюера №1</b> ✅\n",
    "    \n",
    "Хорошая практика начинать проект с контекста, описания задачи, возможного хода исследования, а также описания имеющихся данных. Можно тут также добавить содержание с гиперссылками. Про оформление работы можно почитать в материалах курса:\n",
    "    \n",
    "`Полезные инструкции для учёбы - Оформление проекта - Рекомендации по выполнению проектов`\n",
    "</div>"
   ]
  },
  {
   "cell_type": "markdown",
   "id": "ffe86f65",
   "metadata": {
    "deletable": false,
    "editable": false,
    "id": "ffe86f65"
   },
   "source": [
    "Во второй части проекта вы выполните шаги 3 и 4. Их вручную проверит ревьюер.\n",
    "Чтобы вам не пришлось писать код заново для шагов 1 и 2, мы добавили авторские решения в ячейки с кодом. \n",
    "\n"
   ]
  },
  {
   "cell_type": "markdown",
   "id": "26613308",
   "metadata": {
    "deletable": false,
    "editable": false,
    "id": "26613308"
   },
   "source": [
    "## Откройте таблицу и изучите общую информацию о данных"
   ]
  },
  {
   "cell_type": "markdown",
   "id": "3c9f838e",
   "metadata": {
    "deletable": false,
    "editable": false,
    "id": "3c9f838e"
   },
   "source": [
    "**Задание 1. Импортируйте библиотеку pandas. Считайте данные из csv-файла в датафрейм и сохраните в переменную `data`. Путь к файлу:**\n",
    "\n",
    "`/datasets/data.csv`"
   ]
  },
  {
   "cell_type": "code",
   "execution_count": 1,
   "id": "77a68a90",
   "metadata": {
    "deletable": false,
    "id": "77a68a90"
   },
   "outputs": [],
   "source": [
    "import pandas as pd\n",
    "\n",
    "try:\n",
    "    data = pd.read_csv('/datasets/data.csv')\n",
    "except:\n",
    "    data = pd.read_csv('https://code.s3.yandex.net/datasets/data.csv')"
   ]
  },
  {
   "cell_type": "markdown",
   "id": "45365635",
   "metadata": {
    "deletable": false,
    "editable": false,
    "id": "45365635"
   },
   "source": [
    "**Задание 2. Выведите первые 20 строчек датафрейма `data` на экран.**"
   ]
  },
  {
   "cell_type": "code",
   "execution_count": 2,
   "id": "b0451a9a",
   "metadata": {
    "deletable": false,
    "id": "b0451a9a",
    "outputId": "1a8f3ef2-d323-4ec2-ddf7-89670b5944c4"
   },
   "outputs": [
    {
     "data": {
      "text/html": [
       "<div>\n",
       "<style scoped>\n",
       "    .dataframe tbody tr th:only-of-type {\n",
       "        vertical-align: middle;\n",
       "    }\n",
       "\n",
       "    .dataframe tbody tr th {\n",
       "        vertical-align: top;\n",
       "    }\n",
       "\n",
       "    .dataframe thead th {\n",
       "        text-align: right;\n",
       "    }\n",
       "</style>\n",
       "<table border=\"1\" class=\"dataframe\">\n",
       "  <thead>\n",
       "    <tr style=\"text-align: right;\">\n",
       "      <th></th>\n",
       "      <th>children</th>\n",
       "      <th>days_employed</th>\n",
       "      <th>dob_years</th>\n",
       "      <th>education</th>\n",
       "      <th>education_id</th>\n",
       "      <th>family_status</th>\n",
       "      <th>family_status_id</th>\n",
       "      <th>gender</th>\n",
       "      <th>income_type</th>\n",
       "      <th>debt</th>\n",
       "      <th>total_income</th>\n",
       "      <th>purpose</th>\n",
       "    </tr>\n",
       "  </thead>\n",
       "  <tbody>\n",
       "    <tr>\n",
       "      <th>0</th>\n",
       "      <td>1</td>\n",
       "      <td>-8437.673028</td>\n",
       "      <td>42</td>\n",
       "      <td>высшее</td>\n",
       "      <td>0</td>\n",
       "      <td>женат / замужем</td>\n",
       "      <td>0</td>\n",
       "      <td>F</td>\n",
       "      <td>сотрудник</td>\n",
       "      <td>0</td>\n",
       "      <td>253875.639453</td>\n",
       "      <td>покупка жилья</td>\n",
       "    </tr>\n",
       "    <tr>\n",
       "      <th>1</th>\n",
       "      <td>1</td>\n",
       "      <td>-4024.803754</td>\n",
       "      <td>36</td>\n",
       "      <td>среднее</td>\n",
       "      <td>1</td>\n",
       "      <td>женат / замужем</td>\n",
       "      <td>0</td>\n",
       "      <td>F</td>\n",
       "      <td>сотрудник</td>\n",
       "      <td>0</td>\n",
       "      <td>112080.014102</td>\n",
       "      <td>приобретение автомобиля</td>\n",
       "    </tr>\n",
       "    <tr>\n",
       "      <th>2</th>\n",
       "      <td>0</td>\n",
       "      <td>-5623.422610</td>\n",
       "      <td>33</td>\n",
       "      <td>Среднее</td>\n",
       "      <td>1</td>\n",
       "      <td>женат / замужем</td>\n",
       "      <td>0</td>\n",
       "      <td>M</td>\n",
       "      <td>сотрудник</td>\n",
       "      <td>0</td>\n",
       "      <td>145885.952297</td>\n",
       "      <td>покупка жилья</td>\n",
       "    </tr>\n",
       "    <tr>\n",
       "      <th>3</th>\n",
       "      <td>3</td>\n",
       "      <td>-4124.747207</td>\n",
       "      <td>32</td>\n",
       "      <td>среднее</td>\n",
       "      <td>1</td>\n",
       "      <td>женат / замужем</td>\n",
       "      <td>0</td>\n",
       "      <td>M</td>\n",
       "      <td>сотрудник</td>\n",
       "      <td>0</td>\n",
       "      <td>267628.550329</td>\n",
       "      <td>дополнительное образование</td>\n",
       "    </tr>\n",
       "    <tr>\n",
       "      <th>4</th>\n",
       "      <td>0</td>\n",
       "      <td>340266.072047</td>\n",
       "      <td>53</td>\n",
       "      <td>среднее</td>\n",
       "      <td>1</td>\n",
       "      <td>гражданский брак</td>\n",
       "      <td>1</td>\n",
       "      <td>F</td>\n",
       "      <td>пенсионер</td>\n",
       "      <td>0</td>\n",
       "      <td>158616.077870</td>\n",
       "      <td>сыграть свадьбу</td>\n",
       "    </tr>\n",
       "    <tr>\n",
       "      <th>5</th>\n",
       "      <td>0</td>\n",
       "      <td>-926.185831</td>\n",
       "      <td>27</td>\n",
       "      <td>высшее</td>\n",
       "      <td>0</td>\n",
       "      <td>гражданский брак</td>\n",
       "      <td>1</td>\n",
       "      <td>M</td>\n",
       "      <td>компаньон</td>\n",
       "      <td>0</td>\n",
       "      <td>255763.565419</td>\n",
       "      <td>покупка жилья</td>\n",
       "    </tr>\n",
       "    <tr>\n",
       "      <th>6</th>\n",
       "      <td>0</td>\n",
       "      <td>-2879.202052</td>\n",
       "      <td>43</td>\n",
       "      <td>высшее</td>\n",
       "      <td>0</td>\n",
       "      <td>женат / замужем</td>\n",
       "      <td>0</td>\n",
       "      <td>F</td>\n",
       "      <td>компаньон</td>\n",
       "      <td>0</td>\n",
       "      <td>240525.971920</td>\n",
       "      <td>операции с жильем</td>\n",
       "    </tr>\n",
       "    <tr>\n",
       "      <th>7</th>\n",
       "      <td>0</td>\n",
       "      <td>-152.779569</td>\n",
       "      <td>50</td>\n",
       "      <td>СРЕДНЕЕ</td>\n",
       "      <td>1</td>\n",
       "      <td>женат / замужем</td>\n",
       "      <td>0</td>\n",
       "      <td>M</td>\n",
       "      <td>сотрудник</td>\n",
       "      <td>0</td>\n",
       "      <td>135823.934197</td>\n",
       "      <td>образование</td>\n",
       "    </tr>\n",
       "    <tr>\n",
       "      <th>8</th>\n",
       "      <td>2</td>\n",
       "      <td>-6929.865299</td>\n",
       "      <td>35</td>\n",
       "      <td>ВЫСШЕЕ</td>\n",
       "      <td>0</td>\n",
       "      <td>гражданский брак</td>\n",
       "      <td>1</td>\n",
       "      <td>F</td>\n",
       "      <td>сотрудник</td>\n",
       "      <td>0</td>\n",
       "      <td>95856.832424</td>\n",
       "      <td>на проведение свадьбы</td>\n",
       "    </tr>\n",
       "    <tr>\n",
       "      <th>9</th>\n",
       "      <td>0</td>\n",
       "      <td>-2188.756445</td>\n",
       "      <td>41</td>\n",
       "      <td>среднее</td>\n",
       "      <td>1</td>\n",
       "      <td>женат / замужем</td>\n",
       "      <td>0</td>\n",
       "      <td>M</td>\n",
       "      <td>сотрудник</td>\n",
       "      <td>0</td>\n",
       "      <td>144425.938277</td>\n",
       "      <td>покупка жилья для семьи</td>\n",
       "    </tr>\n",
       "    <tr>\n",
       "      <th>10</th>\n",
       "      <td>2</td>\n",
       "      <td>-4171.483647</td>\n",
       "      <td>36</td>\n",
       "      <td>высшее</td>\n",
       "      <td>0</td>\n",
       "      <td>женат / замужем</td>\n",
       "      <td>0</td>\n",
       "      <td>M</td>\n",
       "      <td>компаньон</td>\n",
       "      <td>0</td>\n",
       "      <td>113943.491460</td>\n",
       "      <td>покупка недвижимости</td>\n",
       "    </tr>\n",
       "    <tr>\n",
       "      <th>11</th>\n",
       "      <td>0</td>\n",
       "      <td>-792.701887</td>\n",
       "      <td>40</td>\n",
       "      <td>среднее</td>\n",
       "      <td>1</td>\n",
       "      <td>женат / замужем</td>\n",
       "      <td>0</td>\n",
       "      <td>F</td>\n",
       "      <td>сотрудник</td>\n",
       "      <td>0</td>\n",
       "      <td>77069.234271</td>\n",
       "      <td>покупка коммерческой недвижимости</td>\n",
       "    </tr>\n",
       "    <tr>\n",
       "      <th>12</th>\n",
       "      <td>0</td>\n",
       "      <td>NaN</td>\n",
       "      <td>65</td>\n",
       "      <td>среднее</td>\n",
       "      <td>1</td>\n",
       "      <td>гражданский брак</td>\n",
       "      <td>1</td>\n",
       "      <td>M</td>\n",
       "      <td>пенсионер</td>\n",
       "      <td>0</td>\n",
       "      <td>NaN</td>\n",
       "      <td>сыграть свадьбу</td>\n",
       "    </tr>\n",
       "    <tr>\n",
       "      <th>13</th>\n",
       "      <td>0</td>\n",
       "      <td>-1846.641941</td>\n",
       "      <td>54</td>\n",
       "      <td>неоконченное высшее</td>\n",
       "      <td>2</td>\n",
       "      <td>женат / замужем</td>\n",
       "      <td>0</td>\n",
       "      <td>F</td>\n",
       "      <td>сотрудник</td>\n",
       "      <td>0</td>\n",
       "      <td>130458.228857</td>\n",
       "      <td>приобретение автомобиля</td>\n",
       "    </tr>\n",
       "    <tr>\n",
       "      <th>14</th>\n",
       "      <td>0</td>\n",
       "      <td>-1844.956182</td>\n",
       "      <td>56</td>\n",
       "      <td>высшее</td>\n",
       "      <td>0</td>\n",
       "      <td>гражданский брак</td>\n",
       "      <td>1</td>\n",
       "      <td>F</td>\n",
       "      <td>компаньон</td>\n",
       "      <td>1</td>\n",
       "      <td>165127.911772</td>\n",
       "      <td>покупка жилой недвижимости</td>\n",
       "    </tr>\n",
       "    <tr>\n",
       "      <th>15</th>\n",
       "      <td>1</td>\n",
       "      <td>-972.364419</td>\n",
       "      <td>26</td>\n",
       "      <td>среднее</td>\n",
       "      <td>1</td>\n",
       "      <td>женат / замужем</td>\n",
       "      <td>0</td>\n",
       "      <td>F</td>\n",
       "      <td>сотрудник</td>\n",
       "      <td>0</td>\n",
       "      <td>116820.904450</td>\n",
       "      <td>строительство собственной недвижимости</td>\n",
       "    </tr>\n",
       "    <tr>\n",
       "      <th>16</th>\n",
       "      <td>0</td>\n",
       "      <td>-1719.934226</td>\n",
       "      <td>35</td>\n",
       "      <td>среднее</td>\n",
       "      <td>1</td>\n",
       "      <td>женат / замужем</td>\n",
       "      <td>0</td>\n",
       "      <td>F</td>\n",
       "      <td>сотрудник</td>\n",
       "      <td>0</td>\n",
       "      <td>289202.704229</td>\n",
       "      <td>недвижимость</td>\n",
       "    </tr>\n",
       "    <tr>\n",
       "      <th>17</th>\n",
       "      <td>0</td>\n",
       "      <td>-2369.999720</td>\n",
       "      <td>33</td>\n",
       "      <td>высшее</td>\n",
       "      <td>0</td>\n",
       "      <td>гражданский брак</td>\n",
       "      <td>1</td>\n",
       "      <td>M</td>\n",
       "      <td>сотрудник</td>\n",
       "      <td>0</td>\n",
       "      <td>90410.586745</td>\n",
       "      <td>строительство недвижимости</td>\n",
       "    </tr>\n",
       "    <tr>\n",
       "      <th>18</th>\n",
       "      <td>0</td>\n",
       "      <td>400281.136913</td>\n",
       "      <td>53</td>\n",
       "      <td>среднее</td>\n",
       "      <td>1</td>\n",
       "      <td>вдовец / вдова</td>\n",
       "      <td>2</td>\n",
       "      <td>F</td>\n",
       "      <td>пенсионер</td>\n",
       "      <td>0</td>\n",
       "      <td>56823.777243</td>\n",
       "      <td>на покупку подержанного автомобиля</td>\n",
       "    </tr>\n",
       "    <tr>\n",
       "      <th>19</th>\n",
       "      <td>0</td>\n",
       "      <td>-10038.818549</td>\n",
       "      <td>48</td>\n",
       "      <td>СРЕДНЕЕ</td>\n",
       "      <td>1</td>\n",
       "      <td>в разводе</td>\n",
       "      <td>3</td>\n",
       "      <td>F</td>\n",
       "      <td>сотрудник</td>\n",
       "      <td>0</td>\n",
       "      <td>242831.107982</td>\n",
       "      <td>на покупку своего автомобиля</td>\n",
       "    </tr>\n",
       "  </tbody>\n",
       "</table>\n",
       "</div>"
      ],
      "text/plain": [
       "    children  days_employed  dob_years            education  education_id  \\\n",
       "0          1   -8437.673028         42               высшее             0   \n",
       "1          1   -4024.803754         36              среднее             1   \n",
       "2          0   -5623.422610         33              Среднее             1   \n",
       "3          3   -4124.747207         32              среднее             1   \n",
       "4          0  340266.072047         53              среднее             1   \n",
       "5          0    -926.185831         27               высшее             0   \n",
       "6          0   -2879.202052         43               высшее             0   \n",
       "7          0    -152.779569         50              СРЕДНЕЕ             1   \n",
       "8          2   -6929.865299         35               ВЫСШЕЕ             0   \n",
       "9          0   -2188.756445         41              среднее             1   \n",
       "10         2   -4171.483647         36               высшее             0   \n",
       "11         0    -792.701887         40              среднее             1   \n",
       "12         0            NaN         65              среднее             1   \n",
       "13         0   -1846.641941         54  неоконченное высшее             2   \n",
       "14         0   -1844.956182         56               высшее             0   \n",
       "15         1    -972.364419         26              среднее             1   \n",
       "16         0   -1719.934226         35              среднее             1   \n",
       "17         0   -2369.999720         33               высшее             0   \n",
       "18         0  400281.136913         53              среднее             1   \n",
       "19         0  -10038.818549         48              СРЕДНЕЕ             1   \n",
       "\n",
       "       family_status  family_status_id gender income_type  debt  \\\n",
       "0    женат / замужем                 0      F   сотрудник     0   \n",
       "1    женат / замужем                 0      F   сотрудник     0   \n",
       "2    женат / замужем                 0      M   сотрудник     0   \n",
       "3    женат / замужем                 0      M   сотрудник     0   \n",
       "4   гражданский брак                 1      F   пенсионер     0   \n",
       "5   гражданский брак                 1      M   компаньон     0   \n",
       "6    женат / замужем                 0      F   компаньон     0   \n",
       "7    женат / замужем                 0      M   сотрудник     0   \n",
       "8   гражданский брак                 1      F   сотрудник     0   \n",
       "9    женат / замужем                 0      M   сотрудник     0   \n",
       "10   женат / замужем                 0      M   компаньон     0   \n",
       "11   женат / замужем                 0      F   сотрудник     0   \n",
       "12  гражданский брак                 1      M   пенсионер     0   \n",
       "13   женат / замужем                 0      F   сотрудник     0   \n",
       "14  гражданский брак                 1      F   компаньон     1   \n",
       "15   женат / замужем                 0      F   сотрудник     0   \n",
       "16   женат / замужем                 0      F   сотрудник     0   \n",
       "17  гражданский брак                 1      M   сотрудник     0   \n",
       "18    вдовец / вдова                 2      F   пенсионер     0   \n",
       "19         в разводе                 3      F   сотрудник     0   \n",
       "\n",
       "     total_income                                 purpose  \n",
       "0   253875.639453                           покупка жилья  \n",
       "1   112080.014102                 приобретение автомобиля  \n",
       "2   145885.952297                           покупка жилья  \n",
       "3   267628.550329              дополнительное образование  \n",
       "4   158616.077870                         сыграть свадьбу  \n",
       "5   255763.565419                           покупка жилья  \n",
       "6   240525.971920                       операции с жильем  \n",
       "7   135823.934197                             образование  \n",
       "8    95856.832424                   на проведение свадьбы  \n",
       "9   144425.938277                 покупка жилья для семьи  \n",
       "10  113943.491460                    покупка недвижимости  \n",
       "11   77069.234271       покупка коммерческой недвижимости  \n",
       "12            NaN                         сыграть свадьбу  \n",
       "13  130458.228857                 приобретение автомобиля  \n",
       "14  165127.911772              покупка жилой недвижимости  \n",
       "15  116820.904450  строительство собственной недвижимости  \n",
       "16  289202.704229                            недвижимость  \n",
       "17   90410.586745              строительство недвижимости  \n",
       "18   56823.777243      на покупку подержанного автомобиля  \n",
       "19  242831.107982            на покупку своего автомобиля  "
      ]
     },
     "execution_count": 2,
     "metadata": {},
     "output_type": "execute_result"
    }
   ],
   "source": [
    "data.head(20)"
   ]
  },
  {
   "cell_type": "markdown",
   "id": "0ed8f27f",
   "metadata": {
    "deletable": false,
    "editable": false,
    "id": "0ed8f27f"
   },
   "source": [
    "**Задание 3. Выведите основную информацию о датафрейме с помощью метода `info()`.**"
   ]
  },
  {
   "cell_type": "code",
   "execution_count": 3,
   "id": "ab3f863b",
   "metadata": {
    "deletable": false,
    "id": "ab3f863b",
    "outputId": "15376089-8dad-46c9-b520-c05248d43158"
   },
   "outputs": [
    {
     "name": "stdout",
     "output_type": "stream",
     "text": [
      "<class 'pandas.core.frame.DataFrame'>\n",
      "RangeIndex: 21525 entries, 0 to 21524\n",
      "Data columns (total 12 columns):\n",
      " #   Column            Non-Null Count  Dtype  \n",
      "---  ------            --------------  -----  \n",
      " 0   children          21525 non-null  int64  \n",
      " 1   days_employed     19351 non-null  float64\n",
      " 2   dob_years         21525 non-null  int64  \n",
      " 3   education         21525 non-null  object \n",
      " 4   education_id      21525 non-null  int64  \n",
      " 5   family_status     21525 non-null  object \n",
      " 6   family_status_id  21525 non-null  int64  \n",
      " 7   gender            21525 non-null  object \n",
      " 8   income_type       21525 non-null  object \n",
      " 9   debt              21525 non-null  int64  \n",
      " 10  total_income      19351 non-null  float64\n",
      " 11  purpose           21525 non-null  object \n",
      "dtypes: float64(2), int64(5), object(5)\n",
      "memory usage: 2.0+ MB\n"
     ]
    }
   ],
   "source": [
    "data.info()"
   ]
  },
  {
   "cell_type": "markdown",
   "id": "fbb4cad1",
   "metadata": {},
   "source": [
    "<div class=\"alert alert-success\">\n",
    "<b>Комментарий ревьюера №1</b> ✅\n",
    "    \n",
    "Разделы работы можно заканчивать промежуточными выводами\n",
    "</div>"
   ]
  },
  {
   "cell_type": "markdown",
   "id": "60e3e22d",
   "metadata": {
    "deletable": false,
    "editable": false,
    "id": "60e3e22d"
   },
   "source": [
    "## Предобработка данных"
   ]
  },
  {
   "cell_type": "markdown",
   "id": "03dc170c",
   "metadata": {
    "deletable": false,
    "editable": false,
    "id": "03dc170c"
   },
   "source": [
    "### Удаление пропусков"
   ]
  },
  {
   "cell_type": "markdown",
   "id": "a4f54eef",
   "metadata": {
    "deletable": false,
    "editable": false,
    "id": "a4f54eef"
   },
   "source": [
    "**Задание 4. Выведите количество пропущенных значений для каждого столбца. Используйте комбинацию двух методов.**"
   ]
  },
  {
   "cell_type": "code",
   "execution_count": 4,
   "id": "2dc372b2",
   "metadata": {
    "deletable": false,
    "id": "2dc372b2",
    "outputId": "81f4d817-781c-465c-ed15-91ce4446810d"
   },
   "outputs": [
    {
     "data": {
      "text/plain": [
       "children               0\n",
       "days_employed       2174\n",
       "dob_years              0\n",
       "education              0\n",
       "education_id           0\n",
       "family_status          0\n",
       "family_status_id       0\n",
       "gender                 0\n",
       "income_type            0\n",
       "debt                   0\n",
       "total_income        2174\n",
       "purpose                0\n",
       "dtype: int64"
      ]
     },
     "execution_count": 4,
     "metadata": {},
     "output_type": "execute_result"
    }
   ],
   "source": [
    "data.isna().sum()"
   ]
  },
  {
   "cell_type": "markdown",
   "id": "14f011b1",
   "metadata": {
    "deletable": false,
    "editable": false,
    "id": "14f011b1"
   },
   "source": [
    "**Задание 5. В двух столбцах есть пропущенные значения. Один из них — `days_employed`. Пропуски в этом столбце вы обработаете на следующем этапе. Другой столбец с пропущенными значениями — `total_income` — хранит данные о доходах. На сумму дохода сильнее всего влияет тип занятости, поэтому заполнить пропуски в этом столбце нужно медианным значением по каждому типу из столбца `income_type`. Например, у человека с типом занятости `сотрудник` пропуск в столбце `total_income` должен быть заполнен медианным доходом среди всех записей с тем же типом.**"
   ]
  },
  {
   "cell_type": "code",
   "execution_count": 5,
   "id": "bdabfb6e",
   "metadata": {
    "deletable": false,
    "id": "bdabfb6e"
   },
   "outputs": [],
   "source": [
    "for t in data['income_type'].unique():\n",
    "    data.loc[(data['income_type'] == t) & (data['total_income'].isna()), 'total_income'] = \\\n",
    "    data.loc[(data['income_type'] == t), 'total_income'].median()"
   ]
  },
  {
   "cell_type": "markdown",
   "id": "5be34059",
   "metadata": {
    "deletable": false,
    "editable": false,
    "id": "5be34059"
   },
   "source": [
    "### Обработка аномальных значений"
   ]
  },
  {
   "cell_type": "markdown",
   "id": "a87606cb",
   "metadata": {
    "deletable": false,
    "editable": false,
    "id": "a87606cb"
   },
   "source": [
    "**Задание 6. В данных могут встречаться артефакты (аномалии) — значения, которые не отражают действительность и появились по какой-то ошибке. таким артефактом будет отрицательное количество дней трудового стажа в столбце `days_employed`. Для реальных данных это нормально. Обработайте значения в этом столбце: замените все отрицательные значения положительными с помощью метода `abs()`.**"
   ]
  },
  {
   "cell_type": "code",
   "execution_count": 6,
   "id": "020c46cc",
   "metadata": {
    "deletable": false,
    "id": "020c46cc"
   },
   "outputs": [],
   "source": [
    "data['days_employed'] = data['days_employed'].abs()"
   ]
  },
  {
   "cell_type": "markdown",
   "id": "45538a3a",
   "metadata": {
    "deletable": false,
    "editable": false,
    "id": "45538a3a"
   },
   "source": [
    "**Задание 7. Для каждого типа занятости выведите медианное значение трудового стажа `days_employed` в днях.**"
   ]
  },
  {
   "cell_type": "code",
   "execution_count": 7,
   "id": "cd3e6328",
   "metadata": {
    "deletable": false,
    "id": "cd3e6328",
    "outputId": "801ef80e-522b-4668-f34e-565af7432bcf"
   },
   "outputs": [
    {
     "data": {
      "text/plain": [
       "income_type\n",
       "безработный        366413.652744\n",
       "в декрете            3296.759962\n",
       "госслужащий          2689.368353\n",
       "компаньон            1547.382223\n",
       "пенсионер          365213.306266\n",
       "предприниматель       520.848083\n",
       "сотрудник            1574.202821\n",
       "студент               578.751554\n",
       "Name: days_employed, dtype: float64"
      ]
     },
     "execution_count": 7,
     "metadata": {},
     "output_type": "execute_result"
    }
   ],
   "source": [
    "data.groupby('income_type')['days_employed'].agg('median')"
   ]
  },
  {
   "cell_type": "markdown",
   "id": "90c5f058",
   "metadata": {
    "deletable": false,
    "editable": false,
    "id": "90c5f058"
   },
   "source": [
    "У двух типов (безработные и пенсионеры) получатся аномально большие значения. Исправить такие значения сложно, поэтому оставьте их как есть."
   ]
  },
  {
   "cell_type": "markdown",
   "id": "9652e50d",
   "metadata": {
    "deletable": false,
    "editable": false,
    "id": "9652e50d"
   },
   "source": [
    "**Задание 8. Выведите перечень уникальных значений столбца `children`.**"
   ]
  },
  {
   "cell_type": "code",
   "execution_count": 8,
   "id": "dbb37b8e",
   "metadata": {
    "deletable": false,
    "id": "dbb37b8e",
    "outputId": "6975b15c-7f95-4697-d16d-a0c79b657b03"
   },
   "outputs": [
    {
     "data": {
      "text/plain": [
       "array([ 1,  0,  3,  2, -1,  4, 20,  5])"
      ]
     },
     "execution_count": 8,
     "metadata": {},
     "output_type": "execute_result"
    }
   ],
   "source": [
    "data['children'].unique()"
   ]
  },
  {
   "cell_type": "markdown",
   "id": "2b8b0715",
   "metadata": {
    "deletable": false,
    "editable": false,
    "id": "2b8b0715"
   },
   "source": [
    "**Задание 9. В столбце `children` есть два аномальных значения. Удалите строки, в которых встречаются такие аномальные значения из датафрейма `data`.**"
   ]
  },
  {
   "cell_type": "code",
   "execution_count": 9,
   "id": "20009df8",
   "metadata": {
    "deletable": false,
    "id": "20009df8"
   },
   "outputs": [],
   "source": [
    "data = data[(data['children'] != -1) & (data['children'] != 20)]"
   ]
  },
  {
   "cell_type": "markdown",
   "id": "8c6ac9f1",
   "metadata": {
    "deletable": false,
    "editable": false,
    "id": "8c6ac9f1"
   },
   "source": [
    "**Задание 10. Ещё раз выведите перечень уникальных значений столбца `children`, чтобы убедиться, что артефакты удалены.**"
   ]
  },
  {
   "cell_type": "code",
   "execution_count": 10,
   "id": "07337b81",
   "metadata": {
    "deletable": false,
    "id": "07337b81",
    "outputId": "b2097101-d49d-44d9-901b-32a65c9463d1"
   },
   "outputs": [
    {
     "data": {
      "text/plain": [
       "array([1, 0, 3, 2, 4, 5])"
      ]
     },
     "execution_count": 10,
     "metadata": {},
     "output_type": "execute_result"
    }
   ],
   "source": [
    "data['children'].unique()"
   ]
  },
  {
   "cell_type": "markdown",
   "id": "ee3f52d4",
   "metadata": {
    "deletable": false,
    "editable": false,
    "id": "ee3f52d4"
   },
   "source": [
    "### Удаление пропусков (продолжение)"
   ]
  },
  {
   "cell_type": "markdown",
   "id": "a700b0e4",
   "metadata": {
    "deletable": false,
    "editable": false,
    "id": "a700b0e4"
   },
   "source": [
    "**Задание 11. Заполните пропуски в столбце `days_employed` медианными значениями по каждого типа занятости `income_type`.**"
   ]
  },
  {
   "cell_type": "code",
   "execution_count": 11,
   "id": "61946b83",
   "metadata": {
    "deletable": false,
    "id": "61946b83"
   },
   "outputs": [],
   "source": [
    "for t in data['income_type'].unique():\n",
    "    data.loc[(data['income_type'] == t) & (data['days_employed'].isna()), 'days_employed'] = \\\n",
    "    data.loc[(data['income_type'] == t), 'days_employed'].median()"
   ]
  },
  {
   "cell_type": "markdown",
   "id": "550dcd9b",
   "metadata": {
    "deletable": false,
    "editable": false,
    "id": "550dcd9b"
   },
   "source": [
    "**Задание 12. Убедитесь, что все пропуски заполнены. Проверьте себя и ещё раз выведите количество пропущенных значений для каждого столбца с помощью двух методов.**"
   ]
  },
  {
   "cell_type": "code",
   "execution_count": 12,
   "id": "937c7014",
   "metadata": {
    "deletable": false,
    "id": "937c7014",
    "outputId": "8da1e4e1-358e-4e87-98c9-f261bce0a7b2"
   },
   "outputs": [
    {
     "data": {
      "text/plain": [
       "children            0\n",
       "days_employed       0\n",
       "dob_years           0\n",
       "education           0\n",
       "education_id        0\n",
       "family_status       0\n",
       "family_status_id    0\n",
       "gender              0\n",
       "income_type         0\n",
       "debt                0\n",
       "total_income        0\n",
       "purpose             0\n",
       "dtype: int64"
      ]
     },
     "execution_count": 12,
     "metadata": {},
     "output_type": "execute_result"
    }
   ],
   "source": [
    "data.isna().sum()"
   ]
  },
  {
   "cell_type": "markdown",
   "id": "d522e295",
   "metadata": {
    "deletable": false,
    "editable": false,
    "id": "d522e295"
   },
   "source": [
    "### Изменение типов данных"
   ]
  },
  {
   "cell_type": "markdown",
   "id": "c229c581",
   "metadata": {
    "deletable": false,
    "editable": false,
    "id": "c229c581"
   },
   "source": [
    "**Задание 13. Замените вещественный тип данных в столбце `total_income` на целочисленный с помощью метода `astype()`.**"
   ]
  },
  {
   "cell_type": "code",
   "execution_count": 13,
   "id": "31036462",
   "metadata": {
    "deletable": false,
    "id": "31036462"
   },
   "outputs": [],
   "source": [
    "data['total_income'] = data['total_income'].astype(int)"
   ]
  },
  {
   "cell_type": "markdown",
   "id": "b8e3d1d9",
   "metadata": {
    "deletable": false,
    "editable": false,
    "id": "b8e3d1d9"
   },
   "source": [
    "### Обработка дубликатов"
   ]
  },
  {
   "cell_type": "markdown",
   "id": "9be53c49",
   "metadata": {
    "deletable": false,
    "editable": false,
    "id": "9be53c49"
   },
   "source": [
    "**Задание 14. Обработайте неявные дубликаты в столбце `education`. В этом столбце есть одни и те же значения, но записанные по-разному: с использованием заглавных и строчных букв. Приведите их к нижнему регистру.**"
   ]
  },
  {
   "cell_type": "code",
   "execution_count": 14,
   "id": "d89e73e1",
   "metadata": {
    "deletable": false,
    "id": "d89e73e1"
   },
   "outputs": [],
   "source": [
    "data['education'] = data['education'].str.lower()"
   ]
  },
  {
   "cell_type": "markdown",
   "id": "01d4500e",
   "metadata": {
    "deletable": false,
    "editable": false,
    "id": "01d4500e"
   },
   "source": [
    "**Задание 15. Выведите на экран количество строк-дубликатов в данных. Если такие строки присутствуют, удалите их.**"
   ]
  },
  {
   "cell_type": "code",
   "execution_count": 15,
   "id": "e10efb23",
   "metadata": {
    "deletable": false,
    "id": "e10efb23",
    "outputId": "9684deba-1934-42d1-99e1-cda61740f822"
   },
   "outputs": [
    {
     "data": {
      "text/plain": [
       "71"
      ]
     },
     "execution_count": 15,
     "metadata": {},
     "output_type": "execute_result"
    }
   ],
   "source": [
    "data.duplicated().sum()"
   ]
  },
  {
   "cell_type": "code",
   "execution_count": 16,
   "id": "df853f20",
   "metadata": {
    "deletable": false,
    "id": "df853f20"
   },
   "outputs": [],
   "source": [
    "data = data.drop_duplicates()"
   ]
  },
  {
   "cell_type": "markdown",
   "id": "627be38f",
   "metadata": {
    "deletable": false,
    "editable": false,
    "id": "627be38f"
   },
   "source": [
    "### Категоризация данных"
   ]
  },
  {
   "cell_type": "markdown",
   "id": "4684c3e0",
   "metadata": {
    "deletable": false,
    "editable": false,
    "id": "4684c3e0"
   },
   "source": [
    "**Задание 16. На основании диапазонов, указанных ниже, создайте в датафрейме `data` столбец `total_income_category` с категориями:**\n",
    "\n",
    "- 0–30000 — `'E'`;\n",
    "- 30001–50000 — `'D'`;\n",
    "- 50001–200000 — `'C'`;\n",
    "- 200001–1000000 — `'B'`;\n",
    "- 1000001 и выше — `'A'`.\n",
    "\n",
    "\n",
    "**Например, кредитополучателю с доходом 25000 нужно назначить категорию `'E'`, а клиенту, получающему 235000, — `'B'`. Используйте собственную функцию с именем `categorize_income()` и метод `apply()`.**"
   ]
  },
  {
   "cell_type": "code",
   "execution_count": 17,
   "id": "78965238",
   "metadata": {
    "deletable": false,
    "id": "78965238"
   },
   "outputs": [],
   "source": [
    "def categorize_income(income):\n",
    "    try:\n",
    "        if 0 <= income <= 30000:\n",
    "            return 'E'\n",
    "        elif 30001 <= income <= 50000:\n",
    "            return 'D'\n",
    "        elif 50001 <= income <= 200000:\n",
    "            return 'C'\n",
    "        elif 200001 <= income <= 1000000:\n",
    "            return 'B'\n",
    "        elif income >= 1000001:\n",
    "            return 'A'\n",
    "    except:\n",
    "        pass"
   ]
  },
  {
   "cell_type": "code",
   "execution_count": 18,
   "id": "0980ada1",
   "metadata": {
    "deletable": false,
    "id": "0980ada1"
   },
   "outputs": [],
   "source": [
    "data['total_income_category'] = data['total_income'].apply(categorize_income)"
   ]
  },
  {
   "cell_type": "markdown",
   "id": "9917bba0",
   "metadata": {
    "deletable": false,
    "editable": false,
    "id": "9917bba0"
   },
   "source": [
    "**Задание 17. Выведите на экран перечень уникальных целей взятия кредита из столбца `purpose`.**"
   ]
  },
  {
   "cell_type": "code",
   "execution_count": 19,
   "id": "ee07b65e",
   "metadata": {
    "deletable": false,
    "id": "ee07b65e",
    "outputId": "673c12d9-7d7e-4ae0-9812-c622c89dd244"
   },
   "outputs": [
    {
     "data": {
      "text/plain": [
       "array(['покупка жилья', 'приобретение автомобиля',\n",
       "       'дополнительное образование', 'сыграть свадьбу',\n",
       "       'операции с жильем', 'образование', 'на проведение свадьбы',\n",
       "       'покупка жилья для семьи', 'покупка недвижимости',\n",
       "       'покупка коммерческой недвижимости', 'покупка жилой недвижимости',\n",
       "       'строительство собственной недвижимости', 'недвижимость',\n",
       "       'строительство недвижимости', 'на покупку подержанного автомобиля',\n",
       "       'на покупку своего автомобиля',\n",
       "       'операции с коммерческой недвижимостью',\n",
       "       'строительство жилой недвижимости', 'жилье',\n",
       "       'операции со своей недвижимостью', 'автомобили',\n",
       "       'заняться образованием', 'сделка с подержанным автомобилем',\n",
       "       'получение образования', 'автомобиль', 'свадьба',\n",
       "       'получение дополнительного образования', 'покупка своего жилья',\n",
       "       'операции с недвижимостью', 'получение высшего образования',\n",
       "       'свой автомобиль', 'сделка с автомобилем',\n",
       "       'профильное образование', 'высшее образование',\n",
       "       'покупка жилья для сдачи', 'на покупку автомобиля', 'ремонт жилью',\n",
       "       'заняться высшим образованием'], dtype=object)"
      ]
     },
     "execution_count": 19,
     "metadata": {},
     "output_type": "execute_result"
    }
   ],
   "source": [
    "data['purpose'].unique()"
   ]
  },
  {
   "cell_type": "markdown",
   "id": "52b79d56",
   "metadata": {
    "deletable": false,
    "editable": false,
    "id": "52b79d56"
   },
   "source": [
    "**Задание 18. Создайте функцию, которая на основании данных из столбца `purpose` сформирует новый столбец `purpose_category`, в который войдут следующие категории:**\n",
    "\n",
    "- `'операции с автомобилем'`,\n",
    "- `'операции с недвижимостью'`,\n",
    "- `'проведение свадьбы'`,\n",
    "- `'получение образования'`.\n",
    "\n",
    "**Например, если в столбце `purpose` находится подстрока `'на покупку автомобиля'`, то в столбце `purpose_category` должна появиться строка `'операции с автомобилем'`.**\n",
    "\n",
    "**Используйте собственную функцию с именем `categorize_purpose()` и метод `apply()`. Изучите данные в столбце `purpose` и определите, какие подстроки помогут вам правильно определить категорию.**"
   ]
  },
  {
   "cell_type": "code",
   "execution_count": 20,
   "id": "be41da5d",
   "metadata": {
    "deletable": false,
    "id": "be41da5d"
   },
   "outputs": [],
   "source": [
    "def categorize_purpose(row):\n",
    "    try:\n",
    "        if 'автом' in row:\n",
    "            return 'операции с автомобилем'\n",
    "        elif 'жил' in row or 'недвиж' in row:\n",
    "            return 'операции с недвижимостью'\n",
    "        elif 'свад' in row:\n",
    "            return 'проведение свадьбы'\n",
    "        elif 'образов' in row:\n",
    "            return 'получение образования'\n",
    "    except:\n",
    "        return 'нет категории'"
   ]
  },
  {
   "cell_type": "code",
   "execution_count": 21,
   "id": "94c4a19a",
   "metadata": {
    "deletable": false,
    "id": "94c4a19a"
   },
   "outputs": [],
   "source": [
    "data['purpose_category'] = data['purpose'].apply(categorize_purpose)"
   ]
  },
  {
   "cell_type": "markdown",
   "id": "3d596c34",
   "metadata": {
    "deletable": false,
    "editable": false,
    "id": "3d596c34"
   },
   "source": [
    "### Шаг 3. Исследуйте данные и ответьте на вопросы"
   ]
  },
  {
   "cell_type": "markdown",
   "id": "3d24d8d1",
   "metadata": {},
   "source": [
    "<div class=\"alert alert-danger\">\n",
    "<b>Комментарий ревьюера №1</b> ❌ Замечание по всему разделу ответов на вопросы \n",
    "    \n",
    "В каждом вопросе нужно построить общую сводную. Здесь можно воспользоваться `pivot_table()`.\n",
    "    \n",
    "Чтобы найти долю должников, нужно количество должников поделить на общее число заемщиков. Эту долю можно найти с помощью функции агрегации `mean`\n",
    "    \n",
    "Попробуй получить сводную следующего вида. В индексе столбец, который исследуем (в первом вопросе это количество детей), а столбцы: 'Всего кредитополучателей', 'Всего должников', 'Доля должников'. Учитывай, что использовать параметр columns необязательно, а в параметр aggfunc можно указывать несколько функций агрегации сразу.\n",
    "\n",
    "Также могу посоветовать переименовать столбцы и написать функцию для построения сводных во всех вопросах.\n",
    "</div>"
   ]
  },
  {
   "cell_type": "markdown",
   "id": "648db036",
   "metadata": {
    "deletable": false,
    "editable": false,
    "id": "648db036"
   },
   "source": [
    "#### 3.1 Есть ли зависимость между количеством детей и возвратом кредита в срок?"
   ]
  },
  {
   "cell_type": "markdown",
   "id": "308ad0fa",
   "metadata": {
    "deletable": false,
    "id": "7fcff25e"
   },
   "source": [
    "Найдем зависимость между количеством детей и возвратом кредита в срок. Для начала создадим новую функцию, которая создает сводные таблицы использвая метод pivot_table(). Эту функции мы в последствии будем применять и для других факторов в следующих главах исследования"
   ]
  },
  {
   "cell_type": "code",
   "execution_count": 22,
   "id": "4b25491f",
   "metadata": {},
   "outputs": [],
   "source": [
    "def create_pivot(data, index_col, value_col): # объявим функцию, которая создает сводные таблицы и принимает как аргумент датафрейм (data), столбец, по которому мы группируем данные (index_col) и значения, по которым мы хотим увидеть сводную таблицу (value_col)\n",
    "    pivot = data.pivot_table(index=index_col, values=value_col, aggfunc=['count','sum','mean']) # используем метод pivot_table(), куда передаем вышеизложенные аргументы, плюс, добавляем функцию aggfunc, куда передаем count для всех кредитополучателей, sum для подсчета должников и mean для расчета доли задолжности\n",
    "    pivot.columns = ['Всего кредитополучателей', 'Всего должников', 'Доля должников'] # правильно назовем столбы с полученными данными \n",
    "    return pivot # выведем результат функции"
   ]
  },
  {
   "cell_type": "code",
   "execution_count": 23,
   "id": "59a40692",
   "metadata": {},
   "outputs": [
    {
     "data": {
      "text/html": [
       "<div>\n",
       "<style scoped>\n",
       "    .dataframe tbody tr th:only-of-type {\n",
       "        vertical-align: middle;\n",
       "    }\n",
       "\n",
       "    .dataframe tbody tr th {\n",
       "        vertical-align: top;\n",
       "    }\n",
       "\n",
       "    .dataframe thead th {\n",
       "        text-align: right;\n",
       "    }\n",
       "</style>\n",
       "<table border=\"1\" class=\"dataframe\">\n",
       "  <thead>\n",
       "    <tr style=\"text-align: right;\">\n",
       "      <th></th>\n",
       "      <th>Всего кредитополучателей</th>\n",
       "      <th>Всего должников</th>\n",
       "      <th>Доля должников</th>\n",
       "    </tr>\n",
       "    <tr>\n",
       "      <th>children</th>\n",
       "      <th></th>\n",
       "      <th></th>\n",
       "      <th></th>\n",
       "    </tr>\n",
       "  </thead>\n",
       "  <tbody>\n",
       "    <tr>\n",
       "      <th>0</th>\n",
       "      <td>14091</td>\n",
       "      <td>1063</td>\n",
       "      <td>0.075438</td>\n",
       "    </tr>\n",
       "    <tr>\n",
       "      <th>1</th>\n",
       "      <td>4808</td>\n",
       "      <td>444</td>\n",
       "      <td>0.092346</td>\n",
       "    </tr>\n",
       "    <tr>\n",
       "      <th>2</th>\n",
       "      <td>2052</td>\n",
       "      <td>194</td>\n",
       "      <td>0.094542</td>\n",
       "    </tr>\n",
       "    <tr>\n",
       "      <th>3</th>\n",
       "      <td>330</td>\n",
       "      <td>27</td>\n",
       "      <td>0.081818</td>\n",
       "    </tr>\n",
       "    <tr>\n",
       "      <th>4</th>\n",
       "      <td>41</td>\n",
       "      <td>4</td>\n",
       "      <td>0.097561</td>\n",
       "    </tr>\n",
       "    <tr>\n",
       "      <th>5</th>\n",
       "      <td>9</td>\n",
       "      <td>0</td>\n",
       "      <td>0.000000</td>\n",
       "    </tr>\n",
       "  </tbody>\n",
       "</table>\n",
       "</div>"
      ],
      "text/plain": [
       "          Всего кредитополучателей  Всего должников  Доля должников\n",
       "children                                                           \n",
       "0                            14091             1063        0.075438\n",
       "1                             4808              444        0.092346\n",
       "2                             2052              194        0.094542\n",
       "3                              330               27        0.081818\n",
       "4                               41                4        0.097561\n",
       "5                                9                0        0.000000"
      ]
     },
     "execution_count": 23,
     "metadata": {},
     "output_type": "execute_result"
    }
   ],
   "source": [
    "pivot_children = create_pivot(data, 'children', 'debt') # передадим функции аргументы и расчитаем значения в сводной таблице\n",
    "pivot_children"
   ]
  },
  {
   "cell_type": "markdown",
   "id": "2eb9088e",
   "metadata": {
    "deletable": false,
    "id": "2eb9088e"
   },
   "source": [
    "**Вывод:** "
   ]
  },
  {
   "cell_type": "markdown",
   "id": "b4d627c8",
   "metadata": {},
   "source": [
    "Рассмотрим самые большие категории - 0,1 и 2 детей. Доля задолжников между этими категориями распределилась следующим образом:\n",
    "\n",
    " - У заемщиков, у которых нет детей - 7.5%\n",
    " - У заемщиков с одним ребенком - 9.2%\n",
    " - У заемщиков с двумя детьми - 9.5%\n",
    "\n",
    "Здесь прослеживается определенная закономерность, на основе которой мы можем выдвинуть следующую гипотезу - с ростом количества детей растет и задолжность по возврату кредита. На основе данной гипотезы можно утверждать, что потенциальный заемщик, у которого нет детей, охотнее возвращать кредит."
   ]
  },
  {
   "cell_type": "markdown",
   "id": "f5c03d37",
   "metadata": {},
   "source": [
    "<div class=\"alert alert-danger\">\n",
    "<b>Комментарий ревьюера №1</b> ❌\n",
    "    \n",
    "Выявлять зависимость стоит, сравнивая самые большие, сопоставимые по размеру категории заемщиков. Какую зависимость можно выявить, сравнив категории с 0, 1 и 2 детьми?\n",
    "</div>"
   ]
  },
  {
   "cell_type": "markdown",
   "id": "040e25cf",
   "metadata": {},
   "source": [
    "<div class=\"alert alert-success\">\n",
    "<b>Комментарий ревьюера №2</b> ✅\n",
    "    \n",
    "Хорошо\n",
    "</div>"
   ]
  },
  {
   "cell_type": "markdown",
   "id": "74c9b3a7",
   "metadata": {
    "deletable": false,
    "editable": false,
    "id": "74c9b3a7"
   },
   "source": [
    "#### 3.2 Есть ли зависимость между семейным положением и возвратом кредита в срок?"
   ]
  },
  {
   "cell_type": "markdown",
   "id": "399615dd",
   "metadata": {
    "deletable": false,
    "id": "8098ab3b"
   },
   "source": [
    "Применим точно такой же алгоритм действий как и с колличеством детей в семье. Только в этот раз посмотрим на статус отношений клиента. Распределим клиентов по статусу отношений и в этих же категориях найдем колличество и процент клиентов, которые имели  задолженность по возврату кредитов"
   ]
  },
  {
   "cell_type": "code",
   "execution_count": 24,
   "id": "a200c966",
   "metadata": {},
   "outputs": [
    {
     "data": {
      "text/html": [
       "<div>\n",
       "<style scoped>\n",
       "    .dataframe tbody tr th:only-of-type {\n",
       "        vertical-align: middle;\n",
       "    }\n",
       "\n",
       "    .dataframe tbody tr th {\n",
       "        vertical-align: top;\n",
       "    }\n",
       "\n",
       "    .dataframe thead th {\n",
       "        text-align: right;\n",
       "    }\n",
       "</style>\n",
       "<table border=\"1\" class=\"dataframe\">\n",
       "  <thead>\n",
       "    <tr style=\"text-align: right;\">\n",
       "      <th></th>\n",
       "      <th>Всего кредитополучателей</th>\n",
       "      <th>Всего должников</th>\n",
       "      <th>Доля должников</th>\n",
       "    </tr>\n",
       "    <tr>\n",
       "      <th>family_status</th>\n",
       "      <th></th>\n",
       "      <th></th>\n",
       "      <th></th>\n",
       "    </tr>\n",
       "  </thead>\n",
       "  <tbody>\n",
       "    <tr>\n",
       "      <th>Не женат / не замужем</th>\n",
       "      <td>2796</td>\n",
       "      <td>273</td>\n",
       "      <td>0.097639</td>\n",
       "    </tr>\n",
       "    <tr>\n",
       "      <th>в разводе</th>\n",
       "      <td>1189</td>\n",
       "      <td>84</td>\n",
       "      <td>0.070648</td>\n",
       "    </tr>\n",
       "    <tr>\n",
       "      <th>вдовец / вдова</th>\n",
       "      <td>951</td>\n",
       "      <td>63</td>\n",
       "      <td>0.066246</td>\n",
       "    </tr>\n",
       "    <tr>\n",
       "      <th>гражданский брак</th>\n",
       "      <td>4134</td>\n",
       "      <td>385</td>\n",
       "      <td>0.093130</td>\n",
       "    </tr>\n",
       "    <tr>\n",
       "      <th>женат / замужем</th>\n",
       "      <td>12261</td>\n",
       "      <td>927</td>\n",
       "      <td>0.075606</td>\n",
       "    </tr>\n",
       "  </tbody>\n",
       "</table>\n",
       "</div>"
      ],
      "text/plain": [
       "                       Всего кредитополучателей  Всего должников  \\\n",
       "family_status                                                      \n",
       "Не женат / не замужем                      2796              273   \n",
       "в разводе                                  1189               84   \n",
       "вдовец / вдова                              951               63   \n",
       "гражданский брак                           4134              385   \n",
       "женат / замужем                           12261              927   \n",
       "\n",
       "                       Доля должников  \n",
       "family_status                          \n",
       "Не женат / не замужем        0.097639  \n",
       "в разводе                    0.070648  \n",
       "вдовец / вдова               0.066246  \n",
       "гражданский брак             0.093130  \n",
       "женат / замужем              0.075606  "
      ]
     },
     "execution_count": 24,
     "metadata": {},
     "output_type": "execute_result"
    }
   ],
   "source": [
    "pivot_family = create_pivot(data, 'family_status', 'debt') # передадим функции аргументы и расчитаем значения в сводной таблице\n",
    "pivot_family"
   ]
  },
  {
   "cell_type": "markdown",
   "id": "c389ca63",
   "metadata": {
    "deletable": false,
    "id": "c389ca63"
   },
   "source": [
    "**Вывод:** "
   ]
  },
  {
   "cell_type": "markdown",
   "id": "5b684a77",
   "metadata": {},
   "source": [
    "Наблюдаемая разница в процентах совсем невелика, однако на основе полученных результатов можно выдвинуть интересную гипотезу: те клиенты, которые не состоят и не состояли в браке, выполняют свои кредитные обязательства хуже, чем те, кто состоял.\n",
    "\n",
    "Мы можем это наблюдать в категориях \"Не женат / не замужем\" и \"гражданский брак\", где процент  задолженности составляет 9.8% и 9.3% соответственно. После них идут категории \"в разводе\" - 7% и \"женат/замужем\" - 7.6%. Меньше всего  задолженность у категории \"вдовец/вдова\" - 6.6%. Однако еще раз хочется отметить, что разница в процентах незначительна, поэтому, возможно, не стоит считать этот фактор (статус отношений) определяющим."
   ]
  },
  {
   "cell_type": "markdown",
   "id": "3555f399",
   "metadata": {},
   "source": [
    "<div class=\"alert alert-success\">\n",
    "<b>Комментарий ревьюера №1</b> ✅\n",
    "    \n",
    "Люди, побывавшие в официальном браке, наиболее надежны. Возможно, есть связь с возрастом. Разница может быть значима для банка\n",
    "</div>"
   ]
  },
  {
   "cell_type": "markdown",
   "id": "9529de68",
   "metadata": {
    "deletable": false,
    "editable": false,
    "id": "9529de68"
   },
   "source": [
    "#### 3.3 Есть ли зависимость между уровнем дохода и возвратом кредита в срок?"
   ]
  },
  {
   "cell_type": "markdown",
   "id": "50a7d465",
   "metadata": {
    "deletable": false,
    "id": "8787f44a"
   },
   "source": [
    "В третий раз применим тот же принцип и попробуем найти закономерность возврата кредита всрок с уровнем дохода клиентов банка"
   ]
  },
  {
   "cell_type": "code",
   "execution_count": 25,
   "id": "12a9097d",
   "metadata": {},
   "outputs": [
    {
     "data": {
      "text/html": [
       "<div>\n",
       "<style scoped>\n",
       "    .dataframe tbody tr th:only-of-type {\n",
       "        vertical-align: middle;\n",
       "    }\n",
       "\n",
       "    .dataframe tbody tr th {\n",
       "        vertical-align: top;\n",
       "    }\n",
       "\n",
       "    .dataframe thead th {\n",
       "        text-align: right;\n",
       "    }\n",
       "</style>\n",
       "<table border=\"1\" class=\"dataframe\">\n",
       "  <thead>\n",
       "    <tr style=\"text-align: right;\">\n",
       "      <th></th>\n",
       "      <th>Всего кредитополучателей</th>\n",
       "      <th>Всего должников</th>\n",
       "      <th>Доля должников</th>\n",
       "    </tr>\n",
       "    <tr>\n",
       "      <th>total_income_category</th>\n",
       "      <th></th>\n",
       "      <th></th>\n",
       "      <th></th>\n",
       "    </tr>\n",
       "  </thead>\n",
       "  <tbody>\n",
       "    <tr>\n",
       "      <th>A</th>\n",
       "      <td>25</td>\n",
       "      <td>2</td>\n",
       "      <td>0.080000</td>\n",
       "    </tr>\n",
       "    <tr>\n",
       "      <th>B</th>\n",
       "      <td>5014</td>\n",
       "      <td>354</td>\n",
       "      <td>0.070602</td>\n",
       "    </tr>\n",
       "    <tr>\n",
       "      <th>C</th>\n",
       "      <td>15921</td>\n",
       "      <td>1353</td>\n",
       "      <td>0.084982</td>\n",
       "    </tr>\n",
       "    <tr>\n",
       "      <th>D</th>\n",
       "      <td>349</td>\n",
       "      <td>21</td>\n",
       "      <td>0.060172</td>\n",
       "    </tr>\n",
       "    <tr>\n",
       "      <th>E</th>\n",
       "      <td>22</td>\n",
       "      <td>2</td>\n",
       "      <td>0.090909</td>\n",
       "    </tr>\n",
       "  </tbody>\n",
       "</table>\n",
       "</div>"
      ],
      "text/plain": [
       "                       Всего кредитополучателей  Всего должников  \\\n",
       "total_income_category                                              \n",
       "A                                            25                2   \n",
       "B                                          5014              354   \n",
       "C                                         15921             1353   \n",
       "D                                           349               21   \n",
       "E                                            22                2   \n",
       "\n",
       "                       Доля должников  \n",
       "total_income_category                  \n",
       "A                            0.080000  \n",
       "B                            0.070602  \n",
       "C                            0.084982  \n",
       "D                            0.060172  \n",
       "E                            0.090909  "
      ]
     },
     "execution_count": 25,
     "metadata": {},
     "output_type": "execute_result"
    }
   ],
   "source": [
    "pivot_income = create_pivot(data, 'total_income_category', 'debt') # передадим функции аргументы и расчитаем значения в сводной таблице\n",
    "pivot_income"
   ]
  },
  {
   "cell_type": "markdown",
   "id": "999396e9",
   "metadata": {},
   "source": [
    "<div class=\"alert alert-danger\">\n",
    "<b>Комментарий ревьюера №1</b> ❌\n",
    "    \n",
    "Здесь лучше делать выводы по двум самым крупным категориям - B и С. По остальным категориям данных недостаточно для корректных выводов, статпогрешность большая\n",
    "</div>"
   ]
  },
  {
   "cell_type": "markdown",
   "id": "6dd14b57",
   "metadata": {
    "deletable": false,
    "id": "6dd14b57"
   },
   "source": [
    "**Вывод:** "
   ]
  },
  {
   "cell_type": "markdown",
   "id": "a1e48f54",
   "metadata": {},
   "source": [
    "\n",
    "Как и в случае с детьми, рассмотрим самые крупные представленные категории - B и C. Доля задолжников между этими категориями распределилась следующим образом:\n",
    "\n",
    " - У заемщиков, у которых доход варьируется от 200 тыс до 1 млн (B) - 7.1%\n",
    " - У заемщиков, у которых доход варьируется от 50 тыс до 200 тыс (С) - 8.5%\n",
    "\n",
    "На основе полученных результатов можно выдвинуть гипотезу о том, что с ростом дохода потенциального клиента увеличивается его надежность. То есть клиенты с более высоким доходом охотнее возвращают кредиты.\n"
   ]
  },
  {
   "cell_type": "markdown",
   "id": "7020d3d8",
   "metadata": {},
   "source": [
    "<div class=\"alert alert-success\">\n",
    "<b>Комментарий ревьюера №2</b> ✅\n",
    "    \n",
    "Чем выше доход, тем ниже процент должников\n",
    "</div>"
   ]
  },
  {
   "cell_type": "markdown",
   "id": "1dcc9b12",
   "metadata": {
    "deletable": false,
    "editable": false,
    "id": "1dcc9b12"
   },
   "source": [
    "#### 3.4 Как разные цели кредита влияют на его возврат в срок?"
   ]
  },
  {
   "cell_type": "markdown",
   "id": "7b75c336",
   "metadata": {
    "deletable": false,
    "id": "c602bc8b"
   },
   "source": [
    "Рассмотрим фактор цели кредита."
   ]
  },
  {
   "cell_type": "code",
   "execution_count": 26,
   "id": "17402494",
   "metadata": {},
   "outputs": [
    {
     "data": {
      "text/html": [
       "<div>\n",
       "<style scoped>\n",
       "    .dataframe tbody tr th:only-of-type {\n",
       "        vertical-align: middle;\n",
       "    }\n",
       "\n",
       "    .dataframe tbody tr th {\n",
       "        vertical-align: top;\n",
       "    }\n",
       "\n",
       "    .dataframe thead th {\n",
       "        text-align: right;\n",
       "    }\n",
       "</style>\n",
       "<table border=\"1\" class=\"dataframe\">\n",
       "  <thead>\n",
       "    <tr style=\"text-align: right;\">\n",
       "      <th></th>\n",
       "      <th>Всего кредитополучателей</th>\n",
       "      <th>Всего должников</th>\n",
       "      <th>Доля должников</th>\n",
       "    </tr>\n",
       "    <tr>\n",
       "      <th>purpose_category</th>\n",
       "      <th></th>\n",
       "      <th></th>\n",
       "      <th></th>\n",
       "    </tr>\n",
       "  </thead>\n",
       "  <tbody>\n",
       "    <tr>\n",
       "      <th>операции с автомобилем</th>\n",
       "      <td>4279</td>\n",
       "      <td>400</td>\n",
       "      <td>0.093480</td>\n",
       "    </tr>\n",
       "    <tr>\n",
       "      <th>операции с недвижимостью</th>\n",
       "      <td>10751</td>\n",
       "      <td>780</td>\n",
       "      <td>0.072551</td>\n",
       "    </tr>\n",
       "    <tr>\n",
       "      <th>получение образования</th>\n",
       "      <td>3988</td>\n",
       "      <td>369</td>\n",
       "      <td>0.092528</td>\n",
       "    </tr>\n",
       "    <tr>\n",
       "      <th>проведение свадьбы</th>\n",
       "      <td>2313</td>\n",
       "      <td>183</td>\n",
       "      <td>0.079118</td>\n",
       "    </tr>\n",
       "  </tbody>\n",
       "</table>\n",
       "</div>"
      ],
      "text/plain": [
       "                          Всего кредитополучателей  Всего должников  \\\n",
       "purpose_category                                                      \n",
       "операции с автомобилем                        4279              400   \n",
       "операции с недвижимостью                     10751              780   \n",
       "получение образования                         3988              369   \n",
       "проведение свадьбы                            2313              183   \n",
       "\n",
       "                          Доля должников  \n",
       "purpose_category                          \n",
       "операции с автомобилем          0.093480  \n",
       "операции с недвижимостью        0.072551  \n",
       "получение образования           0.092528  \n",
       "проведение свадьбы              0.079118  "
      ]
     },
     "execution_count": 26,
     "metadata": {},
     "output_type": "execute_result"
    }
   ],
   "source": [
    "pivot_purpose = create_pivot(data, 'purpose_category', 'debt') # передадим функции аргументы и расчитаем значения в сводной таблице\n",
    "pivot_purpose"
   ]
  },
  {
   "cell_type": "markdown",
   "id": "cf05ed63",
   "metadata": {
    "deletable": false,
    "id": "cf05ed63"
   },
   "source": [
    "**Вывод:** "
   ]
  },
  {
   "cell_type": "markdown",
   "id": "eff36060",
   "metadata": {},
   "source": [
    "В очередной раз мы наблюдаем небольшую разницу в процентах между категориями. Лидерами по задолженностям являются клиенты, которые брали кредиты с целями \"операции с автомобилем\" и \"получение образования\" - 9.4% и 9.3% соответственно. Меньшей задолженностью по возврату кредита отличаются клиенты, которые берут кредиты для \"операции с недвижимостью\" и \"проведение свадьбы\" - 7.3% и 8% соответственно."
   ]
  },
  {
   "cell_type": "markdown",
   "id": "d9260b27",
   "metadata": {},
   "source": [
    "<div class=\"alert alert-success\">\n",
    "<b>Комментарий ревьюера №1</b> ✅\n",
    "    \n",
    "Для округления значений можно использовать `round()`. Можно подумать над причинами такого распределения\n",
    "</div>"
   ]
  },
  {
   "cell_type": "markdown",
   "id": "46c1f10b",
   "metadata": {
    "deletable": false,
    "editable": false,
    "id": "46c1f10b"
   },
   "source": [
    "#### 3.5 Приведите возможные причины появления пропусков в исходных данных."
   ]
  },
  {
   "cell_type": "markdown",
   "id": "3697d2a9",
   "metadata": {
    "deletable": false,
    "id": "3697d2a9"
   },
   "source": [
    "Исходя из выводов, сделанных по результатам заданий выше, пропуски встречаются в столбцах days_employed и total_income. Давайте более детально рассмотрим возможные причины их возникновения. Возможные причины можно разделить на две основные группы - проблемы при сборе данных и проблемы при обработке и предоставлении данных. В первом случае, например, эти поля для заполнения данных могли быть необязательными, и клиент просто решил не предоставлять данные такого типа. Также, в некоторых случаях, сотрудники банка могли допустить ошибку при заполнении или вводе данных, что привело к пропускам в соответствующих столбцах. Эту причину также можно назвать человеческим фактором. Во втором случае, в процессе обработки данных или конвертации форматов могли возникнуть проблемы, которые привели к появлению пропусков в столбцах. Эту причину можно назвать причиной технического характера"
   ]
  },
  {
   "cell_type": "markdown",
   "id": "de0c99e3",
   "metadata": {},
   "source": [
    "<div class=\"alert alert-success\">\n",
    "<b>Комментарий ревьюера №1</b> ✅\n",
    "    \n",
    "Клиенты могли не предоставить данные. Возможно, эту информацию не требуют в некоторых случаях. Проблемы могли возникнуть на этапе загрузки и на этапе выгрузки данных. Неправильный запрос, объединение таблиц также может быть причиной.\n",
    "</div>"
   ]
  },
  {
   "cell_type": "markdown",
   "id": "3137d257",
   "metadata": {
    "deletable": false,
    "editable": false,
    "id": "3137d257"
   },
   "source": [
    "#### 3.6 Объясните, почему заполнить пропуски медианным значением — лучшее решение для количественных переменных."
   ]
  },
  {
   "cell_type": "markdown",
   "id": "cf40012a",
   "metadata": {
    "deletable": false,
    "id": "cf40012a"
   },
   "source": [
    "В нашем случае мы использовали медианное значение для столбцов total_income и days_employed. В обоих случаях тем самым не потеряв другие важные данные, которые мы бы потеряли удалив строки с пропусками из датафрейма. Мы сохранили центральную тенденцию распределения данных по категориям типов занятости клиентов и избежали искажения, к которому мы бы пришли использовав среднее значение. Среднее значение - это среднее значение набора чисел. Медиана - это числовое значение, которое отделяет большую половину набора чисел от меньшей, то есть показывает центральное значение в выборке. Например, у нас есть данные баллов сданных студентами тестов: 10, 15, 20, 25 и 100. Среднее значение равно 34, но это недостоверное среднее значение, поскольку большинство оценок ниже 34. Для оценки успеваемости студентов может быть полезнее использовать медиану 20, поскольку она ближе к большинству оценок. Среднее значенение очень чувствительно к большим выбросам. Примером использования среднего значения может послужить измерение пульса у пацианта - в разное время пульс составлял 72, 74, 80, 76 и 78 ударов в минуту. Данные не сильно разнятся друг от друга, поэтому посчитам среднее арифметическое мы сможем точно описать среднее значения пульса у пациента - 76 ударов в минуту. "
   ]
  },
  {
   "cell_type": "markdown",
   "id": "74346b78",
   "metadata": {},
   "source": [
    "<div class=\"alert alert-danger\">\n",
    "<b>Комментарий ревьюера №1</b> ❌\n",
    "    \n",
    "Мы заполняли пропуски не только в total_income, но и в days_employed. Напиши, пожалуйста, в каком случае среднее и медиана различаются\n",
    "</div>"
   ]
  },
  {
   "cell_type": "markdown",
   "id": "b87ac594",
   "metadata": {},
   "source": [
    "<div class=\"alert alert-success\">\n",
    "<b>Комментарий ревьюера №2</b> ✅\n",
    "    \n",
    "Да, смотрим на наличие выбросов👍\n",
    "</div>"
   ]
  },
  {
   "cell_type": "markdown",
   "id": "57bc304e",
   "metadata": {
    "deletable": false,
    "editable": false,
    "id": "57bc304e"
   },
   "source": [
    "### Шаг 4: общий вывод."
   ]
  },
  {
   "cell_type": "markdown",
   "id": "1ab75d1c",
   "metadata": {
    "deletable": false,
    "id": "1ab75d1c"
   },
   "source": [
    "Целью исследования было выявление зависимостей просрочки от разных факторов/характеристик клиента – как предложенные заказчиком факторы/характеристики клиента влияют на способность потенциального заёмщика вернуть кредиту банка?\n",
    "\n",
    "В качестве вводной информации мы получили датафрейм, который включал в себя ряд данных, описывающих клиентов. Перед тем, как перейти непосредственно к анализу данных и ответам на поставленные заказчиком вопросы, было необходимо подготовить данные к дальнейшей работе. В рамках предобработки данных были выполнены следующие шаги:\n",
    "\n",
    "- Импортирована библиотека pandas, и данные были считаны из предложенного датафрейма.\n",
    "- Изучена и проверена основная информация о датафрейме: количество строк и столбцов, типы данных и наличие пропущенных значений.\n",
    "- Затем была обработка пропусков в столбцах 'total_income' и 'days_employed'.\n",
    "- Для заполнения пропущенных значений в столбце 'total_income' использовался цикл for и логическая индексация. Мы заполнили пропуски медианным значением дохода для каждого типа дохода.\n",
    "- Пропуски в столбце 'days_employed' также были обработаны. Для обработки пропусков в 'days_employed' мы использовали тот же метод, что и для 'total_income', перед этим убрав из выборки аномально большие значения с помощью логической индексации. Отрицательные значения были исправлены с использованием функции abs(),\n",
    " - С помощью метода .sum() мы убедились, что в датафрейме больше нет пропусков.\n",
    " - Затем для более удобной работы с числами мы изменили тип данных в столбце 'total_income' с float на int с помощью метода .astype().\n",
    " - Далее мы перешли к работе с явными дубликатами, которые обнаружили с помощью метода .duplicated().sum(), и удалили их с помощью метода .drop_duplicates().\n",
    " - Для более удобного анализа мы прибегли к категоризации данных в столбцах 'purpose' и 'total_income' с целью более удобного анализа.\n",
    "\n",
    "В следующем этапе проекта мы перешли непосредственно к работе с данными и ответам на поставленные вопросы:\n",
    "\n",
    " - Есть ли зависимость между количеством детей и возвратом кредита в срок?\n",
    " - Есть ли зависимость между семейным положением и возвратом кредита в срок?\n",
    " - Есть ли зависимость между уровнем дохода и возвратом кредита в срок?\n",
    " - Как разные цели кредита влияют на его возврат в срок?\n",
    "\n",
    "Перед началом анализа мы создали новую функцию, которая создает сводные таблицы, используя метод pivot_table(). Проанализировав результаты, мы пришли к следующим выводам:\n",
    "\n",
    "- С ростом количества детей увеличивается задолжность по возврату кредита. На основе данной гипотезы можно утверждать, что потенциальный заемщик, у которого нет детей, охотнее возвращать кредит.\n",
    "- Клиенты, которые не состоят и не состояли в браке, выполняют свои кредитные обязательства хуже, чем те, кто состоял.\n",
    "- С ростом дохода потенциального клиента увеличивается его надежность. То есть клиенты с более высоким доходом охотнее возвращают кредиты.\n",
    "- Лидерами по задолженностям являются клиенты, которые брали кредиты с целями \"операции с автомобилем\" и \"получение образования\" - 9.4% и 9.3% соответственно. Меньшей задолженностью по возврату кредита отличаются клиенты, которые берут кредиты для \"операции с недвижимостью\" и \"проведения свадьбы\" - 7.3% и 8% соответственно.\n",
    "\n",
    "Портрет надежного клиента можно описать следующим образом: клиент состоит в браке, не имеет детей, имеет доход выше 200тыс и берет кредит для операций с недвижимостью или проведения свадьбы.\n",
    "\n",
    "Портрет ненадежного клиента можно описать следующим образом: клиент не состоит в браке, у клиента 1 и более детей, у клиента доход до 200тыс, и клиент берет займ для операций с автомобилем или получения образования.\n",
    "\n",
    "На основе выдвинутых гипотез мы рекомендуем заказчику более тщательно собирать и обрабатывать данные клиентов и создать систему кредитного скоринга, которая бы на основе полученных данных и выдвинутых выше гипотез ранжировала клиентов по шкале надежности."
   ]
  },
  {
   "cell_type": "markdown",
   "id": "ced4538b",
   "metadata": {},
   "source": [
    "<div class=\"alert alert-danger\">\n",
    "<b>Комментарий ревьюера №1</b> ❌\n",
    " \n",
    "Цель исследования состояла не в построении модели кредитного скоринга, а в выявлении зависимостей просрочки от разных факторов. Аномально большие значения 'days_employed' остались в датафрейме, их не убирали. \n",
    "    \n",
    "Выводы нужно будет поправить после изменений в проекте. В первую очередь обращают внимание на выводы - это отчет перед заказчиком. Здесь нужно описать какая работа над данными была проведена и каких результатов удалось добиться. Опиши все зависимости. Рекомендованная структура выводов следующая:\n",
    "    \n",
    "- абзац по предобработке данных, что было сделано\n",
    "    \n",
    "- выявленные зависимости просрочки от разных факторов в общем виде\n",
    "    \n",
    "- портреты надежного и рискованного заемщика\n",
    "    \n",
    "- рекомендации заказчику\n",
    "</div>"
   ]
  },
  {
   "cell_type": "markdown",
   "id": "b1628cb3",
   "metadata": {},
   "source": [
    "<div class=\"alert alert-success\">\n",
    "<b>Комментарий ревьюера №2</b> ✅\n",
    "    \n",
    "В качестве рекомендаций можно предложить другую категоризацию по доходам. Или исследовать другие признаки, рассчитать другие метрики (отношение дохода к сумме выплат и др.). В анкете сделать поля о доходе и стаже обязательными к заполнению, добавить автопроверку на формат вводимых пользователем данных\n",
    "</div>"
   ]
  },
  {
   "cell_type": "markdown",
   "id": "f17ae2fb",
   "metadata": {},
   "source": [
    "<div style=\"border:solid purple 2px; padding: 20px\"> \n",
    "<b> <font color='purple' >   \n",
    "    \n",
    "Ты хорошо постарался, но проект еще нуждается в доработке. Нужно построить общие сводные в каждом вопросе, проверить выводы, дополнить ответ про заполнение пропусков. Доделывай и присылай на повторную проверку.\n",
    "        \n",
    "Жду твоих исправлений 😊\n",
    "</font></b>\n",
    "</div>"
   ]
  },
  {
   "cell_type": "markdown",
   "id": "75bc8409",
   "metadata": {},
   "source": [
    "<div style=\"border:solid purple 2px; padding: 20px\"> \n",
    "<b> <font color='purple' >   \n",
    "Отлично! Критических замечаний больше нет. Проект принят! 👏 Поздравляю и желаю удачи!\n",
    "</font></b>\n",
    "</div>"
   ]
  }
 ],
 "metadata": {
  "ExecuteTimeLog": [
   {
    "duration": 471,
    "start_time": "2024-04-14T21:44:11.521Z"
   },
   {
    "duration": 29,
    "start_time": "2024-04-14T21:44:17.785Z"
   },
   {
    "duration": 16,
    "start_time": "2024-04-14T21:44:25.785Z"
   },
   {
    "duration": 12,
    "start_time": "2024-04-14T21:44:31.143Z"
   },
   {
    "duration": 37,
    "start_time": "2024-04-14T21:44:36.301Z"
   },
   {
    "duration": 3,
    "start_time": "2024-04-14T21:44:42.672Z"
   },
   {
    "duration": 9,
    "start_time": "2024-04-14T21:44:49.870Z"
   },
   {
    "duration": 4,
    "start_time": "2024-04-14T21:45:01.762Z"
   },
   {
    "duration": 8,
    "start_time": "2024-04-14T21:45:05.943Z"
   },
   {
    "duration": 5,
    "start_time": "2024-04-14T21:45:14.613Z"
   },
   {
    "duration": 34,
    "start_time": "2024-04-14T21:45:18.868Z"
   },
   {
    "duration": 14,
    "start_time": "2024-04-14T21:45:22.337Z"
   },
   {
    "duration": 4,
    "start_time": "2024-04-14T21:45:27.259Z"
   },
   {
    "duration": 12,
    "start_time": "2024-04-14T21:45:30.616Z"
   },
   {
    "duration": 21,
    "start_time": "2024-04-14T21:45:34.666Z"
   },
   {
    "duration": 16,
    "start_time": "2024-04-14T21:45:37.033Z"
   },
   {
    "duration": 4,
    "start_time": "2024-04-14T21:45:40.073Z"
   },
   {
    "duration": 10,
    "start_time": "2024-04-14T21:45:42.841Z"
   },
   {
    "duration": 7,
    "start_time": "2024-04-14T21:45:46.885Z"
   },
   {
    "duration": 3,
    "start_time": "2024-04-14T21:45:50.934Z"
   },
   {
    "duration": 8,
    "start_time": "2024-04-14T21:45:56.118Z"
   },
   {
    "duration": 49,
    "start_time": "2024-04-16T17:35:24.357Z"
   },
   {
    "duration": 2,
    "start_time": "2024-04-16T17:35:51.620Z"
   },
   {
    "duration": 708,
    "start_time": "2024-04-16T17:36:01.727Z"
   },
   {
    "duration": 26,
    "start_time": "2024-04-16T17:36:02.437Z"
   },
   {
    "duration": 160,
    "start_time": "2024-04-16T17:36:02.464Z"
   },
   {
    "duration": 70,
    "start_time": "2024-04-16T17:36:02.626Z"
   },
   {
    "duration": 52,
    "start_time": "2024-04-16T17:36:02.699Z"
   },
   {
    "duration": 4,
    "start_time": "2024-04-16T17:36:02.753Z"
   },
   {
    "duration": 37,
    "start_time": "2024-04-16T17:36:02.759Z"
   },
   {
    "duration": 29,
    "start_time": "2024-04-16T17:36:02.798Z"
   },
   {
    "duration": 86,
    "start_time": "2024-04-16T17:36:02.829Z"
   },
   {
    "duration": 34,
    "start_time": "2024-04-16T17:36:02.919Z"
   },
   {
    "duration": 75,
    "start_time": "2024-04-16T17:36:02.955Z"
   },
   {
    "duration": 11,
    "start_time": "2024-04-16T17:36:03.032Z"
   },
   {
    "duration": 22,
    "start_time": "2024-04-16T17:36:03.044Z"
   },
   {
    "duration": 20,
    "start_time": "2024-04-16T17:36:03.067Z"
   },
   {
    "duration": 26,
    "start_time": "2024-04-16T17:36:03.088Z"
   },
   {
    "duration": 19,
    "start_time": "2024-04-16T17:36:03.116Z"
   },
   {
    "duration": 4,
    "start_time": "2024-04-16T17:36:03.137Z"
   },
   {
    "duration": 13,
    "start_time": "2024-04-16T17:36:03.143Z"
   },
   {
    "duration": 6,
    "start_time": "2024-04-16T17:36:03.157Z"
   },
   {
    "duration": 28,
    "start_time": "2024-04-16T17:36:03.165Z"
   },
   {
    "duration": 16,
    "start_time": "2024-04-16T17:36:03.195Z"
   },
   {
    "duration": 5,
    "start_time": "2024-04-16T17:36:03.212Z"
   },
   {
    "duration": 24,
    "start_time": "2024-04-16T17:36:03.218Z"
   },
   {
    "duration": 17,
    "start_time": "2024-04-16T17:36:03.245Z"
   },
   {
    "duration": 29,
    "start_time": "2024-04-16T17:36:03.264Z"
   },
   {
    "duration": 16,
    "start_time": "2024-04-16T17:36:03.294Z"
   },
   {
    "duration": 8,
    "start_time": "2024-04-16T17:38:03.856Z"
   },
   {
    "duration": 7,
    "start_time": "2024-04-16T17:38:47.340Z"
   },
   {
    "duration": 7,
    "start_time": "2024-04-16T17:38:53.923Z"
   },
   {
    "duration": 36,
    "start_time": "2024-04-16T17:39:19.222Z"
   },
   {
    "duration": 6,
    "start_time": "2024-04-16T17:39:40.055Z"
   },
   {
    "duration": 75,
    "start_time": "2024-04-16T17:50:20.182Z"
   },
   {
    "duration": 6,
    "start_time": "2024-04-16T17:50:26.646Z"
   },
   {
    "duration": 7,
    "start_time": "2024-04-16T17:50:36.283Z"
   },
   {
    "duration": 7,
    "start_time": "2024-04-16T17:51:17.359Z"
   },
   {
    "duration": 5,
    "start_time": "2024-04-16T17:55:31.904Z"
   },
   {
    "duration": 15,
    "start_time": "2024-04-16T17:55:46.390Z"
   },
   {
    "duration": 20,
    "start_time": "2024-04-16T17:55:57.037Z"
   },
   {
    "duration": 7,
    "start_time": "2024-04-16T17:56:16.409Z"
   },
   {
    "duration": 7,
    "start_time": "2024-04-16T17:56:34.687Z"
   },
   {
    "duration": 4,
    "start_time": "2024-04-16T18:00:20.094Z"
   },
   {
    "duration": 6,
    "start_time": "2024-04-16T18:00:25.332Z"
   },
   {
    "duration": 6,
    "start_time": "2024-04-16T18:16:47.770Z"
   },
   {
    "duration": 7,
    "start_time": "2024-04-16T18:17:52.251Z"
   },
   {
    "duration": 7,
    "start_time": "2024-04-16T18:19:04.026Z"
   },
   {
    "duration": 15,
    "start_time": "2024-04-16T18:20:45.998Z"
   },
   {
    "duration": 6,
    "start_time": "2024-04-16T18:22:50.936Z"
   },
   {
    "duration": 7,
    "start_time": "2024-04-16T18:23:08.153Z"
   },
   {
    "duration": 7,
    "start_time": "2024-04-16T18:23:47.443Z"
   },
   {
    "duration": 9,
    "start_time": "2024-04-16T18:24:26.399Z"
   },
   {
    "duration": 6,
    "start_time": "2024-04-16T18:25:12.465Z"
   },
   {
    "duration": 7,
    "start_time": "2024-04-16T18:42:17.772Z"
   },
   {
    "duration": 15,
    "start_time": "2024-04-16T18:44:01.575Z"
   },
   {
    "duration": 9,
    "start_time": "2024-04-16T18:44:52.753Z"
   },
   {
    "duration": 8,
    "start_time": "2024-04-16T18:45:25.610Z"
   },
   {
    "duration": 6,
    "start_time": "2024-04-16T18:45:58.830Z"
   },
   {
    "duration": 5,
    "start_time": "2024-04-16T18:46:09.703Z"
   },
   {
    "duration": 7,
    "start_time": "2024-04-16T18:56:34.562Z"
   },
   {
    "duration": 18,
    "start_time": "2024-04-16T19:02:06.262Z"
   },
   {
    "duration": 9,
    "start_time": "2024-04-16T19:03:07.825Z"
   },
   {
    "duration": 9,
    "start_time": "2024-04-16T19:03:11.567Z"
   },
   {
    "duration": 9,
    "start_time": "2024-04-16T19:03:47.016Z"
   },
   {
    "duration": 6,
    "start_time": "2024-04-16T19:04:23.540Z"
   },
   {
    "duration": 19,
    "start_time": "2024-04-16T20:33:29.157Z"
   },
   {
    "duration": 34,
    "start_time": "2024-04-16T20:33:39.143Z"
   },
   {
    "duration": 15,
    "start_time": "2024-04-16T20:34:02.028Z"
   },
   {
    "duration": 17,
    "start_time": "2024-04-16T20:35:06.644Z"
   },
   {
    "duration": 20,
    "start_time": "2024-04-16T20:35:12.382Z"
   },
   {
    "duration": 9,
    "start_time": "2024-04-16T20:37:28.093Z"
   },
   {
    "duration": 11,
    "start_time": "2024-04-16T20:37:42.029Z"
   },
   {
    "duration": 9,
    "start_time": "2024-04-16T20:37:50.253Z"
   },
   {
    "duration": 23,
    "start_time": "2024-04-16T20:38:43.242Z"
   },
   {
    "duration": 13,
    "start_time": "2024-04-16T20:39:11.023Z"
   },
   {
    "duration": 473,
    "start_time": "2024-04-16T21:32:42.234Z"
   },
   {
    "duration": 23,
    "start_time": "2024-04-16T21:32:42.709Z"
   },
   {
    "duration": 16,
    "start_time": "2024-04-16T21:32:42.734Z"
   },
   {
    "duration": 11,
    "start_time": "2024-04-16T21:32:42.751Z"
   },
   {
    "duration": 57,
    "start_time": "2024-04-16T21:32:42.764Z"
   },
   {
    "duration": 4,
    "start_time": "2024-04-16T21:32:42.822Z"
   },
   {
    "duration": 11,
    "start_time": "2024-04-16T21:32:42.828Z"
   },
   {
    "duration": 16,
    "start_time": "2024-04-16T21:32:42.840Z"
   },
   {
    "duration": 9,
    "start_time": "2024-04-16T21:32:42.858Z"
   },
   {
    "duration": 18,
    "start_time": "2024-04-16T21:32:42.868Z"
   },
   {
    "duration": 40,
    "start_time": "2024-04-16T21:32:42.887Z"
   },
   {
    "duration": 11,
    "start_time": "2024-04-16T21:32:42.928Z"
   },
   {
    "duration": 8,
    "start_time": "2024-04-16T21:32:42.940Z"
   },
   {
    "duration": 14,
    "start_time": "2024-04-16T21:32:42.951Z"
   },
   {
    "duration": 38,
    "start_time": "2024-04-16T21:32:42.967Z"
   },
   {
    "duration": 17,
    "start_time": "2024-04-16T21:32:43.007Z"
   },
   {
    "duration": 4,
    "start_time": "2024-04-16T21:32:43.026Z"
   },
   {
    "duration": 28,
    "start_time": "2024-04-16T21:32:43.031Z"
   },
   {
    "duration": 17,
    "start_time": "2024-04-16T21:32:43.060Z"
   },
   {
    "duration": 7,
    "start_time": "2024-04-16T21:32:43.078Z"
   },
   {
    "duration": 15,
    "start_time": "2024-04-16T21:32:43.087Z"
   },
   {
    "duration": 6,
    "start_time": "2024-04-16T21:32:43.103Z"
   },
   {
    "duration": 9,
    "start_time": "2024-04-16T21:32:43.110Z"
   },
   {
    "duration": 80,
    "start_time": "2024-04-16T21:32:43.120Z"
   },
   {
    "duration": 0,
    "start_time": "2024-04-16T21:32:43.202Z"
   },
   {
    "duration": 0,
    "start_time": "2024-04-16T21:32:43.204Z"
   },
   {
    "duration": 0,
    "start_time": "2024-04-16T21:32:43.205Z"
   },
   {
    "duration": 0,
    "start_time": "2024-04-16T21:32:43.206Z"
   },
   {
    "duration": 0,
    "start_time": "2024-04-16T21:32:43.208Z"
   },
   {
    "duration": 0,
    "start_time": "2024-04-16T21:32:43.209Z"
   },
   {
    "duration": 0,
    "start_time": "2024-04-16T21:32:43.210Z"
   },
   {
    "duration": 0,
    "start_time": "2024-04-16T21:32:43.211Z"
   },
   {
    "duration": 0,
    "start_time": "2024-04-16T21:32:43.212Z"
   },
   {
    "duration": 82,
    "start_time": "2024-04-16T21:32:49.929Z"
   },
   {
    "duration": 480,
    "start_time": "2024-04-16T21:32:59.332Z"
   },
   {
    "duration": 26,
    "start_time": "2024-04-16T21:32:59.814Z"
   },
   {
    "duration": 24,
    "start_time": "2024-04-16T21:32:59.842Z"
   },
   {
    "duration": 31,
    "start_time": "2024-04-16T21:32:59.869Z"
   },
   {
    "duration": 37,
    "start_time": "2024-04-16T21:32:59.901Z"
   },
   {
    "duration": 4,
    "start_time": "2024-04-16T21:32:59.940Z"
   },
   {
    "duration": 18,
    "start_time": "2024-04-16T21:32:59.945Z"
   },
   {
    "duration": 4,
    "start_time": "2024-04-16T21:32:59.965Z"
   },
   {
    "duration": 25,
    "start_time": "2024-04-16T21:32:59.970Z"
   },
   {
    "duration": 5,
    "start_time": "2024-04-16T21:32:59.997Z"
   },
   {
    "duration": 182,
    "start_time": "2024-04-16T21:33:00.004Z"
   },
   {
    "duration": 279,
    "start_time": "2024-04-16T21:33:00.188Z"
   },
   {
    "duration": 411,
    "start_time": "2024-04-16T21:33:00.469Z"
   },
   {
    "duration": 307,
    "start_time": "2024-04-16T21:33:00.882Z"
   },
   {
    "duration": 550,
    "start_time": "2024-04-16T21:33:01.191Z"
   },
   {
    "duration": 532,
    "start_time": "2024-04-16T21:33:01.743Z"
   },
   {
    "duration": 100,
    "start_time": "2024-04-16T21:33:02.276Z"
   },
   {
    "duration": 127,
    "start_time": "2024-04-16T21:33:02.377Z"
   },
   {
    "duration": 48,
    "start_time": "2024-04-16T21:33:02.506Z"
   },
   {
    "duration": 49,
    "start_time": "2024-04-16T21:33:02.555Z"
   },
   {
    "duration": 136,
    "start_time": "2024-04-16T21:33:02.606Z"
   },
   {
    "duration": 41,
    "start_time": "2024-04-16T21:33:02.744Z"
   },
   {
    "duration": 33,
    "start_time": "2024-04-16T21:33:02.788Z"
   },
   {
    "duration": 115,
    "start_time": "2024-04-16T21:33:02.823Z"
   },
   {
    "duration": 0,
    "start_time": "2024-04-16T21:33:02.940Z"
   },
   {
    "duration": 0,
    "start_time": "2024-04-16T21:33:02.941Z"
   },
   {
    "duration": 0,
    "start_time": "2024-04-16T21:33:02.943Z"
   },
   {
    "duration": 0,
    "start_time": "2024-04-16T21:33:02.945Z"
   },
   {
    "duration": 0,
    "start_time": "2024-04-16T21:33:02.946Z"
   },
   {
    "duration": 0,
    "start_time": "2024-04-16T21:33:02.948Z"
   },
   {
    "duration": 0,
    "start_time": "2024-04-16T21:33:02.951Z"
   },
   {
    "duration": 0,
    "start_time": "2024-04-16T21:33:02.953Z"
   },
   {
    "duration": 0,
    "start_time": "2024-04-16T21:33:02.954Z"
   },
   {
    "duration": 10,
    "start_time": "2024-04-16T21:33:09.452Z"
   },
   {
    "duration": 9,
    "start_time": "2024-04-16T21:33:14.717Z"
   },
   {
    "duration": 6,
    "start_time": "2024-04-16T21:33:19.942Z"
   },
   {
    "duration": 8,
    "start_time": "2024-04-16T21:33:30.347Z"
   },
   {
    "duration": 10,
    "start_time": "2024-04-16T21:33:32.021Z"
   },
   {
    "duration": 5,
    "start_time": "2024-04-16T21:33:33.992Z"
   },
   {
    "duration": 8,
    "start_time": "2024-04-16T21:33:45.784Z"
   },
   {
    "duration": 8,
    "start_time": "2024-04-16T21:33:48.804Z"
   },
   {
    "duration": 8,
    "start_time": "2024-04-16T21:33:50.360Z"
   },
   {
    "duration": 6,
    "start_time": "2024-04-16T21:33:52.060Z"
   },
   {
    "duration": 9,
    "start_time": "2024-04-16T21:34:09.700Z"
   },
   {
    "duration": 5,
    "start_time": "2024-04-16T21:34:12.121Z"
   },
   {
    "duration": 6,
    "start_time": "2024-04-16T21:34:13.624Z"
   },
   {
    "duration": 7,
    "start_time": "2024-04-16T21:34:15.668Z"
   },
   {
    "duration": 5,
    "start_time": "2024-04-16T21:34:48.626Z"
   },
   {
    "duration": 764,
    "start_time": "2024-04-16T21:53:32.163Z"
   },
   {
    "duration": 29,
    "start_time": "2024-04-16T21:53:32.929Z"
   },
   {
    "duration": 18,
    "start_time": "2024-04-16T21:53:32.960Z"
   },
   {
    "duration": 17,
    "start_time": "2024-04-16T21:53:32.981Z"
   },
   {
    "duration": 40,
    "start_time": "2024-04-16T21:53:33.000Z"
   },
   {
    "duration": 4,
    "start_time": "2024-04-16T21:53:33.041Z"
   },
   {
    "duration": 11,
    "start_time": "2024-04-16T21:53:33.047Z"
   },
   {
    "duration": 33,
    "start_time": "2024-04-16T21:53:33.060Z"
   },
   {
    "duration": 9,
    "start_time": "2024-04-16T21:53:33.095Z"
   },
   {
    "duration": 7,
    "start_time": "2024-04-16T21:53:33.109Z"
   },
   {
    "duration": 44,
    "start_time": "2024-04-16T21:53:33.118Z"
   },
   {
    "duration": 32,
    "start_time": "2024-04-16T21:53:33.164Z"
   },
   {
    "duration": 3,
    "start_time": "2024-04-16T21:53:33.198Z"
   },
   {
    "duration": 14,
    "start_time": "2024-04-16T21:53:33.203Z"
   },
   {
    "duration": 27,
    "start_time": "2024-04-16T21:53:33.219Z"
   },
   {
    "duration": 17,
    "start_time": "2024-04-16T21:53:33.248Z"
   },
   {
    "duration": 25,
    "start_time": "2024-04-16T21:53:33.267Z"
   },
   {
    "duration": 11,
    "start_time": "2024-04-16T21:53:33.294Z"
   },
   {
    "duration": 14,
    "start_time": "2024-04-16T21:53:33.307Z"
   },
   {
    "duration": 30,
    "start_time": "2024-04-16T21:53:33.323Z"
   },
   {
    "duration": 35,
    "start_time": "2024-04-16T21:53:33.355Z"
   },
   {
    "duration": 17,
    "start_time": "2024-04-16T21:53:33.391Z"
   },
   {
    "duration": 7,
    "start_time": "2024-04-16T21:53:33.409Z"
   },
   {
    "duration": 12,
    "start_time": "2024-04-16T21:53:33.418Z"
   },
   {
    "duration": 13,
    "start_time": "2024-04-16T21:53:33.432Z"
   },
   {
    "duration": 9,
    "start_time": "2024-04-16T21:53:33.447Z"
   },
   {
    "duration": 5,
    "start_time": "2024-04-16T21:53:33.458Z"
   },
   {
    "duration": 26,
    "start_time": "2024-04-16T21:53:33.466Z"
   },
   {
    "duration": 8,
    "start_time": "2024-04-16T21:53:33.493Z"
   },
   {
    "duration": 12,
    "start_time": "2024-04-16T21:53:33.502Z"
   },
   {
    "duration": 19,
    "start_time": "2024-04-16T21:53:33.516Z"
   },
   {
    "duration": 9,
    "start_time": "2024-04-16T21:53:33.536Z"
   },
   {
    "duration": 5,
    "start_time": "2024-04-16T21:53:33.547Z"
   },
   {
    "duration": 501,
    "start_time": "2024-04-16T21:55:15.157Z"
   },
   {
    "duration": 23,
    "start_time": "2024-04-16T21:55:15.660Z"
   },
   {
    "duration": 15,
    "start_time": "2024-04-16T21:55:15.685Z"
   },
   {
    "duration": 23,
    "start_time": "2024-04-16T21:55:15.702Z"
   },
   {
    "duration": 45,
    "start_time": "2024-04-16T21:55:15.726Z"
   },
   {
    "duration": 3,
    "start_time": "2024-04-16T21:55:15.773Z"
   },
   {
    "duration": 31,
    "start_time": "2024-04-16T21:55:15.777Z"
   },
   {
    "duration": 22,
    "start_time": "2024-04-16T21:55:15.810Z"
   },
   {
    "duration": 20,
    "start_time": "2024-04-16T21:55:15.833Z"
   },
   {
    "duration": 26,
    "start_time": "2024-04-16T21:55:15.856Z"
   },
   {
    "duration": 50,
    "start_time": "2024-04-16T21:55:15.883Z"
   },
   {
    "duration": 11,
    "start_time": "2024-04-16T21:55:15.935Z"
   },
   {
    "duration": 26,
    "start_time": "2024-04-16T21:55:15.947Z"
   },
   {
    "duration": 23,
    "start_time": "2024-04-16T21:55:15.975Z"
   },
   {
    "duration": 50,
    "start_time": "2024-04-16T21:55:16.000Z"
   },
   {
    "duration": 19,
    "start_time": "2024-04-16T21:55:16.051Z"
   },
   {
    "duration": 8,
    "start_time": "2024-04-16T21:55:16.072Z"
   },
   {
    "duration": 50,
    "start_time": "2024-04-16T21:55:16.082Z"
   },
   {
    "duration": 50,
    "start_time": "2024-04-16T21:55:16.134Z"
   },
   {
    "duration": 15,
    "start_time": "2024-04-16T21:55:16.186Z"
   },
   {
    "duration": 28,
    "start_time": "2024-04-16T21:55:16.203Z"
   },
   {
    "duration": 10,
    "start_time": "2024-04-16T21:55:16.233Z"
   },
   {
    "duration": 12,
    "start_time": "2024-04-16T21:55:16.244Z"
   },
   {
    "duration": 5,
    "start_time": "2024-04-16T21:55:16.258Z"
   },
   {
    "duration": 11,
    "start_time": "2024-04-16T21:55:16.264Z"
   },
   {
    "duration": 8,
    "start_time": "2024-04-16T21:55:16.276Z"
   },
   {
    "duration": 23,
    "start_time": "2024-04-16T21:55:16.285Z"
   },
   {
    "duration": 9,
    "start_time": "2024-04-16T21:55:16.311Z"
   },
   {
    "duration": 11,
    "start_time": "2024-04-16T21:55:16.322Z"
   },
   {
    "duration": 11,
    "start_time": "2024-04-16T21:55:16.335Z"
   },
   {
    "duration": 33,
    "start_time": "2024-04-16T21:55:16.348Z"
   },
   {
    "duration": 29,
    "start_time": "2024-04-16T21:55:16.383Z"
   },
   {
    "duration": 15,
    "start_time": "2024-04-16T21:55:16.414Z"
   },
   {
    "duration": 59,
    "start_time": "2024-04-17T11:39:09.280Z"
   },
   {
    "duration": 681,
    "start_time": "2024-04-17T11:39:23.212Z"
   },
   {
    "duration": 23,
    "start_time": "2024-04-17T11:39:23.895Z"
   },
   {
    "duration": 15,
    "start_time": "2024-04-17T11:39:23.919Z"
   },
   {
    "duration": 18,
    "start_time": "2024-04-17T11:39:23.936Z"
   },
   {
    "duration": 61,
    "start_time": "2024-04-17T11:39:23.955Z"
   },
   {
    "duration": 4,
    "start_time": "2024-04-17T11:39:24.018Z"
   },
   {
    "duration": 30,
    "start_time": "2024-04-17T11:39:24.024Z"
   },
   {
    "duration": 21,
    "start_time": "2024-04-17T11:39:24.056Z"
   },
   {
    "duration": 32,
    "start_time": "2024-04-17T11:39:24.079Z"
   },
   {
    "duration": 4,
    "start_time": "2024-04-17T11:39:24.114Z"
   },
   {
    "duration": 36,
    "start_time": "2024-04-17T11:39:24.120Z"
   },
   {
    "duration": 10,
    "start_time": "2024-04-17T11:39:24.158Z"
   },
   {
    "duration": 7,
    "start_time": "2024-04-17T11:39:24.170Z"
   },
   {
    "duration": 19,
    "start_time": "2024-04-17T11:39:24.178Z"
   },
   {
    "duration": 50,
    "start_time": "2024-04-17T11:39:24.198Z"
   },
   {
    "duration": 17,
    "start_time": "2024-04-17T11:39:24.249Z"
   },
   {
    "duration": 4,
    "start_time": "2024-04-17T11:39:24.267Z"
   },
   {
    "duration": 12,
    "start_time": "2024-04-17T11:39:24.272Z"
   },
   {
    "duration": 13,
    "start_time": "2024-04-17T11:39:24.285Z"
   },
   {
    "duration": 10,
    "start_time": "2024-04-17T11:39:24.299Z"
   },
   {
    "duration": 55,
    "start_time": "2024-04-17T11:39:24.310Z"
   },
   {
    "duration": 45,
    "start_time": "2024-04-17T11:39:24.367Z"
   },
   {
    "duration": 83,
    "start_time": "2024-04-17T11:39:24.413Z"
   },
   {
    "duration": 0,
    "start_time": "2024-04-17T11:39:24.498Z"
   },
   {
    "duration": 0,
    "start_time": "2024-04-17T11:39:24.500Z"
   },
   {
    "duration": 0,
    "start_time": "2024-04-17T11:39:24.502Z"
   },
   {
    "duration": 1,
    "start_time": "2024-04-17T11:39:24.503Z"
   },
   {
    "duration": 0,
    "start_time": "2024-04-17T11:39:24.505Z"
   },
   {
    "duration": 0,
    "start_time": "2024-04-17T11:39:24.506Z"
   },
   {
    "duration": 0,
    "start_time": "2024-04-17T11:39:24.508Z"
   },
   {
    "duration": 0,
    "start_time": "2024-04-17T11:39:24.509Z"
   },
   {
    "duration": 0,
    "start_time": "2024-04-17T11:39:24.510Z"
   },
   {
    "duration": 0,
    "start_time": "2024-04-17T11:39:24.512Z"
   },
   {
    "duration": 0,
    "start_time": "2024-04-17T11:39:24.513Z"
   },
   {
    "duration": 14,
    "start_time": "2024-04-17T11:40:23.855Z"
   },
   {
    "duration": 22,
    "start_time": "2024-04-17T11:40:29.333Z"
   },
   {
    "duration": 15,
    "start_time": "2024-04-17T12:13:41.509Z"
   },
   {
    "duration": 14,
    "start_time": "2024-04-17T12:16:30.214Z"
   },
   {
    "duration": 24,
    "start_time": "2024-04-17T12:16:54.193Z"
   },
   {
    "duration": 1830,
    "start_time": "2024-04-17T12:17:10.668Z"
   },
   {
    "duration": 15,
    "start_time": "2024-04-17T12:19:25.638Z"
   },
   {
    "duration": 20,
    "start_time": "2024-04-17T12:25:35.585Z"
   },
   {
    "duration": 27,
    "start_time": "2024-04-17T12:27:19.492Z"
   },
   {
    "duration": 4,
    "start_time": "2024-04-17T12:28:56.554Z"
   },
   {
    "duration": 26,
    "start_time": "2024-04-17T12:28:59.417Z"
   },
   {
    "duration": 5,
    "start_time": "2024-04-17T12:44:14.579Z"
   },
   {
    "duration": 38,
    "start_time": "2024-04-17T12:44:17.752Z"
   },
   {
    "duration": 3,
    "start_time": "2024-04-17T12:44:23.168Z"
   },
   {
    "duration": 34,
    "start_time": "2024-04-17T12:44:26.127Z"
   },
   {
    "duration": 29,
    "start_time": "2024-04-17T12:47:35.326Z"
   },
   {
    "duration": 27,
    "start_time": "2024-04-17T12:50:08.943Z"
   },
   {
    "duration": 43,
    "start_time": "2024-04-17T12:58:37.253Z"
   },
   {
    "duration": 30,
    "start_time": "2024-04-17T12:58:52.522Z"
   },
   {
    "duration": 551,
    "start_time": "2024-04-17T14:15:16.994Z"
   },
   {
    "duration": 26,
    "start_time": "2024-04-17T14:15:17.547Z"
   },
   {
    "duration": 15,
    "start_time": "2024-04-17T14:15:17.575Z"
   },
   {
    "duration": 31,
    "start_time": "2024-04-17T14:15:17.592Z"
   },
   {
    "duration": 43,
    "start_time": "2024-04-17T14:15:17.626Z"
   },
   {
    "duration": 3,
    "start_time": "2024-04-17T14:15:17.671Z"
   },
   {
    "duration": 8,
    "start_time": "2024-04-17T14:15:17.676Z"
   },
   {
    "duration": 30,
    "start_time": "2024-04-17T14:15:17.685Z"
   },
   {
    "duration": 8,
    "start_time": "2024-04-17T14:15:17.717Z"
   },
   {
    "duration": 7,
    "start_time": "2024-04-17T14:15:17.728Z"
   },
   {
    "duration": 42,
    "start_time": "2024-04-17T14:15:17.737Z"
   },
   {
    "duration": 39,
    "start_time": "2024-04-17T14:15:17.781Z"
   },
   {
    "duration": 5,
    "start_time": "2024-04-17T14:15:17.822Z"
   },
   {
    "duration": 16,
    "start_time": "2024-04-17T14:15:17.831Z"
   },
   {
    "duration": 23,
    "start_time": "2024-04-17T14:15:17.849Z"
   },
   {
    "duration": 47,
    "start_time": "2024-04-17T14:15:17.873Z"
   },
   {
    "duration": 5,
    "start_time": "2024-04-17T14:15:17.922Z"
   },
   {
    "duration": 40,
    "start_time": "2024-04-17T14:15:17.929Z"
   },
   {
    "duration": 5,
    "start_time": "2024-04-17T14:15:17.971Z"
   },
   {
    "duration": 3,
    "start_time": "2024-04-17T14:15:17.978Z"
   },
   {
    "duration": 9,
    "start_time": "2024-04-17T14:15:17.983Z"
   },
   {
    "duration": 15,
    "start_time": "2024-04-17T14:15:17.993Z"
   },
   {
    "duration": 40,
    "start_time": "2024-04-17T14:15:18.009Z"
   },
   {
    "duration": 32,
    "start_time": "2024-04-17T14:15:18.051Z"
   },
   {
    "duration": 55,
    "start_time": "2024-04-17T14:15:18.084Z"
   },
   {
    "duration": 43,
    "start_time": "2024-04-17T14:15:18.142Z"
   },
   {
    "duration": 492,
    "start_time": "2024-04-17T14:19:21.411Z"
   },
   {
    "duration": 23,
    "start_time": "2024-04-17T14:19:21.904Z"
   },
   {
    "duration": 21,
    "start_time": "2024-04-17T14:19:21.928Z"
   },
   {
    "duration": 16,
    "start_time": "2024-04-17T14:19:21.951Z"
   },
   {
    "duration": 55,
    "start_time": "2024-04-17T14:19:21.968Z"
   },
   {
    "duration": 3,
    "start_time": "2024-04-17T14:19:22.024Z"
   },
   {
    "duration": 11,
    "start_time": "2024-04-17T14:19:22.029Z"
   },
   {
    "duration": 5,
    "start_time": "2024-04-17T14:19:22.042Z"
   },
   {
    "duration": 16,
    "start_time": "2024-04-17T14:19:22.048Z"
   },
   {
    "duration": 5,
    "start_time": "2024-04-17T14:19:22.066Z"
   },
   {
    "duration": 53,
    "start_time": "2024-04-17T14:19:22.072Z"
   },
   {
    "duration": 12,
    "start_time": "2024-04-17T14:19:22.126Z"
   },
   {
    "duration": 5,
    "start_time": "2024-04-17T14:19:22.140Z"
   },
   {
    "duration": 13,
    "start_time": "2024-04-17T14:19:22.146Z"
   },
   {
    "duration": 23,
    "start_time": "2024-04-17T14:19:22.160Z"
   },
   {
    "duration": 43,
    "start_time": "2024-04-17T14:19:22.185Z"
   },
   {
    "duration": 4,
    "start_time": "2024-04-17T14:19:22.230Z"
   },
   {
    "duration": 23,
    "start_time": "2024-04-17T14:19:22.236Z"
   },
   {
    "duration": 7,
    "start_time": "2024-04-17T14:19:22.261Z"
   },
   {
    "duration": 3,
    "start_time": "2024-04-17T14:19:22.270Z"
   },
   {
    "duration": 11,
    "start_time": "2024-04-17T14:19:22.275Z"
   },
   {
    "duration": 3,
    "start_time": "2024-04-17T14:19:22.288Z"
   },
   {
    "duration": 46,
    "start_time": "2024-04-17T14:19:22.293Z"
   },
   {
    "duration": 28,
    "start_time": "2024-04-17T14:19:22.340Z"
   },
   {
    "duration": 25,
    "start_time": "2024-04-17T14:19:22.369Z"
   },
   {
    "duration": 46,
    "start_time": "2024-04-17T14:19:22.396Z"
   }
  ],
  "colab": {
   "provenance": []
  },
  "kernelspec": {
   "display_name": "Python 3 (ipykernel)",
   "language": "python",
   "name": "python3"
  },
  "language_info": {
   "codemirror_mode": {
    "name": "ipython",
    "version": 3
   },
   "file_extension": ".py",
   "mimetype": "text/x-python",
   "name": "python",
   "nbconvert_exporter": "python",
   "pygments_lexer": "ipython3",
   "version": "3.9.5"
  },
  "toc": {
   "base_numbering": 1,
   "nav_menu": {},
   "number_sections": true,
   "sideBar": true,
   "skip_h1_title": true,
   "title_cell": "Table of Contents",
   "title_sidebar": "Contents",
   "toc_cell": false,
   "toc_position": {},
   "toc_section_display": true,
   "toc_window_display": false
  }
 },
 "nbformat": 4,
 "nbformat_minor": 5
}
